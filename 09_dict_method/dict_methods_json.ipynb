{
 "cells": [
  {
   "cell_type": "code",
   "execution_count": 23,
   "metadata": {},
   "outputs": [
    {
     "name": "stdout",
     "output_type": "stream",
     "text": [
      "Before: {'name': 'Abdul Qadir', 'fname': 'Muhammad Z', 'Education': 'MSDS'}\n",
      "After: {}\n",
      "Methods and attributes of the dictionary: ['clear', 'copy', 'fromkeys', 'get', 'items', 'keys', 'pop', 'popitem', 'setdefault', 'update', 'values']\n"
     ]
    }
   ],
   "source": [
    "from typing import Dict, Union, Optional\n",
    "import pprint\n",
    "\n",
    "# Define custom data types using the `Union` type hint\n",
    "key = Union[int, str]  # Custom data type for keys\n",
    "value = Union[str, list, int, tuple, dict, set]  # Custom data type for values\n",
    "\n",
    "# Define a dictionary `data` with custom key-value types\n",
    "data: dict[key, value] = {\n",
    "    'name': \"Abdul Qadir\",\n",
    "    'fname': \"Muhammad Z\",\n",
    "    'Education': \"MSDS\"\n",
    "}  # Now want to update any key value\n",
    "\n",
    "# Print the dictionary before modifications\n",
    "print(\"Before:\", data)\n",
    "\n",
    "# Clear the dictionary\n",
    "data.clear()\n",
    "\n",
    "# Print the dictionary after clearing\n",
    "print(\"After:\", data)\n",
    "\n",
    "# Get a list of methods and attributes of the dictionary\n",
    "methods: list[str] = [m for m in dir(data) if \"__\" not in m]\n",
    "print(\"Methods and attributes of the dictionary:\", methods)"
   ]
  },
  {
   "cell_type": "markdown",
   "metadata": {},
   "source": [
    "## Hashable\n",
    "A hashable data type in Python is a type that can be `used as a key` in a dictionary or stored in a set.\n",
    "- Hashable: `int`, `float`, `str`, `tuple` (with hashable elements), frozenset\n",
    "- Not Hashable: `list`, `dict`, `set` (because these are mutable)"
   ]
  },
  {
   "cell_type": "code",
   "execution_count": 1,
   "metadata": {},
   "outputs": [
    {
     "name": "stdout",
     "output_type": "stream",
     "text": [
      "before {'name': 'Abdul Qadir', 'fname': 'Muhammad Z', 'Education': 'MSDS'}\n"
     ]
    },
    {
     "ename": "NameError",
     "evalue": "name 'data' is not defined",
     "output_type": "error",
     "traceback": [
      "\u001b[1;31m---------------------------------------------------------------------------\u001b[0m",
      "\u001b[1;31mNameError\u001b[0m                                 Traceback (most recent call last)",
      "Cell \u001b[1;32mIn[1], line 14\u001b[0m\n\u001b[0;32m     11\u001b[0m \u001b[38;5;28mprint\u001b[39m(\u001b[38;5;124m\"\u001b[39m\u001b[38;5;124mbefore\u001b[39m\u001b[38;5;124m\"\u001b[39m,data)\n\u001b[0;32m     13\u001b[0m \u001b[38;5;28;01mdel\u001b[39;00m data\n\u001b[1;32m---> 14\u001b[0m \u001b[38;5;28mprint\u001b[39m(\u001b[38;5;124m\"\u001b[39m\u001b[38;5;124mAfter\u001b[39m\u001b[38;5;124m\"\u001b[39m,\u001b[43mdata\u001b[49m)\u001b[38;5;66;03m# shows arror because data is no more it is deleted\u001b[39;00m\n",
      "\u001b[1;31mNameError\u001b[0m: name 'data' is not defined"
     ]
    }
   ],
   "source": [
    "from typing import Dict,Union,Optional\n",
    "import pprint\n",
    "\n",
    "key = Union[int,str] # ctreate a custom datatype\n",
    "value = Union[str,list,int,tuple,dict,set] # ctreate a custom datatype\n",
    "\n",
    "data : dict[key,value] = {'name' : \"Abdul Qadir\",\n",
    "                        'fname' : \"Muhammad Z\",\n",
    "                        'Education' : \"MSDS\"} # now want to update any key value\n",
    "\n",
    "print(\"before\",data)\n",
    "\n",
    "del data\n",
    "print(\"After\",data)# shows arror because data is no more it is deleted"
   ]
  },
  {
   "cell_type": "markdown",
   "metadata": {},
   "source": [
    "## <b>.Copy will create a shallow copy of the data\n",
    "\n",
    "`Shallow copy` and `deep copy` are techniques used to create copies of objects, particularly when dealing with nested data structures like lists, dictionaries, or objects containing other objects.<br>\n",
    "\n",
    "- A `shallow copy` creates a new object, but does not create copies of nested objects. Instead, it simply `references` the `nested objects` from the `original object`.<br> \n",
    "- `Changes` made to the nested objects in the shallow copy `will be reflected` in the original object, and vice versa.\n",
    "- A `deep copy` creates a new object and recursively `creates copies` of all nested objects within it.\n",
    "- `Changes` made to nested objects in a deep copy `will not affect the original object`, and vice versa."
   ]
  },
  {
   "cell_type": "code",
   "execution_count": 2,
   "metadata": {},
   "outputs": [
    {
     "name": "stdout",
     "output_type": "stream",
     "text": [
      "before {'name': 'Abdul Qadir', 'fname': 'Muhammad Z', 'Education': 'MSDS'}\n",
      "After {'name': 'Abdul Qadir', 'fname': 'Muhammad Z'}\n"
     ]
    }
   ],
   "source": [
    "#pop\n",
    "from typing import Dict,Union,Optional\n",
    "import pprint\n",
    "\n",
    "key = Union[int,str] # ctreate a custom datatype\n",
    "value = Union[str,list,int,tuple,dict,set] # ctreate a custom datatype\n",
    "\n",
    "data : dict[key,value] = {'name' : \"Abdul Qadir\",\n",
    "                        'fname' : \"Muhammad Z\",\n",
    "                        'Education' : \"MSDS\"} # now want to update any key value\n",
    "\n",
    "print(\"before\",data)\n",
    "\n",
    "data.pop(\"Education\")# needs argument\n",
    "print(\"After\",data)"
   ]
  },
  {
   "cell_type": "code",
   "execution_count": 3,
   "metadata": {},
   "outputs": [
    {
     "name": "stdout",
     "output_type": "stream",
     "text": [
      "before {'name': 'Abdul Qadir', 'fname': 'Muhammad Z', 'Education': 'MSDS'}\n",
      "After {'name': 'Abdul Qadir', 'fname': 'Muhammad Z'}\n"
     ]
    }
   ],
   "source": [
    "#popITEM\n",
    "from typing import Dict,Union,Optional\n",
    "import pprint\n",
    "\n",
    "key = Union[int,str] # ctreate a custom datatype\n",
    "value = Union[str,list,int,tuple,dict,set] # ctreate a custom datatype\n",
    "\n",
    "data : dict[key,value] = {'name' : \"Abdul Qadir\",\n",
    "                        'fname' : \"Muhammad Z\",\n",
    "                        'Education' : \"MSDS\"} # now want to update any key value\n",
    "\n",
    "print(\"before\",data)\n",
    "\n",
    "data.popitem()# no need argument\n",
    "print(\"After\",data)"
   ]
  },
  {
   "cell_type": "code",
   "execution_count": 15,
   "metadata": {},
   "outputs": [
    {
     "name": "stdout",
     "output_type": "stream",
     "text": [
      "before {'name': 'Abdul Qadir', 'fname': 'Muhammad Z', 'Education': 'MSDS'}\n",
      "NA\n",
      "After {'name': 'Abdul Qadir', 'fname': 'Muhammad Z', 'Education': 'MSDS'}\n"
     ]
    }
   ],
   "source": [
    "#get\n",
    "from typing import Dict,Union,Optional\n",
    "import pprint\n",
    "\n",
    "key = Union[int,str] # ctreate a custom datatype\n",
    "value = Union[str,list,int,tuple,dict,set] # ctreate a custom datatype\n",
    "\n",
    "data : dict[key,value] = {'name' : \"Abdul Qadir\",\n",
    "                        'fname' : \"Muhammad Z\",\n",
    "                        'Education' : \"MSDS\"} # now want to update any key value\n",
    "\n",
    "print(\"before\",data)\n",
    "\n",
    "a : str = data.get(\"pakistan\",\"NA\")# needs argument\n",
    "print(a)\n",
    "print(\"After\",data)"
   ]
  },
  {
   "cell_type": "code",
   "execution_count": 17,
   "metadata": {},
   "outputs": [
    {
     "name": "stdout",
     "output_type": "stream",
     "text": [
      "before {'name': 'Abdul Qadir', 'fname': 'Muhammad Z', 'Education': 'MSDS'}\n",
      "Empty value\n",
      "After {'name': 'Abdul Qadir', 'fname': 'Muhammad Z', 'Education': 'MSDS', 'pakistan': 'Empty value'}\n"
     ]
    }
   ],
   "source": [
    "#setdefault\n",
    "from typing import Dict,Union,Optional\n",
    "import pprint\n",
    "\n",
    "key = Union[int,str] # ctreate a custom datatype\n",
    "value = Union[str,list,int,tuple,dict,set] # ctreate a custom datatype\n",
    "\n",
    "data : dict[key,value] = {'name' : \"Abdul Qadir\",\n",
    "                        'fname' : \"Muhammad Z\",\n",
    "                        'Education' : \"MSDS\"} # now want to update any key value\n",
    "\n",
    "print(\"before\",data)\n",
    "\n",
    "a : str = data.setdefault(\"pakistan\",\"Empty value\")# needs argument\n",
    "print(a)\n",
    "print(\"After\",data)"
   ]
  },
  {
   "cell_type": "code",
   "execution_count": 18,
   "metadata": {},
   "outputs": [
    {
     "name": "stdout",
     "output_type": "stream",
     "text": [
      "{'name': 'A. Qadir', 'fname': 'Muhammad Z', 'Education': 'MSDS', 'Age': 35, 'Height': '6 feet'}\n"
     ]
    }
   ],
   "source": [
    "#get\n",
    "from typing import Dict,Union,Optional\n",
    "import pprint\n",
    "\n",
    "key = Union[int,str] # ctreate a custom datatype\n",
    "value = Union[str,list,int,tuple,dict,set] # ctreate a custom datatype\n",
    "\n",
    "data : dict[key,value] = {'name' : \"Abdul Qadir\",\n",
    "                        'fname' : \"Muhammad Z\",\n",
    "                        'Education' : \"MSDS\"} # now want to update any key value\n",
    "\n",
    "data1 : dict[key,value] = {'name' : \"A. Qadir\",\n",
    "                           'Age' : 35,\n",
    "                           'Height': \"6 feet\",}\n",
    "\n",
    "data.update(data1)\n",
    "\n",
    "print(data)"
   ]
  },
  {
   "cell_type": "markdown",
   "metadata": {},
   "source": [
    "## Creating DataFrame From dictionary  "
   ]
  },
  {
   "cell_type": "code",
   "execution_count": 4,
   "metadata": {},
   "outputs": [
    {
     "data": {
      "text/html": [
       "<div>\n",
       "<style scoped>\n",
       "    .dataframe tbody tr th:only-of-type {\n",
       "        vertical-align: middle;\n",
       "    }\n",
       "\n",
       "    .dataframe tbody tr th {\n",
       "        vertical-align: top;\n",
       "    }\n",
       "\n",
       "    .dataframe thead th {\n",
       "        text-align: right;\n",
       "    }\n",
       "</style>\n",
       "<table border=\"1\" class=\"dataframe\">\n",
       "  <thead>\n",
       "    <tr style=\"text-align: right;\">\n",
       "      <th></th>\n",
       "      <th>rol no</th>\n",
       "      <th>name</th>\n",
       "      <th>Education</th>\n",
       "    </tr>\n",
       "  </thead>\n",
       "  <tbody>\n",
       "    <tr>\n",
       "      <th>0</th>\n",
       "      <td>2345</td>\n",
       "      <td>Abdul Qadir</td>\n",
       "      <td>MSDS</td>\n",
       "    </tr>\n",
       "    <tr>\n",
       "      <th>1</th>\n",
       "      <td>5665</td>\n",
       "      <td>Kashif Khan</td>\n",
       "      <td>MSDS</td>\n",
       "    </tr>\n",
       "    <tr>\n",
       "      <th>2</th>\n",
       "      <td>3456</td>\n",
       "      <td>Asifa</td>\n",
       "      <td>MSDS</td>\n",
       "    </tr>\n",
       "  </tbody>\n",
       "</table>\n",
       "</div>"
      ],
      "text/plain": [
       "   rol no         name Education\n",
       "0    2345  Abdul Qadir      MSDS\n",
       "1    5665  Kashif Khan      MSDS\n",
       "2    3456        Asifa      MSDS"
      ]
     },
     "execution_count": 4,
     "metadata": {},
     "output_type": "execute_result"
    }
   ],
   "source": [
    "import pandas as pd\n",
    "from typing import Any\n",
    "\n",
    "stu_data : Dict[str,list[Any]] = { # list of dictionary\n",
    "                                    \"rol no\": [2345,5665,3456],\n",
    "                                    'name' : [\"Abdul Qadir\",\"Kashif Khan\",\"Asifa\"],\n",
    "                                    \"Education\": [\"MSDS\",\"MSDS\",\"MSDS\"]\n",
    "                                  }\n",
    "df : pd.DataFrame = pd.DataFrame(stu_data) # passing list of dictionary to pandas function\n",
    "df # give tabular dataframe output"
   ]
  },
  {
   "cell_type": "code",
   "execution_count": 32,
   "metadata": {},
   "outputs": [
    {
     "name": "stdout",
     "output_type": "stream",
     "text": [
      "Original position: 5\n",
      "New position: 8\n"
     ]
    }
   ],
   "source": [
    "# Define a dictionary representing an alien with its initial position and speed\n",
    "alien_0 = {'x_position': 5, 'y_position': 25, 'speed': 'medium'}\n",
    "\n",
    "# Print the original x position of the alien\n",
    "print(f\"Original position: {alien_0['x_position']}\")\n",
    "\n",
    "# update speed value\n",
    "alien_0['speed'] = 'fast'\n",
    "\n",
    "# Move the alien to the right based on its speed\n",
    "# Determine how far to move the alien based on its current speed\n",
    "if alien_0['speed'] == 'slow':\n",
    "    x_increment = 1\n",
    "elif alien_0['speed'] == 'medium':\n",
    "    x_increment = 2\n",
    "else:\n",
    "    # This must be a fast alien.\n",
    "    x_increment = 3\n",
    "\n",
    "# Update the x position of the alien by adding the x increment\n",
    "alien_0['x_position'] = alien_0['x_position'] + x_increment\n",
    "\n",
    "# Print the new x position of the alien after the movement\n",
    "print(f\"New position: {alien_0['x_position']}\")"
   ]
  },
  {
   "cell_type": "code",
   "execution_count": 33,
   "metadata": {},
   "outputs": [
    {
     "name": "stdout",
     "output_type": "stream",
     "text": [
      "Sarah's favorite language is C.\n"
     ]
    }
   ],
   "source": [
    "favorite_languages = {\n",
    "    'jen': 'python',\n",
    "    'sarah': 'c',\n",
    "    'edward': 'rust',\n",
    "    'phil': 'python',\n",
    "    }\n",
    "language = favorite_languages['sarah'].title()\n",
    "print(f\"Sarah's favorite language is {language}.\")"
   ]
  },
  {
   "cell_type": "code",
   "execution_count": 37,
   "metadata": {},
   "outputs": [
    {
     "name": "stdout",
     "output_type": "stream",
     "text": [
      "Hi Jen.\n",
      "Hi Sarah.\n",
      "\tSarah, I see you love C!\n",
      "Hi Edward.\n",
      "Hi Phil.\n",
      "\tPhil, I see you love Python!\n"
     ]
    }
   ],
   "source": [
    "# Define a dictionary of favorite programming languages for different people\n",
    "favorite_languages = {\n",
    "    'jen': 'python',\n",
    "    'sarah': 'c',\n",
    "    'edward': 'rust',\n",
    "    'phil': 'python',\n",
    "}\n",
    "\n",
    "# Define a list of friends\n",
    "friends = ['phil', 'sarah']\n",
    "\n",
    "# Iterate over the keys (names) in the dictionary\n",
    "for name in favorite_languages.keys():\n",
    "    # Print a greeting message for each person\n",
    "    print(f\"Hi {name.title()}.\")\n",
    "\n",
    "    # Check if the current person is a friend\n",
    "    if name in friends:\n",
    "        # If the person is a friend, retrieve their favorite programming language\n",
    "        language = favorite_languages[name].title()\n",
    "\n",
    "        # Print a message mentioning the friend's name and their favorite programming language\n",
    "        print(f\"\\t{name.title()}, I see you love {language}!\")"
   ]
  },
  {
   "cell_type": "code",
   "execution_count": 39,
   "metadata": {},
   "outputs": [
    {
     "name": "stdout",
     "output_type": "stream",
     "text": [
      "True\n",
      "dict_keys(['jen', 'sarah', 'edward', 'phil'])\n"
     ]
    }
   ],
   "source": [
    "print('arin' not in favorite_languages.keys())\n",
    "print(favorite_languages.keys())"
   ]
  },
  {
   "cell_type": "code",
   "execution_count": 40,
   "metadata": {},
   "outputs": [
    {
     "data": {
      "text/plain": [
       "True"
      ]
     },
     "execution_count": 40,
     "metadata": {},
     "output_type": "execute_result"
    }
   ],
   "source": [
    "\"Abdul\" in \"My name is Abdul Qadir\" # using in operator we see a substring in a string"
   ]
  },
  {
   "cell_type": "code",
   "execution_count": null,
   "metadata": {},
   "outputs": [],
   "source": [
    "if 'erin' not in favorite_languages.keys():\n",
    "    print(\"Erin, please take our poll!\")"
   ]
  },
  {
   "cell_type": "code",
   "execution_count": 43,
   "metadata": {},
   "outputs": [
    {
     "name": "stdout",
     "output_type": "stream",
     "text": [
      "{'color': 'green', 'points': 5}\n",
      "{'color': 'yellow', 'points': 10}\n",
      "{'color': 'red', 'points': 15}\n"
     ]
    }
   ],
   "source": [
    "# Define dictionaries representing different aliens\n",
    "alien_0: list[str, int] = {'color': 'green', 'points': 5}\n",
    "alien_1: list[str, int] = {'color': 'yellow', 'points': 10}\n",
    "alien_2: list[str, int] = {'color': 'red', 'points': 15}\n",
    "\n",
    "# Create a list containing the alien dictionaries\n",
    "aliens: list[dict] = [alien_0, alien_1, alien_2]\n",
    "\n",
    "# Iterate over each alien dictionary in the list\n",
    "for alien in aliens:\n",
    "    # Print each alien dictionary\n",
    "    print(alien)\n"
   ]
  },
  {
   "cell_type": "code",
   "execution_count": 56,
   "metadata": {},
   "outputs": [
    {
     "name": "stdout",
     "output_type": "stream",
     "text": [
      "[]\n",
      "[{'color': 'green', 'points': 5, 'speed': 'slow'}, {'color': 'green', 'points': 5, 'speed': 'slow'}, {'color': 'green', 'points': 5, 'speed': 'slow'}, {'color': 'green', 'points': 5, 'speed': 'slow'}, {'color': 'green', 'points': 5, 'speed': 'slow'}, {'color': 'green', 'points': 5, 'speed': 'slow'}, {'color': 'green', 'points': 5, 'speed': 'slow'}, {'color': 'green', 'points': 5, 'speed': 'slow'}, {'color': 'green', 'points': 5, 'speed': 'slow'}, {'color': 'green', 'points': 5, 'speed': 'slow'}, {'color': 'green', 'points': 5, 'speed': 'slow'}, {'color': 'green', 'points': 5, 'speed': 'slow'}, {'color': 'green', 'points': 5, 'speed': 'slow'}, {'color': 'green', 'points': 5, 'speed': 'slow'}, {'color': 'green', 'points': 5, 'speed': 'slow'}, {'color': 'green', 'points': 5, 'speed': 'slow'}, {'color': 'green', 'points': 5, 'speed': 'slow'}, {'color': 'green', 'points': 5, 'speed': 'slow'}, {'color': 'green', 'points': 5, 'speed': 'slow'}, {'color': 'green', 'points': 5, 'speed': 'slow'}, {'color': 'green', 'points': 5, 'speed': 'slow'}, {'color': 'green', 'points': 5, 'speed': 'slow'}, {'color': 'green', 'points': 5, 'speed': 'slow'}, {'color': 'green', 'points': 5, 'speed': 'slow'}, {'color': 'green', 'points': 5, 'speed': 'slow'}, {'color': 'green', 'points': 5, 'speed': 'slow'}, {'color': 'green', 'points': 5, 'speed': 'slow'}, {'color': 'green', 'points': 5, 'speed': 'slow'}, {'color': 'green', 'points': 5, 'speed': 'slow'}, {'color': 'green', 'points': 5, 'speed': 'slow'}]\n",
      "Total number of aliens: 30\n"
     ]
    }
   ],
   "source": [
    "import pprint\n",
    "aliens : list[dict[str,str]] = []\n",
    "print(aliens)\n",
    "# Make an empty list for storing aliens.\n",
    "aliens = []\n",
    "# Make 30 green aliens.\n",
    "for alien_number in range(30):\n",
    "\n",
    "    new_alien = {'color': 'green', 'points': 5, 'speed': 'slow'}\n",
    "    aliens.append(new_alien)\n",
    "print(aliens)\n",
    "# Show how many aliens have been created.\n",
    "print(f\"Total number of aliens: {len(aliens)}\")"
   ]
  },
  {
   "cell_type": "code",
   "execution_count": 53,
   "metadata": {},
   "outputs": [
    {
     "name": "stdout",
     "output_type": "stream",
     "text": [
      "[{'color': 'green', 'points': 5, 'speed': 'slow'},\n",
      " {'color': 'green', 'points': 5, 'speed': 'slow'},\n",
      " {'color': 'green', 'points': 5, 'speed': 'slow'},\n",
      " {'color': 'green', 'points': 5, 'speed': 'slow'},\n",
      " {'color': 'green', 'points': 5, 'speed': 'slow'}]\n"
     ]
    }
   ],
   "source": [
    "pprint.pprint(aliens[:5])"
   ]
  },
  {
   "cell_type": "code",
   "execution_count": 55,
   "metadata": {},
   "outputs": [
    {
     "name": "stdout",
     "output_type": "stream",
     "text": [
      "Total number of aliens: 30\n"
     ]
    }
   ],
   "source": [
    "# Show how many aliens have been created.\n",
    "print(f\"Total number of aliens: {len(aliens)}\")"
   ]
  },
  {
   "cell_type": "code",
   "execution_count": 71,
   "metadata": {},
   "outputs": [],
   "source": [
    "# for first 3 aliens \n",
    "for alien in aliens[:3]:\n",
    "    if alien['color'] == 'green':\n",
    "        alien['color'] = 'yellow'\n",
    "        alien['speed'] = 'medium'\n",
    "        alien['points'] = 10\n",
    "    elif alien['color'] == 'yellow':\n",
    "        alien['color'] = 'red'\n",
    "        alien['speed'] = 'fast'\n",
    "        alien['points'] = 15"
   ]
  },
  {
   "cell_type": "code",
   "execution_count": 72,
   "metadata": {},
   "outputs": [
    {
     "name": "stdout",
     "output_type": "stream",
     "text": [
      "[{'color': 'red', 'points': 15, 'speed': 'fast'},\n",
      " {'color': 'red', 'points': 15, 'speed': 'fast'},\n",
      " {'color': 'red', 'points': 15, 'speed': 'fast'},\n",
      " {'color': 'green', 'points': 5, 'speed': 'slow'},\n",
      " {'color': 'green', 'points': 5, 'speed': 'slow'},\n",
      " {'color': 'green', 'points': 5, 'speed': 'slow'},\n",
      " {'color': 'green', 'points': 5, 'speed': 'slow'},\n",
      " {'color': 'green', 'points': 5, 'speed': 'slow'},\n",
      " {'color': 'green', 'points': 5, 'speed': 'slow'},\n",
      " {'color': 'green', 'points': 5, 'speed': 'slow'}]\n"
     ]
    }
   ],
   "source": [
    "pprint.pprint(aliens[:10])"
   ]
  },
  {
   "cell_type": "code",
   "execution_count": 5,
   "metadata": {},
   "outputs": [
    {
     "name": "stdout",
     "output_type": "stream",
     "text": [
      "{'name': 'Abdul Qadir', 'fname': 'Muhammad Z', 'Education': 'MSDS'}\n",
      "<class 'dict'>\n"
     ]
    }
   ],
   "source": [
    "key = Union[int,str] # ctreate a custom datatype\n",
    "value = Union[str,list,int,tuple,dict,set] # ctreate a custom datatype\n",
    "\n",
    "data : dict[key,value] = {'name' : \"Abdul Qadir\",\n",
    "                        'fname' : \"Muhammad Z\",\n",
    "                        'Education' : \"MSDS\"} # now want to update any key value\n",
    "\n",
    "print(data)\n",
    "print(type(data))"
   ]
  },
  {
   "cell_type": "code",
   "execution_count": 6,
   "metadata": {},
   "outputs": [
    {
     "name": "stdout",
     "output_type": "stream",
     "text": [
      "<class 'str'>\n",
      "{\n",
      "    \"name\": \"Abdul Qadir\",\n",
      "    \"fname\": \"Muhammad Z\",\n",
      "    \"Education\": \"MSDS\"\n",
      "}\n"
     ]
    }
   ],
   "source": [
    "import json\n",
    "\n",
    "# Assuming `data` is a dictionary containing some data\n",
    "# \"dump\" Convert the Python dictionary `data` to a JSON string\n",
    "data1 = json.dumps(data, indent=4)\n",
    "\n",
    "# Print the type of `data1`, which should be a string\n",
    "print(type(data1))\n",
    "\n",
    "# Print the JSON string with indentation for better readability\n",
    "print(data1)\n"
   ]
  },
  {
   "cell_type": "code",
   "execution_count": null,
   "metadata": {},
   "outputs": [],
   "source": []
  }
 ],
 "metadata": {
  "kernelspec": {
   "display_name": "python_twelve",
   "language": "python",
   "name": "python3"
  },
  "language_info": {
   "codemirror_mode": {
    "name": "ipython",
    "version": 3
   },
   "file_extension": ".py",
   "mimetype": "text/x-python",
   "name": "python",
   "nbconvert_exporter": "python",
   "pygments_lexer": "ipython3",
   "version": "3.12.4"
  }
 },
 "nbformat": 4,
 "nbformat_minor": 2
}
