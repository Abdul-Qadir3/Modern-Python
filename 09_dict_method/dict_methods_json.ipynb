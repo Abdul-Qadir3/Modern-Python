{
 "cells": [
  {
   "cell_type": "code",
   "execution_count": 4,
   "metadata": {},
   "outputs": [
    {
     "name": "stdout",
     "output_type": "stream",
     "text": [
      "before {'name': 'Abdul Qadir', 'fname': 'Muhammad Z', 'Education': 'MSDS'}\n",
      "After {}\n",
      "['clear', 'copy', 'fromkeys', 'get', 'items', 'keys', 'pop', 'popitem', 'setdefault', 'update', 'values']\n"
     ]
    }
   ],
   "source": [
    "from typing import Dict,Union,Optional\n",
    "import pprint\n",
    "\n",
    "key = Union[int,str] # ctreate a custom datatype\n",
    "value = Union[str,list,int,tuple,dict,set] # ctreate a custom datatype\n",
    "\n",
    "data : dict[key,value] = {'name' : \"Abdul Qadir\",\n",
    "                        'fname' : \"Muhammad Z\",\n",
    "                        'Education' : \"MSDS\"} # now want to update any key value\n",
    "\n",
    "print(\"before\",data)\n",
    "\n",
    "data.clear()\n",
    "print(\"After\",data)\n",
    "\n",
    "methods: list[str] = [m for m in dir(data) if \"__\" not in m]\n",
    "print(methods)"
   ]
  },
  {
   "cell_type": "code",
   "execution_count": 6,
   "metadata": {},
   "outputs": [
    {
     "name": "stdout",
     "output_type": "stream",
     "text": [
      "before {'name': 'Abdul Qadir', 'fname': 'Muhammad Z', 'Education': 'MSDS'}\n"
     ]
    },
    {
     "ename": "NameError",
     "evalue": "name 'data' is not defined",
     "output_type": "error",
     "traceback": [
      "\u001b[1;31m---------------------------------------------------------------------------\u001b[0m",
      "\u001b[1;31mNameError\u001b[0m                                 Traceback (most recent call last)",
      "Cell \u001b[1;32mIn[6], line 14\u001b[0m\n\u001b[0;32m     11\u001b[0m \u001b[38;5;28mprint\u001b[39m(\u001b[38;5;124m\"\u001b[39m\u001b[38;5;124mbefore\u001b[39m\u001b[38;5;124m\"\u001b[39m,data)\n\u001b[0;32m     13\u001b[0m \u001b[38;5;28;01mdel\u001b[39;00m data\n\u001b[1;32m---> 14\u001b[0m \u001b[38;5;28mprint\u001b[39m(\u001b[38;5;124m\"\u001b[39m\u001b[38;5;124mAfter\u001b[39m\u001b[38;5;124m\"\u001b[39m,\u001b[43mdata\u001b[49m)\u001b[38;5;66;03m# shows arror because data is no more it is deleted\u001b[39;00m\n",
      "\u001b[1;31mNameError\u001b[0m: name 'data' is not defined"
     ]
    }
   ],
   "source": [
    "from typing import Dict,Union,Optional\n",
    "import pprint\n",
    "\n",
    "key = Union[int,str] # ctreate a custom datatype\n",
    "value = Union[str,list,int,tuple,dict,set] # ctreate a custom datatype\n",
    "\n",
    "data : dict[key,value] = {'name' : \"Abdul Qadir\",\n",
    "                        'fname' : \"Muhammad Z\",\n",
    "                        'Education' : \"MSDS\"} # now want to update any key value\n",
    "\n",
    "print(\"before\",data)\n",
    "\n",
    "del data\n",
    "print(\"After\",data)# shows arror because data is no more it is deleted"
   ]
  },
  {
   "cell_type": "markdown",
   "metadata": {},
   "source": [
    "## <b>.Copy will create a shallow copy of the data\n",
    "\n",
    "`Shallow copy` and `deep copy` are techniques used to create copies of objects, particularly when dealing with nested data structures like lists, dictionaries, or objects containing other objects.<br>\n",
    "\n",
    "- A `shallow copy` creates a new object, but does not create copies of nested objects. Instead, it simply `references` the `nested objects` from the `original object`.<br> \n",
    "- `Changes` made to the nested objects in the shallow copy `will be reflected` in the original object, and vice versa.\n",
    "- A `deep copy` creates a new object and recursively `creates copies` of all nested objects within it.\n",
    "- `Changes` made to nested objects in a deep copy `will not affect the original object`, and vice versa."
   ]
  },
  {
   "cell_type": "code",
   "execution_count": 9,
   "metadata": {},
   "outputs": [
    {
     "name": "stdout",
     "output_type": "stream",
     "text": [
      "before {'name': 'Abdul Qadir', 'fname': 'Muhammad Z', 'Education': 'MSDS'}\n",
      "After {'name': 'Abdul Qadir', 'fname': 'Muhammad Z'}\n"
     ]
    }
   ],
   "source": [
    "#pop\n",
    "from typing import Dict,Union,Optional\n",
    "import pprint\n",
    "\n",
    "key = Union[int,str] # ctreate a custom datatype\n",
    "value = Union[str,list,int,tuple,dict,set] # ctreate a custom datatype\n",
    "\n",
    "data : dict[key,value] = {'name' : \"Abdul Qadir\",\n",
    "                        'fname' : \"Muhammad Z\",\n",
    "                        'Education' : \"MSDS\"} # now want to update any key value\n",
    "\n",
    "print(\"before\",data)\n",
    "\n",
    "data.pop(\"Education\")# needs argument\n",
    "print(\"After\",data)"
   ]
  },
  {
   "cell_type": "code",
   "execution_count": 12,
   "metadata": {},
   "outputs": [
    {
     "name": "stdout",
     "output_type": "stream",
     "text": [
      "before {'name': 'Abdul Qadir', 'fname': 'Muhammad Z', 'Education': 'MSDS'}\n",
      "After {'name': 'Abdul Qadir', 'fname': 'Muhammad Z'}\n"
     ]
    }
   ],
   "source": [
    "#popITEM\n",
    "from typing import Dict,Union,Optional\n",
    "import pprint\n",
    "\n",
    "key = Union[int,str] # ctreate a custom datatype\n",
    "value = Union[str,list,int,tuple,dict,set] # ctreate a custom datatype\n",
    "\n",
    "data : dict[key,value] = {'name' : \"Abdul Qadir\",\n",
    "                        'fname' : \"Muhammad Z\",\n",
    "                        'Education' : \"MSDS\"} # now want to update any key value\n",
    "\n",
    "print(\"before\",data)\n",
    "\n",
    "data.popitem()# no need argument\n",
    "print(\"After\",data)"
   ]
  },
  {
   "cell_type": "code",
   "execution_count": 15,
   "metadata": {},
   "outputs": [
    {
     "name": "stdout",
     "output_type": "stream",
     "text": [
      "before {'name': 'Abdul Qadir', 'fname': 'Muhammad Z', 'Education': 'MSDS'}\n",
      "NA\n",
      "After {'name': 'Abdul Qadir', 'fname': 'Muhammad Z', 'Education': 'MSDS'}\n"
     ]
    }
   ],
   "source": [
    "#get\n",
    "from typing import Dict,Union,Optional\n",
    "import pprint\n",
    "\n",
    "key = Union[int,str] # ctreate a custom datatype\n",
    "value = Union[str,list,int,tuple,dict,set] # ctreate a custom datatype\n",
    "\n",
    "data : dict[key,value] = {'name' : \"Abdul Qadir\",\n",
    "                        'fname' : \"Muhammad Z\",\n",
    "                        'Education' : \"MSDS\"} # now want to update any key value\n",
    "\n",
    "print(\"before\",data)\n",
    "\n",
    "a : str = data.get(\"pakistan\",\"NA\")# needs argument\n",
    "print(a)\n",
    "print(\"After\",data)"
   ]
  },
  {
   "cell_type": "code",
   "execution_count": 17,
   "metadata": {},
   "outputs": [
    {
     "name": "stdout",
     "output_type": "stream",
     "text": [
      "before {'name': 'Abdul Qadir', 'fname': 'Muhammad Z', 'Education': 'MSDS'}\n",
      "Empty value\n",
      "After {'name': 'Abdul Qadir', 'fname': 'Muhammad Z', 'Education': 'MSDS', 'pakistan': 'Empty value'}\n"
     ]
    }
   ],
   "source": [
    "#setdefault\n",
    "from typing import Dict,Union,Optional\n",
    "import pprint\n",
    "\n",
    "key = Union[int,str] # ctreate a custom datatype\n",
    "value = Union[str,list,int,tuple,dict,set] # ctreate a custom datatype\n",
    "\n",
    "data : dict[key,value] = {'name' : \"Abdul Qadir\",\n",
    "                        'fname' : \"Muhammad Z\",\n",
    "                        'Education' : \"MSDS\"} # now want to update any key value\n",
    "\n",
    "print(\"before\",data)\n",
    "\n",
    "a : str = data.setdefault(\"pakistan\",\"Empty value\")# needs argument\n",
    "print(a)\n",
    "print(\"After\",data)"
   ]
  },
  {
   "cell_type": "code",
   "execution_count": 18,
   "metadata": {},
   "outputs": [
    {
     "name": "stdout",
     "output_type": "stream",
     "text": [
      "{'name': 'A. Qadir', 'fname': 'Muhammad Z', 'Education': 'MSDS', 'Age': 35, 'Height': '6 feet'}\n"
     ]
    }
   ],
   "source": [
    "#get\n",
    "from typing import Dict,Union,Optional\n",
    "import pprint\n",
    "\n",
    "key = Union[int,str] # ctreate a custom datatype\n",
    "value = Union[str,list,int,tuple,dict,set] # ctreate a custom datatype\n",
    "\n",
    "data : dict[key,value] = {'name' : \"Abdul Qadir\",\n",
    "                        'fname' : \"Muhammad Z\",\n",
    "                        'Education' : \"MSDS\"} # now want to update any key value\n",
    "\n",
    "data1 : dict[key,value] = {'name' : \"A. Qadir\",\n",
    "                           'Age' : 35,\n",
    "                           'Height': \"6 feet\",}\n",
    "\n",
    "data.update(data1)\n",
    "\n",
    "print(data)"
   ]
  },
  {
   "cell_type": "code",
   "execution_count": 22,
   "metadata": {},
   "outputs": [
    {
     "data": {
      "text/html": [
       "<div>\n",
       "<style scoped>\n",
       "    .dataframe tbody tr th:only-of-type {\n",
       "        vertical-align: middle;\n",
       "    }\n",
       "\n",
       "    .dataframe tbody tr th {\n",
       "        vertical-align: top;\n",
       "    }\n",
       "\n",
       "    .dataframe thead th {\n",
       "        text-align: right;\n",
       "    }\n",
       "</style>\n",
       "<table border=\"1\" class=\"dataframe\">\n",
       "  <thead>\n",
       "    <tr style=\"text-align: right;\">\n",
       "      <th></th>\n",
       "      <th>rol no</th>\n",
       "      <th>name</th>\n",
       "      <th>Education</th>\n",
       "    </tr>\n",
       "  </thead>\n",
       "  <tbody>\n",
       "    <tr>\n",
       "      <th>0</th>\n",
       "      <td>2345</td>\n",
       "      <td>Abdul Qadir</td>\n",
       "      <td>MSDS</td>\n",
       "    </tr>\n",
       "    <tr>\n",
       "      <th>1</th>\n",
       "      <td>5665</td>\n",
       "      <td>Kashif Khan</td>\n",
       "      <td>MSDS</td>\n",
       "    </tr>\n",
       "    <tr>\n",
       "      <th>2</th>\n",
       "      <td>3456</td>\n",
       "      <td>Asifa</td>\n",
       "      <td>MSDS</td>\n",
       "    </tr>\n",
       "  </tbody>\n",
       "</table>\n",
       "</div>"
      ],
      "text/plain": [
       "   rol no         name Education\n",
       "0    2345  Abdul Qadir      MSDS\n",
       "1    5665  Kashif Khan      MSDS\n",
       "2    3456        Asifa      MSDS"
      ]
     },
     "execution_count": 22,
     "metadata": {},
     "output_type": "execute_result"
    }
   ],
   "source": [
    "import pandas as pd\n",
    "from typing import Any\n",
    "\n",
    "stu_data : Dict[str,list[Any]] = {\n",
    "                                    \"rol no\": [2345,5665,3456],\n",
    "                                    'name' : [\"Abdul Qadir\",\"Kashif Khan\",\"Asifa\"],\n",
    "                                    \"Education\": [\"MSDS\",\"MSDS\",\"MSDS\"]\n",
    "                                  }\n",
    "df : pd.DataFrame = pd.DataFrame(stu_data) # passing list of dictionary to pandas function\n",
    "df # give tabular dataframe output"
   ]
  },
  {
   "cell_type": "code",
   "execution_count": null,
   "metadata": {},
   "outputs": [],
   "source": []
  }
 ],
 "metadata": {
  "kernelspec": {
   "display_name": "python_twelve",
   "language": "python",
   "name": "python3"
  },
  "language_info": {
   "codemirror_mode": {
    "name": "ipython",
    "version": 3
   },
   "file_extension": ".py",
   "mimetype": "text/x-python",
   "name": "python",
   "nbconvert_exporter": "python",
   "pygments_lexer": "ipython3",
   "version": "3.11.5"
  }
 },
 "nbformat": 4,
 "nbformat_minor": 2
}
