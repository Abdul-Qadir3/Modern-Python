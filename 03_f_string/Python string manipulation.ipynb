{
 "cells": [
  {
   "cell_type": "markdown",
   "id": "fcf97a3b",
   "metadata": {},
   "source": [
    "## Q1:- Reverse a String: Write a Python function to reverse a given string.\n",
    "- In the `reverse_string` function, we use slicing with a step of -1 ([::-1]) to reverse the given string. The reversed string is then returned as the result.\n",
    "- When you use `[::-1]` as the slicing expression, it means you are starting from the end of the sequence, moving towards the beginning, and taking each character with a step of -1. In other words, it reverses the sequence."
   ]
  },
  {
   "cell_type": "code",
   "execution_count": 9,
   "id": "60d347c5",
   "metadata": {},
   "outputs": [
    {
     "name": "stdout",
     "output_type": "stream",
     "text": [
      "Original string: Hello, World!\n",
      "Reversed string: !dlroW ,olleH\n"
     ]
    }
   ],
   "source": [
    "# Define a function named reverse_string that takes a string as input and returns a string.\n",
    "def reverse_string(input_string: str) -> str:\n",
    "    \"\"\"Reverse the given string.\"\"\"\n",
    "    # Use slicing with step -1 to reverse the string.\n",
    "    reversed_string = input_string[::-1]\n",
    "    return reversed_string\n",
    "\n",
    "# Example usage:\n",
    "# Define an input string.\n",
    "input_string = \"Hello, World!\"\n",
    "\n",
    "# Call the reverse_string function with the input string and store the result.\n",
    "reversing_string = reverse_string(input_string)\n",
    "\n",
    "# Print the original and reversed strings.\n",
    "print(\"Original string:\", input_string)\n",
    "print(\"Reversed string:\", reversing_string)"
   ]
  },
  {
   "cell_type": "markdown",
   "id": "0e0ad6e0",
   "metadata": {},
   "source": [
    "## Q2 Count the Occurrences of a Character: Write a Python function that takes a string and a character as input and returns the count of occurrences of that character in the string.\n",
    "Python function `count_occurrences` that takes a string and a character as input and returns the count of occurrences of that character in the string"
   ]
  },
  {
   "cell_type": "code",
   "execution_count": 12,
   "id": "a91d0b58",
   "metadata": {},
   "outputs": [
    {
     "name": "stdout",
     "output_type": "stream",
     "text": [
      "3\n"
     ]
    }
   ],
   "source": [
    "def count_occurrences(input_string, character):\n",
    "    # Initialize a variable to keep track of the count of occurrences\n",
    "    count = 0\n",
    "    \n",
    "    # Iterate over each character in the input string\n",
    "    for char in input_string:\n",
    "        # Check if the current character matches the given character\n",
    "        if char == character:\n",
    "            # If they match, increment the count by 1\n",
    "            count += 1\n",
    "    \n",
    "    # Return the count of occurrences\n",
    "    return count\n",
    "\n",
    "# Example usage\n",
    "string = \"Hello, World!\"\n",
    "char = \"l\"\n",
    "occurrences = count_occurrences(string, char) # takes two arguments\n",
    "print(occurrences)  # Output: 3"
   ]
  },
  {
   "cell_type": "markdown",
   "id": "cf10c190",
   "metadata": {},
   "source": [
    "## 3 Check if a String is Palindrome: Write a Python function to check if a given string is a palindrome code with comments\n",
    "- In this function, we first `remove` any `whitespace` from the input string and convert it to `lowercase`. This ensures that the palindrome check is case-insensitive and ignores any whitespace.\n",
    "- Next, we use slicing with a step of -1 ([::-1]) to reverse the string and store it in the `reversed_string` variable.\n",
    "- Finally, we `compare` the `original` input string with the `reversed string`. If they are `equal`, it means the string is a palindrome and we return `True`. Otherwise, we return `False`."
   ]
  },
  {
   "cell_type": "code",
   "execution_count": 17,
   "id": "4016a01c",
   "metadata": {},
   "outputs": [
    {
     "name": "stdout",
     "output_type": "stream",
     "text": [
      "True\n"
     ]
    }
   ],
   "source": [
    "def is_palindrome(input_string):\n",
    "    # Remove any whitespace and convert the string to lowercase\n",
    "    input_string = input_string.replace(\" \", \"\").lower()\n",
    "    \n",
    "    # Reverse the string\n",
    "    reversed_string = input_string[::-1]\n",
    "    \n",
    "    # Check if the reversed string is equal to the original string\n",
    "    if input_string == reversed_string:\n",
    "        return True\n",
    "    else:\n",
    "        return False\n",
    "\n",
    "# Example usage\n",
    "string = \"Able was I saw Elba\"\n",
    "result = is_palindrome(string)\n",
    "print(result)  # Output: True"
   ]
  },
  {
   "cell_type": "markdown",
   "id": "7a3cd085",
   "metadata": {},
   "source": [
    "## 4.\tRemove Duplicate Characters: Write a Python function to remove duplicate characters from a string and return the modified string.\n",
    "- In this function, we initialize an empty string `unique_string` to store the unique characters from the input string.\n",
    "- We then iterate over each character in the input string using a for loop. For each character, we check if it is already present in the `unique_string` using the `not in` operator. If it's not present, it means the character is unique, so we add it to the `unique_string`.\n",
    "- Finally, we return the `unique_string` as the modified string with duplicate characters removed."
   ]
  },
  {
   "cell_type": "code",
   "execution_count": 18,
   "id": "2aaac1f8",
   "metadata": {},
   "outputs": [
    {
     "name": "stdout",
     "output_type": "stream",
     "text": [
      "Helo, Wrd!\n"
     ]
    }
   ],
   "source": [
    "def remove_duplicates(input_string):\n",
    "    # Initialize an empty string to store the unique characters\n",
    "    unique_string = \"\"\n",
    "    \n",
    "    # Iterate over each character in the input string\n",
    "    for char in input_string:\n",
    "        # Check if the current character is already in the unique string\n",
    "        if char not in unique_string:\n",
    "            # If it's not present, add it to the unique string\n",
    "            unique_string += char\n",
    "    \n",
    "    # Return the modified string with duplicate characters removed\n",
    "    return unique_string\n",
    "\n",
    "# Example usage\n",
    "string = \"Hello, World!\"\n",
    "modified_string = remove_duplicates(string)\n",
    "print(modified_string)  # Output: \"Helo, Wrd!\""
   ]
  },
  {
   "cell_type": "markdown",
   "id": "5a4ddfbc",
   "metadata": {},
   "source": [
    "## 5 Count Words in a String: Write a Python function that takes a sentence as input and returns the count of words in the sentence. code with comments\n",
    "- In this function, we split the input sentence into words using the `split()` method. By default, `split()` splits the string at whitespace characters, which separates the sentence into individual words. The words are then stored in a list called `words`."
   ]
  },
  {
   "cell_type": "code",
   "execution_count": 19,
   "id": "cfb3f0fb",
   "metadata": {},
   "outputs": [
    {
     "name": "stdout",
     "output_type": "stream",
     "text": [
      "9\n"
     ]
    }
   ],
   "source": [
    "def count_words(sentence):\n",
    "    # Split the sentence into words using whitespace as the delimiter\n",
    "    words = sentence.split()\n",
    "    \n",
    "    # Return the count of words in the sentence\n",
    "    return len(words)\n",
    "\n",
    "# Example usage\n",
    "sentence = \"The quick brown fox jumps over the lazy dog\"\n",
    "word_count = count_words(sentence)\n",
    "print(word_count)  # Output: 9"
   ]
  },
  {
   "cell_type": "markdown",
   "id": "3bfbf60e",
   "metadata": {},
   "source": [
    "## 6.\tReplace Substring: Write a Python function that takes a string, a target substring, and a replacement substring as input, and returns the modified string with all occurrences of the target substring replaced with the replacement substring.\n",
    "- Python function `replace_substring` that takes a string, a target substring, and a replacement substring as input, and returns the modified string with all occurrences of the target substring replaced with the replacement substring\n",
    "- In this function, we use the `replace()` method to replace all occurrences of the target substring with the replacement substring. The `replace()` method searches for the target substring in the input string and replaces it with the specified replacement substring."
   ]
  },
  {
   "cell_type": "code",
   "execution_count": 20,
   "id": "965729ac",
   "metadata": {},
   "outputs": [
    {
     "name": "stdout",
     "output_type": "stream",
     "text": [
      "Hella, Warld!\n"
     ]
    }
   ],
   "source": [
    "def replace_substring(input_string, target_substring, replacement_substring):\n",
    "    # Replace all occurrences of the target substring with the replacement substring\n",
    "    modified_string = input_string.replace(target_substring, replacement_substring)\n",
    "    \n",
    "    # Return the modified string\n",
    "    return modified_string\n",
    "\n",
    "# Example usage\n",
    "string = \"Hello, World!\"\n",
    "target = \"o\"\n",
    "replacement = \"a\"\n",
    "modified_string = replace_substring(string, target, replacement)\n",
    "print(modified_string)  # Output: \"Hella, Warld!\""
   ]
  },
  {
   "cell_type": "code",
   "execution_count": null,
   "id": "a8a177b6",
   "metadata": {},
   "outputs": [],
   "source": []
  }
 ],
 "metadata": {
  "kernelspec": {
   "display_name": "Python 3 (ipykernel)",
   "language": "python",
   "name": "python3"
  },
  "language_info": {
   "codemirror_mode": {
    "name": "ipython",
    "version": 3
   },
   "file_extension": ".py",
   "mimetype": "text/x-python",
   "name": "python",
   "nbconvert_exporter": "python",
   "pygments_lexer": "ipython3",
   "version": "3.12.4"
  }
 },
 "nbformat": 4,
 "nbformat_minor": 5
}
