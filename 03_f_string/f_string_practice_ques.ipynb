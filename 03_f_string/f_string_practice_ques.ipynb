{
 "cells": [
  {
   "cell_type": "markdown",
   "metadata": {},
   "source": [
    "### Q1. Create an f-string that calculates and displays the area of a rectangle with given length and width."
   ]
  },
  {
   "cell_type": "code",
   "execution_count": 4,
   "metadata": {},
   "outputs": [
    {
     "name": "stdout",
     "output_type": "stream",
     "text": [
      "The area of the rectangle with length `23` and width `34` is `782`.\n"
     ]
    }
   ],
   "source": [
    "length : int = 23\n",
    "\n",
    "width : int = 34\n",
    "\n",
    "area : int = length * width\n",
    "\n",
    "print(f\"The area of the rectangle with length `{length}` and width `{width}` is `{area}`.\")"
   ]
  },
  {
   "cell_type": "markdown",
   "metadata": {},
   "source": [
    "### Q2. Use an f-string to display the result of a mathematical expression involving variables."
   ]
  },
  {
   "cell_type": "code",
   "execution_count": 18,
   "metadata": {},
   "outputs": [
    {
     "name": "stdout",
     "output_type": "stream",
     "text": [
      "The result of the expression with x 4 and y 8 is `76`.\n"
     ]
    }
   ],
   "source": [
    "x : int = 4\n",
    "y : int = 8\n",
    "\n",
    "result = x + y + 2 * x * y\n",
    "\n",
    "print(f\"The result of the expression with x {x} and y {y} is `{result}`.\")"
   ]
  },
  {
   "cell_type": "markdown",
   "metadata": {},
   "source": [
    "### Q3. Write an f-string to format a date in the format \"YYYY-MM-DD\"."
   ]
  },
  {
   "cell_type": "code",
   "execution_count": 31,
   "metadata": {},
   "outputs": [
    {
     "name": "stdout",
     "output_type": "stream",
     "text": [
      "The current date is : 2024-03-03.\n"
     ]
    }
   ],
   "source": [
    "# for current date\n",
    "from datetime import datetime\n",
    "\n",
    "date = datetime.now()\n",
    "\n",
    "formatted_date = f\"{date.year}-{date.month:02d}-{date.day:02d}\"\n",
    "\n",
    "print(f\"The current date is : {formatted_date}.\")"
   ]
  },
  {
   "cell_type": "code",
   "execution_count": 32,
   "metadata": {},
   "outputs": [
    {
     "name": "stdout",
     "output_type": "stream",
     "text": [
      "The formatted date is: 2023-01-15\n"
     ]
    }
   ],
   "source": [
    "# user defined date\n",
    "from datetime import datetime\n",
    "\n",
    "# Assuming the date is January 15, 2023\n",
    "date = datetime(2023, 1, 15)\n",
    "\n",
    "formatted_date = f\"{date.year}-{date.month:02d}-{date.day:02d}\"\n",
    "\n",
    "print(f\"The formatted date is: {formatted_date}\")"
   ]
  },
  {
   "cell_type": "markdown",
   "metadata": {},
   "source": [
    "### Q3. Create an f-string that displays a floating-point number with two decimal places."
   ]
  },
  {
   "cell_type": "code",
   "execution_count": 33,
   "metadata": {},
   "outputs": [
    {
     "name": "stdout",
     "output_type": "stream",
     "text": [
      "The formatted number is: 123.46\n"
     ]
    }
   ],
   "source": [
    "number = 123.456789\n",
    "\n",
    "# This is a format specifier within the f-string. It indicates that the number variable should be formatted as a floating-point number (f) with two decimal places (.2).\n",
    "\n",
    "formatted_number = f\"{number:.2f}\"\n",
    "\n",
    "print(f\"The formatted number is: {formatted_number}\")"
   ]
  },
  {
   "cell_type": "code",
   "execution_count": 34,
   "metadata": {},
   "outputs": [
    {
     "name": "stdout",
     "output_type": "stream",
     "text": [
      "The number obtained after formating is 235.560\n"
     ]
    }
   ],
   "source": [
    "number_1 : int = 235.55998\n",
    "\n",
    "formated_numb = f\"{number_1:.3f}\"\n",
    "\n",
    "print(f\"The number obtained after formating is {formated_numb}\")"
   ]
  },
  {
   "cell_type": "markdown",
   "metadata": {},
   "source": [
    "### Q5. Use an f-string to display a sentence with a variable inserted at a specific position."
   ]
  },
  {
   "cell_type": "code",
   "execution_count": 35,
   "metadata": {},
   "outputs": [
    {
     "name": "stdout",
     "output_type": "stream",
     "text": [
      "Hello! Abdul Qadir welcome to the world of innovation\n"
     ]
    }
   ],
   "source": [
    "name : str =\"Abdul Qadir\"\n",
    "\n",
    "print(f\"Hello! {name} welcome to the world of innovation\")"
   ]
  },
  {
   "cell_type": "markdown",
   "metadata": {},
   "source": [
    "### Q6. Write an f-string to display the result of a Boolean expression."
   ]
  },
  {
   "cell_type": "code",
   "execution_count": 36,
   "metadata": {},
   "outputs": [
    {
     "name": "stdout",
     "output_type": "stream",
     "text": [
      "The boolean result of `x < y` is True\n"
     ]
    }
   ],
   "source": [
    "x : int = 6\n",
    "y : int = 10\n",
    "\n",
    "result = x < y\n",
    "\n",
    "print(f\"The boolean result of `x < y` is {result}\")"
   ]
  },
  {
   "cell_type": "markdown",
   "metadata": {},
   "source": [
    "### Q7. Create an f-string that formats a list of items with commas and an \"and\" before the last item."
   ]
  },
  {
   "cell_type": "code",
   "execution_count": 37,
   "metadata": {},
   "outputs": [
    {
     "name": "stdout",
     "output_type": "stream",
     "text": [
      "apple, banana, orange, and grape\n"
     ]
    }
   ],
   "source": [
    "items = ['apple', 'banana', 'orange', 'grape'] # list of items\n",
    "\n",
    "formatted_list = f\"{', '.join(items[:-1])}, and {items[-1]}\"\n",
    "print(formatted_list)"
   ]
  },
  {
   "cell_type": "markdown",
   "metadata": {},
   "source": [
    "### Q8. Use an f-string to display the result of iterating over a dictionary's key-value pairs."
   ]
  },
  {
   "cell_type": "code",
   "execution_count": 40,
   "metadata": {},
   "outputs": [
    {
     "name": "stdout",
     "output_type": "stream",
     "text": [
      "Key: 1, Value: a\n",
      "Key: 2, Value: b\n",
      "Key: 3, Value: c\n"
     ]
    }
   ],
   "source": [
    "my_dict = {'a': 1, 'b': 2, 'c': 3}\n",
    "\n",
    "for key,value in my_dict.items():\n",
    "    print(f\"Key: {key}, Value: {value}\")"
   ]
  },
  {
   "cell_type": "markdown",
   "metadata": {},
   "source": [
    "### Q9. Write an f-string that displays a multiline string with proper indentation."
   ]
  },
  {
   "cell_type": "code",
   "execution_count": 41,
   "metadata": {},
   "outputs": [
    {
     "name": "stdout",
     "output_type": "stream",
     "text": [
      "\n",
      "    This is a multiline string\n",
      "    It spans across multiple lines\n",
      "    It can contain any text\n",
      "\n"
     ]
    }
   ],
   "source": [
    "multiline_string = f\"\"\"\n",
    "    This is a multiline string\n",
    "    It spans across multiple lines\n",
    "    It can contain any text\n",
    "\"\"\"\n",
    "\n",
    "print(multiline_string)"
   ]
  }
 ],
 "metadata": {
  "kernelspec": {
   "display_name": "python_twelve",
   "language": "python",
   "name": "python3"
  },
  "language_info": {
   "codemirror_mode": {
    "name": "ipython",
    "version": 3
   },
   "file_extension": ".py",
   "mimetype": "text/x-python",
   "name": "python",
   "nbconvert_exporter": "python",
   "pygments_lexer": "ipython3",
   "version": "3.12.2"
  }
 },
 "nbformat": 4,
 "nbformat_minor": 2
}
