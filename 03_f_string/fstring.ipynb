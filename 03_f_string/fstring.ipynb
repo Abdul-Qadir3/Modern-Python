{
 "cells": [
  {
   "cell_type": "markdown",
   "metadata": {},
   "source": [
    "# String DataType in python\n",
    "- In Python, the `str` data type is used to represent a sequence of characters.\n",
    "- `Sequence/Collection` of a character is called `string`\n",
    "- In `NLP or LLMs` everything in the form of string"
   ]
  },
  {
   "cell_type": "code",
   "execution_count": 2,
   "metadata": {},
   "outputs": [
    {
     "name": "stdout",
     "output_type": "stream",
     "text": [
      "<class 'str'>\n",
      "Abdul Qadir\n"
     ]
    }
   ],
   "source": [
    "# Boundries 'string text',\"string text\",'''string text'''\n",
    "# Backticks `` used in typescript to define multi line string \n",
    "# pep8 python naming convention for function and variable name is lowercase with words separated by underscores.\n",
    "\n",
    "# Variable boundries are defined \"string text\", 'string text', '''string text''', \"\"\"ArithmeticError\"\"\"\n",
    "\n",
    "name : str = \"Abdul Qadir\" # variable with double quotes\n",
    "\n",
    "print(type(name))\n",
    "\n",
    "print(name)\n"
   ]
  },
  {
   "cell_type": "code",
   "execution_count": 10,
   "metadata": {},
   "outputs": [
    {
     "data": {
      "text/plain": [
       "\"PIAIC Student card's\""
      ]
     },
     "execution_count": 10,
     "metadata": {},
     "output_type": "execute_result"
    }
   ],
   "source": [
    "#conver any special character into charcter, place \\ before char\n",
    "\n",
    "message : str = 'PIAIC Student card\\'s' #\n",
    "\n",
    "message"
   ]
  },
  {
   "cell_type": "code",
   "execution_count": 14,
   "metadata": {},
   "outputs": [
    {
     "name": "stdout",
     "output_type": "stream",
     "text": [
      "PIAIC Student card's \n",
      "Father's name\n"
     ]
    }
   ],
   "source": [
    "messag : str = \"PIAIC Student card's \\nFather\\'s name\"\n",
    "print(messag)"
   ]
  },
  {
   "cell_type": "code",
   "execution_count": 16,
   "metadata": {},
   "outputs": [
    {
     "data": {
      "text/plain": [
       "'PIAIC \"Student card\\'s\" fathers name'"
      ]
     },
     "execution_count": 16,
     "metadata": {},
     "output_type": "execute_result"
    }
   ],
   "source": [
    "# convert any special character into simple character, by simply placing \"\\\" before character\n",
    "messag : str = 'PIAIC \"Student card\\'s\" fathers name'\n",
    "messag "
   ]
  },
  {
   "cell_type": "code",
   "execution_count": 20,
   "metadata": {},
   "outputs": [
    {
     "ename": "TypeError",
     "evalue": "can only concatenate str (not \"int\") to str",
     "output_type": "error",
     "traceback": [
      "\u001b[1;31m---------------------------------------------------------------------------\u001b[0m",
      "\u001b[1;31mTypeError\u001b[0m                                 Traceback (most recent call last)",
      "Cell \u001b[1;32mIn[20], line 9\u001b[0m\n\u001b[0;32m      5\u001b[0m education : \u001b[38;5;28mstr\u001b[39m \u001b[38;5;241m=\u001b[39m \u001b[38;5;124m'\u001b[39m\u001b[38;5;124mMS in Data Science\u001b[39m\u001b[38;5;124m'\u001b[39m\n\u001b[0;32m      7\u001b[0m age : \u001b[38;5;28mint\u001b[39m \u001b[38;5;241m=\u001b[39m \u001b[38;5;241m23\u001b[39m\n\u001b[1;32m----> 9\u001b[0m card : \u001b[38;5;28mstr\u001b[39m \u001b[38;5;241m=\u001b[39m \u001b[38;5;124;43m'\u001b[39;49m\u001b[38;5;124;43mPIIC Stnd card\u001b[39;49m\u001b[38;5;130;43;01m\\n\u001b[39;49;00m\u001b[38;5;124;43mName: \u001b[39;49m\u001b[38;5;124;43m'\u001b[39;49m\u001b[43m \u001b[49m\u001b[38;5;241;43m+\u001b[39;49m\u001b[43m \u001b[49m\u001b[43mname\u001b[49m\u001b[43m \u001b[49m\u001b[38;5;241;43m+\u001b[39;49m\u001b[43m \u001b[49m\u001b[38;5;124;43m\"\u001b[39;49m\u001b[38;5;124;43m \u001b[39;49m\u001b[38;5;130;43;01m\\n\u001b[39;49;00m\u001b[38;5;124;43mAge:  \u001b[39;49m\u001b[38;5;124;43m\"\u001b[39;49m\u001b[43m \u001b[49m\u001b[38;5;241;43m+\u001b[39;49m\u001b[43m \u001b[49m\u001b[43mage\u001b[49m \u001b[38;5;66;03m# In concatenation its is requred to have the same data types for all\u001b[39;00m\n\u001b[0;32m     10\u001b[0m \u001b[38;5;66;03m# TypeError: can only concatenate str (not \"int\") to str\u001b[39;00m\n\u001b[0;32m     11\u001b[0m \u001b[38;5;28mprint\u001b[39m(card)\n",
      "\u001b[1;31mTypeError\u001b[0m: can only concatenate str (not \"int\") to str"
     ]
    }
   ],
   "source": [
    "name : str = 'Abdul'\n",
    "\n",
    "fname : str = 'Qadir'\n",
    "\n",
    "education : str = 'MS in Data Science'\n",
    "\n",
    "age : int = 23\n",
    "\n",
    "card : str = 'PIIC Stnd card\\nName: ' + name + \" \\nAge:  \" + age # In concatenation its is requred to have the same data types for all\n",
    "# TypeError: can only concatenate str (not \"int\") to str\n",
    "print(card)"
   ]
  },
  {
   "cell_type": "code",
   "execution_count": 25,
   "metadata": {},
   "outputs": [
    {
     "name": "stdout",
     "output_type": "stream",
     "text": [
      "PIIC Stnd card\n",
      "Name: abdul \n",
      "age:  23\n"
     ]
    }
   ],
   "source": [
    "name : str = 'abdul'\n",
    "fname : str = 'qadir'\n",
    "education : str = 'Bachelor in cs'\n",
    "age : int = 23\n",
    "card : str = 'PIIC Stnd card\\nName: ' + name + \" \\nage:  \" + str(age) #convert\\convert to str function to concate\n",
    "#functions are always represented by \"()\"\n",
    "print(card)"
   ]
  },
  {
   "cell_type": "code",
   "execution_count": 26,
   "metadata": {},
   "outputs": [
    {
     "name": "stdout",
     "output_type": "stream",
     "text": [
      "20\n"
     ]
    }
   ],
   "source": [
    "print(5 + \\\n",
    "      6 + \\\n",
    "        9) # line continure using \\ BackSlash"
   ]
  },
  {
   "cell_type": "code",
   "execution_count": 27,
   "metadata": {},
   "outputs": [
    {
     "name": "stdout",
     "output_type": "stream",
     "text": [
      "PIIC Stnd card: \n",
      "Name: abdul \n",
      "Age:  23\n"
     ]
    }
   ],
   "source": [
    "card : str = 'PIIC Stnd card: \\nName: ' + name + \" \\nAge:  \" \\\n",
    "+ str(age) #backslash '\\' used to continue the code from new line\n",
    "print(card)"
   ]
  },
  {
   "cell_type": "markdown",
   "metadata": {},
   "source": [
    "## Define multiline string \"\"\" \"\"\" , ''' '''\n",
    "We can use `triple quote` opening and closing characters to define a `multiline string`."
   ]
  },
  {
   "cell_type": "code",
   "execution_count": 28,
   "metadata": {},
   "outputs": [
    {
     "name": "stdout",
     "output_type": "stream",
     "text": [
      "\n",
      "Student Name : ....\n",
      "Father Name : .....\n",
      "age : ......\n",
      "\n"
     ]
    }
   ],
   "source": [
    "card : str = \"\"\"\n",
    "Student Name : ....\n",
    "Father Name : .....\n",
    "age : ......\n",
    "\"\"\"\n",
    "print(card)"
   ]
  },
  {
   "cell_type": "code",
   "execution_count": 9,
   "metadata": {},
   "outputs": [
    {
     "name": "stdout",
     "output_type": "stream",
     "text": [
      "\n",
      "Student Name : ....\n",
      "Father Name : .....\n",
      "age : ......\n",
      "Address : ......\n",
      "City : ......\n",
      "State : ......\n",
      "Country : ......\n",
      "Phone Number : ......\n",
      "Email : ......\n",
      "Date of Birth : ......\n",
      "Gender : ......\n",
      "Caste : ......\n",
      "Religion : ......\n",
      "\n"
     ]
    }
   ],
   "source": [
    "card : str ='''\n",
    "Student Name : ....\n",
    "Father Name : .....\n",
    "age : ......\n",
    "Address : ......\n",
    "City : ......\n",
    "State : ......\n",
    "Country : ......\n",
    "Phone Number : ......\n",
    "Email : ......\n",
    "Date of Birth : ......\n",
    "Gender : ......\n",
    "Caste : ......\n",
    "Religion : ......\n",
    "'''\n",
    "print(card)"
   ]
  },
  {
   "cell_type": "markdown",
   "metadata": {},
   "source": [
    "## <b><i>F-string is the</i></b> <u>`Most powerfull feature/tool in python`</u>\n",
    "### 1. What is f-string?\n",
    "It provides an `easy and readable way` to `embed` expressions inside `string literals`. The `f-string` prefix is the lowercase letter `'f'` and assign variable in `{}`."
   ]
  },
  {
   "cell_type": "code",
   "execution_count": 32,
   "metadata": {},
   "outputs": [
    {
     "name": "stdout",
     "output_type": "stream",
     "text": [
      "\n",
      "Student Name : Abdul\n",
      "Father Name : Qadir\n",
      "Age : 23\n",
      "total : 17\n",
      "\n"
     ]
    }
   ],
   "source": [
    "name : str = 'Abdul'\n",
    "fname : str = 'Qadir'\n",
    "Age : int = 23\n",
    "\n",
    "# Using f-string We donot need type casting as it automatically takes care of the data types.\n",
    "# solves all the type casting issues\n",
    "    \n",
    "card : str = f\"\"\"\n",
    "Student Name : {name}\n",
    "Father Name : {fname}\n",
    "Age : {Age}\n",
    "total : {2+4+5+6}\n",
    "\"\"\" # can be on triple code\n",
    "print(card)"
   ]
  },
  {
   "cell_type": "code",
   "execution_count": 11,
   "metadata": {},
   "outputs": [
    {
     "name": "stdout",
     "output_type": "stream",
     "text": [
      "2 + 3 = 5\n"
     ]
    }
   ],
   "source": [
    "# Using f-string with expression inside\n",
    "print(f\"2 + 3 = {2 + 3}\")"
   ]
  },
  {
   "cell_type": "markdown",
   "metadata": {},
   "source": [
    "## `F-string and Jinja Style`\n",
    "- We do formating using these two styles\n",
    "- `jinja` uses two curly braces\n",
    "- ``Jinja`` is used in web development in `Django`"
   ]
  },
  {
   "cell_type": "code",
   "execution_count": 34,
   "metadata": {},
   "outputs": [
    {
     "data": {
      "text/plain": [
       "'\\nstudent Name {{name}}\\n'"
      ]
     },
     "execution_count": 34,
     "metadata": {},
     "output_type": "execute_result"
    }
   ],
   "source": [
    "#jinja uses two curly braces\n",
    "\"\"\"\n",
    "student Name {{name}}\n",
    "\"\"\""
   ]
  },
  {
   "cell_type": "code",
   "execution_count": 35,
   "metadata": {},
   "outputs": [
    {
     "data": {
      "text/plain": [
       "'\\nstudent Name abdul\\n'"
      ]
     },
     "execution_count": 35,
     "metadata": {},
     "output_type": "execute_result"
    }
   ],
   "source": [
    "# f string\n",
    "f\"\"\"\n",
    "student Name {name}\n",
    "\"\"\""
   ]
  },
  {
   "cell_type": "markdown",
   "metadata": {},
   "source": [
    "## `Concatenation` using PLACEOLDERS\n"
   ]
  },
  {
   "cell_type": "code",
   "execution_count": 39,
   "metadata": {},
   "outputs": [
    {
     "name": "stdout",
     "output_type": "stream",
     "text": [
      "\n",
      "Student Name : abdul\n",
      "Father Name : qadir\n",
      "Age : 23\n",
      "Education : Masters in computer science\n",
      "\n"
     ]
    }
   ],
   "source": [
    "# concatenation using PLACEOLDERS\n",
    "name : str = 'abdul'\n",
    "fname : str = 'qadir'\n",
    "Age : int = 23\n",
    "education : str = 'Masters in computer science'\n",
    "# %s for string %d for number \n",
    "\n",
    "Card : str = f\"\"\"\n",
    "Student Name : %s\n",
    "Father Name : %s\n",
    "Age : %d\n",
    "Education : %s\n",
    "\"\"\" % (name, fname,age,education) # using  index for the above\n",
    "\n",
    "print(Card)"
   ]
  },
  {
   "cell_type": "code",
   "execution_count": 40,
   "metadata": {},
   "outputs": [
    {
     "data": {
      "text/plain": [
       "['__add__',\n",
       " '__class__',\n",
       " '__contains__',\n",
       " '__delattr__',\n",
       " '__dir__',\n",
       " '__doc__',\n",
       " '__eq__',\n",
       " '__format__',\n",
       " '__ge__',\n",
       " '__getattribute__',\n",
       " '__getitem__',\n",
       " '__getnewargs__',\n",
       " '__getstate__',\n",
       " '__gt__',\n",
       " '__hash__',\n",
       " '__init__',\n",
       " '__init_subclass__',\n",
       " '__iter__',\n",
       " '__le__',\n",
       " '__len__',\n",
       " '__lt__',\n",
       " '__mod__',\n",
       " '__mul__',\n",
       " '__ne__',\n",
       " '__new__',\n",
       " '__reduce__',\n",
       " '__reduce_ex__',\n",
       " '__repr__',\n",
       " '__rmod__',\n",
       " '__rmul__',\n",
       " '__setattr__',\n",
       " '__sizeof__',\n",
       " '__str__',\n",
       " '__subclasshook__',\n",
       " 'capitalize',\n",
       " 'casefold',\n",
       " 'center',\n",
       " 'count',\n",
       " 'encode',\n",
       " 'endswith',\n",
       " 'expandtabs',\n",
       " 'find',\n",
       " 'format',\n",
       " 'format_map',\n",
       " 'index',\n",
       " 'isalnum',\n",
       " 'isalpha',\n",
       " 'isascii',\n",
       " 'isdecimal',\n",
       " 'isdigit',\n",
       " 'isidentifier',\n",
       " 'islower',\n",
       " 'isnumeric',\n",
       " 'isprintable',\n",
       " 'isspace',\n",
       " 'istitle',\n",
       " 'isupper',\n",
       " 'join',\n",
       " 'ljust',\n",
       " 'lower',\n",
       " 'lstrip',\n",
       " 'maketrans',\n",
       " 'partition',\n",
       " 'removeprefix',\n",
       " 'removesuffix',\n",
       " 'replace',\n",
       " 'rfind',\n",
       " 'rindex',\n",
       " 'rjust',\n",
       " 'rpartition',\n",
       " 'rsplit',\n",
       " 'rstrip',\n",
       " 'split',\n",
       " 'splitlines',\n",
       " 'startswith',\n",
       " 'strip',\n",
       " 'swapcase',\n",
       " 'title',\n",
       " 'translate',\n",
       " 'upper',\n",
       " 'zfill']"
      ]
     },
     "execution_count": 40,
     "metadata": {},
     "output_type": "execute_result"
    }
   ],
   "source": [
    "dir(str) # gives methods and attribues of this class \"str\""
   ]
  },
  {
   "cell_type": "code",
   "execution_count": 41,
   "metadata": {},
   "outputs": [
    {
     "data": {
      "text/plain": [
       "['capitalize',\n",
       " 'casefold',\n",
       " 'center',\n",
       " 'count',\n",
       " 'encode',\n",
       " 'endswith',\n",
       " 'expandtabs',\n",
       " 'find',\n",
       " 'format',\n",
       " 'format_map',\n",
       " 'index',\n",
       " 'isalnum',\n",
       " 'isalpha',\n",
       " 'isascii',\n",
       " 'isdecimal',\n",
       " 'isdigit',\n",
       " 'isidentifier',\n",
       " 'islower',\n",
       " 'isnumeric',\n",
       " 'isprintable',\n",
       " 'isspace',\n",
       " 'istitle',\n",
       " 'isupper',\n",
       " 'join',\n",
       " 'ljust',\n",
       " 'lower',\n",
       " 'lstrip',\n",
       " 'maketrans',\n",
       " 'partition',\n",
       " 'removeprefix',\n",
       " 'removesuffix',\n",
       " 'replace',\n",
       " 'rfind',\n",
       " 'rindex',\n",
       " 'rjust',\n",
       " 'rpartition',\n",
       " 'rsplit',\n",
       " 'rstrip',\n",
       " 'split',\n",
       " 'splitlines',\n",
       " 'startswith',\n",
       " 'strip',\n",
       " 'swapcase',\n",
       " 'title',\n",
       " 'translate',\n",
       " 'upper',\n",
       " 'zfill']"
      ]
     },
     "execution_count": 41,
     "metadata": {},
     "output_type": "execute_result"
    }
   ],
   "source": [
    "#list comprehensive using for loop\n",
    "[i for i in dir(str) if \"__\" not in i] # gives all sring methods and attributes"
   ]
  },
  {
   "cell_type": "code",
   "execution_count": 47,
   "metadata": {},
   "outputs": [
    {
     "name": "stdout",
     "output_type": "stream",
     "text": [
      "Abdul qadir\n",
      "False\n",
      "ABDUL QADIR\n"
     ]
    }
   ],
   "source": [
    "name : str = \"AbDul QADir\" # we are note following the Case of Characters\n",
    "# Apply sring methods and attributes\n",
    "print(name.capitalize())\n",
    "print(name.islower())\n",
    "print(name.upper())"
   ]
  },
  {
   "cell_type": "code",
   "execution_count": 2,
   "metadata": {},
   "outputs": [
    {
     "data": {
      "text/plain": [
       "'pakistan value a=7 and vale b=8'"
      ]
     },
     "execution_count": 2,
     "metadata": {},
     "output_type": "execute_result"
    }
   ],
   "source": [
    "a = 7\n",
    "b = 8\n",
    "# \"{}\" this curly braces is called place holder\n",
    "\n",
    "#index            0              1\n",
    "\"pakistan value a={} and vale b={}\".format(a,b)# using indexes `.format` is also a form of `f-string`"
   ]
  },
  {
   "cell_type": "code",
   "execution_count": 4,
   "metadata": {},
   "outputs": [
    {
     "name": "stdout",
     "output_type": "stream",
     "text": [
      "\n",
      "Student Name : abdul\n",
      "Father Name : qadir\n",
      "Age : 23\n",
      "\n"
     ]
    }
   ],
   "source": [
    "# concatenation using PLACEOLDERS\n",
    "name : str = 'abdul'\n",
    "fname : str = 'qadir'\n",
    "age : int = 23\n",
    "#using index by choices\n",
    "card : str = \"\"\"\n",
    "Student Name : {}\n",
    "Father Name : {}\n",
    "Age : {}\n",
    "\"\"\".format(name, fname,age) # using  index for the above. Indexing positioning matters in this scenerio\n",
    "#           0     1     2\n",
    "\n",
    "print(card)"
   ]
  },
  {
   "cell_type": "code",
   "execution_count": 49,
   "metadata": {},
   "outputs": [
    {
     "name": "stdout",
     "output_type": "stream",
     "text": [
      "\n",
      "Student Name : abdul\n",
      "Father Name : qadir\n",
      "Age : 23\n",
      "\n"
     ]
    }
   ],
   "source": [
    "# concatenation using PLACEOLDERS\n",
    "name : str = 'abdul'\n",
    "fname : str = 'qadir'\n",
    "Age : int = 23\n",
    "#using index by choices\n",
    "card : str = \"\"\"\n",
    "Student Name : {0}\n",
    "Father Name : {2}\n",
    "Age : {1}\n",
    "\"\"\".format(name,age, fname) # using  index for the above in the `place holders`\n",
    "#           0     1     2\n",
    "\n",
    "print(card)"
   ]
  },
  {
   "cell_type": "code",
   "execution_count": 5,
   "metadata": {},
   "outputs": [
    {
     "name": "stdout",
     "output_type": "stream",
     "text": [
      "\n",
      "Student Name : abdul\n",
      "Father Name : qadir\n",
      "Age : 23\n",
      "\n"
     ]
    }
   ],
   "source": [
    "# concatenation using PLACEOLDERS\n",
    "name : str = 'abdul'\n",
    "fname : str = 'qadir'\n",
    "Age : int = 23\n",
    "#using key value argument by choices as placeholders\n",
    "card : str = \"\"\"\n",
    "Student Name : {a}\n",
    "Father Name : {b}\n",
    "Age : {c}\n",
    "\"\"\".format(a=name, b=fname,c=age) # using  index as self assigned in place holders as (a,b,c)\n",
    "#           0          1     2\n",
    "\n",
    "print(card)"
   ]
  },
  {
   "cell_type": "code",
   "execution_count": 6,
   "metadata": {},
   "outputs": [
    {
     "name": "stdout",
     "output_type": "stream",
     "text": [
      "My name is Abdul\n",
      "16\n"
     ]
    }
   ],
   "source": [
    "# Interpret code fro the string\n",
    "student_code : str = \"\"\"\n",
    "print(\"My name is Abdul\")\n",
    "a : int = 7\n",
    "b : int = 9\n",
    "print(a+b)\n",
    "\"\"\"\n",
    "exec(student_code) # execute the code in the quotations"
   ]
  },
  {
   "cell_type": "markdown",
   "metadata": {},
   "source": [
    "## Exsplore string methodes and attributes\n",
    "Predefined global functions we have used\n",
    "- print\n",
    "- type\n",
    "- id\n",
    "- len\n",
    "- dir\n"
   ]
  },
  {
   "cell_type": "code",
   "execution_count": 12,
   "metadata": {},
   "outputs": [
    {
     "name": "stdout",
     "output_type": "stream",
     "text": [
      "['capitalize', 'casefold', 'center', 'count', 'encode', 'endswith', 'expandtabs', 'find', 'format', 'format_map', 'index', 'isalnum', 'isalpha', 'isascii', 'isdecimal', 'isdigit', 'isidentifier', 'islower', 'isnumeric', 'isprintable', 'isspace', 'istitle', 'isupper', 'join', 'ljust', 'lower', 'lstrip', 'maketrans', 'partition', 'removeprefix', 'removesuffix', 'replace', 'rfind', 'rindex', 'rjust', 'rpartition', 'rsplit', 'rstrip', 'split', 'splitlines', 'startswith', 'strip', 'swapcase', 'title', 'translate', 'upper', 'zfill']\n",
      "2076979558016\n",
      "<class 'list'>\n",
      "47\n"
     ]
    }
   ],
   "source": [
    "a : list[str] = [i for i in dir(str) if \"__\" not in i] \n",
    "print(a)\n",
    "print(id(a))\n",
    "print(type(a))\n",
    "print(len(a))"
   ]
  },
  {
   "cell_type": "code",
   "execution_count": 20,
   "metadata": {},
   "outputs": [
    {
     "data": {
      "text/plain": [
       "'         aBdul     Qadir      '"
      ]
     },
     "metadata": {},
     "output_type": "display_data"
    },
    {
     "data": {
      "text/plain": [
       "'         abdul     qadir      '"
      ]
     },
     "metadata": {},
     "output_type": "display_data"
    },
    {
     "data": {
      "text/plain": [
       "'         abdul     qadir      '"
      ]
     },
     "metadata": {},
     "output_type": "display_data"
    },
    {
     "data": {
      "text/plain": [
       "'aBdul     Qadir      '"
      ]
     },
     "metadata": {},
     "output_type": "display_data"
    },
    {
     "data": {
      "text/plain": [
       "'         aBdul     Qadir'"
      ]
     },
     "metadata": {},
     "output_type": "display_data"
    },
    {
     "data": {
      "text/plain": [
       "'aBdul     Qadir'"
      ]
     },
     "metadata": {},
     "output_type": "display_data"
    }
   ],
   "source": [
    "# some methods take arguments some not\n",
    "#variable_name.method()\n",
    "name : str = \"         aBdul     Qadir      \"  #with spacing\n",
    "display(name)\n",
    "display(name.capitalize())#all small\n",
    "display(name.casefold())#all small\n",
    "display(name.lstrip())# remove spacing from left side\n",
    "display(name.rstrip())# remove spacing from right side\n",
    "display(name.strip())# remove spacing from all side"
   ]
  },
  {
   "cell_type": "markdown",
   "metadata": {},
   "source": [
    "### Remove all extra spaces using regex\n",
    "\n",
    "In sub: `subtitute` consist of three things \\ `patten` \\ `replacement` \\ `variable` name"
   ]
  },
  {
   "cell_type": "code",
   "execution_count": 22,
   "metadata": {},
   "outputs": [],
   "source": [
    "import re"
   ]
  },
  {
   "cell_type": "code",
   "execution_count": 24,
   "metadata": {},
   "outputs": [
    {
     "data": {
      "text/plain": [
       "'      Abdul      Qadir      '"
      ]
     },
     "metadata": {},
     "output_type": "display_data"
    },
    {
     "data": {
      "text/plain": [
       "'Abdul Qadir'"
      ]
     },
     "metadata": {},
     "output_type": "display_data"
    }
   ],
   "source": [
    "# remove all extra spaces using regex \n",
    "\n",
    "import re\n",
    "\n",
    "name : str = \"      Abdul      Qadir      \"\n",
    "display(name)\n",
    "\n",
    "name1 : str = re.sub(' {2,100}',' ',name).strip() #in sub `subtitute` consist of three things \\ patten \\ replacement \\ variable name\n",
    "# ' {2,100}' removing one two to 100 spaces in the text\n",
    "#adding strip canmake it a chaining rule\n",
    "display(name1)"
   ]
  },
  {
   "cell_type": "markdown",
   "metadata": {},
   "source": [
    "### Special meaning characters\n",
    "- \\n, (line change)\n",
    "- \\b, ()\n",
    "- \\t  (tab:extra space)"
   ]
  },
  {
   "cell_type": "code",
   "execution_count": 29,
   "metadata": {},
   "outputs": [
    {
     "name": "stdout",
     "output_type": "stream",
     "text": [
      "Name : \n",
      "\n",
      " Abdul Qadir\n",
      "Name : \n",
      "Abdul Qadir\n"
     ]
    }
   ],
   "source": [
    "print(\"Name : \\n\\n Abdul Qadir\")\n",
    "print(\"Name : \\nAbdul Qadir\")"
   ]
  },
  {
   "cell_type": "code",
   "execution_count": 26,
   "metadata": {},
   "outputs": [
    {
     "name": "stdout",
     "output_type": "stream",
     "text": [
      "Name  Abdul Qadir\n"
     ]
    }
   ],
   "source": [
    "print(\"Name :\\b Abdul Qadir\")"
   ]
  },
  {
   "cell_type": "code",
   "execution_count": 28,
   "metadata": {},
   "outputs": [
    {
     "name": "stdout",
     "output_type": "stream",
     "text": [
      "Name : \t\t Abdul Qadir\n"
     ]
    }
   ],
   "source": [
    "print(\"Name : \\t\\t Abdul Qadir\")"
   ]
  },
  {
   "cell_type": "markdown",
   "metadata": {},
   "source": [
    "### Remove prefix"
   ]
  },
  {
   "cell_type": "code",
   "execution_count": 32,
   "metadata": {},
   "outputs": [
    {
     "data": {
      "text/plain": [
       "'www.google.com'"
      ]
     },
     "execution_count": 32,
     "metadata": {},
     "output_type": "execute_result"
    }
   ],
   "source": [
    "google_url : str = 'https://www.google.com'\n",
    "google_url.removeprefix('https://')"
   ]
  },
  {
   "cell_type": "markdown",
   "metadata": {},
   "source": [
    "### Remove suffixe"
   ]
  },
  {
   "cell_type": "code",
   "execution_count": 33,
   "metadata": {},
   "outputs": [
    {
     "data": {
      "text/plain": [
       "'https://www.google'"
      ]
     },
     "execution_count": 33,
     "metadata": {},
     "output_type": "execute_result"
    }
   ],
   "source": [
    "google_url.removesuffix(\".com\")"
   ]
  }
 ],
 "metadata": {
  "kernelspec": {
   "display_name": "modern_py",
   "language": "python",
   "name": "python3"
  },
  "language_info": {
   "codemirror_mode": {
    "name": "ipython",
    "version": 3
   },
   "file_extension": ".py",
   "mimetype": "text/x-python",
   "name": "python",
   "nbconvert_exporter": "python",
   "pygments_lexer": "ipython3",
   "version": "3.12.2"
  }
 },
 "nbformat": 4,
 "nbformat_minor": 2
}
