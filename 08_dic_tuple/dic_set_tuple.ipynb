{
 "cells": [
  {
   "cell_type": "code",
   "execution_count": 3,
   "metadata": {},
   "outputs": [],
   "source": [
    "# list\n",
    "names : list[str] = [\"abdul\", \"qadir\" , \"education\"] # values stored in the form of index"
   ]
  },
  {
   "cell_type": "code",
   "execution_count": 4,
   "metadata": {},
   "outputs": [
    {
     "name": "stdout",
     "output_type": "stream",
     "text": [
      "{1, 2, 3, 8, 9}\n"
     ]
    }
   ],
   "source": [
    "#set \n",
    "data : set = {2,3,1,1,1,9,8}# indexing is not applicable on ste datatype\n",
    "# print(data[0]) # will return error\n",
    "print(data) #returns unique and in order"
   ]
  },
  {
   "cell_type": "markdown",
   "metadata": {},
   "source": [
    "# Dictionary\n",
    "* key:value (pair of items)\n",
    "  * `key` is the replacement of indexes\n",
    "  * `value` (item)\n",
    "\n",
    "* To extract onformation from dictionary\n",
    "  * dict_var[key]\n",
    "\n",
    "* Add new value\n",
    "* Update new value\n",
    "  * dict_var[new_key] = new_values"
   ]
  },
  {
   "cell_type": "code",
   "execution_count": 6,
   "metadata": {},
   "outputs": [
    {
     "data": {
      "text/plain": [
       "{'Fname': 'M.Zakria', 'Name': 'Abdul Qadir', 'Education': 'MSDS'}"
      ]
     },
     "metadata": {},
     "output_type": "display_data"
    }
   ],
   "source": [
    "# dictionary\n",
    "names : dict[str,str] = {\"Fname\":\"M.Zakria\", \n",
    "                         \"Name\":\"Abdul Qadir\" , \n",
    "                         \"Education\":\"MSDS\"\n",
    "                         } \n",
    "display(names)"
   ]
  },
  {
   "cell_type": "code",
   "execution_count": 15,
   "metadata": {},
   "outputs": [
    {
     "name": "stdout",
     "output_type": "stream",
     "text": [
      "{100: 'Pakistan',\n",
      " 'Education': 'MSDS',\n",
      " 'Fname': 'M.Zakria',\n",
      " 'Name': 'Abdul Qadir',\n",
      " 'abc': (1, 2, 34, 5, 5),\n",
      " 'nested_dic': {'abd': 3, 'asd': 4},\n",
      " 'sddf': {1, 2, 3, 5},\n",
      " 'xyz': [1, 2, 3, 4, 5]}\n",
      "Abdul Qadir\n",
      "M.Zakria\n",
      "MSDS\n"
     ]
    }
   ],
   "source": [
    "from typing import Dict,Union,Optional\n",
    "import pprint\n",
    "\n",
    "key = Union[int,str] # ctreate a custom datatype\n",
    "value = Union[str,list,int,tuple,dict,set]\n",
    "# dictionary\n",
    "names : dict[key,value] = {\"Fname\":\"M.Zakria\", \n",
    "                         \"Name\":\"Abdul Qadir\" , \n",
    "                         \"Education\":\"MSDS\",\n",
    "                         100: \"Pakistan\",\n",
    "                         \"xyz\": [1,2,3,4,5], # List\n",
    "                         \"abc\": (1,2,34,5,5), # Tuple\n",
    "                         \"sddf\": {1,2,3,5}, # Set\n",
    "                         \"nested_dic\": {\"abd\":1,\"abd\":3,\"asd\":4}\n",
    "                        #  (100,1,2,3,4,5): \"Pakistan\", # return error for tuple\n",
    "                        #  [100,12,3,2,1]: \"Pakistan\", # return error for list\n",
    "                        # {1,2,3,4} : \"pakistan\", # return error for set\n",
    "                         } \n",
    "pprint.pprint(names) # used to print Json to print it beautifully\n",
    "print(names[\"Name\"])\n",
    "print(names[\"Fname\"])\n",
    "print(names[\"Education\"])\n",
    "# print(names[100])"
   ]
  },
  {
   "cell_type": "code",
   "execution_count": null,
   "metadata": {},
   "outputs": [],
   "source": []
  }
 ],
 "metadata": {
  "kernelspec": {
   "display_name": "modern_py",
   "language": "python",
   "name": "python3"
  },
  "language_info": {
   "codemirror_mode": {
    "name": "ipython",
    "version": 3
   },
   "file_extension": ".py",
   "mimetype": "text/x-python",
   "name": "python",
   "nbconvert_exporter": "python",
   "pygments_lexer": "ipython3",
   "version": "3.12.0"
  }
 },
 "nbformat": 4,
 "nbformat_minor": 2
}
