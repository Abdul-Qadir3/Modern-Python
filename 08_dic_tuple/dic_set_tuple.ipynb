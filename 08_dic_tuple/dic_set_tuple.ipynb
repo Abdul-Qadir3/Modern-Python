{
 "cells": [
  {
   "cell_type": "code",
   "execution_count": 3,
   "metadata": {},
   "outputs": [],
   "source": [
    "# list\n",
    "names : list[str] = [\"abdul\", \"qadir\" , \"education\"] # values stored in the form of index"
   ]
  },
  {
   "cell_type": "code",
   "execution_count": 4,
   "metadata": {},
   "outputs": [
    {
     "name": "stdout",
     "output_type": "stream",
     "text": [
      "{1, 2, 3, 8, 9}\n"
     ]
    }
   ],
   "source": [
    "#set \n",
    "data : set = {2,3,1,1,1,9,8}# indexing is not applicable on ste datatype\n",
    "# print(data[0]) # will return error\n",
    "print(data) #returns unique and in order"
   ]
  },
  {
   "cell_type": "markdown",
   "metadata": {},
   "source": [
    "# <b>Dictionary\n",
    "* key:value (pair of items)\n",
    "  * `key` is the replacement of indexes\n",
    "  * `value` (item)\n",
    "\n",
    "* To extract information from dictionary\n",
    "  * dict_var[key]\n",
    "\n",
    "* Add new value\n",
    "* Update new value\n",
    "  * dict_var[new_key] = new_values"
   ]
  },
  {
   "cell_type": "code",
   "execution_count": 8,
   "metadata": {},
   "outputs": [
    {
     "data": {
      "text/plain": [
       "{'Fname': 'M.Zakria', 'Name': 'Abdul Qadir', 'Education': 'MSDS'}"
      ]
     },
     "metadata": {},
     "output_type": "display_data"
    }
   ],
   "source": [
    "# dictionary\n",
    "names : dict[str,str] = {\"Fname\":\"M.Zakria\", # key= string , value= string\n",
    "                         \"Name\":\"Abdul Qadir\" , \n",
    "                         \"Education\":\"MSDS\"\n",
    "                         } \n",
    "display(names)"
   ]
  },
  {
   "cell_type": "code",
   "execution_count": 32,
   "metadata": {},
   "outputs": [
    {
     "name": "stdout",
     "output_type": "stream",
     "text": [
      "{100: 'Pakistan',\n",
      " 'Education': 'MSDS',\n",
      " 'Fname': 'M.Zakria',\n",
      " 'Name': 'Abdul Qadir',\n",
      " 'abc': (1, 2, 34, 5, 5),\n",
      " 'nested_dic': {'abd': 3, 'asd': 4},\n",
      " 'nested_dic1': {'abd': 'd', 'add': 3, 'asd': 4},\n",
      " 'sddf': {1, 2, 3, 5},\n",
      " 'xyz': [1, 2, 3, 4, 5]}\n",
      "Abdul Qadir\n",
      "M.Zakria\n",
      "MSDS\n",
      "{'abd': 3, 'asd': 4}\n",
      "d\n",
      "Pakistan\n"
     ]
    }
   ],
   "source": [
    "from typing import Dict,Union,Optional\n",
    "import pprint\n",
    "\n",
    "key = Union[int,str] # ctreate a custom datatype\n",
    "value = Union[str,list,int,tuple,dict,set] # ctreate a custom datatype\n",
    "# dictionary\n",
    "names : dict[key,value] = {\"Fname\":\"M.Zakria\", \n",
    "                         \"Name\":\"Abdul Qadir\" , \n",
    "                         \"Education\":\"MSDS\",\n",
    "                         100: \"Pakistan\",\n",
    "                         \"xyz\": [1,2,3,4,5], # List\n",
    "                         \"abc\": (1,2,34,5,5), # Tuple\n",
    "                         \"sddf\": {1,2,3,5}, # Set\n",
    "                         \"nested_dic\": {\"abd\":1,\"abd\":3,\"asd\":4}, # nested dictionary\n",
    "                         \"nested_dic1\": {\"abd\":\"d\",\"add\":3,\"asd\":4} # nested dictionary\n",
    "                        #  (100,1,2,3,4,5): \"Pakistan\", # return error for tuple\n",
    "                        #  [100,12,3,2,1]: \"Pakistan\", # return error for list\n",
    "                        # {1,2,3,4} : \"pakistan\", # return error for set\n",
    "                         } \n",
    "pprint.pprint(names) # used to print Json to print it beautifully\n",
    "print(names[\"Name\"])\n",
    "print(names[\"Fname\"])\n",
    "print(names[\"Education\"])\n",
    "print(names[\"nested_dic\"])\n",
    "print(names[\"nested_dic1\"][\"abd\"])\n",
    "print(names[100])"
   ]
  },
  {
   "cell_type": "markdown",
   "metadata": {},
   "source": [
    "## <b>SET\n",
    "`Set` is a collection of `unique elements` with no `duplicate` values. Sets are `mutable`, `unordered` collections of elements that are enclosed in curly braces `{}`<br>\n",
    "`Uniqueness:` Sets do not allow duplicate elements. If you try to add an element that already exists in the set, it will not be added again.<br>\n",
    "`Unordered:` Sets are unordered collections, meaning that the elements are not stored in any particular order. Therefore, you cannot access elements in a set by index.<br>\n",
    "`Mutable:` Sets are mutable, meaning that you can add or remove elements from a set after it has been created.<br>\n",
    "`Hashable Elements:` Elements in a set must be hashable, which means they must be immutable objects like numbers, strings, or tuples containing only hashable elements."
   ]
  },
  {
   "cell_type": "code",
   "execution_count": 19,
   "metadata": {},
   "outputs": [
    {
     "name": "stdout",
     "output_type": "stream",
     "text": [
      "{1, 2, 3}\n",
      "[1, 2, 3]\n"
     ]
    }
   ],
   "source": [
    "abc : set = {1,2,3,3,3,3}\n",
    "print(abc)\n",
    "xyz : list[int] = list(abc) #typecast of set\n",
    "print(xyz)"
   ]
  },
  {
   "cell_type": "code",
   "execution_count": 21,
   "metadata": {},
   "outputs": [
    {
     "data": {
      "text/plain": [
       "['add',\n",
       " 'clear',\n",
       " 'copy',\n",
       " 'difference',\n",
       " 'difference_update',\n",
       " 'discard',\n",
       " 'intersection',\n",
       " 'intersection_update',\n",
       " 'isdisjoint',\n",
       " 'issubset',\n",
       " 'issuperset',\n",
       " 'pop',\n",
       " 'remove',\n",
       " 'symmetric_difference',\n",
       " 'symmetric_difference_update',\n",
       " 'union',\n",
       " 'update']"
      ]
     },
     "execution_count": 21,
     "metadata": {},
     "output_type": "execute_result"
    }
   ],
   "source": [
    "# method and attributes for set\n",
    "[i for i in dir(data) if \"__\" not in i]"
   ]
  },
  {
   "cell_type": "markdown",
   "metadata": {},
   "source": [
    "## <b>Hashable and unhashable\n",
    "`Hashable` objects are objects that have a hash value `that does not change over time` and can be used as `keys` in a dictionary or as `elements` in a set <br><br>\n",
    "Hashable objects must be `immutable`.\n",
    "`Unhashable` objects are mutable objects whose value can change over time and cannot be used as keys in a dictionary or as elements in a set.<br><br>\n",
    "`Values` can be any data type like `unhashable and hashable` objects meanwhile `keys` be only `hashable` objects like `integer or string`.<br>"
   ]
  },
  {
   "cell_type": "code",
   "execution_count": 33,
   "metadata": {},
   "outputs": [
    {
     "name": "stdout",
     "output_type": "stream",
     "text": [
      "{'name': 'Abdul Qadir', 'fname': 'Muhammad Z', 'Education': 'MSDS'}\n"
     ]
    }
   ],
   "source": [
    "from typing import Dict,Union,Optional\n",
    "import pprint\n",
    "\n",
    "key = Union[int,str] # ctreate a custom datatype\n",
    "value = Union[str,list,int,tuple,dict,set] # ctreate a custom datatype\n",
    "\n",
    "data : dict[key,value] = {} # we can add key and value to data object\n",
    "\n",
    "data['name'] = \"Abdul Qadir\"\n",
    "data['fname'] = \"Muhammad Z\"\n",
    "data['Education'] = \"MSDS\"\n",
    "\n",
    "print(data)"
   ]
  },
  {
   "cell_type": "code",
   "execution_count": 37,
   "metadata": {},
   "outputs": [
    {
     "name": "stdout",
     "output_type": "stream",
     "text": [
      "{'name': 'Abdul Qadir', 'fname': 'Muhammad Z', 'Education': 'MSDS'}\n",
      "{'name': 'M Asif', 'fname': 'Muhammad Z', 'Education': 'MSDS'}\n"
     ]
    }
   ],
   "source": [
    "from typing import Dict,Union,Optional\n",
    "import pprint\n",
    "\n",
    "key = Union[int,str] # ctreate a custom datatype\n",
    "value = Union[str,list,int,tuple,dict,set] # ctreate a custom datatype\n",
    "\n",
    "data : dict[key,value] = {'name' : \"Abdul Qadir\",\n",
    "                        'fname' : \"Muhammad Z\",\n",
    "                        'Education' : \"MSDS\"} # now want to update any key value\n",
    "\n",
    "print(data)\n",
    "\n",
    "data['name'] = \"M Asif\"\n",
    "\n",
    "print(data)"
   ]
  },
  {
   "cell_type": "code",
   "execution_count": 42,
   "metadata": {},
   "outputs": [
    {
     "name": "stdout",
     "output_type": "stream",
     "text": [
      "{'name': 'Abdul Qadir', 'fname': 'Muhammad Z', 'Education': 'MSDS'}\n",
      "NA\n"
     ]
    },
    {
     "data": {
      "text/plain": [
       "['clear',\n",
       " 'copy',\n",
       " 'fromkeys',\n",
       " 'get',\n",
       " 'items',\n",
       " 'keys',\n",
       " 'pop',\n",
       " 'popitem',\n",
       " 'setdefault',\n",
       " 'update',\n",
       " 'values']"
      ]
     },
     "execution_count": 42,
     "metadata": {},
     "output_type": "execute_result"
    }
   ],
   "source": [
    "from typing import Dict,Union,Optional\n",
    "import pprint\n",
    "\n",
    "key = Union[int,str] # ctreate a custom datatype\n",
    "value = Union[str,list,int,tuple,dict,set] # ctreate a custom datatype\n",
    "\n",
    "data : dict[key,value] = {'name' : \"Abdul Qadir\",\n",
    "                        'fname' : \"Muhammad Z\",\n",
    "                        'Education' : \"MSDS\"} # now want to update any key value\n",
    "\n",
    "print(data)\n",
    "\n",
    "# print(data['pakistan']) # if key is not available it will give error\n",
    "print(data.get('pakistan','NA')) # if key is not available it will not give error using `get function`\n",
    "\n",
    "\n",
    "[i for i in dir(data) if \"__\" not in i] #set methods and fuctionsd"
   ]
  },
  {
   "cell_type": "code",
   "execution_count": 43,
   "metadata": {},
   "outputs": [
    {
     "name": "stdout",
     "output_type": "stream",
     "text": [
      "{'name': 'Abdul Qadir', 'fname': 'Muhammad Z', 'Education': 'MSDS'}\n",
      "name\n",
      "fname\n",
      "Education\n"
     ]
    }
   ],
   "source": [
    "from typing import Dict,Union,Optional\n",
    "import pprint\n",
    "\n",
    "key = Union[int,str] # ctreate a custom datatype\n",
    "value = Union[str,list,int,tuple,dict,set] # ctreate a custom datatype\n",
    "\n",
    "data : dict[key,value] = {'name' : \"Abdul Qadir\",\n",
    "                        'fname' : \"Muhammad Z\",\n",
    "                        'Education' : \"MSDS\"} # now want to update any key value\n",
    "\n",
    "print(data)\n",
    "\n",
    "for d in data:# will give keys\n",
    "    print(d)\n",
    "\n",
    "# [i for i in dir(data) if \"__\" not in i] #set methods and fuctionsd"
   ]
  },
  {
   "cell_type": "code",
   "execution_count": 44,
   "metadata": {},
   "outputs": [
    {
     "name": "stdout",
     "output_type": "stream",
     "text": [
      "dict_keys(['name', 'fname', 'Education'])\n"
     ]
    }
   ],
   "source": [
    "from typing import Dict,Union,Optional\n",
    "import pprint\n",
    "\n",
    "key = Union[int,str] # ctreate a custom datatype\n",
    "value = Union[str,list,int,tuple,dict,set] # ctreate a custom datatype\n",
    "\n",
    "data : dict[key,value] = {'name' : \"Abdul Qadir\",\n",
    "                        'fname' : \"Muhammad Z\",\n",
    "                        'Education' : \"MSDS\"} # now want to update any key value\n",
    "\n",
    "print(data.keys()) # gives keys\n",
    "print(data.values()) #gives values\n",
    "print(data.items()) #gives items of dictionary (combination of keys and values)\n",
    "\n",
    "[i for i in dir(data) if \"__\" not in i] #set methods and fuctionsd"
   ]
  },
  {
   "cell_type": "code",
   "execution_count": 3,
   "metadata": {},
   "outputs": [
    {
     "name": "stdout",
     "output_type": "stream",
     "text": [
      "dict_keys(['name', 'fname', 'Education'])\n",
      "dict_values(['Abdul Qadir', 'Muhammad Z', 'MSDS'])\n",
      "dict_items([('name', 'Abdul Qadir'), ('fname', 'Muhammad Z'), ('Education', 'MSDS')])\n",
      "name Abdul Qadir\n",
      "fname Muhammad Z\n",
      "Education MSDS\n"
     ]
    }
   ],
   "source": [
    "from typing import Dict,Union,Optional\n",
    "import pprint\n",
    "\n",
    "key = Union[int,str] # ctreate a custom datatype\n",
    "value = Union[str,list,int,tuple,dict,set] # ctreate a custom datatype\n",
    "\n",
    "data : dict[key,value] = {'name' : \"Abdul Qadir\",\n",
    "                        'fname' : \"Muhammad Z\",\n",
    "                        'Education' : \"MSDS\"} # now want to update any key value\n",
    "\n",
    "print(data.keys()) # gives keys\n",
    "print(data.values()) #gives values\n",
    "print(data.items()) #gives items of dictionary (combination of keys and values)\n",
    "\n",
    "for k,v in data.items():# unzipping tuple\n",
    "    print(k,v)"
   ]
  },
  {
   "cell_type": "code",
   "execution_count": 4,
   "metadata": {},
   "outputs": [
    {
     "data": {
      "text/plain": [
       "{'name': 'Abdul Qadir', 'fname': 'Muhammad Z', 'Education': 'MSDS'}"
      ]
     },
     "execution_count": 4,
     "metadata": {},
     "output_type": "execute_result"
    }
   ],
   "source": [
    "# dictionary comprehensive for dictionary similarly for list list comprehensive\n",
    "{k:v for k,v in data.items()}"
   ]
  },
  {
   "cell_type": "code",
   "execution_count": 5,
   "metadata": {},
   "outputs": [
    {
     "name": "stdout",
     "output_type": "stream",
     "text": [
      "9 7\n"
     ]
    }
   ],
   "source": [
    "a: int = 7\n",
    "b: int = 9\n",
    "\n",
    "a, b = b , a # shuffling is very powerfull technique in python not available in other languages\n",
    "\n",
    "print(a, b)"
   ]
  },
  {
   "cell_type": "code",
   "execution_count": 6,
   "metadata": {},
   "outputs": [
    {
     "name": "stdout",
     "output_type": "stream",
     "text": [
      "{}\n",
      "{'id': None, 'name': None, 'fname': None, 'course': None}\n"
     ]
    }
   ],
   "source": [
    "keys: list[str] = ['id','name','fname','course']\n",
    "\n",
    "data : dict[key,value] = {}\n",
    "\n",
    "print(data)\n",
    "\n",
    "data = data.fromkeys(keys) # inline changes\n",
    "\n",
    "print(data)"
   ]
  }
 ],
 "metadata": {
  "kernelspec": {
   "display_name": "modern_py",
   "language": "python",
   "name": "python3"
  },
  "language_info": {
   "codemirror_mode": {
    "name": "ipython",
    "version": 3
   },
   "file_extension": ".py",
   "mimetype": "text/x-python",
   "name": "python",
   "nbconvert_exporter": "python",
   "pygments_lexer": "ipython3",
   "version": "3.12.2"
  }
 },
 "nbformat": 4,
 "nbformat_minor": 2
}
