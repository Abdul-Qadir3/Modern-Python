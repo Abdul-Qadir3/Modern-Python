{
 "cells": [
  {
   "cell_type": "code",
   "execution_count": 3,
   "metadata": {},
   "outputs": [],
   "source": [
    "# list\n",
    "names : list[str] = [\"abdul\", \"qadir\" , \"education\"] # values stored in the form of index"
   ]
  },
  {
   "cell_type": "code",
   "execution_count": 4,
   "metadata": {},
   "outputs": [
    {
     "name": "stdout",
     "output_type": "stream",
     "text": [
      "{1, 2, 3, 8, 9}\n"
     ]
    }
   ],
   "source": [
    "#set \n",
    "data : set = {2,3,1,1,1,9,8}# indexing is not applicable on ste datatype\n",
    "# print(data[0]) # will return error\n",
    "print(data) #returns unique and in order"
   ]
  },
  {
   "cell_type": "markdown",
   "metadata": {},
   "source": [
    "# Dictionary\n",
    "* key:value (pair of items)\n",
    "  * `key` is the replacement of indexes\n",
    "  * `value` (item)\n",
    "\n",
    "* To extract information from dictionary\n",
    "  * dict_var[key]\n",
    "\n",
    "* Add new value\n",
    "* Update new value\n",
    "  * dict_var[new_key] = new_values"
   ]
  },
  {
   "cell_type": "code",
   "execution_count": 8,
   "metadata": {},
   "outputs": [
    {
     "data": {
      "text/plain": [
       "{'Fname': 'M.Zakria', 'Name': 'Abdul Qadir', 'Education': 'MSDS'}"
      ]
     },
     "metadata": {},
     "output_type": "display_data"
    }
   ],
   "source": [
    "# dictionary\n",
    "names : dict[str,str] = {\"Fname\":\"M.Zakria\", # key= string , value= string\n",
    "                         \"Name\":\"Abdul Qadir\" , \n",
    "                         \"Education\":\"MSDS\"\n",
    "                         } \n",
    "display(names)"
   ]
  },
  {
   "cell_type": "code",
   "execution_count": 32,
   "metadata": {},
   "outputs": [
    {
     "name": "stdout",
     "output_type": "stream",
     "text": [
      "{100: 'Pakistan',\n",
      " 'Education': 'MSDS',\n",
      " 'Fname': 'M.Zakria',\n",
      " 'Name': 'Abdul Qadir',\n",
      " 'abc': (1, 2, 34, 5, 5),\n",
      " 'nested_dic': {'abd': 3, 'asd': 4},\n",
      " 'nested_dic1': {'abd': 'd', 'add': 3, 'asd': 4},\n",
      " 'sddf': {1, 2, 3, 5},\n",
      " 'xyz': [1, 2, 3, 4, 5]}\n",
      "Abdul Qadir\n",
      "M.Zakria\n",
      "MSDS\n",
      "{'abd': 3, 'asd': 4}\n",
      "d\n",
      "Pakistan\n"
     ]
    }
   ],
   "source": [
    "from typing import Dict,Union,Optional\n",
    "import pprint\n",
    "\n",
    "key = Union[int,str] # ctreate a custom datatype\n",
    "value = Union[str,list,int,tuple,dict,set] # ctreate a custom datatype\n",
    "# dictionary\n",
    "names : dict[key,value] = {\"Fname\":\"M.Zakria\", \n",
    "                         \"Name\":\"Abdul Qadir\" , \n",
    "                         \"Education\":\"MSDS\",\n",
    "                         100: \"Pakistan\",\n",
    "                         \"xyz\": [1,2,3,4,5], # List\n",
    "                         \"abc\": (1,2,34,5,5), # Tuple\n",
    "                         \"sddf\": {1,2,3,5}, # Set\n",
    "                         \"nested_dic\": {\"abd\":1,\"abd\":3,\"asd\":4}, # nested dictionary\n",
    "                         \"nested_dic1\": {\"abd\":\"d\",\"add\":3,\"asd\":4} # nested dictionary\n",
    "                        #  (100,1,2,3,4,5): \"Pakistan\", # return error for tuple\n",
    "                        #  [100,12,3,2,1]: \"Pakistan\", # return error for list\n",
    "                        # {1,2,3,4} : \"pakistan\", # return error for set\n",
    "                         } \n",
    "pprint.pprint(names) # used to print Json to print it beautifully\n",
    "print(names[\"Name\"])\n",
    "print(names[\"Fname\"])\n",
    "print(names[\"Education\"])\n",
    "print(names[\"nested_dic\"])\n",
    "print(names[\"nested_dic1\"][\"abd\"])\n",
    "print(names[100])"
   ]
  },
  {
   "cell_type": "markdown",
   "metadata": {},
   "source": [
    "## SET\n",
    "`Set` is a collection of `unique elements` with no `duplicate` values. Sets are `mutable`, `unordered` collections of elements that are enclosed in curly braces `{}`<br>\n",
    "`Uniqueness:` Sets do not allow duplicate elements. If you try to add an element that already exists in the set, it will not be added again.<br>\n",
    "`Unordered:` Sets are unordered collections, meaning that the elements are not stored in any particular order. Therefore, you cannot access elements in a set by index.<br>\n",
    "`Mutable:` Sets are mutable, meaning that you can add or remove elements from a set after it has been created.<br>\n",
    "`Hashable Elements:` Elements in a set must be hashable, which means they must be immutable objects like numbers, strings, or tuples containing only hashable elements."
   ]
  },
  {
   "cell_type": "code",
   "execution_count": 19,
   "metadata": {},
   "outputs": [
    {
     "name": "stdout",
     "output_type": "stream",
     "text": [
      "{1, 2, 3}\n",
      "[1, 2, 3]\n"
     ]
    }
   ],
   "source": [
    "abc : set = {1,2,3,3,3,3}\n",
    "print(abc)\n",
    "xyz : list[int] = list(abc) #typecast of set\n",
    "print(xyz)"
   ]
  },
  {
   "cell_type": "code",
   "execution_count": 21,
   "metadata": {},
   "outputs": [
    {
     "data": {
      "text/plain": [
       "['add',\n",
       " 'clear',\n",
       " 'copy',\n",
       " 'difference',\n",
       " 'difference_update',\n",
       " 'discard',\n",
       " 'intersection',\n",
       " 'intersection_update',\n",
       " 'isdisjoint',\n",
       " 'issubset',\n",
       " 'issuperset',\n",
       " 'pop',\n",
       " 'remove',\n",
       " 'symmetric_difference',\n",
       " 'symmetric_difference_update',\n",
       " 'union',\n",
       " 'update']"
      ]
     },
     "execution_count": 21,
     "metadata": {},
     "output_type": "execute_result"
    }
   ],
   "source": [
    "# method and attributes for set\n",
    "[i for i in dir(data) if \"__\" not in i]"
   ]
  },
  {
   "cell_type": "markdown",
   "metadata": {},
   "source": [
    "## <b>Hashable and unhashable\n",
    "`Hashable` objects are objects that have a hash value `that does not change over time` and can be used as `keys` in a dictionary or as `elements` in a set <br>\n",
    "Hashable objects must be `immutable`.\n",
    "`Unhashable` objects are mutable objects whose value can change over time and cannot be used as keys in a dictionary or as elements in a set."
   ]
  },
  {
   "cell_type": "markdown",
   "metadata": {},
   "source": []
  }
 ],
 "metadata": {
  "kernelspec": {
   "display_name": "modern_py",
   "language": "python",
   "name": "python3"
  },
  "language_info": {
   "codemirror_mode": {
    "name": "ipython",
    "version": 3
   },
   "file_extension": ".py",
   "mimetype": "text/x-python",
   "name": "python",
   "nbconvert_exporter": "python",
   "pygments_lexer": "ipython3",
   "version": "3.12.2"
  }
 },
 "nbformat": 4,
 "nbformat_minor": 2
}
