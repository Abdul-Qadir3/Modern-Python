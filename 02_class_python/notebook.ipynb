{
 "cells": [
  {
   "cell_type": "code",
   "execution_count": 1,
   "metadata": {},
   "outputs": [
    {
     "name": "stdout",
     "output_type": "stream",
     "text": [
      " abdul qadir\n",
      "<class 'str'>\n",
      "2318633774832\n"
     ]
    }
   ],
   "source": [
    "name = \" abdul qadir\"\n",
    "print(name)# print the output\n",
    "print(type(name))# check the type of the variable\n",
    "print(id(name)) #physical adress"
   ]
  },
  {
   "cell_type": "markdown",
   "metadata": {},
   "source": [
    "## PIP INSTALL -r requirement.txt\n",
    "The command `pip install -r requirements.txt` is commonly used in Python projects to install dependencies listed in a file named `requirements.txt` . This file typically contains a list of Python packages along with their specific `versions`, which are required for the project to run."
   ]
  },
  {
   "cell_type": "code",
   "execution_count": 2,
   "metadata": {},
   "outputs": [
    {
     "name": "stdout",
     "output_type": "stream",
     "text": [
      "Abdul Qadir\n"
     ]
    }
   ],
   "source": [
    "name : str =\"Abdul Qadir\" #mapping the datatype # global scope\n",
    "print(name)"
   ]
  },
  {
   "cell_type": "markdown",
   "metadata": {},
   "source": [
    "## set\n",
    "A set is an `unordered collection of unique elements`. In Python, sets are defined using curly braces `{}` or the `set()` constructor."
   ]
  },
  {
   "cell_type": "code",
   "execution_count": 3,
   "metadata": {},
   "outputs": [],
   "source": [
    "my_set = {1, 2, 3}"
   ]
  },
  {
   "cell_type": "markdown",
   "metadata": {},
   "source": [
    "# Tuple\n",
    "A tuple is an `ordered, immutable collection of elements`. Tuples are defined using parentheses `()` or the `tuple()` constructor."
   ]
  },
  {
   "cell_type": "code",
   "execution_count": 4,
   "metadata": {},
   "outputs": [],
   "source": [
    "my_tuple = (1, 2, 3)"
   ]
  },
  {
   "cell_type": "markdown",
   "metadata": {},
   "source": [
    "# Dictionary\n",
    "A dictionary is an `unordered collection of key-value pairs`. Each key in a dictionary is unique and associated with a value. Dictionaries are defined using curly braces `{}` or the `dict()` constructor."
   ]
  },
  {
   "cell_type": "code",
   "execution_count": 5,
   "metadata": {},
   "outputs": [],
   "source": [
    "my_dict = {\"name\": \"John\",\"age\": \"30\"}"
   ]
  },
  {
   "cell_type": "markdown",
   "metadata": {},
   "source": [
    "# fstring used for concatenation\n",
    "An f-string, short for \"`formatted string`,\" is a way to create strings in Python that can include values or expressions inside them. It allows you to embed variables or expressions directly within a string, making it easier to build strings dynamically.\n"
   ]
  },
  {
   "cell_type": "code",
   "execution_count": 6,
   "metadata": {},
   "outputs": [],
   "source": [
    "\n",
    "name: str = \"Alice\"\n",
    "age:int = 25"
   ]
  }
 ],
 "metadata": {
  "kernelspec": {
   "display_name": "modern_py",
   "language": "python",
   "name": "python3"
  },
  "language_info": {
   "codemirror_mode": {
    "name": "ipython",
    "version": 3
   },
   "file_extension": ".py",
   "mimetype": "text/x-python",
   "name": "python",
   "nbconvert_exporter": "python",
   "pygments_lexer": "ipython3",
   "version": "3.12.0"
  }
 },
 "nbformat": 4,
 "nbformat_minor": 2
}
