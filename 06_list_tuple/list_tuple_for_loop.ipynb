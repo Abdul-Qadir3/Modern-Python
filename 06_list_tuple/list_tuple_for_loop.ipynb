{
 "cells": [
  {
   "cell_type": "markdown",
   "metadata": {},
   "source": [
    "# List\n",
    "* iteration operation with loop\n",
    "* apply any operation on element"
   ]
  },
  {
   "cell_type": "code",
   "execution_count": 1,
   "metadata": {},
   "outputs": [
    {
     "name": "stdout",
     "output_type": "stream",
     "text": [
      "['Abdul', 'Qadir', 'Sir Zia']\n"
     ]
    }
   ],
   "source": [
    "names : list[str] = ['Abdul', 'Qadir', 'Sir Zia']\n",
    "\n",
    "print(names)"
   ]
  },
  {
   "cell_type": "markdown",
   "metadata": {},
   "source": [
    "### `For loop` perform `iteration` on any `iterative datatype`"
   ]
  },
  {
   "cell_type": "code",
   "execution_count": 7,
   "metadata": {},
   "outputs": [
    {
     "name": "stdout",
     "output_type": "stream",
     "text": [
      "Abdul\n",
      "Qadir\n",
      "Sir Zia\n"
     ]
    }
   ],
   "source": [
    "names : list[str] = ['Abdul', 'Qadir', 'Sir Zia',\"Qasim\"] # we can perform iteration using loop on iterartive datatype\n",
    "\n",
    "for name in names[:3]:#slicing for limitation # names = ['Abdul', 'Qadir', 'Sir Zia'], and name = 'Abdul' or 'Qadir' or 'Sir Zia'\n",
    "    print(name) #gives iterarion on by one iteration\n",
    "\n",
    "# Abdul(1st iteration)\n",
    "# Qadir(2nd iteration)\n",
    "# Sir Zia(3rd iteration)"
   ]
  },
  {
   "cell_type": "markdown",
   "metadata": {},
   "source": [
    "Old `method` `for` above code <br>\n",
    "\n",
    "\n",
    "`names : list[str] = ['Abdul', 'Qadir', 'Sir Zia']\n",
    "`\n",
    "<br> \n",
    "`for(i=0; i<names.length; i++){ <br> \n",
    "`\n",
    "<br> `    names[i]\n",
    "}`"
   ]
  },
  {
   "cell_type": "code",
   "execution_count": 3,
   "metadata": {},
   "outputs": [
    {
     "name": "stdout",
     "output_type": "stream",
     "text": [
      "Abdul is a great guy\n",
      "Qadir is a great guy\n",
      "Sir Zia is a great guy\n"
     ]
    }
   ],
   "source": [
    "# old method fro above code \n",
    "names : list[str] = ['Abdul', 'Qadir', 'Sir Zia',\"M. Qasim\"]\n",
    "\n",
    "i : int = 0 # initialize counter = 0 initial \n",
    "\n",
    "while i < len(names): # names length = 3\n",
    "    print(f\"{names[i]} is a great guy\")\n",
    "    i += 1"
   ]
  },
  {
   "cell_type": "code",
   "execution_count": 4,
   "metadata": {},
   "outputs": [
    {
     "name": "stdout",
     "output_type": "stream",
     "text": [
      "Welcome to dear teacher Abdul\n",
      "PIAIC Gen AI team\n",
      "\n",
      "Welcome to dear teacher Qadir\n",
      "PIAIC Gen AI team\n",
      "\n",
      "Welcome to dear teacher Sir Zia\n",
      "PIAIC Gen AI team\n",
      "\n",
      "Pakistan Zindabad\n"
     ]
    }
   ],
   "source": [
    "names : list[str] = ['Abdul', 'Qadir', 'Sir Zia'] # list is an iteration datatype\n",
    "for name in names:\n",
    "    print(f'Welcome to dear teacher {name.title()}')\n",
    "\n",
    "    print(\"PIAIC Gen AI team\\n\")\n",
    "\n",
    "print(\"Pakistan Zindabad\")"
   ]
  },
  {
   "cell_type": "markdown",
   "metadata": {},
   "source": [
    "### `list of tuples` to create Database"
   ]
  },
  {
   "cell_type": "code",
   "execution_count": 5,
   "metadata": {},
   "outputs": [
    {
     "name": "stdout",
     "output_type": "stream",
     "text": [
      "('abdul', '123')\n",
      "('Qadir', '234')\n",
      "('Kashif', '343')\n"
     ]
    }
   ],
   "source": [
    "# from typing import Tuple\n",
    "data_base : list[tuple[str,str]] = [('abdul','123'),   # list of tuples\n",
    "                                    ('Qadir','234'),   # tuple uses round bracket ()\n",
    "                                    ('Kashif','343')\n",
    "                                    ]\n",
    "for row in data_base: #iteration on individual elements\n",
    "    print(row)"
   ]
  },
  {
   "cell_type": "code",
   "execution_count": 6,
   "metadata": {},
   "outputs": [
    {
     "name": "stdout",
     "output_type": "stream",
     "text": [
      "abdul 123\n",
      "Qadir 234\n",
      "Kashif 343\n"
     ]
    }
   ],
   "source": [
    "# now unziping\n",
    "data_base : list[tuple[str,str]] = [('abdul','123'),   # list of tuples\n",
    "                                    ('Qadir','234'),\n",
    "                                    ('Kashif','343')\n",
    "                                    ]\n",
    "for row in data_base: # iteration on individual elements\n",
    "    user,password=row # local varibles(created in oop and ends in loop)\n",
    "    print(user,password)"
   ]
  },
  {
   "cell_type": "markdown",
   "metadata": {},
   "source": [
    "### `Authentication system` using python user input"
   ]
  },
  {
   "cell_type": "code",
   "execution_count": 15,
   "metadata": {},
   "outputs": [
    {
     "name": "stdout",
     "output_type": "stream",
     "text": [
      "abdul\n",
      "123\n",
      "Login Successful\n"
     ]
    }
   ],
   "source": [
    "# Authentication system using python user input\n",
    "data_base : list[tuple[str,str]] = [('abdul','123'),   # list of tuples\n",
    "                                    ('Qadir','234'),\n",
    "                                    ('Kashif','343')\n",
    "                                    ]\n",
    "user_input : str = input(\"Input user name \")\n",
    "print(user_input)\n",
    "pass_input : str = input(\"Input password \")\n",
    "print(pass_input)\n",
    "\n",
    "for row in data_base: #iteration on individual elements\n",
    "    user,password = row #local varibles\n",
    "    if user_input == user and pass_input == password:\n",
    "        print (\"Login Successful\")\n",
    "        break\n",
    "else:#no match found after iteration\n",
    "    print (\"Invalid Username or Password\")"
   ]
  },
  {
   "cell_type": "code",
   "execution_count": 12,
   "metadata": {},
   "outputs": [
    {
     "name": "stdout",
     "output_type": "stream",
     "text": [
      "Abdul\n",
      "qadir\n",
      "Asifa\n",
      "No more names\n"
     ]
    }
   ],
   "source": [
    "names : list[str] = ['Abdul','qadir','Asifa']\n",
    "\n",
    "for name in names:\n",
    "    print(name)\n",
    "else:\n",
    "    print(\"No more names\")"
   ]
  },
  {
   "cell_type": "code",
   "execution_count": 9,
   "metadata": {},
   "outputs": [
    {
     "name": "stdout",
     "output_type": "stream",
     "text": [
      "Abdul\n",
      "qadir\n",
      "Asifa\n",
      "No more names\n"
     ]
    }
   ],
   "source": [
    "names : list[str] = ['Abdul','qadir','Asifa']\n",
    "\n",
    "for name in names:\n",
    "    print(name)\n",
    "else:\n",
    "    print(\"No more names\")"
   ]
  },
  {
   "cell_type": "code",
   "execution_count": 16,
   "metadata": {},
   "outputs": [
    {
     "name": "stdout",
     "output_type": "stream",
     "text": [
      "Abdul\n"
     ]
    }
   ],
   "source": [
    "names : list[str] = ['Abdul','qadir','Asifa']\n",
    "\n",
    "for name in names:\n",
    "    print(name)\n",
    "    break\n",
    "else:\n",
    "    print(\"No more names\")"
   ]
  },
  {
   "cell_type": "code",
   "execution_count": 19,
   "metadata": {},
   "outputs": [
    {
     "name": "stdout",
     "output_type": "stream",
     "text": [
      "Alice, that was a trick\n",
      "Devid, that was a trick\n",
      "Carolina, that was a trick\n",
      "This megician outperformed the show Carolina\n"
     ]
    }
   ],
   "source": [
    "megicians = ['alice','devid','carolina']\n",
    "\n",
    "for megician in megicians:\n",
    "    print(f\"{megician.title()}, that was a trick\")\n",
    "\n",
    "print(f\"This megician outperformed the show {megician.title()}\")"
   ]
  },
  {
   "cell_type": "markdown",
   "metadata": {},
   "source": [
    "### `Enamurate` gives the `index` with the `elements`\n",
    "- Enamurate is a generative function"
   ]
  },
  {
   "cell_type": "code",
   "execution_count": 30,
   "metadata": {},
   "outputs": [
    {
     "data": {
      "text/plain": [
       "[(0, 'alice'), (1, 'devid'), (2, 'carolina')]"
      ]
     },
     "execution_count": 30,
     "metadata": {},
     "output_type": "execute_result"
    }
   ],
   "source": [
    "megicians = ['alice','devid','carolina']\n",
    "\n",
    "list(enumerate(megicians)) # enamurate gives the index with the elements"
   ]
  },
  {
   "cell_type": "code",
   "execution_count": 31,
   "metadata": {},
   "outputs": [
    {
     "name": "stdout",
     "output_type": "stream",
     "text": [
      "0 alice\n",
      "1 devid\n",
      "2 carolina\n"
     ]
    }
   ],
   "source": [
    "#unzip\n",
    "megicians = ['alice','devid','carolina']\n",
    "\n",
    "for index, name in enumerate(megicians):\n",
    "    print(index,name)"
   ]
  },
  {
   "cell_type": "markdown",
   "metadata": {},
   "source": [
    "## Local variable and global variable\n",
    "**Local Variables:**\n",
    "\n",
    "**Scope:** </br>\n",
    "Local variables are defined within a specific block of code, such as a function or a loop.</br>\n",
    "**Visibility:** </br>\n",
    "They are only accessible or visible within the block in which they are defined. Outside of that block, they are not recognized.</br>\n",
    "**Lifetime:** </br>\n",
    "Their lifetime is limited to the execution of the block in which they are declared. Once the block is exited, the local variable is no longer accessible.\n",
    "\n",
    "**Global Variables:**\n",
    "\n",
    "**Scope:**</br>\n",
    "Global variables are defined outside of any specific block, usually at the top level of the program.</br>\n",
    "**Visibility:**</br> \n",
    "They are accessible throughout the entire program, including within functions or blocks.</br>\n",
    "**Lifetime:**</br>\n",
    "They exist for the entire duration of the program's execution."
   ]
  },
  {
   "cell_type": "markdown",
   "metadata": {},
   "source": [
    "## `Numbers` with loop\n",
    "`SYNTAX`\n",
    "* `range(start,end,step)`"
   ]
  },
  {
   "cell_type": "code",
   "execution_count": 32,
   "metadata": {},
   "outputs": [
    {
     "data": {
      "text/plain": [
       "range(0, 10)"
      ]
     },
     "execution_count": 32,
     "metadata": {},
     "output_type": "execute_result"
    }
   ],
   "source": [
    "range(10) # it will not run as it is a `generator function` gives its start and end value"
   ]
  },
  {
   "cell_type": "code",
   "execution_count": 33,
   "metadata": {},
   "outputs": [
    {
     "data": {
      "text/plain": [
       "[0, 1, 2, 3, 4, 5, 6, 7, 8, 9]"
      ]
     },
     "execution_count": 33,
     "metadata": {},
     "output_type": "execute_result"
    }
   ],
   "source": [
    "#to run we will perform `iteration` upon it\n",
    "list(range(10)) # startin=0, ending=n-1"
   ]
  },
  {
   "cell_type": "code",
   "execution_count": 34,
   "metadata": {},
   "outputs": [
    {
     "data": {
      "text/plain": [
       "[2, 3, 4, 5, 6, 7, 8, 9]"
      ]
     },
     "execution_count": 34,
     "metadata": {},
     "output_type": "execute_result"
    }
   ],
   "source": [
    "list(range(2,10))# startin=2, ending=n-1 => 10-1"
   ]
  },
  {
   "cell_type": "code",
   "execution_count": 35,
   "metadata": {},
   "outputs": [
    {
     "data": {
      "text/plain": [
       "[2, 4, 6, 8, 10, 12, 14, 16, 18, 20]"
      ]
     },
     "execution_count": 35,
     "metadata": {},
     "output_type": "execute_result"
    }
   ],
   "source": [
    "list(range(2,21,2))# startin=2, ending=n-1 step=2=> 21-1"
   ]
  },
  {
   "cell_type": "code",
   "execution_count": 36,
   "metadata": {},
   "outputs": [
    {
     "name": "stdout",
     "output_type": "stream",
     "text": [
      "2\n",
      "4\n",
      "6\n",
      "8\n",
      "10\n",
      "12\n",
      "14\n",
      "16\n",
      "18\n",
      "20\n"
     ]
    }
   ],
   "source": [
    "for n in range(2,21,2): #loop itself will give the iteration so no need to give the ` individually it requres `list` before range`\n",
    "    print(n)"
   ]
  },
  {
   "cell_type": "code",
   "execution_count": 41,
   "metadata": {},
   "outputs": [
    {
     "name": "stdout",
     "output_type": "stream",
     "text": [
      "2 X 1 = 2\n",
      "2 X 2 = 4\n",
      "2 X 3 = 6\n",
      "2 X 4 = 8\n",
      "2 X 5 = 10\n",
      "2 X 6 = 12\n",
      "2 X 7 = 14\n",
      "2 X 8 = 16\n",
      "2 X 9 = 18\n",
      "2 X 10 = 20\n"
     ]
    }
   ],
   "source": [
    "for n in range(1,11): # to print table of two\n",
    "    print(f'{2} X {n} = {n*2}')"
   ]
  },
  {
   "cell_type": "code",
   "execution_count": 43,
   "metadata": {},
   "outputs": [
    {
     "name": "stdout",
     "output_type": "stream",
     "text": [
      "3 X 1 = 3\n",
      "3 X 2 = 6\n",
      "3 X 3 = 9\n",
      "3 X 4 = 12\n",
      "3 X 5 = 15\n",
      "3 X 6 = 18\n",
      "3 X 7 = 21\n",
      "3 X 8 = 24\n",
      "3 X 9 = 27\n",
      "3 X 10 = 30\n"
     ]
    }
   ],
   "source": [
    "for n in range(1,11): # to print table of two\n",
    "    print(f'{3} X {n} = {n*3}')"
   ]
  },
  {
   "cell_type": "code",
   "execution_count": null,
   "metadata": {},
   "outputs": [],
   "source": [
    "for n in range(1,): # to print table of two\n",
    "    print(f'{2} X {n} = {n*2}')"
   ]
  },
  {
   "cell_type": "code",
   "execution_count": 38,
   "metadata": {},
   "outputs": [
    {
     "data": {
      "text/plain": [
       "[(0, 'alice'), (1, 'devid'), (2, 'carolina')]"
      ]
     },
     "execution_count": 38,
     "metadata": {},
     "output_type": "execute_result"
    }
   ],
   "source": [
    "megicians = ['alice','devid','carolina']\n",
    "\n",
    "list(enumerate(megicians)) # enamurate gives the index with the elements"
   ]
  },
  {
   "cell_type": "code",
   "execution_count": 39,
   "metadata": {},
   "outputs": [
    {
     "name": "stdout",
     "output_type": "stream",
     "text": [
      "0 alice\n",
      "1 devid\n",
      "2 carolina\n"
     ]
    }
   ],
   "source": [
    "megicians = ['alice','devid','carolina']\n",
    "\n",
    "for index,name in (enumerate(megicians)): # enamurate gives the index with the elements\n",
    "    print(index,name)"
   ]
  },
  {
   "cell_type": "code",
   "execution_count": 22,
   "metadata": {},
   "outputs": [
    {
     "name": "stdout",
     "output_type": "stream",
     "text": [
      "[1, 4, 9, 16, 25, 36, 49, 64, 81, 100]\n"
     ]
    }
   ],
   "source": [
    "squares : list = [] # initialize an empty list\n",
    "for value in range(1,11):\n",
    "    square =value**2 # local variable\n",
    "    squares.append(square)  # appending to the global list\n",
    "print(squares)"
   ]
  },
  {
   "cell_type": "markdown",
   "metadata": {},
   "source": [
    "## List comprehensive(shorting)\n",
    "\n",
    "`for item in items_list:`</br>\n",
    "    `loop_body`\n",
    "\n",
    "### Comprehensive Style\n",
    "\n",
    "`loop_body for item in items_list`</br>  body of loop in the start of the loop"
   ]
  },
  {
   "cell_type": "code",
   "execution_count": 44,
   "metadata": {},
   "outputs": [
    {
     "data": {
      "text/plain": [
       "[1, 2, 3, 4, 5, 6, 7, 8, 9, 10]"
      ]
     },
     "execution_count": 44,
     "metadata": {},
     "output_type": "execute_result"
    }
   ],
   "source": [
    "list(range(1,11))"
   ]
  },
  {
   "cell_type": "code",
   "execution_count": 45,
   "metadata": {},
   "outputs": [
    {
     "name": "stdout",
     "output_type": "stream",
     "text": [
      "1\n",
      "4\n",
      "9\n",
      "16\n",
      "25\n",
      "36\n",
      "49\n",
      "64\n",
      "81\n",
      "100\n"
     ]
    }
   ],
   "source": [
    "for i in range(1,11): # compresing in next step this\n",
    "    print(i**2)"
   ]
  },
  {
   "cell_type": "markdown",
   "metadata": {},
   "source": [
    "### `comprehensive style`"
   ]
  },
  {
   "cell_type": "code",
   "execution_count": 46,
   "metadata": {},
   "outputs": [
    {
     "data": {
      "text/plain": [
       "[1, 4, 9, 16, 25, 36, 49, 64, 81, 100]"
      ]
     },
     "execution_count": 46,
     "metadata": {},
     "output_type": "execute_result"
    }
   ],
   "source": [
    "[i**2 for i in range(1,11)]# comprehensive style"
   ]
  },
  {
   "cell_type": "code",
   "execution_count": 29,
   "metadata": {},
   "outputs": [
    {
     "name": "stdout",
     "output_type": "stream",
     "text": [
      "[1, 2, 3, 4, 5, 6, 7, 8, 9, 0]\n",
      "0\n",
      "9\n",
      "45\n"
     ]
    }
   ],
   "source": [
    "digits : list[int] = [1,2,3,4,5,6,7,8,9,0]\n",
    "\n",
    "print(digits)\n",
    "print(min(digits))\n",
    "print(max(digits))\n",
    "print(sum(digits))"
   ]
  },
  {
   "cell_type": "code",
   "execution_count": 47,
   "metadata": {},
   "outputs": [
    {
     "name": "stdout",
     "output_type": "stream",
     "text": [
      "['pizza', 'cake', 'karhai']\n",
      "['pizza', 'cake', 'karhai']\n",
      "['pizza', 'cake', 'karhai']\n",
      "['tikka', 'cake', 'karhai']\n"
     ]
    }
   ],
   "source": [
    "foods : list[str] = ['pizza','cake','karhai']\n",
    "frinds_food = foods[:] #in slicing forms a deep copy\n",
    "\n",
    "print(foods)\n",
    "print(frinds_food)\n",
    "\n",
    "frinds_food[0] = 'tikka'\n",
    "\n",
    "print(foods)\n",
    "print(frinds_food)"
   ]
  },
  {
   "cell_type": "markdown",
   "metadata": {},
   "source": [
    "## Tuples\n",
    "- `Imutable`(not changeable)\n",
    "- we can `re-assign` but not update"
   ]
  },
  {
   "cell_type": "code",
   "execution_count": 48,
   "metadata": {},
   "outputs": [
    {
     "name": "stdout",
     "output_type": "stream",
     "text": [
      "Pakistan\n",
      "('Pakistan', 'B')\n"
     ]
    }
   ],
   "source": [
    "names : tuple[str] = (\"A\", \"B\", \"C\") #cannot assign anything to the variable in tuple\n",
    "names : tuple[str] = (\"Pakistan\", \"B\", \"C\") #cannot assign anything to the variable in tuple\n",
    "print(names[0])\n",
    "print(names[0:2])"
   ]
  },
  {
   "cell_type": "code",
   "execution_count": 49,
   "metadata": {},
   "outputs": [
    {
     "name": "stdout",
     "output_type": "stream",
     "text": [
      "[1, 2, 3]\n",
      "[1, 2, 3, 1]\n"
     ]
    }
   ],
   "source": [
    "from typing import Any\n",
    "data : tuple[Any] =(\"a\",[1,2,3],True)\n",
    "\n",
    "print(data[1])\n",
    "data[1].append(1) #changes made in object(like list) not in tupple\n",
    "print(data[1])"
   ]
  },
  {
   "cell_type": "code",
   "execution_count": null,
   "metadata": {},
   "outputs": [],
   "source": []
  }
 ],
 "metadata": {
  "kernelspec": {
   "display_name": "Python 3",
   "language": "python",
   "name": "python3"
  },
  "language_info": {
   "codemirror_mode": {
    "name": "ipython",
    "version": 3
   },
   "file_extension": ".py",
   "mimetype": "text/x-python",
   "name": "python",
   "nbconvert_exporter": "python",
   "pygments_lexer": "ipython3",
   "version": "3.12.2"
  }
 },
 "nbformat": 4,
 "nbformat_minor": 2
}
