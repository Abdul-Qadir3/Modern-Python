{
 "cells": [
  {
   "cell_type": "markdown",
   "metadata": {},
   "source": [
    "# List\n",
    "* Iteration operation with loop\n",
    "* Apply any operation on element"
   ]
  },
  {
   "cell_type": "code",
   "execution_count": 1,
   "metadata": {},
   "outputs": [
    {
     "name": "stdout",
     "output_type": "stream",
     "text": [
      "['Abdul', 'Qadir', 'Sir Zia']\n"
     ]
    }
   ],
   "source": [
    "names : list[str] = ['Abdul', 'Qadir', 'Sir Zia']\n",
    "\n",
    "print(names)"
   ]
  },
  {
   "cell_type": "code",
   "execution_count": 3,
   "metadata": {},
   "outputs": [
    {
     "name": "stdout",
     "output_type": "stream",
     "text": [
      "Abdul\n",
      "Qadir\n",
      "Sir Zia\n",
      "Qasim\n"
     ]
    }
   ],
   "source": [
    "names : list[str] = ['Abdul', 'Qadir', 'Sir Zia',\"Qasim\"] # we can perform iteration using loop on iterartive datatype\n",
    "\n",
    "# \"name\" is a \"local variable\" works on that block\n",
    "for name in names: # for is used in iteration\n",
    "    print(name) #gives iterarion on by one iteration\n",
    "\n",
    "# Abdul(1st iteration)\n",
    "# Qadir(2nd iteration)\n",
    "# Sir Zia(3rd iteration)"
   ]
  },
  {
   "cell_type": "markdown",
   "metadata": {},
   "source": [
    "## <b>`For loop` perform `iteration` on any `iterative datatype`"
   ]
  },
  {
   "cell_type": "code",
   "execution_count": 3,
   "metadata": {},
   "outputs": [
    {
     "name": "stdout",
     "output_type": "stream",
     "text": [
      "Abdul\n",
      "Qadir\n",
      "Sir Zia\n"
     ]
    }
   ],
   "source": [
    "names : list[str] = ['Abdul', 'Qadir', 'Sir Zia',\"Qasim\"] # we can perform iteration using loop on iterartive datatype\n",
    "\n",
    "#name is a local variable works on that block\n",
    "for name in names[:3]:#slicing for limitation # names = ['Abdul', 'Qadir', 'Sir Zia'], and name = 'Abdul' or 'Qadir' or 'Sir Zia'\n",
    "    print(name) #gives iterarion on by one iteration\n",
    "\n",
    "# Abdul(1st iteration)\n",
    "# Qadir(2nd iteration)\n",
    "# Sir Zia(3rd iteration)"
   ]
  },
  {
   "cell_type": "markdown",
   "metadata": {},
   "source": [
    "## Old `method` `for` above code <br>\n",
    "\n",
    "\n",
    "`names : list[str] = ['Abdul', 'Qadir', 'Sir Zia']\n",
    "`\n",
    "<br> \n",
    "`for(i=0; i<names.length; i++){\n",
    "`\n",
    "<br> `    names[i]\n",
    "}`"
   ]
  },
  {
   "cell_type": "code",
   "execution_count": 4,
   "metadata": {},
   "outputs": [
    {
     "name": "stdout",
     "output_type": "stream",
     "text": [
      "Abdul is a great guy\n",
      "Qadir is a great guy\n",
      "Sir Zia is a great guy\n",
      "M. Qasim is a great guy\n"
     ]
    }
   ],
   "source": [
    "# old method fro above code \n",
    "# Define a list named 'names' containing strings.\n",
    "names: list[str] = ['Abdul', 'Qadir', 'Sir Zia', \"M. Qasim\"]\n",
    "\n",
    "# Initialize a variable 'i' to 0. This variable will be used as a counter.\n",
    "i: int = 0\n",
    "\n",
    "# Start a while loop. The loop will continue executing as long as 'i' is less than the length of the 'names' list.\n",
    "while i < len(names):\n",
    "    # Print the current element of the 'names' list along with some text.\n",
    "    print(f\"{names[i]} is a great guy\")\n",
    "    \n",
    "    # Increment the counter 'i' by 1. This moves to the next element in the 'names' list in the next iteration.\n",
    "    i += 1"
   ]
  },
  {
   "cell_type": "markdown",
   "metadata": {},
   "source": [
    "# <b>For loop\n",
    "### <u>STEPS\n",
    "1. Counter initialize \n",
    "2. Check Logic\n",
    "3. Increament Or decreament"
   ]
  },
  {
   "cell_type": "code",
   "execution_count": 21,
   "metadata": {},
   "outputs": [
    {
     "name": "stdout",
     "output_type": "stream",
     "text": [
      "Welcome to dear teacher Abdul\n",
      "PIAIC Gen AI team\n",
      "\n",
      "Welcome to dear teacher Qadir\n",
      "PIAIC Gen AI team\n",
      "\n",
      "Welcome to dear teacher Sir Zia\n",
      "PIAIC Gen AI team\n",
      "\n",
      "Pakistan Zindabad\n"
     ]
    }
   ],
   "source": [
    "names : list[str] = ['Abdul', 'Qadir', 'Sir Zia'] # list is an iteration datatype\n",
    "for name in names:\n",
    "    print(f'Welcome to dear teacher {name.title()}')\n",
    "\n",
    "    print(\"PIAIC Gen AI team\\n\")\n",
    "\n",
    "print(\"Pakistan Zindabad\")"
   ]
  },
  {
   "cell_type": "code",
   "execution_count": 11,
   "metadata": {},
   "outputs": [
    {
     "name": "stdout",
     "output_type": "stream",
     "text": [
      "Welcome to dear teacher Abdul\n",
      "PIAIC Gen AI team\n",
      "\n",
      "Welcome to dear teacher Qadir\n",
      "PIAIC Gen AI team\n",
      "\n",
      "Pakistan Zindabad\n"
     ]
    }
   ],
   "source": [
    "names : list[str] = ['Abdul', 'Qadir', 'Sir Zia'] # list is an iteration datatype\n",
    "\n",
    "#for a limited set of elements in the list, we can use slicing technique to get both index\n",
    "for name in names[:2]:\n",
    "    print(f'Welcome to dear teacher {name.title()}')\n",
    "\n",
    "    print(\"PIAIC Gen AI team\\n\")\n",
    "\n",
    "print(\"Pakistan Zindabad\")"
   ]
  },
  {
   "cell_type": "markdown",
   "metadata": {},
   "source": [
    "### `list of tuples` to create Database"
   ]
  },
  {
   "cell_type": "code",
   "execution_count": 13,
   "metadata": {},
   "outputs": [
    {
     "name": "stdout",
     "output_type": "stream",
     "text": [
      "prints in the for of tuple zipped  ('abdul', '123')\n",
      "prints in the for of tuple zipped  ('Qadir', '234')\n",
      "prints in the for of tuple zipped  ('Kashif', '343')\n"
     ]
    }
   ],
   "source": [
    "# from typing import Tuple\n",
    "data_base : list[tuple[str,str]] = [('abdul','123'),   # list of tuples\n",
    "                                    ('Qadir','234'),   # tuple uses round bracket ()\n",
    "                                    ('Kashif','343')\n",
    "                                    ]\n",
    "for row in data_base: #iteration on individual elements\n",
    "    print(\"prints in the for of tuple zipped \" , row)"
   ]
  },
  {
   "cell_type": "code",
   "execution_count": 5,
   "metadata": {},
   "outputs": [
    {
     "name": "stdout",
     "output_type": "stream",
     "text": [
      "abdul 123\n",
      "Qadir 234\n",
      "Kashif 343\n"
     ]
    }
   ],
   "source": [
    "# now unziping\n",
    "data_base : list[tuple[str,str]] = [('abdul','123'),   # list of tuples\n",
    "                                    ('Qadir','234'),\n",
    "                                    ('Kashif','343')\n",
    "                                    ]\n",
    "for row in data_base: # iteration on individual elements\n",
    "    user,password=row # local varibles(created in oop and ends in loop)\n",
    "    print(user,password) # Unzipped"
   ]
  },
  {
   "cell_type": "markdown",
   "metadata": {},
   "source": [
    "### `Authentication system` using python user input"
   ]
  },
  {
   "cell_type": "code",
   "execution_count": 7,
   "metadata": {},
   "outputs": [
    {
     "name": "stdout",
     "output_type": "stream",
     "text": [
      "hello\n",
      "123\n",
      "Invalid Username or Password\n"
     ]
    }
   ],
   "source": [
    "# Authentication system using Python user input\n",
    "\n",
    "# Database containing username-password pairs stored as tuples in a list\n",
    "data_base: list[tuple[str, str]] = [('abdul', '123'),   # List of tuples\n",
    "                                    ('Qadir', '234'),\n",
    "                                    ('Kashif', '343')\n",
    "                                    ]\n",
    "\n",
    "# Input username from the user\n",
    "user_input: str = input(\"Input user name \")\n",
    "print(user_input)\n",
    "\n",
    "# Input password from the user\n",
    "pass_input: str = input(\"Input password \")\n",
    "print(pass_input)\n",
    "\n",
    "# Iterate through each tuple (user, password) in the database\n",
    "for row in data_base:  # Iteration over individual elements\n",
    "    user, password = row  # Assigning values from the tuple to local variables\n",
    "    # Check if the input username and password match with any pair in the database\n",
    "    if user_input == user and pass_input == password:\n",
    "        print(\"Login Successful\")\n",
    "        break  # Exit the loop if login is successful\n",
    "else:  # If no match is found after iteration\n",
    "    print(\"Invalid Username or Password\")\n"
   ]
  },
  {
   "cell_type": "code",
   "execution_count": 8,
   "metadata": {},
   "outputs": [
    {
     "name": "stdout",
     "output_type": "stream",
     "text": [
      "Abdul\n",
      "qadir\n",
      "Asifa\n",
      "No more names\n"
     ]
    }
   ],
   "source": [
    "names : list[str] = ['Abdul','qadir','Asifa']\n",
    "\n",
    "for name in names:\n",
    "    print(name)\n",
    "    \n",
    "else:\n",
    "    print(\"No more names\")"
   ]
  },
  {
   "cell_type": "code",
   "execution_count": 9,
   "metadata": {},
   "outputs": [
    {
     "name": "stdout",
     "output_type": "stream",
     "text": [
      "Abdul\n",
      "qadir\n",
      "Asifa\n",
      "No more names\n"
     ]
    }
   ],
   "source": [
    "names : list[str] = ['Abdul','qadir','Asifa']\n",
    "\n",
    "for name in names:\n",
    "    print(name)\n",
    "else:\n",
    "    print(\"No more names\")"
   ]
  },
  {
   "cell_type": "code",
   "execution_count": 32,
   "metadata": {},
   "outputs": [
    {
     "name": "stdout",
     "output_type": "stream",
     "text": [
      "Abdul\n"
     ]
    }
   ],
   "source": [
    "names : list[str] = ['Abdul','qadir','Asifa']\n",
    "\n",
    "for name in names:\n",
    "    print(name)\n",
    "    break\n",
    "else:\n",
    "    print(\"No more names\")"
   ]
  },
  {
   "cell_type": "code",
   "execution_count": 12,
   "metadata": {},
   "outputs": [
    {
     "name": "stdout",
     "output_type": "stream",
     "text": [
      "0\n",
      "1\n",
      "2\n",
      "3\n",
      "4\n",
      "5\n",
      "6\n",
      "7\n",
      "8\n",
      "9\n"
     ]
    }
   ],
   "source": [
    "for i in range(10):\n",
    "    print(i)"
   ]
  },
  {
   "cell_type": "code",
   "execution_count": 13,
   "metadata": {},
   "outputs": [
    {
     "name": "stdout",
     "output_type": "stream",
     "text": [
      "Alice, that was a trick\n",
      "Devid, that was a trick\n",
      "Carolina, that was a trick\n",
      "This megician outperformed the show Carolina\n"
     ]
    }
   ],
   "source": [
    "megicians : list[str] = ['alice','devid','carolina']\n",
    "\n",
    "for megician in megicians:\n",
    "    print(f\"{megician.title()}, that was a trick\") # last itrative value of magician will be saved and can be accessed outside of the block\n",
    "print(f\"This megician outperformed the show {megician.title()}\")"
   ]
  },
  {
   "cell_type": "markdown",
   "metadata": {},
   "source": [
    "### `Enamurate` gives the `index` with the `elements`\n",
    "- Enamurate is a generative function"
   ]
  },
  {
   "cell_type": "code",
   "execution_count": 14,
   "metadata": {},
   "outputs": [
    {
     "name": "stdout",
     "output_type": "stream",
     "text": [
      "[(0, 'alice'), (1, 'david'), (2, 'carolina')]\n"
     ]
    }
   ],
   "source": [
    "# megicians = ['alice','devid','carolina']\n",
    "\n",
    "# list(enumerate(megicians)) # enamurate gives the index with the elements\n",
    "# Define a list of magicians' names\n",
    "magicians = ['alice', 'david', 'carolina']\n",
    "\n",
    "# Use the enumerate function to get both the index and the element from the list\n",
    "# enumerate function returns an enumerate object, which is an iterator of tuples\n",
    "# Each tuple contains a count (from start which defaults to 0) and the values obtained from iterating over the input iterable (in this case, magicians list)\n",
    "# The enumerate function is useful when you want to access both the index and the element of a list during iteration\n",
    "# Using list() here is optional, it's used to convert the enumerate object to a list for easy visualization\n",
    "# After running list(enumerate(magicians)), you'll get a list of tuples where each tuple contains the index and the corresponding magician's name\n",
    "# The index starts from 0 for the first element of the list\n",
    "print(list(enumerate(magicians)))\n"
   ]
  },
  {
   "cell_type": "code",
   "execution_count": 23,
   "metadata": {},
   "outputs": [
    {
     "name": "stdout",
     "output_type": "stream",
     "text": [
      "0 alice\n",
      "1 devid\n",
      "2 carolina\n"
     ]
    }
   ],
   "source": [
    "#unzip\n",
    "megicians = ['alice','devid','carolina']\n",
    "\n",
    "for index, name in enumerate(megicians): # enumarate is also a generator function  \n",
    "    print(index,name)"
   ]
  },
  {
   "cell_type": "markdown",
   "metadata": {},
   "source": [
    "## Local variable and global variable\n",
    "**Local Variables:**\n",
    "\n",
    "**Scope:** </br>\n",
    "Local variables are defined within a specific block of code, such as a function or a loop.</br>\n",
    "**Visibility:** </br>\n",
    "They are only accessible or visible within the block in which they are defined. Outside of that block, they are not recognized.</br>\n",
    "**Lifetime:** </br>\n",
    "Their lifetime is limited to the execution of the block in which they are declared. Once the block is exited, the local variable is no longer accessible.\n",
    "\n",
    "**Global Variables:**\n",
    "\n",
    "**Scope:**</br>\n",
    "Global variables are defined outside of any specific block, usually at the top level of the program.</br>\n",
    "**Visibility:**</br> \n",
    "They are accessible throughout the entire program, including within functions or blocks.</br>\n",
    "**Lifetime:**</br>\n",
    "They exist for the entire duration of the program's execution."
   ]
  },
  {
   "cell_type": "markdown",
   "metadata": {},
   "source": [
    "## `Numbers` with loop\n",
    "`SYNTAX`\n",
    "* `range(start,end,step)`"
   ]
  },
  {
   "cell_type": "code",
   "execution_count": 24,
   "metadata": {},
   "outputs": [
    {
     "data": {
      "text/plain": [
       "range(0, 10)"
      ]
     },
     "execution_count": 24,
     "metadata": {},
     "output_type": "execute_result"
    }
   ],
   "source": [
    "range(10) # it will not run as it is a `generator function` gives its start and end value"
   ]
  },
  {
   "cell_type": "code",
   "execution_count": 25,
   "metadata": {},
   "outputs": [
    {
     "data": {
      "text/plain": [
       "[0, 1, 2, 3, 4, 5, 6, 7, 8, 9]"
      ]
     },
     "execution_count": 25,
     "metadata": {},
     "output_type": "execute_result"
    }
   ],
   "source": [
    "#to run we have to perform `iteration` upon it by using list in below\n",
    "list(range(10)) # startin=0, ending=n-1"
   ]
  },
  {
   "cell_type": "code",
   "execution_count": 26,
   "metadata": {},
   "outputs": [
    {
     "data": {
      "text/plain": [
       "[2, 3, 4, 5, 6, 7, 8, 9]"
      ]
     },
     "execution_count": 26,
     "metadata": {},
     "output_type": "execute_result"
    }
   ],
   "source": [
    "list(range(2,10))# startin=2, ending=n-1 => 10-1"
   ]
  },
  {
   "cell_type": "code",
   "execution_count": 27,
   "metadata": {},
   "outputs": [
    {
     "data": {
      "text/plain": [
       "[2, 4, 6, 8, 10, 12, 14, 16, 18, 20]"
      ]
     },
     "execution_count": 27,
     "metadata": {},
     "output_type": "execute_result"
    }
   ],
   "source": [
    "list(range(2,21,2))# startin=2, ending=n-1 step=2=> 21-1"
   ]
  },
  {
   "cell_type": "code",
   "execution_count": 28,
   "metadata": {},
   "outputs": [
    {
     "name": "stdout",
     "output_type": "stream",
     "text": [
      "2\n",
      "4\n",
      "6\n",
      "8\n",
      "10\n",
      "12\n",
      "14\n",
      "16\n",
      "18\n",
      "20\n"
     ]
    }
   ],
   "source": [
    "for n in range(2,21,2): #loop itself will give the iteration so no need to give the ` individually it requres `list` before range`\n",
    "    print(n)"
   ]
  },
  {
   "cell_type": "code",
   "execution_count": 30,
   "metadata": {},
   "outputs": [
    {
     "name": "stdout",
     "output_type": "stream",
     "text": [
      "2 X 1 = 2\n",
      "2 X 2 = 4\n",
      "2 X 3 = 6\n",
      "2 X 4 = 8\n",
      "2 X 5 = 10\n",
      "2 X 6 = 12\n",
      "2 X 7 = 14\n",
      "2 X 8 = 16\n",
      "2 X 9 = 18\n",
      "2 X 10 = 20\n"
     ]
    }
   ],
   "source": [
    "for n in range(1,11): # to print table of two\n",
    "    print(f'{2} X {n} = {n*2}')"
   ]
  },
  {
   "cell_type": "code",
   "execution_count": 31,
   "metadata": {},
   "outputs": [
    {
     "name": "stdout",
     "output_type": "stream",
     "text": [
      "3 X 1 = 3\n",
      "3 X 2 = 6\n",
      "3 X 3 = 9\n",
      "3 X 4 = 12\n",
      "3 X 5 = 15\n",
      "3 X 6 = 18\n",
      "3 X 7 = 21\n",
      "3 X 8 = 24\n",
      "3 X 9 = 27\n",
      "3 X 10 = 30\n"
     ]
    }
   ],
   "source": [
    "for n in range(1,11): # to print table of two\n",
    "    print(f'{3} X {n} = {n*3}')"
   ]
  },
  {
   "cell_type": "code",
   "execution_count": 32,
   "metadata": {},
   "outputs": [
    {
     "name": "stdout",
     "output_type": "stream",
     "text": [
      "2 X 0 = 0\n"
     ]
    }
   ],
   "source": [
    "for n in range(1,): # to print table of two\n",
    "    print(f'{2} X {n} = {n*2}')"
   ]
  },
  {
   "cell_type": "code",
   "execution_count": 33,
   "metadata": {},
   "outputs": [
    {
     "data": {
      "text/plain": [
       "[(0, 'alice'), (1, 'devid'), (2, 'carolina')]"
      ]
     },
     "execution_count": 33,
     "metadata": {},
     "output_type": "execute_result"
    }
   ],
   "source": [
    "megicians = ['alice','devid','carolina']\n",
    "\n",
    "list(enumerate(megicians)) # enamurate gives the index with the elements"
   ]
  },
  {
   "cell_type": "code",
   "execution_count": 34,
   "metadata": {},
   "outputs": [
    {
     "name": "stdout",
     "output_type": "stream",
     "text": [
      "0 alice\n",
      "1 devid\n",
      "2 carolina\n"
     ]
    }
   ],
   "source": [
    "megicians = ['alice','devid','carolina']\n",
    "#unzipping\n",
    "for index,name in (enumerate(megicians)): # enamurate gives the index with the elements\n",
    "    print(index,name)"
   ]
  },
  {
   "cell_type": "code",
   "execution_count": 36,
   "metadata": {},
   "outputs": [
    {
     "name": "stdout",
     "output_type": "stream",
     "text": [
      "[1, 4, 9, 16, 25, 36, 49, 64, 81, 100]\n"
     ]
    }
   ],
   "source": [
    "# Create an empty list named 'squares' to store the square of numbers\n",
    "squares: list = []\n",
    "\n",
    "# Iterate over a range of numbers from 1 to 10 (inclusive)\n",
    "for value in range(1, 11):\n",
    "    # Calculate the square of each number and assign it to the local variable 'square'\n",
    "    square = value ** 2  # The ** operator is used for exponentiation\n",
    "    # Append the calculated square to the 'squares' list\n",
    "    squares.append(square)\n",
    "\n",
    "# Print the list of squares after the loop has finished executing\n",
    "print(squares)"
   ]
  },
  {
   "cell_type": "markdown",
   "metadata": {},
   "source": [
    "# List comprehensive(shorting)\n",
    "\n",
    "`for item in items_list:`</br>\n",
    "    `loop_body`\n",
    "\n",
    "### Comprehensive Style\n",
    "\n",
    "`[loop_body for item in items_list]`</br>  body of loop in the start of the loop"
   ]
  },
  {
   "cell_type": "code",
   "execution_count": 37,
   "metadata": {},
   "outputs": [
    {
     "data": {
      "text/plain": [
       "[1, 2, 3, 4, 5, 6, 7, 8, 9, 10]"
      ]
     },
     "execution_count": 37,
     "metadata": {},
     "output_type": "execute_result"
    }
   ],
   "source": [
    "list(range(1,11))"
   ]
  },
  {
   "cell_type": "code",
   "execution_count": 38,
   "metadata": {},
   "outputs": [
    {
     "name": "stdout",
     "output_type": "stream",
     "text": [
      "1\n",
      "4\n",
      "9\n",
      "16\n",
      "25\n",
      "36\n",
      "49\n",
      "64\n",
      "81\n",
      "100\n"
     ]
    }
   ],
   "source": [
    "for i in range(1,11): # compresing in next step this\n",
    "    print(i**2)"
   ]
  },
  {
   "cell_type": "markdown",
   "metadata": {},
   "source": [
    "### `comprehensive style`"
   ]
  },
  {
   "cell_type": "code",
   "execution_count": 39,
   "metadata": {},
   "outputs": [
    {
     "data": {
      "text/plain": [
       "[1, 4, 9, 16, 25, 36, 49, 64, 81, 100]"
      ]
     },
     "execution_count": 39,
     "metadata": {},
     "output_type": "execute_result"
    }
   ],
   "source": [
    "[i**2 for i in range(1,11)]# comprehensive style"
   ]
  },
  {
   "cell_type": "code",
   "execution_count": 44,
   "metadata": {},
   "outputs": [
    {
     "name": "stdout",
     "output_type": "stream",
     "text": [
      "[1, 2, 3, 4, 5, 6, 7, 8, 9, 0]\n",
      "0\n",
      "9\n",
      "45\n"
     ]
    }
   ],
   "source": [
    "digits : list[int] = [1,2,3,4,5,6,7,8,9,0]\n",
    "\n",
    "print(digits)\n",
    "print(min(digits))\n",
    "print(max(digits))\n",
    "print(sum(digits))"
   ]
  },
  {
   "cell_type": "code",
   "execution_count": 46,
   "metadata": {},
   "outputs": [
    {
     "name": "stdout",
     "output_type": "stream",
     "text": [
      "['pizza', 'cake', 'karhai']\n",
      "['pizza', 'cake', 'karhai']\n",
      "['pizza', 'cake', 'karhai']\n",
      "['tikka', 'cake', 'karhai']\n"
     ]
    }
   ],
   "source": [
    "foods : list[str] = ['pizza','cake','karhai']\n",
    "frinds_food = foods[:] #in slicing it is always a deep copy\n",
    "\n",
    "print(foods)\n",
    "print(frinds_food)\n",
    "\n",
    "frinds_food[0] = 'tikka'\n",
    "\n",
    "print(foods)\n",
    "print(frinds_food)"
   ]
  },
  {
   "cell_type": "markdown",
   "metadata": {},
   "source": [
    "## Tuples\n",
    "- `Imutable`(not changeable or constant)\n",
    "- We can `re-assign` but not update\n",
    "- We cannot either `update`"
   ]
  },
  {
   "cell_type": "code",
   "execution_count": 47,
   "metadata": {},
   "outputs": [
    {
     "name": "stdout",
     "output_type": "stream",
     "text": [
      "Pakistan\n",
      "('Pakistan', 'B')\n"
     ]
    }
   ],
   "source": [
    "names : tuple[str] = (\"A\", \"B\", \"C\") #cannot assign anything to the variable in tuple\n",
    "names : tuple[str] = (\"Pakistan\", \"B\", \"C\") #cannot assign anything to the variable in tuple\n",
    "print(names[0])\n",
    "print(names[0:2])"
   ]
  },
  {
   "cell_type": "code",
   "execution_count": 49,
   "metadata": {},
   "outputs": [
    {
     "ename": "TypeError",
     "evalue": "'tuple' object does not support item assignment",
     "output_type": "error",
     "traceback": [
      "\u001b[1;31m---------------------------------------------------------------------------\u001b[0m",
      "\u001b[1;31mTypeError\u001b[0m                                 Traceback (most recent call last)",
      "Cell \u001b[1;32mIn[49], line 1\u001b[0m\n\u001b[1;32m----> 1\u001b[0m \u001b[43mnames\u001b[49m\u001b[43m \u001b[49m\u001b[43m[\u001b[49m\u001b[38;5;241;43m0\u001b[39;49m\u001b[43m]\u001b[49m \u001b[38;5;241m=\u001b[39m  \u001b[38;5;124m\"\u001b[39m\u001b[38;5;124mIndia\u001b[39m\u001b[38;5;124m\"\u001b[39m\n",
      "\u001b[1;31mTypeError\u001b[0m: 'tuple' object does not support item assignment"
     ]
    }
   ],
   "source": [
    "names [0] =  \"India\""
   ]
  },
  {
   "cell_type": "code",
   "execution_count": 53,
   "metadata": {},
   "outputs": [
    {
     "name": "stdout",
     "output_type": "stream",
     "text": [
      "[1, 2, 3]\n",
      "[1, 2, 3, 4]\n",
      "('a', [1, 2, 3, 4], True)\n"
     ]
    }
   ],
   "source": [
    "from typing import Any\n",
    "data : tuple[Any] =(\"a\",[1,2,3],True)\n",
    "\n",
    "print(data[1])\n",
    "data[1].append(4) #changes made in object(like list) not in tupple\n",
    "print(data[1])\n",
    "print(data)"
   ]
  },
  {
   "cell_type": "code",
   "execution_count": 51,
   "metadata": {},
   "outputs": [
    {
     "name": "stdout",
     "output_type": "stream",
     "text": [
      "<class 'str'>\n",
      "3445\n"
     ]
    }
   ],
   "source": [
    "a = input(\"abc\") # `input` is by default \n",
    "print(type(a))\n",
    "print(a)"
   ]
  },
  {
   "cell_type": "code",
   "execution_count": 52,
   "metadata": {},
   "outputs": [
    {
     "data": {
      "text/plain": [
       "[1, 4, 5, 7, 8, 9]"
      ]
     },
     "execution_count": 52,
     "metadata": {},
     "output_type": "execute_result"
    }
   ],
   "source": [
    "sorted([8,7,1,4,5,9])"
   ]
  }
 ],
 "metadata": {
  "kernelspec": {
   "display_name": "Python 3",
   "language": "python",
   "name": "python3"
  },
  "language_info": {
   "codemirror_mode": {
    "name": "ipython",
    "version": 3
   },
   "file_extension": ".py",
   "mimetype": "text/x-python",
   "name": "python",
   "nbconvert_exporter": "python",
   "pygments_lexer": "ipython3",
   "version": "3.12.4"
  }
 },
 "nbformat": 4,
 "nbformat_minor": 2
}
