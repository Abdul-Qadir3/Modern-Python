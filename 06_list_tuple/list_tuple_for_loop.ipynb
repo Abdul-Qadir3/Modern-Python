{
 "cells": [
  {
   "cell_type": "markdown",
   "metadata": {},
   "source": [
    "# List\n",
    "* iteration operation with loo\n",
    "* apply any operation on element"
   ]
  },
  {
   "cell_type": "code",
   "execution_count": 2,
   "metadata": {},
   "outputs": [
    {
     "name": "stdout",
     "output_type": "stream",
     "text": [
      "['Abdul', 'Qadir', 'Sir Zia']\n"
     ]
    }
   ],
   "source": [
    "names : list[str] = ['Abdul', 'Qadir', 'Sir Zia']\n",
    "\n",
    "print(names)"
   ]
  },
  {
   "cell_type": "code",
   "execution_count": 5,
   "metadata": {},
   "outputs": [
    {
     "name": "stdout",
     "output_type": "stream",
     "text": [
      "Abdul\n",
      "Qadir\n",
      "Sir Zia\n"
     ]
    }
   ],
   "source": [
    "names : list[str] = ['Abdul', 'Qadir', 'Sir Zia'] # we can perfor iteration using loop on iterartive datatype\n",
    "\n",
    "for name in names:# names = ['Abdul', 'Qadir', 'Sir Zia'], and name = 'Abdul' or 'Qadir' or 'Sir Zia'\n",
    "    print(name)\n",
    "\n",
    "# Abdul(1st iteration)\n",
    "# Qadir(2nd iteration)\n",
    "# Sir Zia(3rd iteration)"
   ]
  },
  {
   "cell_type": "markdown",
   "metadata": {},
   "source": [
    "old method fro above code <br>\n",
    "\n",
    "\n",
    "`names : list[str] = ['Abdul', 'Qadir', 'Sir Zia']\n",
    "`\n",
    "<br> \n",
    "`for(i=0; i<names.length; i++){ <br> \n",
    "`\n",
    "<br> `    names[i]\n",
    "}`"
   ]
  },
  {
   "cell_type": "code",
   "execution_count": 6,
   "metadata": {},
   "outputs": [
    {
     "name": "stdout",
     "output_type": "stream",
     "text": [
      "Abdul is a great guy\n",
      "Qadir is a great guy\n",
      "Sir Zia is a great guy\n"
     ]
    }
   ],
   "source": [
    "# old method fro above code \n",
    "names : list[str] = ['Abdul', 'Qadir', 'Sir Zia']\n",
    "\n",
    "i : int = 0 # initialize counter = 0\n",
    "\n",
    "while i < len(names): # names length = 3\n",
    "    print(f\"{names[i]} is a great guy\")\n",
    "    i += 1"
   ]
  },
  {
   "cell_type": "code",
   "execution_count": 18,
   "metadata": {},
   "outputs": [
    {
     "name": "stdout",
     "output_type": "stream",
     "text": [
      "Welcome to dear teacher Abdul\n",
      "PIAIC Gen AI team\n",
      "\n",
      "Welcome to dear teacher Qadir\n",
      "PIAIC Gen AI team\n",
      "\n",
      "Welcome to dear teacher Sir Zia\n",
      "PIAIC Gen AI team\n",
      "\n",
      "Pakistan Zindabad\n"
     ]
    }
   ],
   "source": [
    "names : list[str] = ['Abdul', 'Qadir', 'Sir Zia']\n",
    "for name in names:\n",
    "    print(f'Welcome to dear teacher {name.title()}')\n",
    "\n",
    "    print(\"PIAIC Gen AI team\\n\")\n",
    "\n",
    "print(\"Pakistan Zindabad\")"
   ]
  },
  {
   "cell_type": "code",
   "execution_count": 29,
   "metadata": {},
   "outputs": [
    {
     "name": "stdout",
     "output_type": "stream",
     "text": [
      "('abdul', '123')\n",
      "('Qadir', '234')\n",
      "('Kashif', '343')\n"
     ]
    }
   ],
   "source": [
    "# from typing import Tuple\n",
    "data_base : list[tuple[str,str]] = [('abdul','123'),   # list of tuples\n",
    "                                    ('Qadir','234'),\n",
    "                                    ('Kashif','343')\n",
    "                                    ]\n",
    "for row in data_base: #iteration on individual elements\n",
    "    print(row)"
   ]
  },
  {
   "cell_type": "code",
   "execution_count": 30,
   "metadata": {},
   "outputs": [
    {
     "name": "stdout",
     "output_type": "stream",
     "text": [
      "abdul 123\n",
      "Qadir 234\n",
      "Kashif 343\n"
     ]
    }
   ],
   "source": [
    "# now unziping\n",
    "data_base : list[tuple[str,str]] = [('abdul','123'),   # list of tuples\n",
    "                                    ('Qadir','234'),\n",
    "                                    ('Kashif','343')\n",
    "                                    ]\n",
    "for row in data_base: #iteration on individual elements\n",
    "    user,password=row #local varibles\n",
    "    print(user,password)"
   ]
  },
  {
   "cell_type": "code",
   "execution_count": 37,
   "metadata": {},
   "outputs": [
    {
     "name": "stdout",
     "output_type": "stream",
     "text": [
      "abdul\n",
      "789\n",
      "Invalid Username or Password\n"
     ]
    }
   ],
   "source": [
    "# Authentication system suing python\n",
    "data_base : list[tuple[str,str]] = [('abdul','123'),   # list of tuples\n",
    "                                    ('Qadir','234'),\n",
    "                                    ('Kashif','343')\n",
    "                                    ]\n",
    "user_input : str = input(\"Input user name \")\n",
    "print(user_input)\n",
    "pass_input : str = input(\"Input password \")\n",
    "print(pass_input)\n",
    "\n",
    "for row in data_base: #iteration on individual elements\n",
    "    user,password=row #local varibles\n",
    "    if user_input == user and pass_input == password:\n",
    "        print (\"Login Successful\")\n",
    "        break\n",
    "else:#no match found after iteration\n",
    "    print (\"Invalid Username or Password\")"
   ]
  },
  {
   "cell_type": "code",
   "execution_count": null,
   "metadata": {},
   "outputs": [],
   "source": [
    "user_input : str = input(\"Input user name \")\n",
    "print(user_input)\n",
    "pass_input : str = input(\"Input password \")\n",
    "print(pass_input)"
   ]
  }
 ],
 "metadata": {
  "kernelspec": {
   "display_name": "Python 3",
   "language": "python",
   "name": "python3"
  },
  "language_info": {
   "codemirror_mode": {
    "name": "ipython",
    "version": 3
   },
   "file_extension": ".py",
   "mimetype": "text/x-python",
   "name": "python",
   "nbconvert_exporter": "python",
   "pygments_lexer": "ipython3",
   "version": "3.12.0"
  }
 },
 "nbformat": 4,
 "nbformat_minor": 2
}
