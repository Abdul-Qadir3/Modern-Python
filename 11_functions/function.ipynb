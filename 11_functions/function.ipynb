{
 "cells": [
  {
   "cell_type": "markdown",
   "metadata": {},
   "source": [
    "# <b> Functions\n",
    "Functions in Python are `blocks` of `reusable` code that perform a `specific task`.<br>\n",
    "Functions are defined using the `def` keyword followed by the function name and parentheses `( )` containing optional parameters.<br>\n",
    "\n",
    "\n",
    "#### <b>Functions Types\n",
    "* Pre-defined functions\n",
    "  * provided by in language\n",
    "  * Examples include print(), len(), max(), min(), sum()\n",
    "* User defined function\n",
    "  * custom function\n",
    "  * These are functions defined by the user to perform a specific task or set of tasks.\n",
    "* Return and non-Return function\n",
    "  * Return\n",
    "    * we can assign this function output in any variable\n",
    "  * Non-Return function\n",
    "    * do not have an assignment statement, only run cant assign value to variable"
   ]
  },
  {
   "cell_type": "markdown",
   "metadata": {},
   "source": [
    "#### <b>Functions Components\n",
    "- `Function Declaration`\n",
    "  - `def` reserve keyword for function\n",
    "  - function name `unique` also not `reserved keyword`\n",
    "  - parameters\n",
    "    - param1 : type\n",
    "    - param2 : type\n",
    "  - return output type `->string`\n",
    "- `Function Body`\n",
    "  - any logic here in body\n",
    "- `Function Calling`\n",
    "  - function(args1,args2)"
   ]
  },
  {
   "cell_type": "markdown",
   "metadata": {},
   "source": [
    "#### <b>SYNTAX Function\n",
    "```\n",
    "def function_name(parameter_1:type,parameter_2:type,.........)->Return_type:\n",
    "    function_body\n",
    "\n",
    "function_name(parameter_1,parameter_2)\n",
    "```"
   ]
  },
  {
   "cell_type": "markdown",
   "metadata": {
    "vscode": {
     "languageId": "plaintext"
    }
   },
   "source": [
    "# Pre-defined function\n",
    "These are some of the commonly used predefined functions in Python, each serving a specific purpose in programming and data manipulation tasks.\n",
    "\n",
    "1. **print()**: Outputs the given object to the console.\n",
    "2. **input()**: Reads input from the user through the console.\n",
    "3. **len()**: Returns the length (number of items) of an object like a string, list, tuple, etc.\n",
    "4. **type()**: Returns the type of an object.\n",
    "5. **range()**: Generates a sequence of numbers.\n",
    "6. **int()**: Converts a string or a number to an integer.\n",
    "7. **float()**: Converts a string or a number to a floating-point number.\n",
    "8. **str()**: Converts an object to a string.\n",
    "9. **list()**: Creates a list from an iterable object.\n",
    "10. **tuple()**: Creates a tuple from an iterable object.\n",
    "11. **dict()**: Creates a dictionary from an iterable of key-value pairs.\n",
    "12. **set()**: Creates a set from an iterable object.\n",
    "13. **sorted()**: Returns a new sorted list from the elements of any iterable.\n",
    "14. **sum()**: Returns the sum of all elements in an iterable.\n",
    "15. **max()**: Returns the largest item in an iterable.\n",
    "16. **min()**: Returns the smallest item in an iterable.\n",
    "17. **abs()**: Returns the absolute value of a number.\n",
    "18. **round()**: Rounds a floating-point number to the nearest integer.\n",
    "19. **pow()**: Returns x to the power of y (x^y).\n",
    "20. **enumerate()**: Returns an enumerate object that yields pairs of indexes and values.\n",
    "21. **zip()**: Returns an iterator that aggregates elements from multiple iterables.\n",
    "22. **map()**: Applies a function to all the items in an input iterable.\n",
    "23. **filter()**: Constructs an iterator from elements of an iterable for which a function returns true.\n",
    "24. **all()**: Returns True if all elements of an iterable are true.\n",
    "25. **any()**: Returns True if any element of an iterable is true.\n",
    " "
   ]
  },
  {
   "cell_type": "code",
   "execution_count": 11,
   "metadata": {},
   "outputs": [
    {
     "name": "stdout",
     "output_type": "stream",
     "text": [
      "Pakistan\n"
     ]
    },
    {
     "data": {
      "text/plain": [
       "None"
      ]
     },
     "metadata": {},
     "output_type": "display_data"
    }
   ],
   "source": [
    "a : str = print(\"Pakistan\")# id displays \"pakstan\" the print is return function if not print in non-return function\n",
    "\n",
    "display(a) #None"
   ]
  },
  {
   "cell_type": "markdown",
   "metadata": {},
   "source": [
    "#### Differece b/w function and method is methode always comes after variable using `.` likewise `variable.methode_name()`"
   ]
  },
  {
   "cell_type": "code",
   "execution_count": 12,
   "metadata": {},
   "outputs": [
    {
     "data": {
      "text/plain": [
       "8"
      ]
     },
     "metadata": {},
     "output_type": "display_data"
    }
   ],
   "source": [
    "# methods also have rounda brackets\n",
    "# variable.methode_name()\n",
    "a : int = len(\"Pakistan\") # a=8\n",
    "\n",
    "display(a) # `len` is Return function"
   ]
  },
  {
   "cell_type": "markdown",
   "metadata": {},
   "source": [
    "### <b>Create a simple function without any argument that is called default function"
   ]
  },
  {
   "cell_type": "code",
   "execution_count": 13,
   "metadata": {},
   "outputs": [
    {
     "name": "stdout",
     "output_type": "stream",
     "text": [
      "Welecome to PIAIC GenAI\n",
      "Welecome to PIAIC Python Course\n"
     ]
    }
   ],
   "source": [
    "# By default return is none\n",
    "# will not take any parameter\n",
    "\n",
    "def piaic()->None: #function declaration/signature that dont take any argument \n",
    "    #function body starts here\n",
    "    \n",
    "    print(\"Welecome to PIAIC GenAI\")#statement 1\n",
    "    print(\"Welecome to PIAIC Python Course\")#statement 2\n",
    "    \n",
    "    # function body ends here\n",
    "\n",
    "piaic()     #function calling"
   ]
  },
  {
   "cell_type": "code",
   "execution_count": 14,
   "metadata": {},
   "outputs": [
    {
     "name": "stdout",
     "output_type": "stream",
     "text": [
      "Welecome to PIAIC GenAI\n",
      "Welecome to PIAIC Python Course\n",
      "Welecome to PIAIC GenAI\n",
      "Welecome to PIAIC Python Course\n"
     ]
    }
   ],
   "source": [
    "piaic()# function calling\n",
    "piaic()# function calling"
   ]
  },
  {
   "cell_type": "code",
   "execution_count": 15,
   "metadata": {},
   "outputs": [
    {
     "name": "stdout",
     "output_type": "stream",
     "text": [
      "Welecome to PIAIC GenAI\n",
      "Welecome to PIAIC Python Course\n",
      "None\n",
      "Welecome to PIAIC GenAI\n",
      "Welecome to PIAIC Python Course\n",
      "None\n",
      "Welecome to PIAIC GenAI\n",
      "Welecome to PIAIC Python Course\n",
      "None\n",
      "Welecome to PIAIC GenAI\n",
      "Welecome to PIAIC Python Course\n",
      "None\n"
     ]
    }
   ],
   "source": [
    "# now CAN BE CALLED ANywhere in the program\n",
    "# calling function in for loop\n",
    "for i in range(0,4):\n",
    "\n",
    "    print(piaic())# function calling"
   ]
  },
  {
   "cell_type": "markdown",
   "metadata": {},
   "source": [
    "### <b>Required parameter function"
   ]
  },
  {
   "cell_type": "code",
   "execution_count": 16,
   "metadata": {},
   "outputs": [
    {
     "data": {
      "text/plain": [
       "27"
      ]
     },
     "execution_count": 16,
     "metadata": {},
     "output_type": "execute_result"
    }
   ],
   "source": [
    "# arguments and parameters\n",
    "#                param1   param2\n",
    "\n",
    "def add_two_nums(num1:int,num2:int)->int: # num1 and num2 are parameters\n",
    "    return num1 + num2\n",
    "\n",
    "#          arg1 , arg2\n",
    "add_two_nums(7,20)# 7 and 20 are arguments"
   ]
  },
  {
   "cell_type": "code",
   "execution_count": 17,
   "metadata": {},
   "outputs": [
    {
     "ename": "TypeError",
     "evalue": "add_two_nums() missing 1 required positional argument: 'num2'",
     "output_type": "error",
     "traceback": [
      "\u001b[1;31m---------------------------------------------------------------------------\u001b[0m",
      "\u001b[1;31mTypeError\u001b[0m                                 Traceback (most recent call last)",
      "Cell \u001b[1;32mIn[17], line 1\u001b[0m\n\u001b[1;32m----> 1\u001b[0m \u001b[43madd_two_nums\u001b[49m\u001b[43m(\u001b[49m\u001b[38;5;241;43m6\u001b[39;49m\u001b[43m)\u001b[49m \u001b[38;5;66;03m# requres both arguments otherwise will generate error\u001b[39;00m\n",
      "\u001b[1;31mTypeError\u001b[0m: add_two_nums() missing 1 required positional argument: 'num2'"
     ]
    }
   ],
   "source": [
    "add_two_nums(6) # requres both arguments otherwise will generate error"
   ]
  },
  {
   "cell_type": "markdown",
   "metadata": {},
   "source": [
    "### Function with optional parameters"
   ]
  },
  {
   "cell_type": "code",
   "execution_count": 18,
   "metadata": {},
   "outputs": [
    {
     "name": "stdout",
     "output_type": "stream",
     "text": [
      "7 0\n"
     ]
    },
    {
     "data": {
      "text/plain": [
       "7"
      ]
     },
     "execution_count": 18,
     "metadata": {},
     "output_type": "execute_result"
    }
   ],
   "source": [
    "def add_two_numbers(num1:int,num2:int =0) -> int: #default value is `0` works as optional\n",
    "    print(num1,num2)\n",
    "    return num1 + num2\n",
    "\n",
    "add_two_numbers(7) #takes num2 as 0"
   ]
  },
  {
   "cell_type": "code",
   "execution_count": 19,
   "metadata": {},
   "outputs": [
    {
     "name": "stdout",
     "output_type": "stream",
     "text": [
      "7 3\n"
     ]
    },
    {
     "data": {
      "text/plain": [
       "10"
      ]
     },
     "execution_count": 19,
     "metadata": {},
     "output_type": "execute_result"
    }
   ],
   "source": [
    "add_two_numbers(7,3) #overwrites num2 from 0 to 3"
   ]
  },
  {
   "cell_type": "markdown",
   "metadata": {},
   "source": [
    "## <b>Lamda function\n",
    "A `lambda` function in Python is a `small, anonymous` function defined using the `lambda` keyword.\n",
    "A small function for a short period of time, such as sorting or filtering data, passing a function as an argument to another function, or creating simple one-liners.\n",
    "#### Syntax\n",
    "**`lambda arguments: expression`**\n",
    "\n",
    "**lambda:** Keyword used to define a lambda function.<br>\n",
    "**arguments:** Comma-separated list of input parameters to the function.<br>\n",
    "**expression:** Single expression whose result is returned by the function.<br>\n",
    "\n",
    "* one line function\n",
    "* without name function\n",
    "* only use in this once on that line\n",
    "* not used before nore can be used after"
   ]
  },
  {
   "cell_type": "markdown",
   "metadata": {},
   "source": [
    "<b><u><i>\n",
    "```\n",
    "lamda parameter_1 , parameter_2 : function_body\n",
    "```"
   ]
  },
  {
   "cell_type": "code",
   "execution_count": 20,
   "metadata": {},
   "outputs": [
    {
     "name": "stdout",
     "output_type": "stream",
     "text": [
      "11\n"
     ]
    }
   ],
   "source": [
    "# Define a lambda function named 'a' that takes two arguments 'num1' and 'num2'\n",
    "# and returns the sum of the two numbers.\n",
    "a = lambda num1, num2: num1 + num2\n",
    "\n",
    "# Call the lambda function 'a' with arguments 7 and 4.\n",
    "# This will return the result of adding 7 and 4.\n",
    "result = a(7, 4)\n",
    "\n",
    "# Print the result of the lambda function call.\n",
    "print(result)  # Output: 11\n"
   ]
  },
  {
   "cell_type": "code",
   "execution_count": 21,
   "metadata": {},
   "outputs": [
    {
     "data": {
      "text/plain": [
       "[1, 4, 9, 16, 25, 36, 49, 64, 81, 100]"
      ]
     },
     "execution_count": 21,
     "metadata": {},
     "output_type": "execute_result"
    }
   ],
   "source": [
    "# Define a list of integers\n",
    "data: list[int] = [1, 2, 3, 4, 5, 6, 7, 8, 9, 10] # iterative datatype\n",
    "\n",
    "# Use the map function with a lambda function to square each element of the list\n",
    "# The lambda function takes one argument 'x' and returns 'x' squared\n",
    "# Map applies this lambda function to each element of the 'data' list\n",
    "# Convert the result of map to a list to obtain the squared values\n",
    "data = list(map(lambda x: x ** 2, data))\n",
    "\n",
    "# Print the updated 'data' list\n",
    "data"
   ]
  },
  {
   "cell_type": "code",
   "execution_count": 22,
   "metadata": {},
   "outputs": [
    {
     "data": {
      "text/plain": [
       "[2, 4, 6, 8, 10]"
      ]
     },
     "execution_count": 22,
     "metadata": {},
     "output_type": "execute_result"
    }
   ],
   "source": [
    "# Define a list of integers\n",
    "data: list[int] = [1, 2, 3, 4, 5, 6, 7, 8, 9, 10]\n",
    "\n",
    "# Use filter() function with a lambda function to filter even numbers from the list\n",
    "# The lambda function returns True if the number is even (divisible by 2), False otherwise\n",
    "# The filter() function returns an iterator containing only the elements for which the lambda function returns True\n",
    "# Convert the iterator to a list to get the filtered even numbers\n",
    "data = list(filter(lambda x: x % 2 == 0, data)) # list function iterated as the filter is a generator function\n",
    "\n",
    "data"
   ]
  },
  {
   "cell_type": "code",
   "execution_count": 23,
   "metadata": {},
   "outputs": [
    {
     "name": "stdout",
     "output_type": "stream",
     "text": [
      "The result is 30\n"
     ]
    }
   ],
   "source": [
    "# Importing the Callable type hint from the typing module\n",
    "from typing import Callable\n",
    "\n",
    "# Defining a variable 'a' with type hint Callable[[int, int], int]\n",
    "# This indicates that 'a' is a callable that takes two integer arguments and returns an integer\n",
    "a: Callable[[int, int], int] = lambda x, y: x + y\n",
    "\n",
    "#It is used to specify the expected signature of a callable, \n",
    "#including the types of its arguments and the type of its return value.\n",
    "# Calling the callable 'a' with arguments 10 and 20 and storing the result in 'result'\n",
    "result = a(10, 20)\n",
    "\n",
    "# Printing the result\n",
    "print(f\"The result is {result}\")"
   ]
  },
  {
   "cell_type": "markdown",
   "metadata": {},
   "source": [
    "## Generator function\n",
    "Generator functions are used to handle `big data`\n",
    "- A `generator function` in Python is like a `regular function`, but instead of returning a single value, it `yields` a sequence of values one at a time.<br>\n",
    "\n",
    "- A generator functions provide a `convenient` and `memory-efficient` way to `generate sequences` of values without needing to `store` them all in memory at once.<br>\n",
    "\n",
    "- They are particularly `useful` for tasks like `reading large files`, `generating permutations`, or `processing data` in chunks."
   ]
  },
  {
   "cell_type": "markdown",
   "metadata": {},
   "source": [
    "1. `Iterate` on element one by one \n",
    "2. `stops` after every itration\n",
    "3. remember `old` iteration value(last iterate value)\n",
    "4. next iterate \n",
    "   1. go forward from last iterate value"
   ]
  },
  {
   "cell_type": "code",
   "execution_count": null,
   "metadata": {},
   "outputs": [
    {
     "data": {
      "text/plain": [
       "[2, 4, 6, 8, 10, 12, 14, 16, 18]"
      ]
     },
     "execution_count": 29,
     "metadata": {},
     "output_type": "execute_result"
    }
   ],
   "source": [
    "data : list[int]= list(filter(lambda x: x%2==0 , range(1,20)))\n",
    "data"
   ]
  },
  {
   "cell_type": "code",
   "execution_count": 26,
   "metadata": {},
   "outputs": [
    {
     "data": {
      "text/plain": [
       "[7, 14, 21, 28, 35, 42, 49, 56, 63, 70, 77, 84, 91, 98]"
      ]
     },
     "execution_count": 26,
     "metadata": {},
     "output_type": "execute_result"
    }
   ],
   "source": [
    "data : list[int]= list(filter(lambda x: x%7==0 , range(1,101)))\n",
    "data"
   ]
  },
  {
   "cell_type": "code",
   "execution_count": 27,
   "metadata": {},
   "outputs": [
    {
     "data": {
      "text/plain": [
       "[1, 3, 5, 7, 9, 11, 13, 15, 17, 19]"
      ]
     },
     "execution_count": 27,
     "metadata": {},
     "output_type": "execute_result"
    }
   ],
   "source": [
    "data : list[int]= list(filter(lambda x: x%2==1 , range(1,20)))\n",
    "data"
   ]
  },
  {
   "cell_type": "code",
   "execution_count": 28,
   "metadata": {},
   "outputs": [
    {
     "name": "stdout",
     "output_type": "stream",
     "text": [
      "2\n",
      "4\n",
      "6\n",
      "8\n",
      "10\n",
      "12\n"
     ]
    }
   ],
   "source": [
    "data : list[int]= filter(lambda x: x%2==0 , range(1,20))\n",
    "print(next(data)) \n",
    "print(next(data))\n",
    "print(next(data))\n",
    "print(next(data))\n",
    "print(next(data))\n",
    "print(next(data))# generator function always reembesrs the last iterative value"
   ]
  },
  {
   "cell_type": "code",
   "execution_count": 29,
   "metadata": {},
   "outputs": [
    {
     "name": "stdout",
     "output_type": "stream",
     "text": [
      "<generator object my_range at 0x0000018D3F3A6020>\n",
      "[1, 2, 3, 4, 5, 6, 7, 8, 9, 10]\n"
     ]
    }
   ],
   "source": [
    "# Define a custom generator function named my_range\n",
    "# It takes three parameters: start (int), end (int), and step (int), with a default value of 1 for step\n",
    "\n",
    "def my_range(start: int, end: int, step: int = 1):\n",
    "    \n",
    "    # Iterate over the range using the range() function with the given start, end, and step\n",
    "    for i in range(start, end + 1, step):\n",
    "        \n",
    "        # Yield the current value of the iteration\n",
    "        yield i  # The yield statement indicates that this function is a generator function\n",
    "\n",
    "# Call the custom generator function my_range with arguments 1 and 10\n",
    "a = my_range(1, 10)\n",
    "\n",
    "# Print the generator object 'a' which represents the generator function\n",
    "print(a)  # This will print something like \"<generator object my_range at 0x00000123456789AB>\"\n",
    "\n",
    "# Convert the generator object 'a' to a list to consume its elements and print them\n",
    "print(list(a))  # This will print the list of integers from 1 to 10"
   ]
  },
  {
   "cell_type": "code",
   "execution_count": 30,
   "metadata": {},
   "outputs": [
    {
     "data": {
      "text/plain": [
       "['__class__',\n",
       " '__del__',\n",
       " '__delattr__',\n",
       " '__dir__',\n",
       " '__doc__',\n",
       " '__eq__',\n",
       " '__format__',\n",
       " '__ge__',\n",
       " '__getattribute__',\n",
       " '__getstate__',\n",
       " '__gt__',\n",
       " '__hash__',\n",
       " '__init__',\n",
       " '__init_subclass__',\n",
       " '__iter__',\n",
       " '__le__',\n",
       " '__lt__',\n",
       " '__name__',\n",
       " '__ne__',\n",
       " '__new__',\n",
       " '__next__',\n",
       " '__qualname__',\n",
       " '__reduce__',\n",
       " '__reduce_ex__',\n",
       " '__repr__',\n",
       " '__setattr__',\n",
       " '__sizeof__',\n",
       " '__str__',\n",
       " '__subclasshook__',\n",
       " 'close',\n",
       " 'gi_code',\n",
       " 'gi_frame',\n",
       " 'gi_running',\n",
       " 'gi_suspended',\n",
       " 'gi_yieldfrom',\n",
       " 'send',\n",
       " 'throw']"
      ]
     },
     "execution_count": 30,
     "metadata": {},
     "output_type": "execute_result"
    }
   ],
   "source": [
    "dir(a)"
   ]
  },
  {
   "cell_type": "markdown",
   "metadata": {},
   "source": [
    "## High order function\n",
    "- A `higher-order function` is a function that can take `other functions` as `arguments` or return functions as results.<br>\n",
    "\n",
    "- In Python, functions are `first-class` citizens, meaning they can be `passed` around and used as `arguments` just like any `other data type`. <br>\n",
    "\n",
    "- Higher-order functions `enable functional programming` paradigms such as `map, filter, and reduce`."
   ]
  },
  {
   "cell_type": "code",
   "execution_count": 31,
   "metadata": {},
   "outputs": [
    {
     "name": "stdout",
     "output_type": "stream",
     "text": [
      "[2, 4, 6, 8]\n"
     ]
    }
   ],
   "source": [
    "# Example of a higher-order function: map()\n",
    "# It takes a function (in this case, lambda) and an iterable as arguments\n",
    "# It applies the function to each element of the iterable and returns a new iterable with the results\n",
    "result = map(lambda x: x * 2, [1, 2, 3, 4])\n",
    "print(list(result))  # Output: [2, 4, 6, 8]"
   ]
  },
  {
   "cell_type": "code",
   "execution_count": 32,
   "metadata": {},
   "outputs": [
    {
     "name": "stdout",
     "output_type": "stream",
     "text": [
      "1\n",
      "2\n",
      "<class 'generator'>\n"
     ]
    }
   ],
   "source": [
    "# Import the Iterator class from the collections.abc module\n",
    "# .abc (abstract bassed classes)\n",
    "from collections.abc import Iterator\n",
    "\n",
    "# Define a custom range function using a generator function, which yields values from start to end with a specified step\n",
    "# This function yields integers from 'start' to 'end' (inclusive) with a given 'step'\n",
    "def my_range(start: int, end: int, step: int = 1):\n",
    "    for i in range(start, end + 1, step):\n",
    "        yield i\n",
    "\n",
    "# Create an iterator 'a' by calling the custom range function with arguments (1, 10)\n",
    "Iterator_variable : Iterator[int] = my_range(1, 10)\n",
    "\n",
    "# Print the first value of the iterator 'a' using the next() function\n",
    "print(next(Iterator_variable))\n",
    "\n",
    "# Print the second value of the iterator 'a' using the next() function\n",
    "print(next(Iterator_variable))\n",
    "\n",
    "# Print the type of the iterator 'a'\n",
    "print(type(Iterator_variable))"
   ]
  },
  {
   "cell_type": "code",
   "execution_count": 33,
   "metadata": {},
   "outputs": [
    {
     "name": "stdout",
     "output_type": "stream",
     "text": [
      "3\n",
      "4\n",
      "5\n",
      "6\n",
      "7\n",
      "8\n",
      "9\n",
      "10\n"
     ]
    }
   ],
   "source": [
    "for i in Iterator_variable:\n",
    "    print(i)"
   ]
  },
  {
   "cell_type": "code",
   "execution_count": 34,
   "metadata": {},
   "outputs": [
    {
     "name": "stdout",
     "output_type": "stream",
     "text": [
      "0\n",
      "1\n",
      "2\n",
      "3\n",
      "4\n",
      "5\n",
      "6\n",
      "7\n",
      "8\n",
      "9\n",
      "10\n",
      "11\n"
     ]
    }
   ],
   "source": [
    "for i in range(12):\n",
    "    print(i)"
   ]
  },
  {
   "cell_type": "markdown",
   "metadata": {},
   "source": [
    "### Passing unlimited parameter argument"
   ]
  },
  {
   "cell_type": "code",
   "execution_count": 37,
   "metadata": {},
   "outputs": [
    {
     "name": "stdout",
     "output_type": "stream",
     "text": [
      "(1, 2, 3, 4, 56, 7, 8, 23, 4, 5) <class 'tuple'>\n"
     ]
    }
   ],
   "source": [
    "def abc(*a):\n",
    "    print(a,type(a))\n",
    "\n",
    "abc(1,2,3,4,56,7,8,23,4,5)"
   ]
  },
  {
   "cell_type": "code",
   "execution_count": 38,
   "metadata": {},
   "outputs": [
    {
     "name": "stdout",
     "output_type": "stream",
     "text": [
      "(1, 2, 3, 4, 5, 6, 6) <class 'tuple'>\n"
     ]
    }
   ],
   "source": [
    "# Define a function named 'abc' with a variable number of positional arguments\n",
    "# *nums, which indicates that the function can accept any number of positional arguments. \n",
    "# These arguments are collected into a tuple named nums.\n",
    "\n",
    "def abc(*nums): # unlimited comma separeted (single *)\n",
    "    # Print the arguments passed to the function and their type\n",
    "    print(nums, type(nums))\n",
    "\n",
    "# Call the function 'abc' with multiple arguments\n",
    "abc(1, 2, 3, 4, 5, 6, 6)"
   ]
  },
  {
   "cell_type": "code",
   "execution_count": 40,
   "metadata": {},
   "outputs": [
    {
     "name": "stdout",
     "output_type": "stream",
     "text": [
      "(1, 2, 3, 4, 5, 67, 7, 6, 5, 2) <class 'tuple'>\n"
     ]
    },
    {
     "data": {
      "text/plain": [
       "102"
      ]
     },
     "execution_count": 40,
     "metadata": {},
     "output_type": "execute_result"
    }
   ],
   "source": [
    "def abc(*nums):\n",
    "    print(nums, type(nums))\n",
    "    total = 0\n",
    "    for n in nums:\n",
    "        total += n\n",
    "    return total\n",
    "\n",
    "abc(1,2,3,4,5,67,7,6,5,2)"
   ]
  },
  {
   "cell_type": "code",
   "execution_count": 43,
   "metadata": {},
   "outputs": [
    {
     "name": "stdout",
     "output_type": "stream",
     "text": [
      "num1 value 7 and num2 value 20\n"
     ]
    },
    {
     "data": {
      "text/plain": [
       "27"
      ]
     },
     "execution_count": 43,
     "metadata": {},
     "output_type": "execute_result"
    }
   ],
   "source": [
    "# Define a function named add_two_numbers that takes two integer parameters (num1 and num2)\n",
    "# and returns an integer.\n",
    "def add_two_numbers(num1: int, num2: int) -> int:\n",
    "    \n",
    "    # Print the values of num1 and num2 using an f-string.\n",
    "    print(f\"num1 value {num1} and num2 value {num2}\")\n",
    "    \n",
    "    # Return the sum of num1 and num2.\n",
    "    return num1 + num2\n",
    "\n",
    "# Call the add_two_numbers function with positional arguments.\n",
    "# The first argument 7 will be assigned to num1, and the second argument 20 will be assigned to num2.\n",
    "add_two_numbers(7, 20)\n",
    "# Output: num1 value 7 and num2 value 20\n",
    "#         27 (the sum of 7 and 20)"
   ]
  },
  {
   "cell_type": "code",
   "execution_count": 44,
   "metadata": {},
   "outputs": [
    {
     "name": "stdout",
     "output_type": "stream",
     "text": [
      "num1 value 20 and num2 value 7\n",
      "Result: 27\n"
     ]
    }
   ],
   "source": [
    "def add_two_numbers(num1: int, num2: int) -> int:\n",
    "    \"\"\"\n",
    "    This function takes two integer numbers as input parameters and returns their sum.\n",
    "\n",
    "    Parameters:\n",
    "        num1 (int): The first integer number.\n",
    "        num2 (int): The second integer number.\n",
    "\n",
    "    Returns:\n",
    "        int: The sum of num1 and num2.\n",
    "    \"\"\"\n",
    "    # Print the values of num1 and num2 for debugging purposes\n",
    "    print(f\"num1 value {num1} and num2 value {num2}\")\n",
    "\n",
    "    # Return the sum of num1 and num2\n",
    "    return num1 + num2\n",
    "\n",
    "# Example usage: passing values through key word arguments\n",
    "# The first value will be assigned to num1 and the second value will be assigned to num2\n",
    "result = add_two_numbers(num2=7, num1=20) #assign value with the name of the variable\n",
    "\n",
    "print(\"Result:\", result)  # Output: Result: 27"
   ]
  },
  {
   "cell_type": "code",
   "execution_count": 45,
   "metadata": {},
   "outputs": [
    {
     "name": "stdout",
     "output_type": "stream",
     "text": [
      "{'a': 4, 'b': 5, 'c': 6, 'name': 'abdul Qadir'} <class 'dict'>\n"
     ]
    }
   ],
   "source": [
    "def xyz(**kargs): # double staric for unlimited key word arguments\n",
    "    print(kargs,type(kargs))\n",
    "\n",
    "xyz(a=4, b= 5, c= 6 , name= \"abdul Qadir\") # key word arguments"
   ]
  },
  {
   "cell_type": "code",
   "execution_count": 46,
   "metadata": {},
   "outputs": [
    {
     "name": "stdout",
     "output_type": "stream",
     "text": [
      "1 2 (3, 4, 5, 67, 3, 6, 7, 5, 4) {'c': 3, 'd': 4, 'f': 4}\n"
     ]
    }
   ],
   "source": [
    "def my_function(a,b, *abc, **xyz):\n",
    "    print(a,b,abc,xyz)\n",
    "\n",
    "my_function(1,2,  3,4,5,67,3,6,7,5,4,  c=3, d=4, f=4)"
   ]
  },
  {
   "cell_type": "code",
   "execution_count": 47,
   "metadata": {},
   "outputs": [
    {
     "name": "stdout",
     "output_type": "stream",
     "text": [
      "Hello abdul\n",
      "Hello asif\n",
      "Hello kashif\n"
     ]
    }
   ],
   "source": [
    "from typing import Tuple\n",
    "\n",
    "# Define a function named greet that accepts a variable number of arguments as a tuple.\n",
    "# The elements of the tuple are expected to be strings.\n",
    "# The function does not return any value (None).\n",
    "def greet(*name: Tuple[str, ...]) -> None: #... shows unlimited\n",
    "    \"\"\"\n",
    "    This function greets all the persons in the tuple.\n",
    "    \"\"\"\n",
    "\n",
    "    # Iterate through each name in the tuple.\n",
    "    for i in name:\n",
    "        # Print a greeting message for each name.\n",
    "        print(f\"Hello {i}\")\n",
    "\n",
    "# Call the greet function with three string arguments.\n",
    "greet(\"abdul\", \"asif\", \"kashif\")"
   ]
  },
  {
   "cell_type": "code",
   "execution_count": null,
   "metadata": {},
   "outputs": [
    {
     "name": "stdout",
     "output_type": "stream",
     "text": [
      "{'a': 'abdul', 'b': 'asif', 'c': 'kashif'}\n"
     ]
    }
   ],
   "source": [
    "from typing import Dict\n",
    "\n",
    "# Define a function named greet that accepts a variable number of arguments as a tuple.\n",
    "# The elements of the tuple are expected to be strings.\n",
    "# The function does not return any value (None).\n",
    "def greet(**xyz: dict[str, str]) -> None:\n",
    "    print(xyz)\n",
    "\n",
    "# Call the greet function with three string arguments.\n",
    "greet(a=\"abdul\", b=\"asif\", c=\"kashif\")"
   ]
  },
  {
   "cell_type": "code",
   "execution_count": 48,
   "metadata": {},
   "outputs": [
    {
     "name": "stdout",
     "output_type": "stream",
     "text": [
      "2 4 (4, 5, 6, 78, 3) {'x': 4, 'y': 6, 'z': 3}\n"
     ]
    }
   ],
   "source": [
    "# Define a function named my_funct with parameters a and b (both integers),\n",
    "# *abc (a variable-length argument tuple), and **xyz (a variable-length keyword argument dictionary).\n",
    "# The function returns None.\n",
    "def my_funct(a: int, b: int, *abc: int, **xyz: int) -> None:\n",
    "    \n",
    "    # Print the values of a, b, abc (tuple containing variable arguments),\n",
    "    # and xyz (dictionary containing variable keyword arguments).\n",
    "    print(a, b, abc, xyz)\n",
    "\n",
    "# Call the my_funct function with the following arguments:\n",
    "# a=2, b=4, and variable arguments 4, 5, 6, 78, 3 (which are packed into the abc tuple),\n",
    "# and variable keyword arguments x=4, y=6, z=3 (which are packed into the xyz dictionary).\n",
    "my_funct(2, 4, 4, 5, 6, 78, 3, x=4, y=6, z=3)\n",
    "# Output: 2 4 (4, 5, 6, 78, 3) {'x': 4, 'y': 6, 'z': 3}\n"
   ]
  },
  {
   "cell_type": "markdown",
   "metadata": {},
   "source": [
    "## <b>Decorators function\n",
    "To `connects` your function with other function <br>\n",
    "Like in `flask` we define `route` using `decorator`\n",
    "\n",
    "- Decorators are a powerful feature in Python that allow you to `modify` or `extend` the `behavior` of `functions or methods` without changing their code directly. \n",
    "\n",
    "- They are `essentially functions` that `take another function` as an `argument and return` a `new function`, usually `adding` some kind of `functionality` to the `original function`."
   ]
  },
  {
   "cell_type": "markdown",
   "metadata": {},
   "source": [
    "#### Here's a breakdown of how a decorator function works:\n",
    "\n",
    "1. **Definition:** First, you define a decorator function. This function typically accepts a function (let's call it func) as an argument.<br>\n",
    "\n",
    "2. **Wrapper Function:** Inside the decorator function, you define a new function called a `wrapper function`. This wrapper function typically does something `before or after` calling the `original function func`.<br>\n",
    "\n",
    "3. **Returning the Wrapper:** Finally, the decorator function `returns the wrapper function`. This effectively replaces the `original function` with the `wrapper function`.<br>\n",
    "\n",
    "4. **Usage:** You apply the decorator to a function using the `@` symbol followed by the decorator function's name directly above the `function definition`. This indicates that the function should be decorated."
   ]
  },
  {
   "cell_type": "code",
   "execution_count": 49,
   "metadata": {},
   "outputs": [
    {
     "name": "stdout",
     "output_type": "stream",
     "text": [
      "Something is happening before the function is called.\n",
      "100\n",
      "100\n",
      "Something is happening after the function is called.\n"
     ]
    }
   ],
   "source": [
    "from typing import Callable\n",
    "\n",
    "# Define a decorator function that takes a function (func) as input and returns a function.\n",
    "# The input function should have no arguments and return None.\n",
    "def my_decorator(func: Callable[[], None]) -> Callable[[], None]:\n",
    "    \n",
    "    # Define a wrapper function that will replace the original function.\n",
    "    # This wrapper function will execute additional behavior before and after calling the original function.\n",
    "    def wrapper(num1 : int) -> None:\n",
    "        \n",
    "        # Print a message before calling the original function.\n",
    "        print(\"Something is happening before the function is called.\")\n",
    "        \n",
    "        # Call the original function.\n",
    "        func(num1)\n",
    "        func(num1)\n",
    "        \n",
    "        # Print a message after calling the original function.\n",
    "        print(\"Something is happening after the function is called.\")\n",
    "    \n",
    "    # Return the wrapper function.\n",
    "    return wrapper\n",
    "\n",
    "# Decorate the say_hello function using the my_decorator function.\n",
    "@my_decorator\n",
    "def say_hello(num1 : int) -> None:\n",
    "   \n",
    "    # Define the original function that will be decorated.\n",
    "    print(num1)\n",
    "\n",
    "# Call the decorated say_hello function.\n",
    "say_hello(100)"
   ]
  },
  {
   "cell_type": "code",
   "execution_count": 52,
   "metadata": {},
   "outputs": [
    {
     "name": "stdout",
     "output_type": "stream",
     "text": [
      "Something is happening before the function is called.\n",
      "Hello\n",
      "Something is happening after the function is called.\n",
      "Hello\n"
     ]
    }
   ],
   "source": [
    "from typing import Callable\n",
    "\n",
    "# Define a decorator function that takes a function (func) as input and returns a function.\n",
    "# The input function should have no arguments and return None.\n",
    "def my_decorator(func: Callable[[], None]) -> Callable[[], None]:\n",
    "    \n",
    "    # Define a wrapper function that will replace the original function.\n",
    "    # This wrapper function will execute additional behavior before and after calling the original function.\n",
    "    def wrapper(num1 : str) -> None:\n",
    "        \n",
    "        # Print a message before calling the original function.\n",
    "        print(\"Something is happening before the function is called.\")\n",
    "        \n",
    "        # Call the original function.\n",
    "        func(num1)\n",
    "        \n",
    "        \n",
    "        # Print a message after calling the original function.\n",
    "        print(\"Something is happening after the function is called.\")\n",
    "        func(num1)\n",
    "\n",
    "    # Return the wrapper function.\n",
    "    return wrapper\n",
    "\n",
    "# Decorate the say_hello function using the my_decorator function.\n",
    "@my_decorator\n",
    "def say_hello(num1 : str) -> None:\n",
    "   \n",
    "    # Define the original function that will be decorated.\n",
    "    print(num1)\n",
    "\n",
    "# Call the decorated say_hello function.\n",
    "say_hello(\"Hello\")"
   ]
  },
  {
   "cell_type": "markdown",
   "metadata": {},
   "source": [
    "## <b>Recursive function\n",
    "`Recursive` is `infinite` so we have to `stop it` at some point<br>\n",
    "- A recursive function is a function that `calls itself directly` or `indirectly` in order to `solve a problem`. \n",
    "- It is a powerful concept in programming that allows you to `solve complex problems` by `breaking` them down into `simpler subproblems`."
   ]
  },
  {
   "cell_type": "code",
   "execution_count": null,
   "metadata": {},
   "outputs": [
    {
     "name": "stdout",
     "output_type": "stream",
     "text": [
      "The factorial of 5 is 120\n"
     ]
    }
   ],
   "source": [
    "def factorial(x:int) -> int:\n",
    "    \"\"\"This is a recursive function to find the factorial of the following number.\"\"\"\n",
    "    # Base case: if x is 1, factorial of 1 is 1, so return 1\n",
    "    if x == 1:\n",
    "        return 1\n",
    "    else:\n",
    "        # Recursive case: multiply x by factorial of (x - 1)\n",
    "        # This means that factorial(x) = x * factorial(x - 1)\n",
    "        return (x * factorial(x - 1)) # calls function in the body is called recursive function\n",
    "\n",
    "# Define the number for which factorial needs to be calculated\n",
    "num = 5\n",
    "\n",
    "# Call the factorial function with 'num' as argument and print the result\n",
    "print(\"The factorial of\", num, \"is\", factorial(num))\n"
   ]
  },
  {
   "cell_type": "code",
   "execution_count": null,
   "metadata": {},
   "outputs": [],
   "source": []
  }
 ],
 "metadata": {
  "kernelspec": {
   "display_name": "python_eda",
   "language": "python",
   "name": "python3"
  },
  "language_info": {
   "codemirror_mode": {
    "name": "ipython",
    "version": 3
   },
   "file_extension": ".py",
   "mimetype": "text/x-python",
   "name": "python",
   "nbconvert_exporter": "python",
   "pygments_lexer": "ipython3",
   "version": "3.11.5"
  }
 },
 "nbformat": 4,
 "nbformat_minor": 2
}
