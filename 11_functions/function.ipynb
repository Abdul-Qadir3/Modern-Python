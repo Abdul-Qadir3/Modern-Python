{
 "cells": [
  {
   "cell_type": "markdown",
   "metadata": {},
   "source": [
    "# <b> Functions\n",
    "Functions in Python are `blocks` of `reusable` code that perform a `specific task`.<br>\n",
    "Functions are defined using the `def` keyword followed by the function name and parentheses `( )` containing optional parameters.<br>\n",
    "\n",
    "\n",
    "#### <b>Functions Types\n",
    "* Pre-defined functions\n",
    "  * provided by in language\n",
    "  * Examples include print(), len(), max(), min(), sum()\n",
    "* User defined function\n",
    "  * custom function\n",
    "  * These are functions defined by the user to perform a specific task or set of tasks.\n",
    "* Return and non-Return function\n",
    "  * Return\n",
    "    * we can assign this function output in any variable\n",
    "  * Non-Return function\n",
    "    * do not have an assignment statement, only run cant assign value to variable"
   ]
  },
  {
   "cell_type": "markdown",
   "metadata": {},
   "source": [
    "#### <b>Functions Components\n",
    "- `Function Declaration`\n",
    "  - `def` reserve keyword for function\n",
    "  - function name `unique` also not `reserved keyword`\n",
    "  - parameters\n",
    "    - param1 : type\n",
    "    - param2 : type\n",
    "  - return output type `->string`\n",
    "- `Function Body`\n",
    "  - any logic here iin body\n",
    "- `Function Calling`\n",
    "  - function(args1,args2)"
   ]
  },
  {
   "cell_type": "markdown",
   "metadata": {},
   "source": [
    "#### <b>SYNTAX Function\n",
    "```\n",
    "def function_name(parameter_1:type,parameter_2:type,.........)->Return_type:\n",
    "    function_body\n",
    "\n",
    "function_name(parameter_1,parameter_2)\n",
    "```"
   ]
  },
  {
   "cell_type": "markdown",
   "metadata": {
    "vscode": {
     "languageId": "plaintext"
    }
   },
   "source": [
    "# Pre-defined function\n",
    "These are some of the commonly used predefined functions in Python, each serving a specific purpose in programming and data manipulation tasks.\n",
    "\n",
    "1. **print()**: Outputs the given object to the console.\n",
    "2. **input()**: Reads input from the user through the console.\n",
    "3. **len()**: Returns the length (number of items) of an object like a string, list, tuple, etc.\n",
    "4. **type()**: Returns the type of an object.\n",
    "5. **range()**: Generates a sequence of numbers.\n",
    "6. **int()**: Converts a string or a number to an integer.\n",
    "7. **float()**: Converts a string or a number to a floating-point number.\n",
    "8. **str()**: Converts an object to a string.\n",
    "9. **list()**: Creates a list from an iterable object.\n",
    "10. **tuple()**: Creates a tuple from an iterable object.\n",
    "11. **dict()**: Creates a dictionary from an iterable of key-value pairs.\n",
    "12. **set()**: Creates a set from an iterable object.\n",
    "13. **sorted()**: Returns a new sorted list from the elements of any iterable.\n",
    "14. **sum()**: Returns the sum of all elements in an iterable.\n",
    "15. **max()**: Returns the largest item in an iterable.\n",
    "16. **min()**: Returns the smallest item in an iterable.\n",
    "17. **abs()**: Returns the absolute value of a number.\n",
    "18. **round()**: Rounds a floating-point number to the nearest integer.\n",
    "19. **pow()**: Returns x to the power of y (x^y).\n",
    "20. **enumerate()**: Returns an enumerate object that yields pairs of indexes and values.\n",
    "21. **zip()**: Returns an iterator that aggregates elements from multiple iterables.\n",
    "22. **map()**: Applies a function to all the items in an input iterable.\n",
    "23. **filter()**: Constructs an iterator from elements of an iterable for which a function returns true.\n",
    "24. **all()**: Returns True if all elements of an iterable are true.\n",
    "25. **any()**: Returns True if any element of an iterable is true.\n",
    " "
   ]
  },
  {
   "cell_type": "code",
   "execution_count": 24,
   "metadata": {},
   "outputs": [
    {
     "name": "stdout",
     "output_type": "stream",
     "text": [
      "Pakistan\n"
     ]
    },
    {
     "data": {
      "text/plain": [
       "None"
      ]
     },
     "metadata": {},
     "output_type": "display_data"
    }
   ],
   "source": [
    "a : str = print(\"Pakistan\")# id displays \"pakstan\" the print is return function if not print in non-return function\n",
    "\n",
    "display(a) #None"
   ]
  },
  {
   "cell_type": "markdown",
   "metadata": {},
   "source": [
    "#### Differece b/w function and method is methode always comes after variable using `.` likewise `variable.methode_name()`"
   ]
  },
  {
   "cell_type": "code",
   "execution_count": 25,
   "metadata": {},
   "outputs": [
    {
     "data": {
      "text/plain": [
       "8"
      ]
     },
     "metadata": {},
     "output_type": "display_data"
    }
   ],
   "source": [
    "# variable.methode_name()\n",
    "a : int = len(\"Pakistan\") # a=8\n",
    "\n",
    "display(a) # `len` is Return function"
   ]
  },
  {
   "cell_type": "markdown",
   "metadata": {},
   "source": [
    "#### <b>Create a simple function without any argument that is called default function\n"
   ]
  },
  {
   "cell_type": "code",
   "execution_count": 26,
   "metadata": {},
   "outputs": [
    {
     "name": "stdout",
     "output_type": "stream",
     "text": [
      "Welecome to PIAIC GenAI\n",
      "Welecome to PIAIC Python Course\n"
     ]
    }
   ],
   "source": [
    "# By default return is none\n",
    "def piaic()->None: #function declaration/signature that dont take any argument \n",
    "    #function body starts here\n",
    "    print(\"Welecome to PIAIC GenAI\")#statement 1\n",
    "    print(\"Welecome to PIAIC Python Course\")#statement 2\n",
    "    # function body ends here\n",
    "\n",
    "piaic()# function calling"
   ]
  },
  {
   "cell_type": "code",
   "execution_count": 27,
   "metadata": {},
   "outputs": [
    {
     "name": "stdout",
     "output_type": "stream",
     "text": [
      "Welecome to PIAIC GenAI\n",
      "Welecome to PIAIC Python Course\n",
      "Welecome to PIAIC GenAI\n",
      "Welecome to PIAIC Python Course\n"
     ]
    }
   ],
   "source": [
    "piaic()# function calling\n",
    "piaic()# function calling"
   ]
  },
  {
   "cell_type": "code",
   "execution_count": 28,
   "metadata": {},
   "outputs": [
    {
     "name": "stdout",
     "output_type": "stream",
     "text": [
      "Welecome to PIAIC GenAI\n",
      "Welecome to PIAIC Python Course\n",
      "None\n",
      "Welecome to PIAIC GenAI\n",
      "Welecome to PIAIC Python Course\n",
      "None\n",
      "Welecome to PIAIC GenAI\n",
      "Welecome to PIAIC Python Course\n",
      "None\n",
      "Welecome to PIAIC GenAI\n",
      "Welecome to PIAIC Python Course\n",
      "None\n",
      "Welecome to PIAIC GenAI\n",
      "Welecome to PIAIC Python Course\n",
      "None\n",
      "Welecome to PIAIC GenAI\n",
      "Welecome to PIAIC Python Course\n",
      "None\n",
      "Welecome to PIAIC GenAI\n",
      "Welecome to PIAIC Python Course\n",
      "None\n",
      "Welecome to PIAIC GenAI\n",
      "Welecome to PIAIC Python Course\n",
      "None\n",
      "Welecome to PIAIC GenAI\n",
      "Welecome to PIAIC Python Course\n",
      "None\n",
      "Welecome to PIAIC GenAI\n",
      "Welecome to PIAIC Python Course\n",
      "None\n",
      "Welecome to PIAIC GenAI\n",
      "Welecome to PIAIC Python Course\n",
      "None\n",
      "Welecome to PIAIC GenAI\n",
      "Welecome to PIAIC Python Course\n",
      "None\n",
      "Welecome to PIAIC GenAI\n",
      "Welecome to PIAIC Python Course\n",
      "None\n",
      "Welecome to PIAIC GenAI\n",
      "Welecome to PIAIC Python Course\n",
      "None\n",
      "Welecome to PIAIC GenAI\n",
      "Welecome to PIAIC Python Course\n",
      "None\n",
      "Welecome to PIAIC GenAI\n",
      "Welecome to PIAIC Python Course\n",
      "None\n",
      "Welecome to PIAIC GenAI\n",
      "Welecome to PIAIC Python Course\n",
      "None\n",
      "Welecome to PIAIC GenAI\n",
      "Welecome to PIAIC Python Course\n",
      "None\n",
      "Welecome to PIAIC GenAI\n",
      "Welecome to PIAIC Python Course\n",
      "None\n",
      "Welecome to PIAIC GenAI\n",
      "Welecome to PIAIC Python Course\n",
      "None\n",
      "Welecome to PIAIC GenAI\n",
      "Welecome to PIAIC Python Course\n",
      "None\n",
      "Welecome to PIAIC GenAI\n",
      "Welecome to PIAIC Python Course\n",
      "None\n",
      "Welecome to PIAIC GenAI\n",
      "Welecome to PIAIC Python Course\n",
      "None\n",
      "Welecome to PIAIC GenAI\n",
      "Welecome to PIAIC Python Course\n",
      "None\n",
      "Welecome to PIAIC GenAI\n",
      "Welecome to PIAIC Python Course\n",
      "None\n",
      "Welecome to PIAIC GenAI\n",
      "Welecome to PIAIC Python Course\n",
      "None\n",
      "Welecome to PIAIC GenAI\n",
      "Welecome to PIAIC Python Course\n",
      "None\n",
      "Welecome to PIAIC GenAI\n",
      "Welecome to PIAIC Python Course\n",
      "None\n",
      "Welecome to PIAIC GenAI\n",
      "Welecome to PIAIC Python Course\n",
      "None\n",
      "Welecome to PIAIC GenAI\n",
      "Welecome to PIAIC Python Course\n",
      "None\n",
      "Welecome to PIAIC GenAI\n",
      "Welecome to PIAIC Python Course\n",
      "None\n",
      "Welecome to PIAIC GenAI\n",
      "Welecome to PIAIC Python Course\n",
      "None\n",
      "Welecome to PIAIC GenAI\n",
      "Welecome to PIAIC Python Course\n",
      "None\n",
      "Welecome to PIAIC GenAI\n",
      "Welecome to PIAIC Python Course\n",
      "None\n",
      "Welecome to PIAIC GenAI\n",
      "Welecome to PIAIC Python Course\n",
      "None\n",
      "Welecome to PIAIC GenAI\n",
      "Welecome to PIAIC Python Course\n",
      "None\n",
      "Welecome to PIAIC GenAI\n",
      "Welecome to PIAIC Python Course\n",
      "None\n",
      "Welecome to PIAIC GenAI\n",
      "Welecome to PIAIC Python Course\n",
      "None\n",
      "Welecome to PIAIC GenAI\n",
      "Welecome to PIAIC Python Course\n",
      "None\n",
      "Welecome to PIAIC GenAI\n",
      "Welecome to PIAIC Python Course\n",
      "None\n",
      "Welecome to PIAIC GenAI\n",
      "Welecome to PIAIC Python Course\n",
      "None\n",
      "Welecome to PIAIC GenAI\n",
      "Welecome to PIAIC Python Course\n",
      "None\n",
      "Welecome to PIAIC GenAI\n",
      "Welecome to PIAIC Python Course\n",
      "None\n",
      "Welecome to PIAIC GenAI\n",
      "Welecome to PIAIC Python Course\n",
      "None\n",
      "Welecome to PIAIC GenAI\n",
      "Welecome to PIAIC Python Course\n",
      "None\n",
      "Welecome to PIAIC GenAI\n",
      "Welecome to PIAIC Python Course\n",
      "None\n",
      "Welecome to PIAIC GenAI\n",
      "Welecome to PIAIC Python Course\n",
      "None\n",
      "Welecome to PIAIC GenAI\n",
      "Welecome to PIAIC Python Course\n",
      "None\n",
      "Welecome to PIAIC GenAI\n",
      "Welecome to PIAIC Python Course\n",
      "None\n",
      "Welecome to PIAIC GenAI\n",
      "Welecome to PIAIC Python Course\n",
      "None\n",
      "Welecome to PIAIC GenAI\n",
      "Welecome to PIAIC Python Course\n",
      "None\n",
      "Welecome to PIAIC GenAI\n",
      "Welecome to PIAIC Python Course\n",
      "None\n",
      "Welecome to PIAIC GenAI\n",
      "Welecome to PIAIC Python Course\n",
      "None\n",
      "Welecome to PIAIC GenAI\n",
      "Welecome to PIAIC Python Course\n",
      "None\n",
      "Welecome to PIAIC GenAI\n",
      "Welecome to PIAIC Python Course\n",
      "None\n",
      "Welecome to PIAIC GenAI\n",
      "Welecome to PIAIC Python Course\n",
      "None\n",
      "Welecome to PIAIC GenAI\n",
      "Welecome to PIAIC Python Course\n",
      "None\n",
      "Welecome to PIAIC GenAI\n",
      "Welecome to PIAIC Python Course\n",
      "None\n",
      "Welecome to PIAIC GenAI\n",
      "Welecome to PIAIC Python Course\n",
      "None\n",
      "Welecome to PIAIC GenAI\n",
      "Welecome to PIAIC Python Course\n",
      "None\n",
      "Welecome to PIAIC GenAI\n",
      "Welecome to PIAIC Python Course\n",
      "None\n",
      "Welecome to PIAIC GenAI\n",
      "Welecome to PIAIC Python Course\n",
      "None\n",
      "Welecome to PIAIC GenAI\n",
      "Welecome to PIAIC Python Course\n",
      "None\n",
      "Welecome to PIAIC GenAI\n",
      "Welecome to PIAIC Python Course\n",
      "None\n",
      "Welecome to PIAIC GenAI\n",
      "Welecome to PIAIC Python Course\n",
      "None\n",
      "Welecome to PIAIC GenAI\n",
      "Welecome to PIAIC Python Course\n",
      "None\n",
      "Welecome to PIAIC GenAI\n",
      "Welecome to PIAIC Python Course\n",
      "None\n",
      "Welecome to PIAIC GenAI\n",
      "Welecome to PIAIC Python Course\n",
      "None\n",
      "Welecome to PIAIC GenAI\n",
      "Welecome to PIAIC Python Course\n",
      "None\n",
      "Welecome to PIAIC GenAI\n",
      "Welecome to PIAIC Python Course\n",
      "None\n",
      "Welecome to PIAIC GenAI\n",
      "Welecome to PIAIC Python Course\n",
      "None\n",
      "Welecome to PIAIC GenAI\n",
      "Welecome to PIAIC Python Course\n",
      "None\n",
      "Welecome to PIAIC GenAI\n",
      "Welecome to PIAIC Python Course\n",
      "None\n",
      "Welecome to PIAIC GenAI\n",
      "Welecome to PIAIC Python Course\n",
      "None\n",
      "Welecome to PIAIC GenAI\n",
      "Welecome to PIAIC Python Course\n",
      "None\n",
      "Welecome to PIAIC GenAI\n",
      "Welecome to PIAIC Python Course\n",
      "None\n",
      "Welecome to PIAIC GenAI\n",
      "Welecome to PIAIC Python Course\n",
      "None\n",
      "Welecome to PIAIC GenAI\n",
      "Welecome to PIAIC Python Course\n",
      "None\n",
      "Welecome to PIAIC GenAI\n",
      "Welecome to PIAIC Python Course\n",
      "None\n",
      "Welecome to PIAIC GenAI\n",
      "Welecome to PIAIC Python Course\n",
      "None\n",
      "Welecome to PIAIC GenAI\n",
      "Welecome to PIAIC Python Course\n",
      "None\n",
      "Welecome to PIAIC GenAI\n",
      "Welecome to PIAIC Python Course\n",
      "None\n",
      "Welecome to PIAIC GenAI\n",
      "Welecome to PIAIC Python Course\n",
      "None\n",
      "Welecome to PIAIC GenAI\n",
      "Welecome to PIAIC Python Course\n",
      "None\n",
      "Welecome to PIAIC GenAI\n",
      "Welecome to PIAIC Python Course\n",
      "None\n",
      "Welecome to PIAIC GenAI\n",
      "Welecome to PIAIC Python Course\n",
      "None\n",
      "Welecome to PIAIC GenAI\n",
      "Welecome to PIAIC Python Course\n",
      "None\n",
      "Welecome to PIAIC GenAI\n",
      "Welecome to PIAIC Python Course\n",
      "None\n",
      "Welecome to PIAIC GenAI\n",
      "Welecome to PIAIC Python Course\n",
      "None\n",
      "Welecome to PIAIC GenAI\n",
      "Welecome to PIAIC Python Course\n",
      "None\n",
      "Welecome to PIAIC GenAI\n",
      "Welecome to PIAIC Python Course\n",
      "None\n",
      "Welecome to PIAIC GenAI\n",
      "Welecome to PIAIC Python Course\n",
      "None\n",
      "Welecome to PIAIC GenAI\n",
      "Welecome to PIAIC Python Course\n",
      "None\n",
      "Welecome to PIAIC GenAI\n",
      "Welecome to PIAIC Python Course\n",
      "None\n",
      "Welecome to PIAIC GenAI\n",
      "Welecome to PIAIC Python Course\n",
      "None\n",
      "Welecome to PIAIC GenAI\n",
      "Welecome to PIAIC Python Course\n",
      "None\n",
      "Welecome to PIAIC GenAI\n",
      "Welecome to PIAIC Python Course\n",
      "None\n",
      "Welecome to PIAIC GenAI\n",
      "Welecome to PIAIC Python Course\n",
      "None\n",
      "Welecome to PIAIC GenAI\n",
      "Welecome to PIAIC Python Course\n",
      "None\n",
      "Welecome to PIAIC GenAI\n",
      "Welecome to PIAIC Python Course\n",
      "None\n"
     ]
    }
   ],
   "source": [
    "# now CAN BE CALLED ANywhere in the program\n",
    "# calling function in for loop\n",
    "for i in range(100):\n",
    "\n",
    "    print(piaic())# function calling"
   ]
  },
  {
   "cell_type": "markdown",
   "metadata": {},
   "source": [
    "### <b>Required parameter function"
   ]
  },
  {
   "cell_type": "code",
   "execution_count": 29,
   "metadata": {},
   "outputs": [
    {
     "data": {
      "text/plain": [
       "27"
      ]
     },
     "execution_count": 29,
     "metadata": {},
     "output_type": "execute_result"
    }
   ],
   "source": [
    "# arguments and parameters\n",
    "#                param1   param2\n",
    "def add_two_nums(num1:int,num2:int)->int: # num1 and num2 are parameters\n",
    "    return num1 + num2\n",
    "#          arg1 , arg2\n",
    "add_two_nums(7,20)# 7 and 20 are arguments"
   ]
  },
  {
   "cell_type": "code",
   "execution_count": 30,
   "metadata": {},
   "outputs": [
    {
     "ename": "TypeError",
     "evalue": "add_two_nums() missing 1 required positional argument: 'num2'",
     "output_type": "error",
     "traceback": [
      "\u001b[1;31m---------------------------------------------------------------------------\u001b[0m",
      "\u001b[1;31mTypeError\u001b[0m                                 Traceback (most recent call last)",
      "Cell \u001b[1;32mIn[30], line 1\u001b[0m\n\u001b[1;32m----> 1\u001b[0m \u001b[43madd_two_nums\u001b[49m\u001b[43m(\u001b[49m\u001b[38;5;241;43m6\u001b[39;49m\u001b[43m)\u001b[49m \u001b[38;5;66;03m# requres both arguments otherwise will generate error\u001b[39;00m\n",
      "\u001b[1;31mTypeError\u001b[0m: add_two_nums() missing 1 required positional argument: 'num2'"
     ]
    }
   ],
   "source": [
    "add_two_nums(6) # requres both arguments otherwise will generate error"
   ]
  },
  {
   "cell_type": "markdown",
   "metadata": {},
   "source": [
    "### Function with optional parameters"
   ]
  },
  {
   "cell_type": "code",
   "execution_count": 31,
   "metadata": {},
   "outputs": [
    {
     "name": "stdout",
     "output_type": "stream",
     "text": [
      "7 0\n"
     ]
    },
    {
     "data": {
      "text/plain": [
       "7"
      ]
     },
     "execution_count": 31,
     "metadata": {},
     "output_type": "execute_result"
    }
   ],
   "source": [
    "def add_two_numbers(num1:int,num2:int =0) -> int: #default value is `0` works as optional\n",
    "    print(num1,num2)\n",
    "    return num1 + num2\n",
    "\n",
    "add_two_numbers(7) #takes num2 as 0"
   ]
  },
  {
   "cell_type": "code",
   "execution_count": 32,
   "metadata": {},
   "outputs": [
    {
     "name": "stdout",
     "output_type": "stream",
     "text": [
      "7 3\n"
     ]
    },
    {
     "data": {
      "text/plain": [
       "10"
      ]
     },
     "execution_count": 32,
     "metadata": {},
     "output_type": "execute_result"
    }
   ],
   "source": [
    "add_two_numbers(7,3) #overwrites num2 from 0 to 3"
   ]
  },
  {
   "cell_type": "markdown",
   "metadata": {},
   "source": [
    "### Lamda function\n",
    "A `lambda` function in Python is a `small, anonymous` function defined using the `lambda` keyword.\n",
    "A small function for a short period of time, such as sorting or filtering data, passing a function as an argument to another function, or creating simple one-liners.\n",
    "#### Syntax\n",
    "**`lambda arguments: expression`**\n",
    "\n",
    "**lambda:** Keyword used to define a lambda function.<br>\n",
    "**arguments:** Comma-separated list of input parameters to the function.<br>\n",
    "**expression:** Single expression whose result is returned by the function.<br>\n",
    "\n",
    "* one line function\n",
    "* without name function\n",
    "* only use in this once on that line\n",
    "* not used before nore can be used after"
   ]
  },
  {
   "cell_type": "markdown",
   "metadata": {},
   "source": [
    "<b><u><i>\n",
    "```\n",
    "lamda parameter_1 , parameter_2 : function_body\n",
    "```"
   ]
  },
  {
   "cell_type": "code",
   "execution_count": 39,
   "metadata": {},
   "outputs": [
    {
     "name": "stdout",
     "output_type": "stream",
     "text": [
      "11\n"
     ]
    }
   ],
   "source": [
    "# Define a lambda function named 'a' that takes two arguments 'num1' and 'num2'\n",
    "# and returns the sum of the two numbers.\n",
    "a = lambda num1, num2: num1 + num2\n",
    "\n",
    "# Call the lambda function 'a' with arguments 7 and 4.\n",
    "# This will return the result of adding 7 and 4.\n",
    "result = a(7, 4)\n",
    "\n",
    "# Print the result of the lambda function call.\n",
    "print(result)  # Output: 11\n"
   ]
  },
  {
   "cell_type": "code",
   "execution_count": 40,
   "metadata": {},
   "outputs": [
    {
     "data": {
      "text/plain": [
       "[1, 4, 9, 16, 25, 36, 49, 64, 81, 100]"
      ]
     },
     "execution_count": 40,
     "metadata": {},
     "output_type": "execute_result"
    }
   ],
   "source": [
    "# Define a list of integers\n",
    "data: list[int] = [1, 2, 3, 4, 5, 6, 7, 8, 9, 10]\n",
    "\n",
    "# Use the map function with a lambda function to square each element of the list\n",
    "# The lambda function takes one argument 'x' and returns 'x' squared\n",
    "# Map applies this lambda function to each element of the 'data' list\n",
    "# Convert the result of map to a list to obtain the squared values\n",
    "data = list(map(lambda x: x ** 2, data))\n",
    "\n",
    "# Print the updated 'data' list\n",
    "data"
   ]
  },
  {
   "cell_type": "code",
   "execution_count": 41,
   "metadata": {},
   "outputs": [
    {
     "data": {
      "text/plain": [
       "[2, 4, 6, 8, 10]"
      ]
     },
     "execution_count": 41,
     "metadata": {},
     "output_type": "execute_result"
    }
   ],
   "source": [
    "# Define a list of integers\n",
    "data: list[int] = [1, 2, 3, 4, 5, 6, 7, 8, 9, 10]\n",
    "\n",
    "# Use filter() function with a lambda function to filter even numbers from the list\n",
    "# The lambda function returns True if the number is even (divisible by 2), False otherwise\n",
    "# The filter() function returns an iterator containing only the elements for which the lambda function returns True\n",
    "# Convert the iterator to a list to get the filtered even numbers\n",
    "data = list(filter(lambda x: x % 2 == 0, data))\n",
    "\n",
    "data"
   ]
  },
  {
   "cell_type": "code",
   "execution_count": 46,
   "metadata": {},
   "outputs": [
    {
     "name": "stdout",
     "output_type": "stream",
     "text": [
      "The result is 30\n"
     ]
    }
   ],
   "source": [
    "from typing import Callable\n",
    "\n",
    "# Define a lambda function and assign it to the variable 'a'\n",
    "a: Callable[[int, int], int] = lambda x, y: x + y\n",
    "\n",
    "# Call the lambda function using the correct variable name 'a'\n",
    "result = a(10, 20)\n",
    "\n",
    "# Print the result\n",
    "print(f\"The result is {result}\")"
   ]
  },
  {
   "cell_type": "code",
   "execution_count": null,
   "metadata": {},
   "outputs": [],
   "source": []
  }
 ],
 "metadata": {
  "kernelspec": {
   "display_name": "python_eda",
   "language": "python",
   "name": "python3"
  },
  "language_info": {
   "codemirror_mode": {
    "name": "ipython",
    "version": 3
   },
   "file_extension": ".py",
   "mimetype": "text/x-python",
   "name": "python",
   "nbconvert_exporter": "python",
   "pygments_lexer": "ipython3",
   "version": "3.11.5"
  }
 },
 "nbformat": 4,
 "nbformat_minor": 2
}
