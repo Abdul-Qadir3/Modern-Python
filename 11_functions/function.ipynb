{
 "cells": [
  {
   "cell_type": "markdown",
   "metadata": {},
   "source": [
    "# <b> Functions\n",
    "Functions in Python are `blocks` of `reusable` code that perform a `specific task`.<br>\n",
    "Functions are defined using the `def` keyword followed by the function name and parentheses `( )` containing optional parameters.<br>\n",
    "\n",
    "\n",
    "#### <b>Functions Types\n",
    "* Pre-defined functions\n",
    "  * provided by in language\n",
    "  * Examples include print(), len(), max(), min(), sum()\n",
    "* User defined function\n",
    "  * custom function\n",
    "  * These are functions defined by the user to perform a specific task or set of tasks.\n",
    "* Return and non-Return function\n",
    "  * Return\n",
    "    * we can assign this function output in any variable\n",
    "  * Non-Return function\n",
    "    * do not have an assignment statement, only run cant assign value to variable"
   ]
  },
  {
   "cell_type": "markdown",
   "metadata": {},
   "source": [
    "#### <b>Functions Components\n",
    "- `Function Declaration`\n",
    "  - `def` function name unique\n",
    "  - parameters\n",
    "    - param1 : type\n",
    "    - param2 : type\n",
    "  - return output type\n",
    "- `Function Body`\n",
    "  - any logic here iin body\n",
    "- `Function Calling`\n",
    "  - funvtion(args1,args2)"
   ]
  },
  {
   "cell_type": "markdown",
   "metadata": {},
   "source": [
    "#### <b>SYNTAX Function\n",
    "```\n",
    "def function_name(parameter_1:type,parameter_2:type,.........)->Return_type:\n",
    "    function_body\n",
    "\n",
    "function_name(parameter_1,parameter_2)\n",
    "```"
   ]
  },
  {
   "cell_type": "markdown",
   "metadata": {
    "vscode": {
     "languageId": "plaintext"
    }
   },
   "source": [
    "# <b>Pre-defined function\n",
    "* print\n",
    "* chr\n",
    "* odr\n",
    "* len\n",
    "* id\n",
    "* sum\n",
    "* exec\n",
    " "
   ]
  },
  {
   "cell_type": "code",
   "execution_count": 14,
   "metadata": {},
   "outputs": [
    {
     "name": "stdout",
     "output_type": "stream",
     "text": [
      "Pakistan\n"
     ]
    },
    {
     "data": {
      "text/plain": [
       "None"
      ]
     },
     "metadata": {},
     "output_type": "display_data"
    }
   ],
   "source": [
    "a : str = print(\"Pakistan\")# id displays \"pakstan\" the print is return function if not print in non-return function\n",
    "\n",
    "display(a) #None"
   ]
  },
  {
   "cell_type": "code",
   "execution_count": 15,
   "metadata": {},
   "outputs": [
    {
     "data": {
      "text/plain": [
       "8"
      ]
     },
     "metadata": {},
     "output_type": "display_data"
    }
   ],
   "source": [
    "# variable.methode_name()\n",
    "a : int = len(\"Pakistan\") # a=8\n",
    "\n",
    "display(a) # `len` is Return function"
   ]
  },
  {
   "cell_type": "markdown",
   "metadata": {},
   "source": [
    "#### <b>Create a simple function without any argument that is called default function\n"
   ]
  },
  {
   "cell_type": "code",
   "execution_count": 16,
   "metadata": {},
   "outputs": [
    {
     "name": "stdout",
     "output_type": "stream",
     "text": [
      "Welecome to PIAIC GenAI\n",
      "Welecome to PIAIC Python Course\n"
     ]
    }
   ],
   "source": [
    "# By default return is none\n",
    "def piaic()->None: #function declaration/signature\n",
    "    #function body starts here\n",
    "    print(\"Welecome to PIAIC GenAI\")#statement 1\n",
    "    print(\"Welecome to PIAIC Python Course\")#statement 2\n",
    "    # function body ends here\n",
    "\n",
    "piaic()# function calling"
   ]
  },
  {
   "cell_type": "code",
   "execution_count": 17,
   "metadata": {},
   "outputs": [
    {
     "name": "stdout",
     "output_type": "stream",
     "text": [
      "Welecome to PIAIC GenAI\n",
      "Welecome to PIAIC Python Course\n",
      "Welecome to PIAIC GenAI\n",
      "Welecome to PIAIC Python Course\n"
     ]
    }
   ],
   "source": [
    "piaic()# function calling\n",
    "piaic()# function calling"
   ]
  },
  {
   "cell_type": "code",
   "execution_count": 18,
   "metadata": {},
   "outputs": [
    {
     "name": "stdout",
     "output_type": "stream",
     "text": [
      "Welecome to PIAIC GenAI\n",
      "Welecome to PIAIC Python Course\n"
     ]
    }
   ],
   "source": [
    "# now CAN BE CALLED ANywhere in the program\n",
    "piaic()# function calling"
   ]
  },
  {
   "cell_type": "markdown",
   "metadata": {},
   "source": [
    "### <b>Required parameter function"
   ]
  },
  {
   "cell_type": "code",
   "execution_count": 19,
   "metadata": {},
   "outputs": [
    {
     "data": {
      "text/plain": [
       "27"
      ]
     },
     "execution_count": 19,
     "metadata": {},
     "output_type": "execute_result"
    }
   ],
   "source": [
    "# arguments and parameters\n",
    "#                param1   param2\n",
    "def add_two_nums(num1:int,num2:int)->int: # num1 and num2 are parameters\n",
    "    return num1 + num2\n",
    "#          arg1 , arg2\n",
    "add_two_nums(7,20)# 7 and 20 are arguments"
   ]
  },
  {
   "cell_type": "code",
   "execution_count": 20,
   "metadata": {},
   "outputs": [
    {
     "ename": "TypeError",
     "evalue": "add_two_nums() missing 1 required positional argument: 'num2'",
     "output_type": "error",
     "traceback": [
      "\u001b[1;31m---------------------------------------------------------------------------\u001b[0m",
      "\u001b[1;31mTypeError\u001b[0m                                 Traceback (most recent call last)",
      "Cell \u001b[1;32mIn[20], line 1\u001b[0m\n\u001b[1;32m----> 1\u001b[0m \u001b[43madd_two_nums\u001b[49m\u001b[43m(\u001b[49m\u001b[38;5;241;43m6\u001b[39;49m\u001b[43m)\u001b[49m\n",
      "\u001b[1;31mTypeError\u001b[0m: add_two_nums() missing 1 required positional argument: 'num2'"
     ]
    }
   ],
   "source": [
    "add_two_nums(6) # requres both arguments"
   ]
  },
  {
   "cell_type": "markdown",
   "metadata": {},
   "source": [
    "### Function with optional parameters"
   ]
  },
  {
   "cell_type": "code",
   "execution_count": 25,
   "metadata": {},
   "outputs": [
    {
     "name": "stdout",
     "output_type": "stream",
     "text": [
      "7 0\n"
     ]
    },
    {
     "data": {
      "text/plain": [
       "7"
      ]
     },
     "execution_count": 25,
     "metadata": {},
     "output_type": "execute_result"
    }
   ],
   "source": [
    "def add_two_numbers(num1:int,num2:int =0) -> int: #default value is `0`\n",
    "    print(num1,num2)\n",
    "    return num1 + num2\n",
    "\n",
    "add_two_numbers(7) #takes num2 as 0"
   ]
  },
  {
   "cell_type": "code",
   "execution_count": 24,
   "metadata": {},
   "outputs": [
    {
     "name": "stdout",
     "output_type": "stream",
     "text": [
      "7 3\n"
     ]
    },
    {
     "data": {
      "text/plain": [
       "10"
      ]
     },
     "execution_count": 24,
     "metadata": {},
     "output_type": "execute_result"
    }
   ],
   "source": [
    "add_two_numbers(7,3) #overwrites num2 from 0 to 3"
   ]
  },
  {
   "cell_type": "code",
   "execution_count": null,
   "metadata": {},
   "outputs": [],
   "source": []
  }
 ],
 "metadata": {
  "kernelspec": {
   "display_name": "python_eda",
   "language": "python",
   "name": "python3"
  },
  "language_info": {
   "codemirror_mode": {
    "name": "ipython",
    "version": 3
   },
   "file_extension": ".py",
   "mimetype": "text/x-python",
   "name": "python",
   "nbconvert_exporter": "python",
   "pygments_lexer": "ipython3",
   "version": "3.11.5"
  }
 },
 "nbformat": 4,
 "nbformat_minor": 2
}
