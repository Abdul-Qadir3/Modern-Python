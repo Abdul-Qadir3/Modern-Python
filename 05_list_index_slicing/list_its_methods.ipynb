{
 "cells": [
  {
   "cell_type": "markdown",
   "metadata": {},
   "source": [
    "# List\n",
    "list is a `versatile` and `mutable data structure` that can contain elements of different data types\n",
    "Multiple values can be stored in a single variable\n",
    " - dynamic length (can add many variables)\n",
    " - hetrogenous datatype (multiple datatypes more then one datatype not fixed to a single datatype)\n",
    " - index (use indexing to retrieve data)\n",
    "   - positive 0 to n-1 indexing\n",
    "   - nefative -1 to length"
   ]
  },
  {
   "cell_type": "markdown",
   "metadata": {},
   "source": [
    "`Objects` are called `elements` of any datatypes `comma` separated\n",
    "- indexing-> 0       1        2       3\n",
    "- <-       -4     -3      -2         -1   Negative indexing\n",
    "- list is a `collection` of items that can be `accessed` by `index` number in two ways `negative` indexing and `positive` indexing. It's like an `array` in other programming languages."
   ]
  },
  {
   "cell_type": "code",
   "execution_count": 14,
   "metadata": {},
   "outputs": [
    {
     "name": "stdout",
     "output_type": "stream",
     "text": [
      "Asifa\n",
      "Asif\n",
      "Abdul\n",
      "Asif\n"
     ]
    }
   ],
   "source": [
    "#indexing-> 0       1        2       3\n",
    "names = ['Abdul','Asif','Kashif','Asifa'] # objects are called elements of any datatypes comma separated\n",
    "# <-       -4      -3      -2       -1   Negative indexing\n",
    "# list is a collection of items that can be accessed by index number. It's like an array in other programming languages.\n",
    "print(names[-1])\n",
    "print(names[1])\n",
    "print(names[0])\n",
    "print(names[-3])"
   ]
  },
  {
   "cell_type": "code",
   "execution_count": 15,
   "metadata": {},
   "outputs": [
    {
     "name": "stdout",
     "output_type": "stream",
     "text": [
      "This is a name of  a human Asif\n",
      "This is a name of  a human ASIFA\n",
      "<class 'list'>\n",
      "<class 'str'>\n",
      "<class 'bool'>\n",
      "<class 'float'>\n",
      "<class 'int'>\n"
     ]
    }
   ],
   "source": [
    "from typing import Any # we can access the type of any variable\n",
    "\n",
    "names : list[Any] = [2,'Abdul','Asif','Kashif',True,'Asifa',23.5]\n",
    "\n",
    "print(f'This is a name of  a human {names[-5]}')\n",
    "print(f'This is a name of  a human {names[-2].upper()}')\n",
    "\n",
    "print(type(names))\n",
    "print(type(names[-2]))\n",
    "print(type(names[-3]))\n",
    "print(type(names[-1]))\n",
    "print(type(names[0]))"
   ]
  },
  {
   "cell_type": "markdown",
   "metadata": {},
   "source": [
    "### Slicing\n",
    "- slicing\n",
    "  - start : include `names[start:end:step]` (numbers)\n",
    "  - end : int = n-1\n",
    "  - step : int = sequence(numeric value)"
   ]
  },
  {
   "cell_type": "code",
   "execution_count": 17,
   "metadata": {},
   "outputs": [
    {
     "data": {
      "text/plain": [
       "['a', 'b', 'd', 'u', 'l']"
      ]
     },
     "execution_count": 17,
     "metadata": {},
     "output_type": "execute_result"
    }
   ],
   "source": [
    "list('abdul') #performs iteration on string using list function"
   ]
  },
  {
   "cell_type": "code",
   "execution_count": 18,
   "metadata": {},
   "outputs": [
    {
     "name": "stdout",
     "output_type": "stream",
     "text": [
      "['A', 'B', 'C', 'D', 'E', 'F', 'G', 'H', 'I', 'J', 'K', 'L', 'M', 'N', 'O', 'P', 'Q', 'R', 'S', 'T', 'U', 'V', 'W', 'X', 'Y', 'Z']\n"
     ]
    }
   ],
   "source": [
    "chars : list[str] = list(\"ABCDEFGHIJKLMNOPQRSTUVWXYZ\") # String is an iterative datatype in which we can perform iteration(seperation)\n",
    "print(chars) # list is a function as well"
   ]
  },
  {
   "cell_type": "code",
   "execution_count": 34,
   "metadata": {},
   "outputs": [
    {
     "name": "stdout",
     "output_type": "stream",
     "text": [
      "['A', 'B']\n",
      "['A', 'B']\n",
      "['A', 'B']\n",
      "['A', 'B']\n",
      "['A', 'B', 'C', 'D', 'E', 'F', 'G', 'H', 'I', 'J', 'K', 'L', 'M', 'N', 'O', 'P', 'Q', 'R', 'S', 'T', 'U', 'V', 'W', 'X', 'Y', 'Z']\n",
      "['A', 'C', 'E', 'G', 'I', 'K', 'M', 'O', 'Q', 'S', 'U', 'W', 'Y']\n",
      "['A', 'C', 'E']\n",
      "['Z', 'Y', 'X', 'W', 'V', 'U', 'T', 'S', 'R', 'Q', 'P', 'O', 'N', 'M', 'L', 'K', 'J', 'I', 'H', 'G', 'F', 'E', 'D', 'C', 'B', 'A']\n",
      "['B', 'C', 'D', 'E', 'F', 'G', 'H', 'I', 'J', 'K', 'L', 'M', 'N', 'O', 'P', 'Q', 'R', 'S', 'T', 'U', 'V', 'W']\n",
      "['Z', 'Y', 'X', 'W', 'V', 'U', 'T', 'S', 'R', 'Q', 'P', 'O', 'N', 'M', 'L', 'K', 'J', 'I', 'H', 'G', 'F', 'E', 'D', 'C', 'B']\n"
     ]
    }
   ],
   "source": [
    "#                     0    1    2                         ---------------------------------------------------------------------------              25\n",
    "chars : list[str] = ['A', 'B', 'C', 'D', 'E', 'F', 'G', 'H', 'I', 'J', 'K', 'L', 'M', 'N', 'O', 'P', 'Q', 'R', 'S', 'T', 'U', 'V', 'W', 'X', 'Y', 'Z']\n",
    "#                    -26                                  ---------------------------------------------------------------------------              -1\n",
    "\n",
    "# Default slicing is from left to right\n",
    "print(chars[0:2]) # 0= include : index[2] = 2-1 =1\n",
    "print(chars[:2]) # not pass any number = all\n",
    "print(chars[-26:-24]) # -26= include : index[-24] = -24-1 =-25\n",
    "print(chars[0:2:1]) # step default value is 1 # 0= include : index[2] = 2-1 =1\n",
    "print(chars[::])\n",
    "print(chars[::2])\n",
    "print(chars[:5:2])\n",
    "print(chars[::-1]) # Descending order (Right to left)\n",
    "print(chars[1:-3])\n",
    "print(chars[-1:-26:-1]) # reverse the iteration"
   ]
  },
  {
   "cell_type": "code",
   "execution_count": 39,
   "metadata": {},
   "outputs": [
    {
     "name": "stdout",
     "output_type": "stream",
     "text": [
      "['Z', 'Y', 'X', 'W']\n",
      "['Z', 'Y', 'X', 'W', 'V', 'U', 'T', 'S', 'R', 'Q', 'P', 'O', 'N', 'M', 'L', 'K', 'J', 'I', 'H', 'G', 'F', 'E', 'D', 'C', 'B', 'A']\n",
      "[]\n"
     ]
    }
   ],
   "source": [
    "print(chars[-1:-5:-1]) #reverse the iteration\n",
    "print(chars[::-1]) #reverse the iteration\n",
    "print(chars[-1:-5]) #reverse the iteration"
   ]
  },
  {
   "cell_type": "markdown",
   "metadata": {},
   "source": [
    "## List methods"
   ]
  },
  {
   "cell_type": "code",
   "execution_count": 40,
   "metadata": {},
   "outputs": [
    {
     "data": {
      "text/plain": [
       "['append',\n",
       " 'clear',\n",
       " 'copy',\n",
       " 'count',\n",
       " 'extend',\n",
       " 'index',\n",
       " 'insert',\n",
       " 'pop',\n",
       " 'remove',\n",
       " 'reverse',\n",
       " 'sort']"
      ]
     },
     "execution_count": 40,
     "metadata": {},
     "output_type": "execute_result"
    }
   ],
   "source": [
    "[i for i in dir(list) if \"__\" not in i] # list all function"
   ]
  },
  {
   "cell_type": "code",
   "execution_count": 41,
   "metadata": {},
   "outputs": [
    {
     "data": {
      "text/plain": [
       "['count', 'index']"
      ]
     },
     "execution_count": 41,
     "metadata": {},
     "output_type": "execute_result"
    }
   ],
   "source": [
    "[i for i in dir(tuple) if \"__\" not in i] # tuple all function"
   ]
  },
  {
   "cell_type": "code",
   "execution_count": 42,
   "metadata": {},
   "outputs": [
    {
     "data": {
      "text/plain": [
       "['as_integer_ratio',\n",
       " 'bit_count',\n",
       " 'bit_length',\n",
       " 'conjugate',\n",
       " 'denominator',\n",
       " 'from_bytes',\n",
       " 'imag',\n",
       " 'is_integer',\n",
       " 'numerator',\n",
       " 'real',\n",
       " 'to_bytes']"
      ]
     },
     "execution_count": 42,
     "metadata": {},
     "output_type": "execute_result"
    }
   ],
   "source": [
    "[i for i in dir(int) if \"__\" not in i] # integer all function"
   ]
  },
  {
   "cell_type": "code",
   "execution_count": 43,
   "metadata": {},
   "outputs": [
    {
     "data": {
      "text/plain": [
       "['capitalize',\n",
       " 'casefold',\n",
       " 'center',\n",
       " 'count',\n",
       " 'encode',\n",
       " 'endswith',\n",
       " 'expandtabs',\n",
       " 'find',\n",
       " 'format',\n",
       " 'format_map',\n",
       " 'index',\n",
       " 'isalnum',\n",
       " 'isalpha',\n",
       " 'isascii',\n",
       " 'isdecimal',\n",
       " 'isdigit',\n",
       " 'isidentifier',\n",
       " 'islower',\n",
       " 'isnumeric',\n",
       " 'isprintable',\n",
       " 'isspace',\n",
       " 'istitle',\n",
       " 'isupper',\n",
       " 'join',\n",
       " 'ljust',\n",
       " 'lower',\n",
       " 'lstrip',\n",
       " 'maketrans',\n",
       " 'partition',\n",
       " 'removeprefix',\n",
       " 'removesuffix',\n",
       " 'replace',\n",
       " 'rfind',\n",
       " 'rindex',\n",
       " 'rjust',\n",
       " 'rpartition',\n",
       " 'rsplit',\n",
       " 'rstrip',\n",
       " 'split',\n",
       " 'splitlines',\n",
       " 'startswith',\n",
       " 'strip',\n",
       " 'swapcase',\n",
       " 'title',\n",
       " 'translate',\n",
       " 'upper',\n",
       " 'zfill']"
      ]
     },
     "execution_count": 43,
     "metadata": {},
     "output_type": "execute_result"
    }
   ],
   "source": [
    "[i for i in dir(str) if \"__\" not in i] # kist all function"
   ]
  },
  {
   "cell_type": "code",
   "execution_count": 44,
   "metadata": {},
   "outputs": [
    {
     "data": {
      "text/plain": [
       "['as_integer_ratio',\n",
       " 'conjugate',\n",
       " 'fromhex',\n",
       " 'hex',\n",
       " 'imag',\n",
       " 'is_integer',\n",
       " 'real']"
      ]
     },
     "execution_count": 44,
     "metadata": {},
     "output_type": "execute_result"
    }
   ],
   "source": [
    "[i for i in dir(float) if \"__\" not in i] # float all function"
   ]
  },
  {
   "cell_type": "markdown",
   "metadata": {},
   "source": [
    "# help \n",
    "* SYNTAX `help(object/method/function)`\n",
    "* `object?`\n",
    "* `object??`\n",
    "* `?object`\n",
    "* `??object`"
   ]
  },
  {
   "cell_type": "code",
   "execution_count": 53,
   "metadata": {},
   "outputs": [
    {
     "name": "stdout",
     "output_type": "stream",
     "text": [
      "Help on built-in function print in module builtins:\n",
      "\n",
      "print(*args, sep=' ', end='\\n', file=None, flush=False)\n",
      "    Prints the values to a stream, or to sys.stdout by default.\n",
      "\n",
      "    sep\n",
      "      string inserted between values, default a space.\n",
      "    end\n",
      "      string appended after the last value, default a newline.\n",
      "    file\n",
      "      a file-like object (stream); defaults to the current sys.stdout.\n",
      "    flush\n",
      "      whether to forcibly flush the stream.\n",
      "\n"
     ]
    }
   ],
   "source": [
    "help(print) "
   ]
  },
  {
   "cell_type": "code",
   "execution_count": 54,
   "metadata": {},
   "outputs": [
    {
     "name": "stdout",
     "output_type": "stream",
     "text": [
      "\u001b[1;31mSignature:\u001b[0m \u001b[0mprint\u001b[0m\u001b[1;33m(\u001b[0m\u001b[1;33m*\u001b[0m\u001b[0margs\u001b[0m\u001b[1;33m,\u001b[0m \u001b[0msep\u001b[0m\u001b[1;33m=\u001b[0m\u001b[1;34m' '\u001b[0m\u001b[1;33m,\u001b[0m \u001b[0mend\u001b[0m\u001b[1;33m=\u001b[0m\u001b[1;34m'\\n'\u001b[0m\u001b[1;33m,\u001b[0m \u001b[0mfile\u001b[0m\u001b[1;33m=\u001b[0m\u001b[1;32mNone\u001b[0m\u001b[1;33m,\u001b[0m \u001b[0mflush\u001b[0m\u001b[1;33m=\u001b[0m\u001b[1;32mFalse\u001b[0m\u001b[1;33m)\u001b[0m\u001b[1;33m\u001b[0m\u001b[1;33m\u001b[0m\u001b[0m\n",
      "\u001b[1;31mDocstring:\u001b[0m\n",
      "Prints the values to a stream, or to sys.stdout by default.\n",
      "\n",
      "sep\n",
      "  string inserted between values, default a space.\n",
      "end\n",
      "  string appended after the last value, default a newline.\n",
      "file\n",
      "  a file-like object (stream); defaults to the current sys.stdout.\n",
      "flush\n",
      "  whether to forcibly flush the stream.\n",
      "\u001b[1;31mType:\u001b[0m      builtin_function_or_method"
     ]
    }
   ],
   "source": [
    "print?"
   ]
  },
  {
   "cell_type": "code",
   "execution_count": 55,
   "metadata": {},
   "outputs": [
    {
     "name": "stdout",
     "output_type": "stream",
     "text": [
      "\u001b[1;31mInit signature:\u001b[0m \u001b[0mstr\u001b[0m\u001b[1;33m(\u001b[0m\u001b[0mself\u001b[0m\u001b[1;33m,\u001b[0m \u001b[1;33m/\u001b[0m\u001b[1;33m,\u001b[0m \u001b[1;33m*\u001b[0m\u001b[0margs\u001b[0m\u001b[1;33m,\u001b[0m \u001b[1;33m**\u001b[0m\u001b[0mkwargs\u001b[0m\u001b[1;33m)\u001b[0m\u001b[1;33m\u001b[0m\u001b[1;33m\u001b[0m\u001b[0m\n",
      "\u001b[1;31mDocstring:\u001b[0m     \n",
      "str(object='') -> str\n",
      "str(bytes_or_buffer[, encoding[, errors]]) -> str\n",
      "\n",
      "Create a new string object from the given object. If encoding or\n",
      "errors is specified, then the object must expose a data buffer\n",
      "that will be decoded using the given encoding and error handler.\n",
      "Otherwise, returns the result of object.__str__() (if defined)\n",
      "or repr(object).\n",
      "encoding defaults to sys.getdefaultencoding().\n",
      "errors defaults to 'strict'.\n",
      "\u001b[1;31mType:\u001b[0m           type\n",
      "\u001b[1;31mSubclasses:\u001b[0m     StrEnum, DeferredConfigString, FoldedCase, _rstr, _ScriptTarget, _ModuleTarget, LSString, include, Keys, InputMode, ..."
     ]
    }
   ],
   "source": [
    "str?"
   ]
  },
  {
   "cell_type": "code",
   "execution_count": 56,
   "metadata": {},
   "outputs": [
    {
     "ename": "NameError",
     "evalue": "name 'pop' is not defined",
     "output_type": "error",
     "traceback": [
      "\u001b[1;31m---------------------------------------------------------------------------\u001b[0m",
      "\u001b[1;31mNameError\u001b[0m                                 Traceback (most recent call last)",
      "Cell \u001b[1;32mIn[56], line 1\u001b[0m\n\u001b[1;32m----> 1\u001b[0m help(\u001b[43mpop\u001b[49m)\n",
      "\u001b[1;31mNameError\u001b[0m: name 'pop' is not defined"
     ]
    }
   ],
   "source": [
    "help(pop)"
   ]
  },
  {
   "cell_type": "code",
   "execution_count": 57,
   "metadata": {},
   "outputs": [
    {
     "name": "stdout",
     "output_type": "stream",
     "text": [
      "\u001b[1;31mSignature:\u001b[0m \u001b[0mprint\u001b[0m\u001b[1;33m(\u001b[0m\u001b[1;33m*\u001b[0m\u001b[0margs\u001b[0m\u001b[1;33m,\u001b[0m \u001b[0msep\u001b[0m\u001b[1;33m=\u001b[0m\u001b[1;34m' '\u001b[0m\u001b[1;33m,\u001b[0m \u001b[0mend\u001b[0m\u001b[1;33m=\u001b[0m\u001b[1;34m'\\n'\u001b[0m\u001b[1;33m,\u001b[0m \u001b[0mfile\u001b[0m\u001b[1;33m=\u001b[0m\u001b[1;32mNone\u001b[0m\u001b[1;33m,\u001b[0m \u001b[0mflush\u001b[0m\u001b[1;33m=\u001b[0m\u001b[1;32mFalse\u001b[0m\u001b[1;33m)\u001b[0m\u001b[1;33m\u001b[0m\u001b[1;33m\u001b[0m\u001b[0m\n",
      "\u001b[1;31mDocstring:\u001b[0m\n",
      "Prints the values to a stream, or to sys.stdout by default.\n",
      "\n",
      "sep\n",
      "  string inserted between values, default a space.\n",
      "end\n",
      "  string appended after the last value, default a newline.\n",
      "file\n",
      "  a file-like object (stream); defaults to the current sys.stdout.\n",
      "flush\n",
      "  whether to forcibly flush the stream.\n",
      "\u001b[1;31mType:\u001b[0m      builtin_function_or_method"
     ]
    }
   ],
   "source": [
    "print??"
   ]
  },
  {
   "cell_type": "code",
   "execution_count": 58,
   "metadata": {},
   "outputs": [
    {
     "name": "stdout",
     "output_type": "stream",
     "text": [
      "\u001b[1;31mSignature:\u001b[0m \u001b[0mprint\u001b[0m\u001b[1;33m(\u001b[0m\u001b[1;33m*\u001b[0m\u001b[0margs\u001b[0m\u001b[1;33m,\u001b[0m \u001b[0msep\u001b[0m\u001b[1;33m=\u001b[0m\u001b[1;34m' '\u001b[0m\u001b[1;33m,\u001b[0m \u001b[0mend\u001b[0m\u001b[1;33m=\u001b[0m\u001b[1;34m'\\n'\u001b[0m\u001b[1;33m,\u001b[0m \u001b[0mfile\u001b[0m\u001b[1;33m=\u001b[0m\u001b[1;32mNone\u001b[0m\u001b[1;33m,\u001b[0m \u001b[0mflush\u001b[0m\u001b[1;33m=\u001b[0m\u001b[1;32mFalse\u001b[0m\u001b[1;33m)\u001b[0m\u001b[1;33m\u001b[0m\u001b[1;33m\u001b[0m\u001b[0m\n",
      "\u001b[1;31mDocstring:\u001b[0m\n",
      "Prints the values to a stream, or to sys.stdout by default.\n",
      "\n",
      "sep\n",
      "  string inserted between values, default a space.\n",
      "end\n",
      "  string appended after the last value, default a newline.\n",
      "file\n",
      "  a file-like object (stream); defaults to the current sys.stdout.\n",
      "flush\n",
      "  whether to forcibly flush the stream.\n",
      "\u001b[1;31mType:\u001b[0m      builtin_function_or_method"
     ]
    }
   ],
   "source": [
    "?print"
   ]
  },
  {
   "cell_type": "code",
   "execution_count": 52,
   "metadata": {},
   "outputs": [
    {
     "name": "stdout",
     "output_type": "stream",
     "text": [
      "['Abdul', 'Asif', 'Kashif', 'Asifa', 20, True]\n",
      "['Abdul Qadir', 'Asif', 'Kashif', 'Asifa', 20, True]\n",
      "['Abdul Qadir', 'Asif', 'Kashif', 20, True]\n"
     ]
    }
   ],
   "source": [
    "names : list[Any] = ['Abdul','Asif','Kashif','Asifa',20,True]\n",
    "\n",
    "print(names)\n",
    "\n",
    "names[0] = \"Abdul Qadir\" #mutable -> editable\n",
    "\n",
    "\n",
    "print(names)\n",
    "\n",
    "del names[3]\n",
    "\n",
    "print(names)"
   ]
  },
  {
   "cell_type": "code",
   "execution_count": 59,
   "metadata": {},
   "outputs": [
    {
     "name": "stdout",
     "output_type": "stream",
     "text": [
      "Pakistan\n"
     ]
    },
    {
     "data": {
      "text/plain": [
       "None"
      ]
     },
     "metadata": {},
     "output_type": "display_data"
    }
   ],
   "source": [
    "#\"print\" is a non return function\n",
    "a : str = print(\"Pakistan\") # \"print\" is a non return function\n",
    "\n",
    "display(a) # gives \"None\""
   ]
  },
  {
   "cell_type": "code",
   "execution_count": 60,
   "metadata": {},
   "outputs": [
    {
     "name": "stdout",
     "output_type": "stream",
     "text": [
      "\u001b[1;31mSignature:\u001b[0m \u001b[0mprint\u001b[0m\u001b[1;33m(\u001b[0m\u001b[1;33m*\u001b[0m\u001b[0margs\u001b[0m\u001b[1;33m,\u001b[0m \u001b[0msep\u001b[0m\u001b[1;33m=\u001b[0m\u001b[1;34m' '\u001b[0m\u001b[1;33m,\u001b[0m \u001b[0mend\u001b[0m\u001b[1;33m=\u001b[0m\u001b[1;34m'\\n'\u001b[0m\u001b[1;33m,\u001b[0m \u001b[0mfile\u001b[0m\u001b[1;33m=\u001b[0m\u001b[1;32mNone\u001b[0m\u001b[1;33m,\u001b[0m \u001b[0mflush\u001b[0m\u001b[1;33m=\u001b[0m\u001b[1;32mFalse\u001b[0m\u001b[1;33m)\u001b[0m\u001b[1;33m\u001b[0m\u001b[1;33m\u001b[0m\u001b[0m\n",
      "\u001b[1;31mDocstring:\u001b[0m\n",
      "Prints the values to a stream, or to sys.stdout by default.\n",
      "\n",
      "sep\n",
      "  string inserted between values, default a space.\n",
      "end\n",
      "  string appended after the last value, default a newline.\n",
      "file\n",
      "  a file-like object (stream); defaults to the current sys.stdout.\n",
      "flush\n",
      "  whether to forcibly flush the stream.\n",
      "\u001b[1;31mType:\u001b[0m      builtin_function_or_method"
     ]
    }
   ],
   "source": [
    "??print"
   ]
  },
  {
   "cell_type": "code",
   "execution_count": 61,
   "metadata": {},
   "outputs": [
    {
     "name": "stdout",
     "output_type": "stream",
     "text": [
      "['Abdul', 'Asif', 'Kashif', 'Asifa', 20, True]\n",
      "['Abdul', 'Asif', 'Kashif', 'Asifa', 20]\n"
     ]
    }
   ],
   "source": [
    "names : list[Any] = ['Abdul','Asif','Kashif','Asifa',20,True]\n",
    "\n",
    "print(names)\n",
    "\n",
    "del names[-1] # deleting elements #non return function\n",
    "\n",
    "print(names)"
   ]
  },
  {
   "cell_type": "code",
   "execution_count": 63,
   "metadata": {},
   "outputs": [
    {
     "name": "stdout",
     "output_type": "stream",
     "text": [
      "Pakistan\n"
     ]
    },
    {
     "data": {
      "text/plain": [
       "None"
      ]
     },
     "metadata": {},
     "output_type": "display_data"
    }
   ],
   "source": [
    "a : str = print(\"Pakistan\") # print is a non return function\n",
    "display(a)"
   ]
  },
  {
   "cell_type": "code",
   "execution_count": 64,
   "metadata": {},
   "outputs": [
    {
     "data": {
      "text/plain": [
       "2288219499648"
      ]
     },
     "metadata": {},
     "output_type": "display_data"
    }
   ],
   "source": [
    "a : str = id(names) # id is a return function\n",
    "display(a)"
   ]
  },
  {
   "cell_type": "code",
   "execution_count": 65,
   "metadata": {},
   "outputs": [
    {
     "data": {
      "text/plain": [
       "['Abdul', 'Kashif', 'Asifa', 20, True]"
      ]
     },
     "execution_count": 65,
     "metadata": {},
     "output_type": "execute_result"
    }
   ],
   "source": [
    "names : list[Any] = ['Abdul','Asif','Kashif','Asifa',20,True]\n",
    "\n",
    "del names[1]\n",
    "names"
   ]
  },
  {
   "cell_type": "markdown",
   "metadata": {},
   "source": [
    "### `Pop` will `delete` the variable and can be `stores` the deleted values in a new variable"
   ]
  },
  {
   "cell_type": "code",
   "execution_count": 78,
   "metadata": {},
   "outputs": [
    {
     "name": "stdout",
     "output_type": "stream",
     "text": [
      "['Abdul', 'Asif', 'Kashif', 'Asifa', 20, True]\n",
      "This is thr poped value  :   True\n"
     ]
    },
    {
     "data": {
      "text/plain": [
       "['Abdul', 'Asif', 'Kashif', 'Asifa', 20]"
      ]
     },
     "execution_count": 78,
     "metadata": {},
     "output_type": "execute_result"
    }
   ],
   "source": [
    "names : list[Any] = ['Abdul','Asif','Kashif','Asifa',20,True]\n",
    "print(names)\n",
    "a : str = names.pop() # return method (Pop will delete the variable and stores the deleted values in a new variable) by default removes the end value\n",
    "print(\"This is thr poped value  :  \",a)\n",
    "names"
   ]
  },
  {
   "cell_type": "code",
   "execution_count": 79,
   "metadata": {},
   "outputs": [
    {
     "name": "stdout",
     "output_type": "stream",
     "text": [
      "['Abdul', 'Asif', 'Kashif', 'Asifa', 20, True]\n",
      "This is thr poped value  :   Kashif\n"
     ]
    },
    {
     "data": {
      "text/plain": [
       "['Abdul', 'Asif', 'Asifa', 20, True]"
      ]
     },
     "execution_count": 79,
     "metadata": {},
     "output_type": "execute_result"
    }
   ],
   "source": [
    "names : list[Any] = ['Abdul','Asif','Kashif','Asifa',20,True]\n",
    "print(names)\n",
    "a : str = names.pop(2) # return method (Pop will delete the variable and stores the deleted values in a new variable)\n",
    "print(\"This is thr poped value  :  \",a)\n",
    "names"
   ]
  },
  {
   "cell_type": "code",
   "execution_count": 81,
   "metadata": {},
   "outputs": [
    {
     "name": "stdout",
     "output_type": "stream",
     "text": [
      "['hello', 'world', 'Abdul', 'Qadir']\n"
     ]
    }
   ],
   "source": [
    "names : list[str] = []\n",
    "# append method adds element in the last of the list\n",
    "names.append(\"hello\") # add elements in last\n",
    "names.append(\"world\") # add elements in last\n",
    "names.append(\"Abdul\") # add elements in last\n",
    "names.append(\"Qadir\") # add elements in last\n",
    "\n",
    "print(names)"
   ]
  },
  {
   "cell_type": "code",
   "execution_count": 82,
   "metadata": {},
   "outputs": [
    {
     "name": "stdout",
     "output_type": "stream",
     "text": [
      "['a', 'b', 'c']\n",
      "['a', 'abdul', 'b', 'c']\n"
     ]
    }
   ],
   "source": [
    "names : list[str] = [\"a\",\"b\",\"c\"]\n",
    "\n",
    "print(names)\n",
    "\n",
    "names.insert(1,\"abdul\") # insert in a particular position in a list of like names\n",
    "\n",
    "print(names)"
   ]
  },
  {
   "cell_type": "code",
   "execution_count": 83,
   "metadata": {},
   "outputs": [
    {
     "ename": "NameError",
     "evalue": "name 'a' is not defined",
     "output_type": "error",
     "traceback": [
      "\u001b[1;31m---------------------------------------------------------------------------\u001b[0m",
      "\u001b[1;31mNameError\u001b[0m                                 Traceback (most recent call last)",
      "Cell \u001b[1;32mIn[83], line 4\u001b[0m\n\u001b[0;32m      1\u001b[0m a : \u001b[38;5;28mlist\u001b[39m[\u001b[38;5;28mstr\u001b[39m] \u001b[38;5;241m=\u001b[39m [\u001b[38;5;241m1\u001b[39m,\u001b[38;5;241m2\u001b[39m,\u001b[38;5;241m3\u001b[39m]\n\u001b[0;32m      3\u001b[0m \u001b[38;5;28;01mdel\u001b[39;00m a \u001b[38;5;66;03m# error due to thr deleletion\u001b[39;00m\n\u001b[1;32m----> 4\u001b[0m \u001b[38;5;28mprint\u001b[39m(\u001b[43ma\u001b[49m)\n",
      "\u001b[1;31mNameError\u001b[0m: name 'a' is not defined"
     ]
    }
   ],
   "source": [
    "a : list[str] = [1,2,3]\n",
    "\n",
    "del a # error due to thr deleletion\n",
    "print(a)"
   ]
  },
  {
   "cell_type": "code",
   "execution_count": 104,
   "metadata": {},
   "outputs": [
    {
     "name": "stdout",
     "output_type": "stream",
     "text": [
      "[]\n"
     ]
    }
   ],
   "source": [
    "a : list[str] = [1,2,3]\n",
    "# will counter above problem\n",
    "a.clear() # clear will deletes the data/elements but will not delete the object/variable\n",
    "print(a)"
   ]
  },
  {
   "cell_type": "code",
   "execution_count": 105,
   "metadata": {},
   "outputs": [
    {
     "name": "stdout",
     "output_type": "stream",
     "text": [
      "['a', 'b', 'c']\n",
      "['a', 'b', 'c']\n",
      "['pakistan', 'b', 'c']\n",
      "['pakistan', 'b', 'c']\n"
     ]
    }
   ],
   "source": [
    "a : list[int] = ['a' , 'b' , 'c']\n",
    "b = a # shallow copy\n",
    "\n",
    "print(a)\n",
    "print(b)\n",
    "\n",
    "b[0] = \"pakistan\"\n",
    "# will counter above problem that it update both the object and variable. copy by reference\n",
    "\n",
    "print(a)\n",
    "print(b)\n",
    "\n",
    "#problem we have made changes in `b` but it also change in `a`"
   ]
  },
  {
   "cell_type": "code",
   "execution_count": 106,
   "metadata": {},
   "outputs": [
    {
     "name": "stdout",
     "output_type": "stream",
     "text": [
      "a ['a', 'b', 'c']\n",
      "b ['a', 'b', 'c']\n",
      "a ['a', 'b', 'c']\n",
      "b ['pakistan', 'b', 'c']\n"
     ]
    }
   ],
   "source": [
    "a : list[int] = ['a' , 'b' , 'c']\n",
    "b = a.copy() # `deep copy` to counter above problem in shallow copy\n",
    "\n",
    "print(\"a\",a)\n",
    "print(\"b\",b)\n",
    "\n",
    "b[0] = \"pakistan\"\n",
    "\n",
    "#now above problem is solved we have made changes in `b` but it also change in `a`\n",
    "\n",
    "print(\"a\",a)\n",
    "print(\"b\",b)"
   ]
  },
  {
   "cell_type": "code",
   "execution_count": 107,
   "metadata": {},
   "outputs": [
    {
     "name": "stdout",
     "output_type": "stream",
     "text": [
      "2\n",
      "3\n"
     ]
    }
   ],
   "source": [
    "# count\n",
    "a : list[str] = ['a','a','a','b','c','c']\n",
    "print(a.count(\"c\")) # will count the frequency of the element occurance in list\n",
    "print(a.count(\"a\")) # will count the frequency of the element occurance in list"
   ]
  },
  {
   "cell_type": "code",
   "execution_count": 108,
   "metadata": {},
   "outputs": [
    {
     "data": {
      "text/plain": [
       "['Sir Zia', 'Sir Qasim', ['Abdu', 'Qadir']]"
      ]
     },
     "execution_count": 108,
     "metadata": {},
     "output_type": "execute_result"
    }
   ],
   "source": [
    "names : str = ['Sir Zia', 'Sir Qasim']\n",
    "\n",
    "new_fac_members : list[str] = ['Abdu', 'Qadir']\n",
    "\n",
    "names.append(new_fac_members) # will add as a `list` with `append` instead we will use extend to individualy add the element\n",
    "\n",
    "names"
   ]
  },
  {
   "cell_type": "code",
   "execution_count": 109,
   "metadata": {},
   "outputs": [
    {
     "data": {
      "text/plain": [
       "['Sir Zia', 'Sir Qasim', 'Abdul', 'Qadir']"
      ]
     },
     "execution_count": 109,
     "metadata": {},
     "output_type": "execute_result"
    }
   ],
   "source": [
    "names : str = ['Sir Zia', 'Sir Qasim']\n",
    "\n",
    "new_fac_members : list[str] = ['Abdul', 'Qadir']\n",
    "\n",
    "names.extend(new_fac_members) # will add as a list with append instead we will use extend\n",
    "\n",
    "names"
   ]
  },
  {
   "cell_type": "code",
   "execution_count": 110,
   "metadata": {},
   "outputs": [
    {
     "data": {
      "text/plain": [
       "['Sir Zia', 'Sir Qasim', 'Qadir', 'Abdul']"
      ]
     },
     "execution_count": 110,
     "metadata": {},
     "output_type": "execute_result"
    }
   ],
   "source": [
    "name : list[str] = ['Sir Zia', 'Sir Qasim', 'Abdul', 'Qadir', 'Abdul']\n",
    "\n",
    "name.remove(\"Abdul\") # remove with text value \n",
    "# always remove first occurance\n",
    "name"
   ]
  },
  {
   "cell_type": "code",
   "execution_count": 111,
   "metadata": {},
   "outputs": [
    {
     "name": "stdout",
     "output_type": "stream",
     "text": [
      "This wiil remove the text : ['Sir Zia', 'Sir Qasim', 'Qadir', 'Abdul']\n"
     ]
    }
   ],
   "source": [
    "name : list[str] = ['Sir Zia', 'Sir Qasim', 'Abdul', 'Qadir', 'Abdul']\n",
    "\n",
    "name.remove(\"Abdul\") # remove with 'text value' \n",
    "\n",
    "# always remove \"first occurance\"\n",
    "\n",
    "print(f\"This wiil remove the text : {name}\")"
   ]
  },
  {
   "cell_type": "code",
   "execution_count": 112,
   "metadata": {},
   "outputs": [
    {
     "data": {
      "text/plain": [
       "2"
      ]
     },
     "execution_count": 112,
     "metadata": {},
     "output_type": "execute_result"
    }
   ],
   "source": [
    "name : list[str] = ['Sir Zia', 'Sir Qasim', 'Abdul', 'Qadir','Abdul']\n",
    "\n",
    "name.index(\"Abdul\") # will give index of text value\n",
    "\n",
    "#name"
   ]
  },
  {
   "cell_type": "code",
   "execution_count": 113,
   "metadata": {},
   "outputs": [
    {
     "data": {
      "text/plain": [
       "['Sir Zia', 'Sir Qasim', 'Abdul', 'Qadir', 'Abdul']"
      ]
     },
     "execution_count": 113,
     "metadata": {},
     "output_type": "execute_result"
    }
   ],
   "source": [
    "name : list[str] = ['Sir Zia', 'Sir Qasim', 'Abdul', 'Qadir','Abdul']\n",
    "\n",
    "name.index(\"Abdul\")\n",
    "\n",
    "name"
   ]
  },
  {
   "cell_type": "code",
   "execution_count": 115,
   "metadata": {},
   "outputs": [
    {
     "name": "stdout",
     "output_type": "stream",
     "text": [
      "['Sir Zia', 'Sir Qasim', 'Abdul', 'Qadir', 'Abdul']\n",
      "['Abdul', 'Qadir', 'Abdul', 'Sir Qasim', 'Sir Zia']\n"
     ]
    }
   ],
   "source": [
    "name : list[str] = ['Sir Zia', 'Sir Qasim', 'Abdul', 'Qadir','Abdul']\n",
    "print(name)\n",
    "\n",
    "name.reverse() # will change the real real data in memory\n",
    "print(name)"
   ]
  },
  {
   "cell_type": "code",
   "execution_count": 116,
   "metadata": {},
   "outputs": [
    {
     "name": "stdout",
     "output_type": "stream",
     "text": [
      "['A', 'B', 'C', 'D', 'E', 'F']\n",
      "['F', 'E', 'D', 'C', 'B', 'A']\n"
     ]
    }
   ],
   "source": [
    "name : list[str] = list(\"ABCDEF\")\n",
    "print(name)\n",
    "\n",
    "name.reverse()\n",
    "print(name)"
   ]
  },
  {
   "cell_type": "code",
   "execution_count": 117,
   "metadata": {},
   "outputs": [
    {
     "name": "stdout",
     "output_type": "stream",
     "text": [
      "['Sir Zia', 'Sir Qasim', 'Abdul', 'Qadir', 'Abdul']\n",
      "['Abdul', 'Abdul', 'Qadir', 'Sir Qasim', 'Sir Zia']\n"
     ]
    }
   ],
   "source": [
    "name : list[str] = ['Sir Zia', 'Sir Qasim', 'Abdul', 'Qadir','Abdul']\n",
    "print(name)\n",
    "\n",
    "name.sort() # sort in acsending order in memory(physical memory changing)\n",
    "print(name)"
   ]
  },
  {
   "cell_type": "code",
   "execution_count": 118,
   "metadata": {},
   "outputs": [
    {
     "name": "stdout",
     "output_type": "stream",
     "text": [
      "['D', 'E', 'F', 'A', 'B', 'C']\n",
      "['A', 'B', 'C', 'D', 'E', 'F']\n"
     ]
    }
   ],
   "source": [
    "name : list[str] = list(\"DEFABC\")\n",
    "print(name)\n",
    "\n",
    "name.sort() # sort in acsending order in memory(physical memory changing)\n",
    "print(name)"
   ]
  },
  {
   "cell_type": "code",
   "execution_count": 119,
   "metadata": {},
   "outputs": [
    {
     "name": "stdout",
     "output_type": "stream",
     "text": [
      "['D', 'E', 'F', 'A', 'B', 'C']\n",
      "['F', 'E', 'D', 'C', 'B', 'A']\n"
     ]
    }
   ],
   "source": [
    "name : list[str] = list(\"DEFABC\")\n",
    "print(name)\n",
    "\n",
    "name.sort(reverse=True) # sort in acsending order in memory(physical memory changing)\n",
    "print(name)"
   ]
  },
  {
   "cell_type": "code",
   "execution_count": 120,
   "metadata": {},
   "outputs": [
    {
     "name": "stdout",
     "output_type": "stream",
     "text": [
      "['Sir Zia', 'Sir Qasim', 'Abdul', 'Qadir', 'Abdul']\n",
      "['Sir Zia', 'Sir Qasim', 'Qadir', 'Abdul', 'Abdul']\n"
     ]
    }
   ],
   "source": [
    "name : list[str] = ['Sir Zia', 'Sir Qasim', 'Abdul', 'Qadir','Abdul']\n",
    "print(name)\n",
    "\n",
    "name.sort(reverse=True) # sort in descending order in memory(physical memory changing)\n",
    "print(name)"
   ]
  }
 ],
 "metadata": {
  "kernelspec": {
   "display_name": "Python 3",
   "language": "python",
   "name": "python3"
  },
  "language_info": {
   "codemirror_mode": {
    "name": "ipython",
    "version": 3
   },
   "file_extension": ".py",
   "mimetype": "text/x-python",
   "name": "python",
   "nbconvert_exporter": "python",
   "pygments_lexer": "ipython3",
   "version": "3.12.2"
  }
 },
 "nbformat": 4,
 "nbformat_minor": 2
}
