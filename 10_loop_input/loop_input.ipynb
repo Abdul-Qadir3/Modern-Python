{
 "cells": [
  {
   "cell_type": "markdown",
   "metadata": {},
   "source": [
    "# <b>Loops and Inputs From Users\n",
    "* while loop\n",
    "* for loop\n",
    "* controls\n",
    "  * break\n",
    "  * continue\n",
    "  * pass\n",
    "* input with `input function`\n",
    "* input from `console`\n",
    "\n",
    "## <b>Loops works on <u>Itrative datatypes</u> \n",
    "Like\n",
    "* list\n",
    "* dictionary\n",
    "* tuple\n",
    "* string"
   ]
  },
  {
   "cell_type": "code",
   "execution_count": 1,
   "metadata": {},
   "outputs": [
    {
     "name": "stdout",
     "output_type": "stream",
     "text": [
      "[1, 2, 3, 4, 5, 6, 7, 8, 9]\n"
     ]
    }
   ],
   "source": [
    "#                 0 1 2 3 4 5 6 7 8\n",
    "l1 : list[int] = [1,2,3,4,5,6,7,8,9]\n",
    "print(l1)"
   ]
  },
  {
   "cell_type": "code",
   "execution_count": 1,
   "metadata": {},
   "outputs": [
    {
     "name": "stdout",
     "output_type": "stream",
     "text": [
      "Item no :  1\n",
      "Item no :  2\n",
      "Item no :  3\n",
      "Item no :  4\n",
      "Item no :  5\n",
      "Item no :  6\n",
      "Item no :  7\n",
      "Item no :  8\n",
      "Item no :  9\n"
     ]
    }
   ],
   "source": [
    "#                 0 1 2 3 4 5 6 7 8\n",
    "l1 : list[int] = [1,2,3,4,5,6,7,8,9]\n",
    "# do iteration\n",
    "\n",
    "for n in l1:\n",
    "    print(\"Item no : \",n)"
   ]
  },
  {
   "cell_type": "markdown",
   "metadata": {},
   "source": [
    "1. <b>`Iteration Step 1: n = 1`\n",
    "2. The loop begins with n set to the first value in the list [1, 2, 3, 4, 5, 6, 7, 8, 9]\n",
    "3. The value of n is 1 in the first iteration<br>\n",
    "print(\"Item no : \", 1)\n",
    "\n",
    "1. `Iteration Step 2: n = 2`\n",
    "2. The loop continues with n set to the next value in the list [1, 2, 3, 4, 5, 6, 7, 8, 9]\n",
    "3. The value of n is 2 in the second iteration<br>\n",
    "print(\"Item no : \", 2)\n",
    "\n",
    "1. `Iteration Step 3: n = 3`\n",
    "2. The loop continues with n set to the next value in the list [1, 2, 3, 4, 5, 6, 7, 8, 9]\n",
    "3. The value of n is 3 in the third iteration<br>\n",
    "print(\"Item no : \", 3)\n",
    "\n",
    "1. `Iteration Step 4: n = 4`\n",
    "2. The loop continues with n set to the next value in the list [1, 2, 3, 4, 5, 6, 7, 8, 9]\n",
    "3. The value of n is 4 in the fourth iteration<br>\n",
    "print(\"Item no : \", 4)\n",
    "\n",
    "1. `Iteration Step 5: n = 5`\n",
    "2. The loop continues with n set to the next value in the list [1, 2, 3, 4, 5, 6, 7, 8, 9]\n",
    "3. The value of n is 5 in the fifth iteration<br>\n",
    "print(\"Item no : \", 5)\n",
    "\n",
    "1. `Iteration Step 6: n = 6`\n",
    "2. The loop continues with n set to the next value in the list [1, 2, 3, 4, 5, 6, 7, 8, 9]\n",
    "3. The value of n is 6 in the sixth iteration<br>\n",
    "print(\"Item no : \", 6)\n",
    "\n",
    "And so on...."
   ]
  },
  {
   "cell_type": "code",
   "execution_count": 3,
   "metadata": {},
   "outputs": [
    {
     "name": "stdout",
     "output_type": "stream",
     "text": [
      "Item no obtaineed from iteration is :  1\n",
      "Item no obtaineed from iteration is :  2\n",
      "Item no obtaineed from iteration is :  3\n",
      "Item no obtaineed from iteration is :  4\n",
      "Item no obtaineed from iteration is :  5\n",
      "Item no obtaineed from iteration is :  6\n",
      "Item no obtaineed from iteration is :  7\n",
      "Item no obtaineed from iteration is :  8\n",
      "Item no obtaineed from iteration is :  9\n"
     ]
    }
   ],
   "source": [
    "for n in [1,2,3,4,5,6,7,8,9]:\n",
    "    print(\"Item no obtaineed from iteration is : \",n)"
   ]
  },
  {
   "cell_type": "code",
   "execution_count": 3,
   "metadata": {},
   "outputs": [
    {
     "name": "stdout",
     "output_type": "stream",
     "text": [
      "Item no in tuple :  1\n",
      "Item no in tuple :  2\n",
      "Item no in tuple :  3\n",
      "Item no in tuple :  4\n",
      "Item no in tuple :  5\n",
      "Item no in tuple :  6\n",
      "Item no in tuple :  7\n",
      "Item no in tuple :  8\n",
      "Item no in tuple :  9\n"
     ]
    }
   ],
   "source": [
    "#                 0 1 2 3 4 5 6 7 8\n",
    "l1 : tuple[int] = [1,2,3,4,5,6,7,8,9]\n",
    "# do iteration\n",
    "\n",
    "for n in l1:\n",
    "    print(\"Item no in tuple : \",n)"
   ]
  },
  {
   "cell_type": "code",
   "execution_count": 4,
   "metadata": {},
   "outputs": [
    {
     "name": "stdout",
     "output_type": "stream",
     "text": [
      "Item no in string :  P\n",
      "Item no in string :  a\n",
      "Item no in string :  k\n",
      "Item no in string :  i\n",
      "Item no in string :  s\n",
      "Item no in string :  t\n",
      "Item no in string :  a\n",
      "Item no in string :  n\n"
     ]
    }
   ],
   "source": [
    "l1 : str = \"Pakistan\"\n",
    "# do iteration\n",
    "\n",
    "for n in l1:\n",
    "    print(\"Item no in string : \",n)"
   ]
  },
  {
   "cell_type": "code",
   "execution_count": 5,
   "metadata": {},
   "outputs": [
    {
     "name": "stdout",
     "output_type": "stream",
     "text": [
      "Dictionary with key `name` and value is `A.Qadir`\n",
      "Dictionary with key `fname` and value is `M.Zakria`\n"
     ]
    }
   ],
   "source": [
    "#                 0 1 2 3 4 5 6 7 8\n",
    "l1 : dict[str,str] = {\n",
    "    \"name\":\"A.Qadir\",\"fname\":\"M.Zakria\"\n",
    "}\n",
    "# do iteration\n",
    "\n",
    "for k in l1:\n",
    "    print(f\"Dictionary with key `{k}` and value is `{l1[k]}`\")"
   ]
  },
  {
   "cell_type": "markdown",
   "metadata": {},
   "source": [
    "## We cannot do iteration on \"set\" datatype\n",
    "`To do iteration on set data type we have to typCasting`"
   ]
  },
  {
   "cell_type": "code",
   "execution_count": 6,
   "metadata": {},
   "outputs": [
    {
     "name": "stdout",
     "output_type": "stream",
     "text": [
      "Valuse from list of sets are :  1\n",
      "Valuse from list of sets are :  2\n",
      "Valuse from list of sets are :  3\n",
      "Valuse from list of sets are :  4\n",
      "Valuse from list of sets are :  5\n",
      "Valuse from list of sets are :  6\n",
      "Valuse from list of sets are :  7\n",
      "Valuse from list of sets are :  8\n",
      "Valuse from list of sets are :  9\n"
     ]
    }
   ],
   "source": [
    "l1 : list[set[int]] = list({1,2,3,4,5,6,7,8,9}) #list of sets\n",
    "#typecast\n",
    "# do iteration\n",
    "\n",
    "for n in l1:\n",
    "    print(\"Valuse from list of sets are : \",n)"
   ]
  },
  {
   "cell_type": "markdown",
   "metadata": {},
   "source": [
    "## Input from user\n",
    "\n",
    "* `input` function\n",
    "  * Default tpye is `String`(converts input to string the output)\n",
    "\n",
    "* `sys.argv` (for console input in abc.py file )\n",
    "  * default type is `Object` (Will get output what we have input)"
   ]
  },
  {
   "cell_type": "code",
   "execution_count": 4,
   "metadata": {},
   "outputs": [
    {
     "name": "stdout",
     "output_type": "stream",
     "text": [
      "<class 'str'>\n",
      "Welecome dear use Abdul Qadir!\n"
     ]
    }
   ],
   "source": [
    "name :str = input(\"Please enter your name : \\t\")\n",
    "\n",
    "print(type(name))\n",
    "print(f\"Welecome dear use {name}!\")"
   ]
  },
  {
   "cell_type": "markdown",
   "metadata": {},
   "source": [
    "## While loop\n",
    "```\n",
    "while logic: # true/false\n",
    "    loop_body\n",
    "```"
   ]
  },
  {
   "cell_type": "code",
   "execution_count": 8,
   "metadata": {},
   "outputs": [
    {
     "name": "stdout",
     "output_type": "stream",
     "text": [
      "Current number is: 1\n",
      "Current number is: 2\n",
      "Current number is: 3\n",
      "Current number is: 4\n",
      "Current number is: 5\n",
      "Current number is: 6\n",
      "Current number is: 7\n",
      "Current number is: 8\n",
      "Current number is: 9\n"
     ]
    }
   ],
   "source": [
    "# Initialize a boolean flag to control the loop\n",
    "flag: bool = True\n",
    "\n",
    "# Start with the current number set to 1\n",
    "current_num: int = 1\n",
    "\n",
    "# Start a while loop that will continue as long as the flag is True\n",
    "while flag:\n",
    "    # Print the current number\n",
    "    print(f\"Current number is: {current_num}\")\n",
    "    \n",
    "    # Increment the current number by 1\n",
    "    current_num += 1\n",
    "    \n",
    "    # Check if the current number has reached 10\n",
    "    if current_num == 10:\n",
    "        # If current number is 10, exit the loop by breaking it\n",
    "        break  # This ends the loop when current_num reaches 10"
   ]
  },
  {
   "cell_type": "code",
   "execution_count": 9,
   "metadata": {},
   "outputs": [
    {
     "name": "stdout",
     "output_type": "stream",
     "text": [
      "Current index is: 0 and the value is: 100\n",
      "Current index is: 1 and the value is: 200\n",
      "Current index is: 2 and the value is: 300\n",
      "Current index is: 3 and the value is: 400\n",
      "Current index is: 4 and the value is: 500\n"
     ]
    }
   ],
   "source": [
    "# Initialize a list named 'l1' with integer values.\n",
    "l1: list = [100, 200, 300, 400, 500]\n",
    "\n",
    "# Initialize an integer variable 'index' to 0. This will be used as a counter to track the current index of the list.\n",
    "index: int = 0\n",
    "\n",
    "# Start a while loop that will run as long as 'index' is less than the length of the list 'l1'.\n",
    "while index < len(l1):\n",
    "    # Print the current index and the value at that index in the list 'l1'.\n",
    "    # The 'f' in front of the string allows for string interpolation, so {index} and {l1[index]} are replaced by their values.\n",
    "    print(f\"Current index is: {index} and the value is: {l1[index]}\")\n",
    "\n",
    "    # Increment the value of 'index' by 1. This is important to move to the next element in the list during the next iteration of the loop.\n",
    "    index += 1\n",
    "\n",
    "# After the loop has completed, all elements in 'l1' will have been printed along with their respective indices."
   ]
  },
  {
   "cell_type": "markdown",
   "metadata": {},
   "source": [
    "#### Data Collection Loop:\n",
    "The while loop continues until the flag flag is set to False. This loop allows the user to input multiple data entries."
   ]
  },
  {
   "cell_type": "code",
   "execution_count": 11,
   "metadata": {},
   "outputs": [
    {
     "name": "stdout",
     "output_type": "stream",
     "text": [
      "Write 'quit' or 'exit' to stop the program.\n",
      "Write 'quit' or 'exit' to stop the program.\n",
      "Write 'quit' or 'exit' to stop the program.\n",
      "Write 'quit' or 'exit' to stop the program.\n"
     ]
    },
    {
     "data": {
      "text/plain": [
       "[{'name': 'abdul qadir', 'education': 'MSDs'},\n",
       " {'name': 'Asif ', 'education': '(th'},\n",
       " {'name': 'kashif', 'education': '6'}]"
      ]
     },
     "metadata": {},
     "output_type": "display_data"
    }
   ],
   "source": [
    "# Initialize an empty list to store dictionaries representing data entries\n",
    "data: list[dict[str, str]] = []\n",
    "\n",
    "# Initialize a boolean flag to control the loop\n",
    "flag: bool = True\n",
    "\n",
    "# Start a while loop that continues until the flag is set to False\n",
    "while flag:\n",
    "    # Prompt the user to enter their name and highest level of education\n",
    "    print(\"Write 'quit' or 'exit' to stop the program.\")\n",
    "    name: str = input(\"Enter your name: \")\n",
    "    education: str = input(\"Enter your highest level of education: \")\n",
    "    \n",
    "    # Check if the user input includes keywords to exit the program\n",
    "    if name.lower() in ['exit', 'quit', 'stop', 'close'] or education.lower() in ['exit', 'quit', 'stop', 'close']:\n",
    "        # If the user enters an exit keyword, set the flag to False to stop the loop\n",
    "        flag = False\n",
    "        break\n",
    "    \n",
    "    # Append a dictionary representing the user's data entry to the 'data' list\n",
    "    data.append({\"name\": name, \"education\": education})\n",
    "\n",
    "# Display the collected data entries\n",
    "display(data)"
   ]
  },
  {
   "cell_type": "markdown",
   "metadata": {},
   "source": [
    "## Controls\n",
    "- break\n",
    "  - Purpose: `\"break\"` is used to immediately exit a loop.\n",
    "- continue\n",
    "  - Purpose: `\"continue\"` is used to skip the rest of the code inside the loop for the current iteration and move on to the next iteration.\n",
    "- pass\n",
    "  - Purpose: `\"pass\"` is a null operation; it does nothing. It's a placeholder that allows you to write syntactically correct code when a statement is required but you don't want to execute any code. "
   ]
  },
  {
   "cell_type": "code",
   "execution_count": 15,
   "metadata": {},
   "outputs": [
    {
     "name": "stdout",
     "output_type": "stream",
     "text": [
      "0\n",
      "1\n",
      "2\n",
      "3\n",
      "4\n",
      "5\n"
     ]
    }
   ],
   "source": [
    "# Start a for loop that will iterate over a range of numbers from 0 to 9\n",
    "for i in range(10):\n",
    "    # Print the current value of i\n",
    "    print(i)\n",
    "    \n",
    "    # Check if the current value of i is equal to 5\n",
    "    if i == 5:\n",
    "        # If the condition is met, break out of the loop (stop the loop)\n",
    "        break"
   ]
  },
  {
   "cell_type": "code",
   "execution_count": 16,
   "metadata": {},
   "outputs": [
    {
     "name": "stdout",
     "output_type": "stream",
     "text": [
      "1\n",
      "2\n",
      "3\n",
      "4\n",
      "6\n",
      "7\n",
      "8\n",
      "9\n"
     ]
    }
   ],
   "source": [
    "#continue skips at a particular part\n",
    "for i in range(1,10):\n",
    "    if i == 5:\n",
    "        continue # skip iteration when i is at 5\n",
    "    print(i)"
   ]
  },
  {
   "cell_type": "code",
   "execution_count": 17,
   "metadata": {},
   "outputs": [],
   "source": [
    "#pass\n",
    "for i in range(1,1000): \n",
    "    pass # pass it as it is and write logic later on"
   ]
  },
  {
   "cell_type": "code",
   "execution_count": 19,
   "metadata": {},
   "outputs": [
    {
     "ename": "KeyboardInterrupt",
     "evalue": "",
     "output_type": "error",
     "traceback": [
      "\u001b[1;31m---------------------------------------------------------------------------\u001b[0m",
      "\u001b[1;31mKeyboardInterrupt\u001b[0m                         Traceback (most recent call last)",
      "Cell \u001b[1;32mIn[19], line 1\u001b[0m\n\u001b[1;32m----> 1\u001b[0m \u001b[38;5;28;01mwhile\u001b[39;00m \u001b[38;5;28;01mTrue\u001b[39;00m:\n\u001b[0;32m      2\u001b[0m     \u001b[38;5;28;01mpass\u001b[39;00m\n",
      "\u001b[1;31mKeyboardInterrupt\u001b[0m: "
     ]
    }
   ],
   "source": [
    "while True:\n",
    "    pass"
   ]
  },
  {
   "cell_type": "code",
   "execution_count": 30,
   "metadata": {},
   "outputs": [],
   "source": [
    "def abc(a : int , b:int) -> int: # -> returns integer\n",
    "    pass # skip the error and move on or skips incomplete words"
   ]
  },
  {
   "cell_type": "code",
   "execution_count": 21,
   "metadata": {},
   "outputs": [
    {
     "name": "stdout",
     "output_type": "stream",
     "text": [
      "\n",
      "Hello, ABdul Qadir!\n"
     ]
    }
   ],
   "source": [
    "prompt = \"If you share your name, we can personalize the messages you see.\"\n",
    "prompt += \"\\nWhat is your first name? \"\n",
    "name = input(prompt)\n",
    "print(f\"\\nHello, {name}!\")"
   ]
  },
  {
   "cell_type": "code",
   "execution_count": 28,
   "metadata": {},
   "outputs": [
    {
     "data": {
      "text/plain": [
       "True"
      ]
     },
     "execution_count": 28,
     "metadata": {},
     "output_type": "execute_result"
    }
   ],
   "source": [
    "age : int = int(input(\"How old are you? \"))\n",
    "age>=18"
   ]
  },
  {
   "cell_type": "code",
   "execution_count": 27,
   "metadata": {},
   "outputs": [
    {
     "name": "stdout",
     "output_type": "stream",
     "text": [
      "<class 'int'>\n",
      "19\n"
     ]
    }
   ],
   "source": [
    "age : int = int(input(\"How old are you? \"))\n",
    "age>=18\n",
    "print(type(age))\n",
    "print(age)"
   ]
  },
  {
   "cell_type": "code",
   "execution_count": 40,
   "metadata": {},
   "outputs": [
    {
     "data": {
      "text/plain": [
       "[2, 4, 6, 8, 10]"
      ]
     },
     "execution_count": 40,
     "metadata": {},
     "output_type": "execute_result"
    }
   ],
   "source": [
    "data : list[int] = [2,4,5,6,7,8,9,10,11]\n",
    "\n",
    "#Extract even numbers drom the list\n",
    "\n",
    "[i for i in data if i%2 == 0] # if we use single if statement we use if in last"
   ]
  },
  {
   "cell_type": "code",
   "execution_count": 31,
   "metadata": {},
   "outputs": [
    {
     "data": {
      "text/plain": [
       "[5, 7, 9, 11, 29, 25]"
      ]
     },
     "execution_count": 31,
     "metadata": {},
     "output_type": "execute_result"
    }
   ],
   "source": [
    "data : list[int] = [2,4,5,6,7,8,9,10,11,29,20,24,25]\n",
    "\n",
    "#Extract odd numbers drom the list\n",
    "[i for i in data if i%2 == 1] # if we use single if statement we use if in last"
   ]
  },
  {
   "cell_type": "code",
   "execution_count": 34,
   "metadata": {},
   "outputs": [
    {
     "name": "stdout",
     "output_type": "stream",
     "text": [
      "1\n",
      "3\n",
      "5\n",
      "7\n",
      "9\n"
     ]
    }
   ],
   "source": [
    "# for above we use this code\n",
    "# Initialize a variable 'current_number' with the value 0\n",
    "current_number = 0\n",
    "\n",
    "# Start a 'while' loop that will continue as long as 'current_number' is less than 10\n",
    "while current_number < 10:\n",
    "    \n",
    "    # Increment 'current_number' by 1\n",
    "    current_number += 1\n",
    "    \n",
    "    # Check if 'current_number' is divisible by 2 (i.e., if it's an even number)\n",
    "    if current_number % 2 == 0:\n",
    "        \n",
    "        # If the number is even, use 'continue' to skip the rest of the loop's body\n",
    "        # and move to the next iteration\n",
    "        continue\n",
    "    \n",
    "    # If the number is odd (not even), print the 'current_number'\n",
    "    print(current_number)"
   ]
  },
  {
   "cell_type": "code",
   "execution_count": 42,
   "metadata": {},
   "outputs": [
    {
     "data": {
      "text/plain": [
       "[5, 7, 9, 11]"
      ]
     },
     "execution_count": 42,
     "metadata": {},
     "output_type": "execute_result"
    }
   ],
   "source": [
    "data : list[int] = [2,4,5,6,7,8,9,10,11]\n",
    "\n",
    "#Extract odd numbers drom the list\n",
    "[i for i in data if i%2 != 0] # if we use single if statement we use if in last"
   ]
  },
  {
   "cell_type": "code",
   "execution_count": 43,
   "metadata": {},
   "outputs": [
    {
     "name": "stdout",
     "output_type": "stream",
     "text": [
      "hello\n",
      "hi\n",
      "whats is youre name\n",
      "quit\n"
     ]
    }
   ],
   "source": [
    "prompt = \"\\nTell me something, and I will repeat it back to you:\"\n",
    "prompt += \"\\nEnter 'quit' to end the program. \"\n",
    "message = \"\"\n",
    "while message != 'quit': # without suing break\n",
    "    message = input(prompt)\n",
    "    print(message)"
   ]
  },
  {
   "cell_type": "code",
   "execution_count": 33,
   "metadata": {},
   "outputs": [
    {
     "name": "stdout",
     "output_type": "stream",
     "text": [
      "a\n",
      "d\n",
      "f\n",
      "af\n",
      "a\n",
      "s\n",
      "f\n"
     ]
    }
   ],
   "source": [
    "# Create a string variable named 'prompt' that contains the initial message to show to the user.\n",
    "# This message asks the user to input something, which will be repeated back to them.\n",
    "prompt: str = \"\\nTell me something, and I will repeat it back to you:\"\n",
    "\n",
    "# Append an additional string to the 'prompt' variable that instructs the user to enter 'quit' to end the program.\n",
    "prompt += \"\\nEnter 'quit' to end the program. \"\n",
    "\n",
    "# Initialize a variable named 'active' and set it to True.\n",
    "# This variable will be used as a condition to control the while loop, keeping it active until the user decides to quit.\n",
    "active = True\n",
    "\n",
    "# Start a while loop that will continue to run as long as the 'active' variable is True.\n",
    "while active:\n",
    "    # Use the input() function to display the 'prompt' message and capture the user's input.\n",
    "    # The input is stored in the variable 'message'.\n",
    "    message = input(prompt)\n",
    "    \n",
    "    # Check if the user's input (stored in 'message') is equal to the string 'quit'.\n",
    "    if message == 'quit':\n",
    "        # If the user entered 'quit', set 'active' to False to exit the loop.\n",
    "        active = False\n",
    "    else:\n",
    "        # If the user entered anything other than 'quit', print their message.\n",
    "        # This repeats the message back to them.\n",
    "        print(message)"
   ]
  },
  {
   "cell_type": "code",
   "execution_count": 47,
   "metadata": {},
   "outputs": [
    {
     "name": "stdout",
     "output_type": "stream",
     "text": [
      "Verifying user: Candace\n",
      "Verifying user: Brian\n",
      "Verifying user: Alice\n",
      "\n",
      "The following users have been confirmed:\n",
      "Candace\n",
      "Brian\n",
      "Alice\n"
     ]
    }
   ],
   "source": [
    "# Start with users that need to be verified,\n",
    "# and an empty list to hold confirmed users.\n",
    "unconfirmed_users = ['alice', 'brian', 'candace']\n",
    "confirmed_users = []\n",
    "\n",
    "# Verify each user until there are no more unconfirmed users.\n",
    "# Move each verified user into the list of confirmed users.\n",
    "while unconfirmed_users:\n",
    "    # Pop the last user from the list of unconfirmed users.\n",
    "    current_user = unconfirmed_users.pop()\n",
    "    # Print a message indicating that the user is being verified.\n",
    "    print(f\"Verifying user: {current_user.title()}\")\n",
    "    # Add the verified user to the list of confirmed users.\n",
    "    confirmed_users.append(current_user)\n",
    "\n",
    "# Display all confirmed users.\n",
    "print(\"\\nThe following users have been confirmed:\")\n",
    "for confirmed_user in confirmed_users:\n",
    "    print(confirmed_user.title())"
   ]
  },
  {
   "cell_type": "code",
   "execution_count": 35,
   "metadata": {},
   "outputs": [
    {
     "name": "stdout",
     "output_type": "stream",
     "text": [
      "['dog', 'cat', 'dog', 'goldfish', 'cat', 'rabbit', 'cat']\n",
      "['dog', 'dog', 'goldfish', 'rabbit']\n"
     ]
    }
   ],
   "source": [
    "# Create a list of pet names, with some pets appearing more than once\n",
    "pets = ['dog', 'cat', 'dog', 'goldfish', 'cat', 'rabbit', 'cat']\n",
    "\n",
    "# Print the original list of pets\n",
    "print(pets)\n",
    "\n",
    "# Start a while loop that will run as long as 'cat' is in the pets list\n",
    "while 'cat' in pets:\n",
    "    # Remove the first occurrence of 'cat' from the list\n",
    "    pets.remove('cat')\n",
    "\n",
    "# Print the modified list after all 'cat' entries have been removed\n",
    "print(pets)"
   ]
  },
  {
   "cell_type": "code",
   "execution_count": null,
   "metadata": {},
   "outputs": [],
   "source": []
  }
 ],
 "metadata": {
  "kernelspec": {
   "display_name": "python_eda",
   "language": "python",
   "name": "python3"
  },
  "language_info": {
   "codemirror_mode": {
    "name": "ipython",
    "version": 3
   },
   "file_extension": ".py",
   "mimetype": "text/x-python",
   "name": "python",
   "nbconvert_exporter": "python",
   "pygments_lexer": "ipython3",
   "version": "3.12.4"
  }
 },
 "nbformat": 4,
 "nbformat_minor": 2
}
