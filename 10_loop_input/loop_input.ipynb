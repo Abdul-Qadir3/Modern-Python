{
 "cells": [
  {
   "cell_type": "markdown",
   "metadata": {},
   "source": [
    "# <b>Loops and Inputs From Users\n",
    "* while loop\n",
    "* for loop\n",
    "* controls\n",
    "  * break\n",
    "  * continue\n",
    "  * pass\n",
    "* input with `input function`\n",
    "* input from `console`\n",
    "\n",
    "## <b>Loops works on Itrative datatypes \n",
    "Like\n",
    "* list\n",
    "* dictionary\n",
    "* tuple\n",
    "* string"
   ]
  },
  {
   "cell_type": "code",
   "execution_count": 1,
   "metadata": {},
   "outputs": [
    {
     "name": "stdout",
     "output_type": "stream",
     "text": [
      "[1, 2, 3, 4, 5, 6, 7, 8, 9]\n"
     ]
    }
   ],
   "source": [
    "#                 0 1 2 3 4 5 6 7 8\n",
    "l1 : list[int] = [1,2,3,4,5,6,7,8,9]\n",
    "print(l1)"
   ]
  },
  {
   "cell_type": "code",
   "execution_count": 4,
   "metadata": {},
   "outputs": [
    {
     "name": "stdout",
     "output_type": "stream",
     "text": [
      "Item no :  1\n",
      "Item no :  2\n",
      "Item no :  3\n",
      "Item no :  4\n",
      "Item no :  5\n",
      "Item no :  6\n",
      "Item no :  7\n",
      "Item no :  8\n",
      "Item no :  9\n"
     ]
    }
   ],
   "source": [
    "#                 0 1 2 3 4 5 6 7 8\n",
    "l1 : list[int] = [1,2,3,4,5,6,7,8,9]\n",
    "# do iteration\n",
    "\n",
    "for n in l1:\n",
    "    print(\"Item no : \",n)"
   ]
  },
  {
   "cell_type": "markdown",
   "metadata": {},
   "source": [
    "1. <b>`Iteration Step 1: n = 1`\n",
    "2. The loop begins with n set to the first value in the list [1, 2, 3, 4, 5, 6, 7, 8, 9]\n",
    "3. The value of n is 1 in the first iteration<br>\n",
    "print(\"Item no : \", 1)\n",
    "\n",
    "1. `Iteration Step 2: n = 2`\n",
    "2. The loop continues with n set to the next value in the list [1, 2, 3, 4, 5, 6, 7, 8, 9]\n",
    "3. The value of n is 2 in the second iteration<br>\n",
    "print(\"Item no : \", 2)\n",
    "\n",
    "1. `Iteration Step 3: n = 3`\n",
    "2. The loop continues with n set to the next value in the list [1, 2, 3, 4, 5, 6, 7, 8, 9]\n",
    "3. The value of n is 3 in the third iteration<br>\n",
    "print(\"Item no : \", 3)\n",
    "\n",
    "1. `Iteration Step 4: n = 4`\n",
    "2. The loop continues with n set to the next value in the list [1, 2, 3, 4, 5, 6, 7, 8, 9]\n",
    "3. The value of n is 4 in the fourth iteration<br>\n",
    "print(\"Item no : \", 4)\n",
    "\n",
    "1. `Iteration Step 5: n = 5`\n",
    "2. The loop continues with n set to the next value in the list [1, 2, 3, 4, 5, 6, 7, 8, 9]\n",
    "3. The value of n is 5 in the fifth iteration<br>\n",
    "print(\"Item no : \", 5)\n",
    "\n",
    "1. `Iteration Step 6: n = 6`\n",
    "2. The loop continues with n set to the next value in the list [1, 2, 3, 4, 5, 6, 7, 8, 9]\n",
    "3. The value of n is 6 in the sixth iteration<br>\n",
    "print(\"Item no : \", 6)\n",
    "\n",
    "And so on...."
   ]
  },
  {
   "cell_type": "code",
   "execution_count": 6,
   "metadata": {},
   "outputs": [
    {
     "name": "stdout",
     "output_type": "stream",
     "text": [
      "Item no obtaineed from iteration is :  1\n",
      "Item no obtaineed from iteration is :  2\n",
      "Item no obtaineed from iteration is :  3\n",
      "Item no obtaineed from iteration is :  4\n",
      "Item no obtaineed from iteration is :  5\n",
      "Item no obtaineed from iteration is :  6\n",
      "Item no obtaineed from iteration is :  7\n",
      "Item no obtaineed from iteration is :  8\n",
      "Item no obtaineed from iteration is :  9\n"
     ]
    }
   ],
   "source": [
    "for n in [1,2,3,4,5,6,7,8,9]:\n",
    "    print(\"Item no obtaineed from iteration is : \",n)"
   ]
  },
  {
   "cell_type": "code",
   "execution_count": 8,
   "metadata": {},
   "outputs": [
    {
     "name": "stdout",
     "output_type": "stream",
     "text": [
      "Item no in tuple :  1\n",
      "Item no in tuple :  2\n",
      "Item no in tuple :  3\n",
      "Item no in tuple :  4\n",
      "Item no in tuple :  5\n",
      "Item no in tuple :  6\n",
      "Item no in tuple :  7\n",
      "Item no in tuple :  8\n",
      "Item no in tuple :  9\n"
     ]
    }
   ],
   "source": [
    "#                 0 1 2 3 4 5 6 7 8\n",
    "l1 : tuple[int] = [1,2,3,4,5,6,7,8,9]\n",
    "# do iteration\n",
    "\n",
    "for n in l1:\n",
    "    print(\"Item no in tuple : \",n)"
   ]
  },
  {
   "cell_type": "code",
   "execution_count": 9,
   "metadata": {},
   "outputs": [
    {
     "name": "stdout",
     "output_type": "stream",
     "text": [
      "Item no in string :  P\n",
      "Item no in string :  a\n",
      "Item no in string :  k\n",
      "Item no in string :  i\n",
      "Item no in string :  s\n",
      "Item no in string :  t\n",
      "Item no in string :  a\n",
      "Item no in string :  n\n"
     ]
    }
   ],
   "source": [
    "l1 : str = \"Pakistan\"\n",
    "# do iteration\n",
    "\n",
    "for n in l1:\n",
    "    print(\"Item no in string : \",n)"
   ]
  },
  {
   "cell_type": "code",
   "execution_count": 12,
   "metadata": {},
   "outputs": [
    {
     "name": "stdout",
     "output_type": "stream",
     "text": [
      "Dictionary with key `name` and value is `A.Qadir`\n",
      "Dictionary with key `fname` and value is `M.Zakria`\n"
     ]
    }
   ],
   "source": [
    "#                 0 1 2 3 4 5 6 7 8\n",
    "l1 : dict[str,str] = {\n",
    "    \"name\":\"A.Qadir\",\"fname\":\"M.Zakria\"\n",
    "}\n",
    "# do iteration\n",
    "\n",
    "for k in l1:\n",
    "    print(f\"Dictionary with key `{k}` and value is `{l1[k]}`\")"
   ]
  },
  {
   "cell_type": "markdown",
   "metadata": {},
   "source": [
    "## We cannot do iteration on set datatype\n",
    "`To do iteration on set data type we have to typCasting`"
   ]
  },
  {
   "cell_type": "code",
   "execution_count": 16,
   "metadata": {},
   "outputs": [
    {
     "name": "stdout",
     "output_type": "stream",
     "text": [
      "Valuse from list of sets are :  1\n",
      "Valuse from list of sets are :  2\n",
      "Valuse from list of sets are :  3\n",
      "Valuse from list of sets are :  4\n",
      "Valuse from list of sets are :  5\n",
      "Valuse from list of sets are :  6\n",
      "Valuse from list of sets are :  7\n",
      "Valuse from list of sets are :  8\n",
      "Valuse from list of sets are :  9\n"
     ]
    }
   ],
   "source": [
    "l1 : list[set[int]] = list({1,2,3,4,5,6,7,8,9}) #list of sets\n",
    "#typecast\n",
    "# do iteration\n",
    "\n",
    "for n in l1:\n",
    "    print(\"Valuse from list of sets are : \",n)"
   ]
  },
  {
   "cell_type": "markdown",
   "metadata": {},
   "source": [
    "## Input from user\n",
    "\n",
    "* input function\n",
    "  * Default tpye is `String`\n",
    "\n",
    "* sys.argv (for console input in abc.py file )\n",
    "  * default type is `Object`"
   ]
  },
  {
   "cell_type": "code",
   "execution_count": 19,
   "metadata": {},
   "outputs": [
    {
     "name": "stdout",
     "output_type": "stream",
     "text": [
      "<class 'str'>\n",
      "Welecome dear use abdul!\n"
     ]
    }
   ],
   "source": [
    "name :str = input(\"Please enter your name : \\t\")\n",
    "\n",
    "print(type(name))\n",
    "print(f\"Welecome dear use {name}!\")"
   ]
  },
  {
   "cell_type": "code",
   "execution_count": null,
   "metadata": {},
   "outputs": [],
   "source": []
  }
 ],
 "metadata": {
  "kernelspec": {
   "display_name": "python_eda",
   "language": "python",
   "name": "python3"
  },
  "language_info": {
   "codemirror_mode": {
    "name": "ipython",
    "version": 3
   },
   "file_extension": ".py",
   "mimetype": "text/x-python",
   "name": "python",
   "nbconvert_exporter": "python",
   "pygments_lexer": "ipython3",
   "version": "3.11.5"
  }
 },
 "nbformat": 4,
 "nbformat_minor": 2
}
