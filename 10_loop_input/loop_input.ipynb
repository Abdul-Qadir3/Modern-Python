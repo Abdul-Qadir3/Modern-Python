{
 "cells": [
  {
   "cell_type": "markdown",
   "metadata": {},
   "source": [
    "# <b>Loops and Inputs From Users\n",
    "* while loop\n",
    "* for loop\n",
    "* controls\n",
    "  * break\n",
    "  * continue\n",
    "  * pass\n",
    "* input with `input function`\n",
    "* input from `console`\n",
    "\n",
    "## <b>Loops works on Itrative datatypes \n",
    "Like\n",
    "* list\n",
    "* dictionary\n",
    "* tuple\n",
    "* string"
   ]
  },
  {
   "cell_type": "code",
   "execution_count": 1,
   "metadata": {},
   "outputs": [
    {
     "name": "stdout",
     "output_type": "stream",
     "text": [
      "[1, 2, 3, 4, 5, 6, 7, 8, 9]\n"
     ]
    }
   ],
   "source": [
    "#                 0 1 2 3 4 5 6 7 8\n",
    "l1 : list[int] = [1,2,3,4,5,6,7,8,9]\n",
    "print(l1)"
   ]
  },
  {
   "cell_type": "code",
   "execution_count": 2,
   "metadata": {},
   "outputs": [
    {
     "name": "stdout",
     "output_type": "stream",
     "text": [
      "Item no :  1\n",
      "Item no :  2\n",
      "Item no :  3\n",
      "Item no :  4\n",
      "Item no :  5\n",
      "Item no :  6\n",
      "Item no :  7\n",
      "Item no :  8\n",
      "Item no :  9\n"
     ]
    }
   ],
   "source": [
    "#                 0 1 2 3 4 5 6 7 8\n",
    "l1 : list[int] = [1,2,3,4,5,6,7,8,9]\n",
    "# do iteration\n",
    "\n",
    "for n in l1:\n",
    "    print(\"Item no : \",n)"
   ]
  },
  {
   "cell_type": "markdown",
   "metadata": {},
   "source": [
    "1. <b>`Iteration Step 1: n = 1`\n",
    "2. The loop begins with n set to the first value in the list [1, 2, 3, 4, 5, 6, 7, 8, 9]\n",
    "3. The value of n is 1 in the first iteration<br>\n",
    "print(\"Item no : \", 1)\n",
    "\n",
    "1. `Iteration Step 2: n = 2`\n",
    "2. The loop continues with n set to the next value in the list [1, 2, 3, 4, 5, 6, 7, 8, 9]\n",
    "3. The value of n is 2 in the second iteration<br>\n",
    "print(\"Item no : \", 2)\n",
    "\n",
    "1. `Iteration Step 3: n = 3`\n",
    "2. The loop continues with n set to the next value in the list [1, 2, 3, 4, 5, 6, 7, 8, 9]\n",
    "3. The value of n is 3 in the third iteration<br>\n",
    "print(\"Item no : \", 3)\n",
    "\n",
    "1. `Iteration Step 4: n = 4`\n",
    "2. The loop continues with n set to the next value in the list [1, 2, 3, 4, 5, 6, 7, 8, 9]\n",
    "3. The value of n is 4 in the fourth iteration<br>\n",
    "print(\"Item no : \", 4)\n",
    "\n",
    "1. `Iteration Step 5: n = 5`\n",
    "2. The loop continues with n set to the next value in the list [1, 2, 3, 4, 5, 6, 7, 8, 9]\n",
    "3. The value of n is 5 in the fifth iteration<br>\n",
    "print(\"Item no : \", 5)\n",
    "\n",
    "1. `Iteration Step 6: n = 6`\n",
    "2. The loop continues with n set to the next value in the list [1, 2, 3, 4, 5, 6, 7, 8, 9]\n",
    "3. The value of n is 6 in the sixth iteration<br>\n",
    "print(\"Item no : \", 6)\n",
    "\n",
    "And so on...."
   ]
  },
  {
   "cell_type": "code",
   "execution_count": 3,
   "metadata": {},
   "outputs": [
    {
     "name": "stdout",
     "output_type": "stream",
     "text": [
      "Item no obtaineed from iteration is :  1\n",
      "Item no obtaineed from iteration is :  2\n",
      "Item no obtaineed from iteration is :  3\n",
      "Item no obtaineed from iteration is :  4\n",
      "Item no obtaineed from iteration is :  5\n",
      "Item no obtaineed from iteration is :  6\n",
      "Item no obtaineed from iteration is :  7\n",
      "Item no obtaineed from iteration is :  8\n",
      "Item no obtaineed from iteration is :  9\n"
     ]
    }
   ],
   "source": [
    "for n in [1,2,3,4,5,6,7,8,9]:\n",
    "    print(\"Item no obtaineed from iteration is : \",n)"
   ]
  },
  {
   "cell_type": "code",
   "execution_count": 4,
   "metadata": {},
   "outputs": [
    {
     "name": "stdout",
     "output_type": "stream",
     "text": [
      "Item no in tuple :  1\n",
      "Item no in tuple :  2\n",
      "Item no in tuple :  3\n",
      "Item no in tuple :  4\n",
      "Item no in tuple :  5\n",
      "Item no in tuple :  6\n",
      "Item no in tuple :  7\n",
      "Item no in tuple :  8\n",
      "Item no in tuple :  9\n"
     ]
    }
   ],
   "source": [
    "#                 0 1 2 3 4 5 6 7 8\n",
    "l1 : tuple[int] = [1,2,3,4,5,6,7,8,9]\n",
    "# do iteration\n",
    "\n",
    "for n in l1:\n",
    "    print(\"Item no in tuple : \",n)"
   ]
  },
  {
   "cell_type": "code",
   "execution_count": 5,
   "metadata": {},
   "outputs": [
    {
     "name": "stdout",
     "output_type": "stream",
     "text": [
      "Item no in string :  P\n",
      "Item no in string :  a\n",
      "Item no in string :  k\n",
      "Item no in string :  i\n",
      "Item no in string :  s\n",
      "Item no in string :  t\n",
      "Item no in string :  a\n",
      "Item no in string :  n\n"
     ]
    }
   ],
   "source": [
    "l1 : str = \"Pakistan\"\n",
    "# do iteration\n",
    "\n",
    "for n in l1:\n",
    "    print(\"Item no in string : \",n)"
   ]
  },
  {
   "cell_type": "code",
   "execution_count": 6,
   "metadata": {},
   "outputs": [
    {
     "name": "stdout",
     "output_type": "stream",
     "text": [
      "Dictionary with key `name` and value is `A.Qadir`\n",
      "Dictionary with key `fname` and value is `M.Zakria`\n"
     ]
    }
   ],
   "source": [
    "#                 0 1 2 3 4 5 6 7 8\n",
    "l1 : dict[str,str] = {\n",
    "    \"name\":\"A.Qadir\",\"fname\":\"M.Zakria\"\n",
    "}\n",
    "# do iteration\n",
    "\n",
    "for k in l1:\n",
    "    print(f\"Dictionary with key `{k}` and value is `{l1[k]}`\")"
   ]
  },
  {
   "cell_type": "markdown",
   "metadata": {},
   "source": [
    "## We cannot do iteration on set datatype\n",
    "`To do iteration on set data type we have to typCasting`"
   ]
  },
  {
   "cell_type": "code",
   "execution_count": 7,
   "metadata": {},
   "outputs": [
    {
     "name": "stdout",
     "output_type": "stream",
     "text": [
      "Valuse from list of sets are :  1\n",
      "Valuse from list of sets are :  2\n",
      "Valuse from list of sets are :  3\n",
      "Valuse from list of sets are :  4\n",
      "Valuse from list of sets are :  5\n",
      "Valuse from list of sets are :  6\n",
      "Valuse from list of sets are :  7\n",
      "Valuse from list of sets are :  8\n",
      "Valuse from list of sets are :  9\n"
     ]
    }
   ],
   "source": [
    "l1 : list[set[int]] = list({1,2,3,4,5,6,7,8,9}) #list of sets\n",
    "#typecast\n",
    "# do iteration\n",
    "\n",
    "for n in l1:\n",
    "    print(\"Valuse from list of sets are : \",n)"
   ]
  },
  {
   "cell_type": "markdown",
   "metadata": {},
   "source": [
    "## Input from user\n",
    "\n",
    "* input function\n",
    "  * Default tpye is `String`\n",
    "\n",
    "* sys.argv (for console input in abc.py file )\n",
    "  * default type is `Object`"
   ]
  },
  {
   "cell_type": "code",
   "execution_count": 8,
   "metadata": {},
   "outputs": [
    {
     "name": "stdout",
     "output_type": "stream",
     "text": [
      "<class 'str'>\n",
      "Welecome dear use adf!\n"
     ]
    }
   ],
   "source": [
    "name :str = input(\"Please enter your name : \\t\")\n",
    "\n",
    "print(type(name))\n",
    "print(f\"Welecome dear use {name}!\")"
   ]
  },
  {
   "cell_type": "markdown",
   "metadata": {},
   "source": [
    "## While loop\n",
    "```\n",
    "while logic: # true/false\n",
    "    loop_body\n",
    "```"
   ]
  },
  {
   "cell_type": "code",
   "execution_count": 10,
   "metadata": {},
   "outputs": [
    {
     "name": "stdout",
     "output_type": "stream",
     "text": [
      "Currnt nuber is :1\n",
      "Currnt nuber is :2\n",
      "Currnt nuber is :3\n",
      "Currnt nuber is :4\n",
      "Currnt nuber is :5\n",
      "Currnt nuber is :6\n",
      "Currnt nuber is :7\n",
      "Currnt nuber is :8\n",
      "Currnt nuber is :9\n"
     ]
    }
   ],
   "source": [
    "flag: bool = True\n",
    "\n",
    "current_num : int = 1\n",
    "\n",
    "while flag:\n",
    "    print(f\"Currnt nuber is :{current_num}\")\n",
    "    current_num += 1\n",
    "    \n",
    "    #flag false at some point to break the loop \n",
    "    if current_num == 10: # limitation to control the loop and print till `9`\n",
    "\n",
    "        break # controls the loop"
   ]
  },
  {
   "cell_type": "code",
   "execution_count": 14,
   "metadata": {},
   "outputs": [
    {
     "name": "stdout",
     "output_type": "stream",
     "text": [
      "Current index is : 0 and the value is : 100\n",
      "Current index is : 1 and the value is : 200\n",
      "Current index is : 2 and the value is : 300\n",
      "Current index is : 3 and the value is : 400\n",
      "Current index is : 4 and the value is : 500\n"
     ]
    }
   ],
   "source": [
    "l1: bool = [100,200,300,400,500] \n",
    "\n",
    "index : int = 0\n",
    "\n",
    "while index<len(l1):\n",
    "    print(f\"Current index is : {index} and the value is : {l1[index]}\")\n",
    "    index += 1"
   ]
  },
  {
   "cell_type": "markdown",
   "metadata": {},
   "source": [
    "#### Data Collection Loop:\n",
    "The while loop continues until the flag flag is set to False. This loop allows the user to input multiple data entries."
   ]
  },
  {
   "cell_type": "code",
   "execution_count": 19,
   "metadata": {},
   "outputs": [
    {
     "name": "stdout",
     "output_type": "stream",
     "text": [
      "Write 'quit' or 'exit' to stop the program.\n",
      "Write 'quit' or 'exit' to stop the program.\n"
     ]
    },
    {
     "data": {
      "text/plain": [
       "[{'name': 'abdul qadir', 'education': 'msds'}]"
      ]
     },
     "metadata": {},
     "output_type": "display_data"
    }
   ],
   "source": [
    "# Initialize an empty list to store dictionaries representing data entries\n",
    "data: list[dict[str, str]] = []\n",
    "\n",
    "# Initialize a boolean flag to control the loop\n",
    "flag: bool = True\n",
    "\n",
    "# Start a while loop that continues until the flag is set to False\n",
    "while flag:\n",
    "    # Prompt the user to enter their name and highest level of education\n",
    "    print(\"Write 'quit' or 'exit' to stop the program.\")\n",
    "    name: str = input(\"Enter your name: \")\n",
    "    education: str = input(\"Enter your highest level of education: \")\n",
    "    \n",
    "    # Check if the user input includes keywords to exit the program\n",
    "    if name.lower() in ['exit', 'quit', 'stop', 'close'] or education.lower() in ['exit', 'quit', 'stop', 'close']:\n",
    "        # If the user enters an exit keyword, set the flag to False to stop the loop\n",
    "        flag = False\n",
    "        break\n",
    "    \n",
    "    # Append a dictionary representing the user's data entry to the 'data' list\n",
    "    data.append({\"name\": name, \"education\": education})\n",
    "\n",
    "# Display the collected data entries\n",
    "display(data)"
   ]
  },
  {
   "cell_type": "markdown",
   "metadata": {},
   "source": [
    "## Controls\n",
    "- break\n",
    "- continue\n",
    "- pass"
   ]
  },
  {
   "cell_type": "code",
   "execution_count": 22,
   "metadata": {},
   "outputs": [
    {
     "name": "stdout",
     "output_type": "stream",
     "text": [
      "0\n",
      "1\n",
      "2\n",
      "3\n",
      "4\n",
      "5\n"
     ]
    }
   ],
   "source": [
    "#break\n",
    "for i in range(10):\n",
    "    print(i)\n",
    "    if i == 5:\n",
    "        break"
   ]
  },
  {
   "cell_type": "code",
   "execution_count": 26,
   "metadata": {},
   "outputs": [
    {
     "name": "stdout",
     "output_type": "stream",
     "text": [
      "1\n",
      "2\n",
      "3\n",
      "4\n",
      "6\n",
      "7\n",
      "8\n",
      "9\n"
     ]
    }
   ],
   "source": [
    "#continue skips at a particular part\n",
    "for i in range(1,10):\n",
    "    if i == 5:\n",
    "        continue # skip iteration when i is at 5\n",
    "    print(i)"
   ]
  },
  {
   "cell_type": "code",
   "execution_count": 28,
   "metadata": {},
   "outputs": [],
   "source": [
    "#pass\n",
    "for i in range(1,1000):\n",
    "    pass"
   ]
  },
  {
   "cell_type": "code",
   "execution_count": 29,
   "metadata": {},
   "outputs": [
    {
     "ename": "KeyboardInterrupt",
     "evalue": "",
     "output_type": "error",
     "traceback": [
      "\u001b[1;31m---------------------------------------------------------------------------\u001b[0m",
      "\u001b[1;31mKeyboardInterrupt\u001b[0m                         Traceback (most recent call last)",
      "Cell \u001b[1;32mIn[29], line 1\u001b[0m\n\u001b[1;32m----> 1\u001b[0m \u001b[38;5;28;01mwhile\u001b[39;00m \u001b[38;5;28;01mTrue\u001b[39;00m:\n\u001b[0;32m      2\u001b[0m     \u001b[38;5;28;01mpass\u001b[39;00m\n",
      "\u001b[1;31mKeyboardInterrupt\u001b[0m: "
     ]
    }
   ],
   "source": [
    "while True:\n",
    "    pass"
   ]
  },
  {
   "cell_type": "code",
   "execution_count": 30,
   "metadata": {},
   "outputs": [],
   "source": [
    "def abc(a : int , b:int) -> int: # -> returns integer\n",
    "    pass # skip the error and move on or skips incomplete words"
   ]
  },
  {
   "cell_type": "code",
   "execution_count": 31,
   "metadata": {},
   "outputs": [
    {
     "name": "stdout",
     "output_type": "stream",
     "text": [
      "\n",
      "Hello, dfff!\n"
     ]
    }
   ],
   "source": [
    "prompt = \"If you share your name, we can personalize the messages you see.\"\n",
    "prompt += \"\\nWhat is your first name? \"\n",
    "name = input(prompt)\n",
    "print(f\"\\nHello, {name}!\")"
   ]
  },
  {
   "cell_type": "code",
   "execution_count": 37,
   "metadata": {},
   "outputs": [
    {
     "name": "stdout",
     "output_type": "stream",
     "text": [
      "<class 'int'>\n",
      "34\n"
     ]
    }
   ],
   "source": [
    "age : int = int(input(\"How old are you? \"))\n",
    "age>=18\n",
    "print(type(age))\n",
    "print(age)"
   ]
  },
  {
   "cell_type": "code",
   "execution_count": 40,
   "metadata": {},
   "outputs": [
    {
     "data": {
      "text/plain": [
       "[2, 4, 6, 8, 10]"
      ]
     },
     "execution_count": 40,
     "metadata": {},
     "output_type": "execute_result"
    }
   ],
   "source": [
    "data : list[int] = [2,4,5,6,7,8,9,10,11]\n",
    "\n",
    "#Extract even numbers drom the list\n",
    "[i for i in data if i%2 == 0] # if we use single if statement we use if in last"
   ]
  },
  {
   "cell_type": "code",
   "execution_count": 45,
   "metadata": {},
   "outputs": [
    {
     "name": "stdout",
     "output_type": "stream",
     "text": [
      "1\n",
      "3\n",
      "5\n",
      "7\n",
      "9\n"
     ]
    }
   ],
   "source": [
    "# for above we use this code\n",
    "current_number = 0\n",
    "while current_number < 10:\n",
    "    current_number += 1\n",
    "    if current_number % 2 == 0:\n",
    "            continue\n",
    "    print(current_number)"
   ]
  },
  {
   "cell_type": "code",
   "execution_count": 42,
   "metadata": {},
   "outputs": [
    {
     "data": {
      "text/plain": [
       "[5, 7, 9, 11]"
      ]
     },
     "execution_count": 42,
     "metadata": {},
     "output_type": "execute_result"
    }
   ],
   "source": [
    "data : list[int] = [2,4,5,6,7,8,9,10,11]\n",
    "\n",
    "#Extract odd numbers drom the list\n",
    "[i for i in data if i%2 != 0] # if we use single if statement we use if in last"
   ]
  },
  {
   "cell_type": "code",
   "execution_count": 43,
   "metadata": {},
   "outputs": [
    {
     "name": "stdout",
     "output_type": "stream",
     "text": [
      "hello\n",
      "hi\n",
      "whats is youre name\n",
      "quit\n"
     ]
    }
   ],
   "source": [
    "prompt = \"\\nTell me something, and I will repeat it back to you:\"\n",
    "prompt += \"\\nEnter 'quit' to end the program. \"\n",
    "message = \"\"\n",
    "while message != 'quit': # without suing break\n",
    "    message = input(prompt)\n",
    "    print(message)"
   ]
  },
  {
   "cell_type": "code",
   "execution_count": 44,
   "metadata": {},
   "outputs": [
    {
     "name": "stdout",
     "output_type": "stream",
     "text": [
      "g\n",
      "s\n",
      "d\n"
     ]
    }
   ],
   "source": [
    "prompt : str = \"\\nTell me something, and I will repeat it back to you:\"\n",
    "prompt += \"\\nEnter 'quit' to end the program. \"\n",
    "active = True\n",
    "while active:\n",
    "    message = input(prompt)\n",
    "    if message == 'quit':\n",
    "        active = False\n",
    "    else:\n",
    "        print(message)"
   ]
  },
  {
   "cell_type": "code",
   "execution_count": 47,
   "metadata": {},
   "outputs": [
    {
     "name": "stdout",
     "output_type": "stream",
     "text": [
      "Verifying user: Candace\n",
      "Verifying user: Brian\n",
      "Verifying user: Alice\n",
      "\n",
      "The following users have been confirmed:\n",
      "Candace\n",
      "Brian\n",
      "Alice\n"
     ]
    }
   ],
   "source": [
    "# Start with users that need to be verified,\n",
    "# and an empty list to hold confirmed users.\n",
    "unconfirmed_users = ['alice', 'brian', 'candace']\n",
    "confirmed_users = []\n",
    "\n",
    "# Verify each user until there are no more unconfirmed users.\n",
    "# Move each verified user into the list of confirmed users.\n",
    "while unconfirmed_users:\n",
    "    # Pop the last user from the list of unconfirmed users.\n",
    "    current_user = unconfirmed_users.pop()\n",
    "    # Print a message indicating that the user is being verified.\n",
    "    print(f\"Verifying user: {current_user.title()}\")\n",
    "    # Add the verified user to the list of confirmed users.\n",
    "    confirmed_users.append(current_user)\n",
    "\n",
    "# Display all confirmed users.\n",
    "print(\"\\nThe following users have been confirmed:\")\n",
    "for confirmed_user in confirmed_users:\n",
    "    print(confirmed_user.title())"
   ]
  },
  {
   "cell_type": "code",
   "execution_count": 48,
   "metadata": {},
   "outputs": [
    {
     "name": "stdout",
     "output_type": "stream",
     "text": [
      "['dog', 'cat', 'dog', 'goldfish', 'cat', 'rabbit', 'cat']\n",
      "['dog', 'dog', 'goldfish', 'rabbit']\n"
     ]
    }
   ],
   "source": [
    "pets = ['dog', 'cat', 'dog', 'goldfish', 'cat', 'rabbit', 'cat']\n",
    "print(pets)\n",
    "while 'cat' in pets:\n",
    "    pets.remove('cat')\n",
    "print(pets)"
   ]
  },
  {
   "cell_type": "code",
   "execution_count": null,
   "metadata": {},
   "outputs": [],
   "source": []
  }
 ],
 "metadata": {
  "kernelspec": {
   "display_name": "python_eda",
   "language": "python",
   "name": "python3"
  },
  "language_info": {
   "codemirror_mode": {
    "name": "ipython",
    "version": 3
   },
   "file_extension": ".py",
   "mimetype": "text/x-python",
   "name": "python",
   "nbconvert_exporter": "python",
   "pygments_lexer": "ipython3",
   "version": "3.11.5"
  }
 },
 "nbformat": 4,
 "nbformat_minor": 2
}
