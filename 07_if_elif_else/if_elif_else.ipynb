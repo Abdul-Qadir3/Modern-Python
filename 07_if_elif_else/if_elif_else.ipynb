{
 "cells": [
  {
   "cell_type": "markdown",
   "metadata": {},
   "source": [
    "# If Else Elif\n",
    "```\n",
    "if logic:\n",
    "    True_block\n",
    "else:\n",
    "    False_block\n",
    "```   \n",
    "comaparison opeators used for logic and returns answer as Ture or False\n",
    "\n",
    "## Comprehensive if-else\n",
    "\n",
    "```True_block if logic else False_block```\n",
    "\n",
    "* if\n",
    "* if-else\n",
    "* if-elif-else"
   ]
  },
  {
   "cell_type": "code",
   "execution_count": 4,
   "metadata": {},
   "outputs": [
    {
     "name": "stdout",
     "output_type": "stream",
     "text": [
      "pakistan zindabad\n"
     ]
    }
   ],
   "source": [
    "if True:\n",
    "    print(\"pakistan zindabad\")\n",
    "else:\n",
    "    print(\"Hello world\")"
   ]
  },
  {
   "cell_type": "code",
   "execution_count": 6,
   "metadata": {},
   "outputs": [
    {
     "name": "stdout",
     "output_type": "stream",
     "text": [
      "pakistan zindabad\n"
     ]
    }
   ],
   "source": [
    "#Comprehensive if-else\n",
    "#     True Block            logic           false block\n",
    "print(\"pakistan zindabad\") if True else print(\"Hello world\")"
   ]
  },
  {
   "cell_type": "markdown",
   "metadata": {},
   "source": [
    "### comparison operator\n",
    "* `==`\n",
    "* `!=`\n",
    "* `<`\n",
    "* `>`\n",
    "* `<=`\n",
    "* `>=`\n",
    "### logic operator\n",
    "* `&& (and)`\n",
    "* `|| (or)`\n",
    "* `! (not)`"
   ]
  },
  {
   "cell_type": "code",
   "execution_count": 7,
   "metadata": {},
   "outputs": [
    {
     "name": "stdout",
     "output_type": "stream",
     "text": [
      "True block\n",
      "1\n",
      "2\n"
     ]
    }
   ],
   "source": [
    "if True:\n",
    "    print(\"True block\")\n",
    "\n",
    "print(\"1\")\n",
    "print(\"2\")"
   ]
  },
  {
   "cell_type": "code",
   "execution_count": 8,
   "metadata": {},
   "outputs": [
    {
     "name": "stdout",
     "output_type": "stream",
     "text": [
      "True block\n"
     ]
    }
   ],
   "source": [
    "# chain will run only one block\n",
    "if True:\n",
    "    print(\"True block\")\n",
    "elif False:\n",
    "    print(\"elif logic1\")\n",
    "elif False:\n",
    "    print(\"elif logic2\")\n",
    "elif False:\n",
    "    print(\"elif logic3\")\n",
    "else:\n",
    "    print(\"else block\")"
   ]
  },
  {
   "cell_type": "code",
   "execution_count": 10,
   "metadata": {},
   "outputs": [
    {
     "name": "stdout",
     "output_type": "stream",
     "text": [
      "elif logic1\n"
     ]
    }
   ],
   "source": [
    "# chain will run only one block\n",
    "if False:\n",
    "    print(\"True block\")\n",
    "elif True:\n",
    "    print(\"elif logic1\")\n",
    "elif False:\n",
    "    print(\"elif logic2\")\n",
    "elif False:\n",
    "    print(\"elif logic3\")\n",
    "else:\n",
    "    print(\"else block\")"
   ]
  },
  {
   "cell_type": "code",
   "execution_count": 13,
   "metadata": {},
   "outputs": [
    {
     "name": "stdout",
     "output_type": "stream",
     "text": [
      "else block\n",
      "Hello World\n"
     ]
    }
   ],
   "source": [
    "# chain will run only one block\n",
    "if False:\n",
    "    print(\"True block\")\n",
    "elif False:\n",
    "    print(\"elif logic1\")\n",
    "elif False:\n",
    "    print(\"elif logic2\")\n",
    "elif False:\n",
    "    print(\"elif logic3\")\n",
    "else:\n",
    "    print(\"else block\")\n",
    "print(\"Hello World\")"
   ]
  },
  {
   "cell_type": "code",
   "execution_count": 30,
   "metadata": {},
   "outputs": [
    {
     "name": "stdout",
     "output_type": "stream",
     "text": [
      "7.0\n"
     ]
    }
   ],
   "source": [
    "from typing import Union #we can assign multiple type using union type\n",
    "grade : Union[int,float] = 7.0\n",
    "print(grade)"
   ]
  },
  {
   "cell_type": "markdown",
   "metadata": {},
   "source": [
    "## Grading Rule"
   ]
  },
  {
   "cell_type": "code",
   "execution_count": 31,
   "metadata": {},
   "outputs": [
    {
     "name": "stdout",
     "output_type": "stream",
     "text": [
      "The student has scored 88.0% and the grade is A+\n"
     ]
    }
   ],
   "source": [
    "percentage : Union[int,float] = 88.0\n",
    "\n",
    "grade: Union[str,None] = None\n",
    "if percentage >= 80:\n",
    "    grade = \"A+\"\n",
    "elif percentage >=70:\n",
    "    grade = \"A\"\n",
    "elif percentage >=60:\n",
    "    grade = \"B+\",\n",
    "elif percentage >=50:\n",
    "    grade = \"B\",\n",
    "elif percentage >= 40:\n",
    "    grade = \"C+\",\n",
    "elif percentage >= 33:\n",
    "    grade = \"E\",\n",
    "else:\n",
    "    grade = \"F\"\n",
    "\n",
    "print(f'The student has scored {percentage}% and the grade is {grade}')"
   ]
  },
  {
   "cell_type": "code",
   "execution_count": 32,
   "metadata": {},
   "outputs": [
    {
     "name": "stdout",
     "output_type": "stream",
     "text": [
      "<class 'int'>\n",
      "67\n"
     ]
    }
   ],
   "source": [
    "# input is by default string datatype so we will typecast function (int)\n",
    "a = int(input(\"input your percentage\"))\n",
    "print(type(a))\n",
    "print(a)"
   ]
  },
  {
   "cell_type": "code",
   "execution_count": 33,
   "metadata": {},
   "outputs": [
    {
     "name": "stdout",
     "output_type": "stream",
     "text": [
      "The student has scored 67% and the grade is ('B+',)\n"
     ]
    }
   ],
   "source": [
    "#user input\n",
    "percentage : Union[int,float] = int(input(\"input your percentage: \\t\"))\n",
    "\n",
    "grade: Union[str,None] = None\n",
    "if percentage >= 80:\n",
    "    grade = \"A+\"\n",
    "elif percentage >=70:\n",
    "    grade = \"A\"\n",
    "elif percentage >=60:\n",
    "    grade = \"B+\",\n",
    "elif percentage >=50:\n",
    "    grade = \"B\",\n",
    "elif percentage >= 40:\n",
    "    grade = \"C+\",\n",
    "elif percentage >= 33:\n",
    "    grade = \"E\",\n",
    "else:\n",
    "    grade = \"F\"\n",
    "    \n",
    "\n",
    "print(f'The student has scored {percentage}% and the grade is {grade}')"
   ]
  },
  {
   "cell_type": "code",
   "execution_count": 34,
   "metadata": {},
   "outputs": [
    {
     "name": "stdout",
     "output_type": "stream",
     "text": [
      "The student has scored 78% and the grade is Fail\n"
     ]
    }
   ],
   "source": [
    "# Logical Problem\n",
    "#user input\n",
    "percentage : Union[int,float] = int(input(\"input your percentage: \\t\"))\n",
    "\n",
    "grade: Union[str,None] = None\n",
    "if percentage >= 0: #Logical error(Executes first block) \n",
    "    grade = \"Fail\"\n",
    "elif percentage >=33:\n",
    "    grade = \"E\"\n",
    "elif percentage >=40:\n",
    "    grade = \"C\",\n",
    "elif percentage >=50:\n",
    "    grade = \"B\",\n",
    "elif percentage >= 60:\n",
    "    grade = \"A\",\n",
    "elif percentage >= 70:\n",
    "    grade = \"A+\",\n",
    "else:\n",
    "    grade = \"F\"\n",
    "\n",
    "print(f'The student has scored {percentage}% and the grade is {grade}')"
   ]
  },
  {
   "cell_type": "code",
   "execution_count": 35,
   "metadata": {},
   "outputs": [
    {
     "name": "stdout",
     "output_type": "stream",
     "text": [
      "The student has scored 67.0% and the grade is ('A',)\n"
     ]
    }
   ],
   "source": [
    "# to encounter above logical problem\n",
    "# Logical Problem(error) always solved by testion only\n",
    "#user input\n",
    "percentage : Union[int,float] = float(input(\"input your percentage: \\t\"))\n",
    "\n",
    "grade: Union[str,None] = None\n",
    "if percentage >= 0 and percentage <33: #Logical error(Executes first block) \n",
    "    grade = \"Fail\"\n",
    "elif percentage >=33 and percentage <40:\n",
    "    grade = \"E\"\n",
    "elif percentage >=40 and percentage <50:\n",
    "    grade = \"C\",\n",
    "elif percentage >=50 and percentage <60:\n",
    "    grade = \"B\",\n",
    "elif percentage >= 60 and percentage <70:\n",
    "    grade = \"A\",\n",
    "elif percentage >= 70 and percentage <100:\n",
    "    grade = \"A+\",\n",
    "else:\n",
    "    grade = \"F\"\n",
    "\n",
    "print(f'The student has scored {percentage}% and the grade is {grade}')"
   ]
  },
  {
   "cell_type": "markdown",
   "metadata": {},
   "source": [
    "### Student percenages"
   ]
  },
  {
   "cell_type": "code",
   "execution_count": null,
   "metadata": {},
   "outputs": [],
   "source": [
    "pertype : Union[int,float] #custom type aso called type alias\n",
    "\n",
    "percentages : list[pertype] = [88,99.9,87,54,65.9]\n",
    "\n",
    "grades : list[str] = \"\"\n",
    "\n",
    "for stdnt_percentage in percentage:\n",
    "    grade :"
   ]
  }
 ],
 "metadata": {
  "kernelspec": {
   "display_name": "Python 3",
   "language": "python",
   "name": "python3"
  },
  "language_info": {
   "codemirror_mode": {
    "name": "ipython",
    "version": 3
   },
   "file_extension": ".py",
   "mimetype": "text/x-python",
   "name": "python",
   "nbconvert_exporter": "python",
   "pygments_lexer": "ipython3",
   "version": "3.12.0"
  }
 },
 "nbformat": 4,
 "nbformat_minor": 2
}
