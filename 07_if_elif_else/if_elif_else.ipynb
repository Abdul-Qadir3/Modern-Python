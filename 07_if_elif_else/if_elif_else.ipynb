{
 "cells": [
  {
   "cell_type": "markdown",
   "metadata": {},
   "source": [
    "# If Else Elif\n",
    "```\n",
    "if logic:\n",
    "    True_block\n",
    "else:\n",
    "    False_block\n",
    "```   \n",
    "comaparison opeators used for logic and returns answer as Ture or False\n",
    "\n",
    "## Comprehensive if-else\n",
    "\n",
    "```True_block if logic else False_block```\n",
    "\n",
    "* if\n",
    "* if-else\n",
    "* if-elif-else"
   ]
  },
  {
   "cell_type": "code",
   "execution_count": 11,
   "metadata": {},
   "outputs": [
    {
     "name": "stdout",
     "output_type": "stream",
     "text": [
      "pakistan zindabad\n"
     ]
    }
   ],
   "source": [
    "if True:\n",
    "    print(\"pakistan zindabad\")\n",
    "else:\n",
    "    print(\"Hello world\")"
   ]
  },
  {
   "cell_type": "code",
   "execution_count": 12,
   "metadata": {},
   "outputs": [
    {
     "name": "stdout",
     "output_type": "stream",
     "text": [
      "pakistan zindabad\n"
     ]
    }
   ],
   "source": [
    "#Comprehensive if-else\n",
    "#     True Block            logic           false block\n",
    "print(\"pakistan zindabad\") if True else print(\"Hello world\")"
   ]
  },
  {
   "cell_type": "markdown",
   "metadata": {},
   "source": [
    "### comparison operator\n",
    "* `==`\n",
    "* `!=`\n",
    "* `<`\n",
    "* `>`\n",
    "* `<=`\n",
    "* `>=`\n",
    "### logic operator\n",
    "* `&& (and)`\n",
    "* `|| (or)`\n",
    "* `! (not)`"
   ]
  },
  {
   "cell_type": "code",
   "execution_count": 13,
   "metadata": {},
   "outputs": [
    {
     "name": "stdout",
     "output_type": "stream",
     "text": [
      "True block\n",
      "1\n",
      "2\n"
     ]
    }
   ],
   "source": [
    "if True:\n",
    "    print(\"True block\")\n",
    "\n",
    "print(\"1\")\n",
    "print(\"2\")"
   ]
  },
  {
   "cell_type": "code",
   "execution_count": 14,
   "metadata": {},
   "outputs": [
    {
     "name": "stdout",
     "output_type": "stream",
     "text": [
      "True block\n"
     ]
    }
   ],
   "source": [
    "# chain will run only one block\n",
    "if True:\n",
    "    print(\"True block\")\n",
    "elif False:\n",
    "    print(\"elif logic1\")\n",
    "elif False:\n",
    "    print(\"elif logic2\")\n",
    "elif False:\n",
    "    print(\"elif logic3\")\n",
    "else:\n",
    "    print(\"else block\")"
   ]
  },
  {
   "cell_type": "code",
   "execution_count": 15,
   "metadata": {},
   "outputs": [
    {
     "name": "stdout",
     "output_type": "stream",
     "text": [
      "elif logic1\n"
     ]
    }
   ],
   "source": [
    "# chain will run only one block\n",
    "if False:\n",
    "    print(\"True block\")\n",
    "elif True:\n",
    "    print(\"elif logic1\")\n",
    "elif False:\n",
    "    print(\"elif logic2\")\n",
    "elif False:\n",
    "    print(\"elif logic3\")\n",
    "else:\n",
    "    print(\"else block\")"
   ]
  },
  {
   "cell_type": "code",
   "execution_count": 16,
   "metadata": {},
   "outputs": [
    {
     "name": "stdout",
     "output_type": "stream",
     "text": [
      "else block\n",
      "Hello World\n"
     ]
    }
   ],
   "source": [
    "# chain will run only one block\n",
    "if False:\n",
    "    print(\"True block\")\n",
    "elif False:\n",
    "    print(\"elif logic1\")\n",
    "elif False:\n",
    "    print(\"elif logic2\")\n",
    "elif False:\n",
    "    print(\"elif logic3\")\n",
    "else:\n",
    "    print(\"else block\")\n",
    "print(\"Hello World\")"
   ]
  },
  {
   "cell_type": "code",
   "execution_count": 17,
   "metadata": {},
   "outputs": [
    {
     "name": "stdout",
     "output_type": "stream",
     "text": [
      "7.0\n"
     ]
    }
   ],
   "source": [
    "from typing import Union #we can assign multiple type using union type\n",
    "grade : Union[int,float] = 7.0\n",
    "print(grade)"
   ]
  },
  {
   "cell_type": "markdown",
   "metadata": {},
   "source": [
    "## Grading Rule"
   ]
  },
  {
   "cell_type": "code",
   "execution_count": 18,
   "metadata": {},
   "outputs": [
    {
     "name": "stdout",
     "output_type": "stream",
     "text": [
      "The student has scored 88.0% and the grade is A+\n"
     ]
    }
   ],
   "source": [
    "percentage : Union[int,float] = 88.0\n",
    "\n",
    "grade: Union[str,None] = None\n",
    "if percentage >= 80:\n",
    "    grade = \"A+\"\n",
    "elif percentage >=70:\n",
    "    grade = \"A\"\n",
    "elif percentage >=60:\n",
    "    grade = \"B+\",\n",
    "elif percentage >=50:\n",
    "    grade = \"B\",\n",
    "elif percentage >= 40:\n",
    "    grade = \"C+\",\n",
    "elif percentage >= 33:\n",
    "    grade = \"E\",\n",
    "else:\n",
    "    grade = \"F\"\n",
    "\n",
    "print(f'The student has scored {percentage}% and the grade is {grade}')"
   ]
  },
  {
   "cell_type": "code",
   "execution_count": 24,
   "metadata": {},
   "outputs": [
    {
     "name": "stdout",
     "output_type": "stream",
     "text": [
      "<class 'int'>\n",
      "43\n"
     ]
    }
   ],
   "source": [
    "# input is by default string datatype so we will typecast function (int)\n",
    "a = int(input(\"input your percentage\"))\n",
    "print(type(a))\n",
    "print(a)"
   ]
  },
  {
   "cell_type": "code",
   "execution_count": 20,
   "metadata": {},
   "outputs": [
    {
     "name": "stdout",
     "output_type": "stream",
     "text": [
      "The student has scored 67% and the grade is ('B+',)\n"
     ]
    }
   ],
   "source": [
    "#user input\n",
    "percentage : Union[int,float] = int(input(\"input your percentage: \\t\"))\n",
    "\n",
    "grade: Union[str,None] = None\n",
    "if percentage >= 80:\n",
    "    grade = \"A+\"\n",
    "elif percentage >=70:\n",
    "    grade = \"A\"\n",
    "elif percentage >=60:\n",
    "    grade = \"B+\",\n",
    "elif percentage >=50:\n",
    "    grade = \"B\",\n",
    "elif percentage >= 40:\n",
    "    grade = \"C+\",\n",
    "elif percentage >= 33:\n",
    "    grade = \"E\",\n",
    "else:\n",
    "    grade = \"F\"\n",
    "    \n",
    "\n",
    "print(f'The student has scored {percentage}% and the grade is {grade}')"
   ]
  },
  {
   "cell_type": "code",
   "execution_count": 21,
   "metadata": {},
   "outputs": [
    {
     "name": "stdout",
     "output_type": "stream",
     "text": [
      "The student has scored 67% and the grade is Fail\n"
     ]
    }
   ],
   "source": [
    "# Logical Problem\n",
    "#user input\n",
    "percentage : Union[int,float] = int(input(\"input your percentage: \\t\"))\n",
    "\n",
    "grade: Union[str,None] = None\n",
    "if percentage >= 0: #Logical error(Executes first block) \n",
    "    grade = \"Fail\"\n",
    "elif percentage >=33:\n",
    "    grade = \"E\"\n",
    "elif percentage >=40:\n",
    "    grade = \"C\",\n",
    "elif percentage >=50:\n",
    "    grade = \"B\",\n",
    "elif percentage >= 60:\n",
    "    grade = \"A\",\n",
    "elif percentage >= 70:\n",
    "    grade = \"A+\",\n",
    "else:\n",
    "    grade = \"F\"\n",
    "\n",
    "print(f'The student has scored {percentage}% and the grade is {grade}')"
   ]
  },
  {
   "cell_type": "code",
   "execution_count": 22,
   "metadata": {},
   "outputs": [
    {
     "name": "stdout",
     "output_type": "stream",
     "text": [
      "The student has scored 8.0% and the grade is Fail\n"
     ]
    }
   ],
   "source": [
    "# to encounter above logical problem\n",
    "# Logical Problem(error) always solved by testion only\n",
    "#user input\n",
    "percentage : Union[int,float] = float(input(\"input your percentage: \\t\"))\n",
    "\n",
    "grade: Union[str,None] = None\n",
    "if percentage >= 0 and percentage <33: #Logical error(Executes first block) \n",
    "    grade = \"Fail\"\n",
    "elif percentage >=33 and percentage <40:\n",
    "    grade = \"E\"\n",
    "elif percentage >=40 and percentage <50:\n",
    "    grade = \"C\",\n",
    "elif percentage >=50 and percentage <60:\n",
    "    grade = \"B\",\n",
    "elif percentage >= 60 and percentage <70:\n",
    "    grade = \"A\",\n",
    "elif percentage >= 70 and percentage <100:\n",
    "    grade = \"A+\",\n",
    "else:\n",
    "    grade = \"F\"\n",
    "\n",
    "print(f'The student has scored {percentage}% and the grade is {grade}')"
   ]
  },
  {
   "cell_type": "markdown",
   "metadata": {},
   "source": [
    "### Student percenages"
   ]
  },
  {
   "cell_type": "code",
   "execution_count": 76,
   "metadata": {},
   "outputs": [
    {
     "name": "stdout",
     "output_type": "stream",
     "text": [
      "[88, 99.9, 87, 54, 65.9, 45, 78, 54, 22, 81]\n",
      "['A+', 'A+', 'A+', 'B', 'A', 'C', 'A+', 'B', 'Fail', 'A+']\n"
     ]
    }
   ],
   "source": [
    "from typing import Union\n",
    "\n",
    "pertype = Union[int,float] #custom type also called type alias\n",
    "\n",
    "percentages : list[pertype] = [88,99.9,87,54,65.9,45,78,54,22,81]\n",
    "\n",
    "grades : list[str] = []\n",
    "\n",
    "for percentage in percentages:\n",
    "    grade : str = \"\"\n",
    "    \n",
    "    if (percentage >= 0) and (percentage <33): #Logical error(Executes first block) \n",
    "        grade = \"Fail\"\n",
    "    elif (percentage >=33) and (percentage <40):\n",
    "        grade = \"E\"\n",
    "    elif (percentage >=40) and (percentage <50):\n",
    "        grade = \"C\"\n",
    "    elif (percentage >=50) and (percentage <60):\n",
    "        grade = \"B\"\n",
    "    elif (percentage >= 60) and (percentage <70):\n",
    "        grade = \"A\"\n",
    "    elif (percentage >= 70) and (percentage <100):\n",
    "        grade = \"A+\"\n",
    "\n",
    "    grades.append(grade)\n",
    "\n",
    "print(percentages)\n",
    "print(grades)"
   ]
  },
  {
   "cell_type": "code",
   "execution_count": 77,
   "metadata": {},
   "outputs": [
    {
     "data": {
      "text/plain": [
       "<zip at 0x1ca21d69f80>"
      ]
     },
     "execution_count": 77,
     "metadata": {},
     "output_type": "execute_result"
    }
   ],
   "source": [
    "# Zip function combines same lenght list\n",
    "zip(percentages,grades) #generative function needs iteration toe work"
   ]
  },
  {
   "cell_type": "code",
   "execution_count": 78,
   "metadata": {},
   "outputs": [
    {
     "data": {
      "text/plain": [
       "[(88, 'A+'),\n",
       " (99.9, 'A+'),\n",
       " (87, 'A+'),\n",
       " (54, 'B'),\n",
       " (65.9, 'A'),\n",
       " (45, 'C'),\n",
       " (78, 'A+'),\n",
       " (54, 'B'),\n",
       " (22, 'Fail'),\n",
       " (81, 'A+')]"
      ]
     },
     "execution_count": 78,
     "metadata": {},
     "output_type": "execute_result"
    }
   ],
   "source": [
    "list(zip(percentages,grades))#forms list of tupple"
   ]
  },
  {
   "cell_type": "code",
   "execution_count": 79,
   "metadata": {},
   "outputs": [
    {
     "data": {
      "text/plain": [
       "[0, 1, 2, 3, 4, 5, 6, 7, 8, 9]"
      ]
     },
     "execution_count": 79,
     "metadata": {},
     "output_type": "execute_result"
    }
   ],
   "source": [
    "roll_no : list[int] = list(range(len(percentages)))\n",
    "roll_no"
   ]
  },
  {
   "cell_type": "code",
   "execution_count": 80,
   "metadata": {},
   "outputs": [
    {
     "data": {
      "text/plain": [
       "[(0, 88, 'A+'),\n",
       " (1, 99.9, 'A+'),\n",
       " (2, 87, 'A+'),\n",
       " (3, 54, 'B'),\n",
       " (4, 65.9, 'A'),\n",
       " (5, 45, 'C'),\n",
       " (6, 78, 'A+'),\n",
       " (7, 54, 'B'),\n",
       " (8, 22, 'Fail'),\n",
       " (9, 81, 'A+')]"
      ]
     },
     "execution_count": 80,
     "metadata": {},
     "output_type": "execute_result"
    }
   ],
   "source": [
    "dat_base = list(zip(roll_no,percentages,grades))\n",
    "dat_base"
   ]
  },
  {
   "cell_type": "code",
   "execution_count": 81,
   "metadata": {},
   "outputs": [
    {
     "data": {
      "text/plain": [
       "[(0, 88, 'A+'),\n",
       " (1, 99.9, 'A+'),\n",
       " (2, 87, 'A+'),\n",
       " (3, 54, 'B'),\n",
       " (4, 65.9, 'A'),\n",
       " (5, 45, 'C'),\n",
       " (6, 78, 'A+'),\n",
       " (7, 54, 'B'),\n",
       " (8, 22, 'Fail'),\n",
       " (9, 81, 'A+')]"
      ]
     },
     "metadata": {},
     "output_type": "display_data"
    },
    {
     "data": {
      "text/plain": [
       "[(0, 88, 'A+'),\n",
       " (1, 99.9, 'A+'),\n",
       " (2, 87, 'A+'),\n",
       " (3, 54, 'B'),\n",
       " (4, 65.9, 'A'),\n",
       " (5, 45, 'C'),\n",
       " (6, 78, 'A+'),\n",
       " (7, 54, 'B'),\n",
       " (8, 22, 'Fail'),\n",
       " (9, 81, 'A+')]"
      ]
     },
     "execution_count": 81,
     "metadata": {},
     "output_type": "execute_result"
    }
   ],
   "source": [
    "display(dat_base)\n",
    "sorted(dat_base)"
   ]
  },
  {
   "cell_type": "code",
   "execution_count": 85,
   "metadata": {},
   "outputs": [
    {
     "data": {
      "text/plain": [
       "[(0, 88, 'A+'),\n",
       " (1, 99.9, 'A+'),\n",
       " (2, 87, 'A+'),\n",
       " (3, 54, 'B'),\n",
       " (4, 65.9, 'A'),\n",
       " (5, 45, 'C'),\n",
       " (6, 78, 'A+'),\n",
       " (7, 54, 'B'),\n",
       " (8, 22, 'Fail'),\n",
       " (9, 81, 'A+')]"
      ]
     },
     "metadata": {},
     "output_type": "display_data"
    },
    {
     "data": {
      "text/plain": [
       "[(1, 99.9, 'A+'),\n",
       " (0, 88, 'A+'),\n",
       " (2, 87, 'A+'),\n",
       " (9, 81, 'A+'),\n",
       " (6, 78, 'A+'),\n",
       " (4, 65.9, 'A'),\n",
       " (3, 54, 'B'),\n",
       " (7, 54, 'B'),\n",
       " (5, 45, 'C'),\n",
       " (8, 22, 'Fail')]"
      ]
     },
     "execution_count": 85,
     "metadata": {},
     "output_type": "execute_result"
    }
   ],
   "source": [
    "display(dat_base)\n",
    "sorted(dat_base, key=lambda x:x[1], reverse=True)"
   ]
  },
  {
   "cell_type": "code",
   "execution_count": 87,
   "metadata": {},
   "outputs": [
    {
     "name": "stdout",
     "output_type": "stream",
     "text": [
      "Audi\n",
      "BMW\n",
      "Toyota\n",
      "Tata\n"
     ]
    }
   ],
   "source": [
    "cars : list[str] = ['audi','bmw','toyota','tata']\n",
    "for car in cars: # extract element from iterated types \n",
    "    if car == 'bmw':\n",
    "        print(car.upper())\n",
    "    else:\n",
    "        print(car.title())"
   ]
  },
  {
   "cell_type": "code",
   "execution_count": 91,
   "metadata": {},
   "outputs": [
    {
     "data": {
      "text/plain": [
       "['Audi', 'BMW', 'Toyota', 'Tata']"
      ]
     },
     "execution_count": 91,
     "metadata": {},
     "output_type": "execute_result"
    }
   ],
   "source": [
    "cars : list[str] = ['audi','bmw','toyota','tata']\n",
    "[i.upper() if i=='bmw' else i.title() for i in cars] # list comprehensive"
   ]
  },
  {
   "cell_type": "code",
   "execution_count": 94,
   "metadata": {},
   "outputs": [
    {
     "data": {
      "text/plain": [
       "True"
      ]
     },
     "execution_count": 94,
     "metadata": {},
     "output_type": "execute_result"
    }
   ],
   "source": [
    "cars : list[str] = ['audi','bmw','toyota','tata']\n",
    "'audi' in cars # matches the iteration in the datatype"
   ]
  },
  {
   "cell_type": "code",
   "execution_count": 96,
   "metadata": {},
   "outputs": [
    {
     "name": "stdout",
     "output_type": "stream",
     "text": [
      "True\n",
      "abdul is a driver\n"
     ]
    }
   ],
   "source": [
    "cars : list[str] = ['abdul''audi','bmw','toyota','tata']\n",
    "user : str = 'abdul'\n",
    "\n",
    "print(user not in cars)# user is availabel in the database\n",
    "\n",
    "if user not in cars:\n",
    "    print(f\"{user} is a driver\")"
   ]
  },
  {
   "cell_type": "code",
   "execution_count": null,
   "metadata": {},
   "outputs": [],
   "source": []
  }
 ],
 "metadata": {
  "kernelspec": {
   "display_name": "Python 3",
   "language": "python",
   "name": "python3"
  },
  "language_info": {
   "codemirror_mode": {
    "name": "ipython",
    "version": 3
   },
   "file_extension": ".py",
   "mimetype": "text/x-python",
   "name": "python",
   "nbconvert_exporter": "python",
   "pygments_lexer": "ipython3",
   "version": "3.12.0"
  }
 },
 "nbformat": 4,
 "nbformat_minor": 2
}
