{
 "cells": [
  {
   "cell_type": "markdown",
   "metadata": {},
   "source": [
    "# If Else Elif\n",
    "```\n",
    "if logic: # used comparison operators\n",
    "    True_block\n",
    "else:\n",
    "    False_block\n",
    "```   \n",
    "comaparison opeators used for logic and returns answer as Ture or False\n",
    "\n",
    "## Comprehensive style for if-else\n",
    "\n",
    "```True_block if logic else False_block```\n",
    "\n",
    "Possible Combination can be\n",
    "* `if`\n",
    "* `if-else`\n",
    "* `if-elif-else`"
   ]
  },
  {
   "cell_type": "code",
   "execution_count": 7,
   "metadata": {},
   "outputs": [
    {
     "name": "stdout",
     "output_type": "stream",
     "text": [
      "pakistan zindabad\n"
     ]
    }
   ],
   "source": [
    "if True:\n",
    "    print(\"pakistan zindabad\")\n",
    "else:\n",
    "    print(\"Hello world\")"
   ]
  },
  {
   "cell_type": "code",
   "execution_count": 8,
   "metadata": {},
   "outputs": [
    {
     "name": "stdout",
     "output_type": "stream",
     "text": [
      "Hello world\n"
     ]
    }
   ],
   "source": [
    "if False:\n",
    "    print(\"pakistan zindabad\")\n",
    "else:\n",
    "    print(\"Hello world\")"
   ]
  },
  {
   "cell_type": "markdown",
   "metadata": {},
   "source": [
    "### Comprehensive if-else block"
   ]
  },
  {
   "cell_type": "code",
   "execution_count": 9,
   "metadata": {},
   "outputs": [
    {
     "name": "stdout",
     "output_type": "stream",
     "text": [
      "pakistan zindabad\n"
     ]
    }
   ],
   "source": [
    "#Comprehensive if-else\n",
    "#     True Block            logic           false block\n",
    "print(\"pakistan zindabad\") if True else print(\"Hello world\")"
   ]
  },
  {
   "cell_type": "markdown",
   "metadata": {},
   "source": [
    "### comparison operator\n",
    "these operators are used for logic formation in `if else` statements\n",
    "* `==`\n",
    "* `!=`\n",
    "* `<`\n",
    "* `>`\n",
    "* `<=`\n",
    "* `>=`\n",
    "### logic operator\n",
    "* `&& (and)`\n",
    "* `|| (or)`\n",
    "* `! (not)`"
   ]
  },
  {
   "cell_type": "code",
   "execution_count": 10,
   "metadata": {},
   "outputs": [
    {
     "name": "stdout",
     "output_type": "stream",
     "text": [
      "True block\n",
      "1\n",
      "2\n"
     ]
    }
   ],
   "source": [
    "if True:\n",
    "    print(\"True block\")\n",
    "\n",
    "print(\"1\")\n",
    "print(\"2\")"
   ]
  },
  {
   "cell_type": "code",
   "execution_count": 11,
   "metadata": {},
   "outputs": [
    {
     "name": "stdout",
     "output_type": "stream",
     "text": [
      "True block\n"
     ]
    }
   ],
   "source": [
    "# chain will run only one block\n",
    "if True:\n",
    "    print(\"True block\")\n",
    "elif False:\n",
    "    print(\"elif logic1\")\n",
    "elif False:\n",
    "    print(\"elif logic2\")\n",
    "elif False:\n",
    "    print(\"elif logic3\")\n",
    "else:\n",
    "    print(\"else block\")"
   ]
  },
  {
   "cell_type": "code",
   "execution_count": 12,
   "metadata": {},
   "outputs": [
    {
     "name": "stdout",
     "output_type": "stream",
     "text": [
      "elif logic1\n"
     ]
    }
   ],
   "source": [
    "# chain will run only one block\n",
    "if False:\n",
    "    print(\"True block\")\n",
    "elif True:\n",
    "    print(\"elif logic1\")\n",
    "elif False:\n",
    "    print(\"elif logic2\")\n",
    "elif False:\n",
    "    print(\"elif logic3\")\n",
    "else:\n",
    "    print(\"else block\")"
   ]
  },
  {
   "cell_type": "code",
   "execution_count": 14,
   "metadata": {},
   "outputs": [
    {
     "name": "stdout",
     "output_type": "stream",
     "text": [
      "else block\n",
      "Hello World\n"
     ]
    }
   ],
   "source": [
    "# chain will run only one block\n",
    "if False:\n",
    "    print(\"True block\")\n",
    "elif False:\n",
    "    print(\"elif logic1\")\n",
    "elif False:\n",
    "    print(\"elif logic2\")\n",
    "elif False:\n",
    "    print(\"elif logic3\")\n",
    "else:\n",
    "    print(\"else block\")\n",
    "print(\"Hello World\")"
   ]
  },
  {
   "cell_type": "markdown",
   "metadata": {},
   "source": [
    "## TO assign multiple type to a variables\n",
    "`The Union type allows for the annotation of variables that can have multiple types`"
   ]
  },
  {
   "cell_type": "code",
   "execution_count": 15,
   "metadata": {},
   "outputs": [
    {
     "name": "stdout",
     "output_type": "stream",
     "text": [
      "7.0\n"
     ]
    }
   ],
   "source": [
    "# Importing the Union type from the typing module\n",
    "from typing import Union\n",
    "\n",
    "# Declaring a variable 'grade' with type annotation\n",
    "# Union[int, float] indicates that the variable 'grade' can be of type integer or float\n",
    "grade: Union[int, float] = 7.0\n",
    "\n",
    "# Printing the value of the 'grade' variable\n",
    "print(grade)"
   ]
  },
  {
   "cell_type": "markdown",
   "metadata": {},
   "source": [
    "## Grading Rule"
   ]
  },
  {
   "cell_type": "code",
   "execution_count": 19,
   "metadata": {},
   "outputs": [
    {
     "name": "stdout",
     "output_type": "stream",
     "text": [
      "The student has scored 75.0% and the grade is A\n"
     ]
    }
   ],
   "source": [
    "from typing import Union\n",
    "\n",
    "# Define a variable 'percentage' with type annotation Union[int, float].\n",
    "# It can hold either an integer or a floating-point number.\n",
    "percentage: Union[int, float] = 75.0 \n",
    "\n",
    "# Define a variable 'grade' with type annotation Union[str, None].\n",
    "# It can hold either a string or None.\n",
    "grade: Union[str, None] = None\n",
    "\n",
    "# Check the value of 'percentage' and assign a grade accordingly.\n",
    "if percentage >= 80:\n",
    "    grade = \"A+\"  # Assign grade \"A+\" if percentage is greater than or equal to 80\n",
    "elif percentage >= 70:\n",
    "    grade = \"A\"   # Assign grade \"A\" if percentage is greater than or equal to 70\n",
    "elif percentage >= 60:\n",
    "    grade = \"B+\"  # Assign grade \"B+\" if percentage is greater than or equal to 60\n",
    "elif percentage >= 50:\n",
    "    grade = \"B\"   # Assign grade \"B\" if percentage is greater than or equal to 50\n",
    "elif percentage >= 40:\n",
    "    grade = \"C+\"  # Assign grade \"C+\" if percentage is greater than or equal to 40\n",
    "elif percentage >= 33:\n",
    "    grade = \"E\"   # Assign grade \"E\" if percentage is greater than or equal to 33\n",
    "else:\n",
    "    grade = \"F\"   # Assign grade \"F\" if percentage is less than 33\n",
    "\n",
    "# Print the percentage and grade of the student.\n",
    "print(f'The student has scored {percentage}% and the grade is {grade}')"
   ]
  },
  {
   "cell_type": "markdown",
   "metadata": {},
   "source": [
    "#### <b>Input is by default `string` datatype so we will `typecast` it using function `(int)`</b>"
   ]
  },
  {
   "cell_type": "code",
   "execution_count": 25,
   "metadata": {},
   "outputs": [
    {
     "name": "stdout",
     "output_type": "stream",
     "text": [
      "<class 'int'>\n",
      "23\n"
     ]
    }
   ],
   "source": [
    "# input is by default `string` datatype so we will `typecast` function (int)\n",
    "a = int(input(\"input your percentage\"))\n",
    "print(type(a))\n",
    "print(a)"
   ]
  },
  {
   "cell_type": "code",
   "execution_count": 33,
   "metadata": {},
   "outputs": [
    {
     "name": "stdout",
     "output_type": "stream",
     "text": [
      "The student has scored 25% and the grade is F\n"
     ]
    }
   ],
   "source": [
    "#user input\n",
    "from typing import Union  # Importing Union for type hinting\n",
    "\n",
    "# Getting the percentage input from the user\n",
    "percentage: Union[int, float] = int(input(\"input your percentage: \\t\"))\n",
    "\n",
    "# Initializing the grade variable with None\n",
    "grade: Union[str, None] = None\n",
    "\n",
    "# Determining the grade based on the percentage\n",
    "if percentage >= 80:\n",
    "    grade = \"A+\"  # Assigning grade \"A+\" if percentage is 80 or above\n",
    "elif percentage >= 70:\n",
    "    grade = \"A\"   # Assigning grade \"A\" if percentage is between 70 and 79\n",
    "elif percentage >= 60:\n",
    "    grade = \"B+\"  # Assigning grade \"B+\" if percentage is between 60 and 69\n",
    "elif percentage >= 50:\n",
    "    grade = \"B\"   # Assigning grade \"B\" if percentage is between 50 and 59\n",
    "elif percentage >= 40:\n",
    "    grade = \"C+\"  # Assigning grade \"C+\" if percentage is between 40 and 49\n",
    "elif percentage >= 33:\n",
    "    grade = \"E\"   # Assigning grade \"E\" if percentage is between 33 and 39\n",
    "else:\n",
    "    grade = \"F\"   # Assigning grade \"F\" if percentage is below 33\n",
    "\n",
    "# Printing the percentage and corresponding grade\n",
    "print(f'The student has scored {percentage}% and the grade is {grade}')"
   ]
  },
  {
   "cell_type": "code",
   "execution_count": 30,
   "metadata": {},
   "outputs": [
    {
     "data": {
      "text/plain": [
       "str"
      ]
     },
     "execution_count": 30,
     "metadata": {},
     "output_type": "execute_result"
    }
   ],
   "source": [
    "# default type of input function is string\n",
    "type(input())"
   ]
  },
  {
   "cell_type": "markdown",
   "metadata": {},
   "source": [
    "### <b>Using `float` will except both the `int and float` datatypes"
   ]
  },
  {
   "cell_type": "code",
   "execution_count": 41,
   "metadata": {},
   "outputs": [
    {
     "ename": "ValueError",
     "evalue": "invalid literal for int() with base 10: '55.6'",
     "output_type": "error",
     "traceback": [
      "\u001b[1;31m---------------------------------------------------------------------------\u001b[0m",
      "\u001b[1;31mValueError\u001b[0m                                Traceback (most recent call last)",
      "Cell \u001b[1;32mIn[41], line 7\u001b[0m\n\u001b[0;32m      4\u001b[0m \u001b[38;5;28;01mfrom\u001b[39;00m \u001b[38;5;21;01mtyping\u001b[39;00m \u001b[38;5;28;01mimport\u001b[39;00m Union\n\u001b[0;32m      6\u001b[0m \u001b[38;5;66;03m# User input for percentage\u001b[39;00m\n\u001b[1;32m----> 7\u001b[0m percentage: Union[\u001b[38;5;28mint\u001b[39m, \u001b[38;5;28mfloat\u001b[39m] \u001b[38;5;241m=\u001b[39m \u001b[38;5;28;43mint\u001b[39;49m\u001b[43m(\u001b[49m\u001b[38;5;28;43minput\u001b[39;49m\u001b[43m(\u001b[49m\u001b[38;5;124;43m\"\u001b[39;49m\u001b[38;5;124;43mInput your percentage: \u001b[39;49m\u001b[38;5;130;43;01m\\t\u001b[39;49;00m\u001b[38;5;124;43m\"\u001b[39;49m\u001b[43m)\u001b[49m\u001b[43m)\u001b[49m\n\u001b[0;32m      9\u001b[0m \u001b[38;5;66;03m# Initializing grade variable with None\u001b[39;00m\n\u001b[0;32m     10\u001b[0m grade: Union[\u001b[38;5;28mstr\u001b[39m, \u001b[38;5;28;01mNone\u001b[39;00m] \u001b[38;5;241m=\u001b[39m \u001b[38;5;28;01mNone\u001b[39;00m\n",
      "\u001b[1;31mValueError\u001b[0m: invalid literal for int() with base 10: '55.6'"
     ]
    }
   ],
   "source": [
    "# Logical Problem or error can be found just by testing the code\n",
    "\n",
    "# Importing Union from typing to specify the type of variables\n",
    "from typing import Union\n",
    "\n",
    "# User input for percentage\n",
    "percentage: Union[int, float] = float(input(\"Input your percentage: \\t\"))#using float will except both the int and float datatypes\n",
    "\n",
    "# Initializing grade variable with None\n",
    "grade: Union[str, None] = None\n",
    "\n",
    "# Checking the percentage to determine the grade\n",
    "if percentage >= 0:  # This condition will always be True, leading to a logical error (Executes first block)\n",
    "    grade = \"Fail\"\n",
    "elif percentage >= 33:  # This condition should come after the previous one to avoid logical errors\n",
    "    grade = \"E\"\n",
    "elif percentage >= 40:\n",
    "    grade = \"C\",\n",
    "elif percentage >= 50:\n",
    "    grade = \"B\",\n",
    "elif percentage >= 60:\n",
    "    grade = \"A\",\n",
    "elif percentage >= 70:\n",
    "    grade = \"A+\",\n",
    "else:\n",
    "    grade = \"F\"\n",
    "\n",
    "# Printing the result\n",
    "print(f'The student has scored {percentage}% and the grade is {grade}')"
   ]
  },
  {
   "cell_type": "code",
   "execution_count": 40,
   "metadata": {},
   "outputs": [
    {
     "name": "stdout",
     "output_type": "stream",
     "text": [
      "The student has scored 66.4% and the grade is A\n"
     ]
    }
   ],
   "source": [
    "# Logical Problem(error) always solved by testing only\n",
    "# User input\n",
    "percentage : Union[int,float] = float(input(\"Input your percentage: \\t\"))  # Taking user input for percentage and converting it to float\n",
    "\n",
    "grade: Union[str,None] = None  # Initializing grade variable with None\n",
    "\n",
    "# Checking the range of percentage to determine the grade\n",
    "if percentage >= 0 and percentage < 33:  # If percentage is between 0 and 33 (inclusive)\n",
    "    grade = \"Fail\"  # Assign grade as \"Fail\"\n",
    "elif percentage >= 33 and percentage < 40:  # If percentage is between 33 and 40 (inclusive)\n",
    "    grade = \"E\"  # Assign grade as \"E\"\n",
    "elif percentage >= 40 and percentage < 50:  # If percentage is between 40 and 50 (inclusive)\n",
    "    grade = \"C\"  # Assign grade as \"C\"\n",
    "elif percentage >= 50 and percentage < 60:  # If percentage is between 50 and 60 (inclusive)\n",
    "    grade = \"B\"  # Assign grade as \"B\"\n",
    "elif percentage >= 60 and percentage < 70:  # If percentage is between 60 and 70 (inclusive)\n",
    "    grade = \"A\"  # Assign grade as \"A\"\n",
    "elif percentage >= 70 and percentage < 100:  # If percentage is between 70 and 100 (inclusive)\n",
    "    grade = \"A+\"  # Assign grade as \"A+\"\n",
    "else:  # If percentage is out of range (greater than or equal to 100)\n",
    "    grade = \"F\"  # Assign grade as \"F\"\n",
    "\n",
    "# Printing the percentage and corresponding grade\n",
    "print(f'The student has scored {percentage}% and the grade is {grade}')"
   ]
  },
  {
   "cell_type": "markdown",
   "metadata": {},
   "source": [
    "### Student percenages"
   ]
  },
  {
   "cell_type": "code",
   "execution_count": 76,
   "metadata": {},
   "outputs": [
    {
     "name": "stdout",
     "output_type": "stream",
     "text": [
      "[88, 99.9, 87, 54, 65.9, 45, 78, 54, 22, 81]\n",
      "['A+', 'A+', 'A+', 'B', 'A', 'C', 'A+', 'B', 'Fail', 'A+']\n"
     ]
    }
   ],
   "source": [
    "from typing import Union\n",
    "# This type hint indicates that the variable pertype can accept values of either int or float types.\n",
    "pertype = Union[int,float] #custom type also called type alias\n",
    "\n",
    "percentages : list[pertype] = [88,99.9,87,54,65.9,45,78,54,22,81]\n",
    "\n",
    "grades : list[str] = []\n",
    "\n",
    "for percentage in percentages:\n",
    "    grade : str = \"\"\n",
    "    \n",
    "    if (percentage >= 0) and (percentage <33): #Logical error(Executes first block) \n",
    "        grade = \"Fail\"\n",
    "    elif (percentage >=33) and (percentage <40):\n",
    "        grade = \"E\"\n",
    "    elif (percentage >=40) and (percentage <50):\n",
    "        grade = \"C\"\n",
    "    elif (percentage >=50) and (percentage <60):\n",
    "        grade = \"B\"\n",
    "    elif (percentage >= 60) and (percentage <70):\n",
    "        grade = \"A\"\n",
    "    elif (percentage >= 70) and (percentage <100):\n",
    "        grade = \"A+\"\n",
    "\n",
    "    grades.append(grade)\n",
    "\n",
    "print(percentages)\n",
    "print(grades)"
   ]
  },
  {
   "cell_type": "code",
   "execution_count": 77,
   "metadata": {},
   "outputs": [
    {
     "data": {
      "text/plain": [
       "<zip at 0x1ca21d69f80>"
      ]
     },
     "execution_count": 77,
     "metadata": {},
     "output_type": "execute_result"
    }
   ],
   "source": [
    "# Zip function combines same lenght list\n",
    "zip(percentages,grades) #generative function needs iteration toe work"
   ]
  },
  {
   "cell_type": "code",
   "execution_count": 78,
   "metadata": {},
   "outputs": [
    {
     "data": {
      "text/plain": [
       "[(88, 'A+'),\n",
       " (99.9, 'A+'),\n",
       " (87, 'A+'),\n",
       " (54, 'B'),\n",
       " (65.9, 'A'),\n",
       " (45, 'C'),\n",
       " (78, 'A+'),\n",
       " (54, 'B'),\n",
       " (22, 'Fail'),\n",
       " (81, 'A+')]"
      ]
     },
     "execution_count": 78,
     "metadata": {},
     "output_type": "execute_result"
    }
   ],
   "source": [
    "list(zip(percentages,grades))#forms list of tupple"
   ]
  },
  {
   "cell_type": "code",
   "execution_count": 79,
   "metadata": {},
   "outputs": [
    {
     "data": {
      "text/plain": [
       "[0, 1, 2, 3, 4, 5, 6, 7, 8, 9]"
      ]
     },
     "execution_count": 79,
     "metadata": {},
     "output_type": "execute_result"
    }
   ],
   "source": [
    "roll_no : list[int] = list(range(len(percentages)))\n",
    "roll_no"
   ]
  },
  {
   "cell_type": "code",
   "execution_count": 80,
   "metadata": {},
   "outputs": [
    {
     "data": {
      "text/plain": [
       "[(0, 88, 'A+'),\n",
       " (1, 99.9, 'A+'),\n",
       " (2, 87, 'A+'),\n",
       " (3, 54, 'B'),\n",
       " (4, 65.9, 'A'),\n",
       " (5, 45, 'C'),\n",
       " (6, 78, 'A+'),\n",
       " (7, 54, 'B'),\n",
       " (8, 22, 'Fail'),\n",
       " (9, 81, 'A+')]"
      ]
     },
     "execution_count": 80,
     "metadata": {},
     "output_type": "execute_result"
    }
   ],
   "source": [
    "dat_base = list(zip(roll_no,percentages,grades))\n",
    "dat_base"
   ]
  },
  {
   "cell_type": "code",
   "execution_count": 81,
   "metadata": {},
   "outputs": [
    {
     "data": {
      "text/plain": [
       "[(0, 88, 'A+'),\n",
       " (1, 99.9, 'A+'),\n",
       " (2, 87, 'A+'),\n",
       " (3, 54, 'B'),\n",
       " (4, 65.9, 'A'),\n",
       " (5, 45, 'C'),\n",
       " (6, 78, 'A+'),\n",
       " (7, 54, 'B'),\n",
       " (8, 22, 'Fail'),\n",
       " (9, 81, 'A+')]"
      ]
     },
     "metadata": {},
     "output_type": "display_data"
    },
    {
     "data": {
      "text/plain": [
       "[(0, 88, 'A+'),\n",
       " (1, 99.9, 'A+'),\n",
       " (2, 87, 'A+'),\n",
       " (3, 54, 'B'),\n",
       " (4, 65.9, 'A'),\n",
       " (5, 45, 'C'),\n",
       " (6, 78, 'A+'),\n",
       " (7, 54, 'B'),\n",
       " (8, 22, 'Fail'),\n",
       " (9, 81, 'A+')]"
      ]
     },
     "execution_count": 81,
     "metadata": {},
     "output_type": "execute_result"
    }
   ],
   "source": [
    "display(dat_base)\n",
    "sorted(dat_base)"
   ]
  },
  {
   "cell_type": "code",
   "execution_count": 85,
   "metadata": {},
   "outputs": [
    {
     "data": {
      "text/plain": [
       "[(0, 88, 'A+'),\n",
       " (1, 99.9, 'A+'),\n",
       " (2, 87, 'A+'),\n",
       " (3, 54, 'B'),\n",
       " (4, 65.9, 'A'),\n",
       " (5, 45, 'C'),\n",
       " (6, 78, 'A+'),\n",
       " (7, 54, 'B'),\n",
       " (8, 22, 'Fail'),\n",
       " (9, 81, 'A+')]"
      ]
     },
     "metadata": {},
     "output_type": "display_data"
    },
    {
     "data": {
      "text/plain": [
       "[(1, 99.9, 'A+'),\n",
       " (0, 88, 'A+'),\n",
       " (2, 87, 'A+'),\n",
       " (9, 81, 'A+'),\n",
       " (6, 78, 'A+'),\n",
       " (4, 65.9, 'A'),\n",
       " (3, 54, 'B'),\n",
       " (7, 54, 'B'),\n",
       " (5, 45, 'C'),\n",
       " (8, 22, 'Fail')]"
      ]
     },
     "execution_count": 85,
     "metadata": {},
     "output_type": "execute_result"
    }
   ],
   "source": [
    "display(dat_base)\n",
    "sorted(dat_base, key=lambda x:x[1], reverse=True)"
   ]
  },
  {
   "cell_type": "code",
   "execution_count": 87,
   "metadata": {},
   "outputs": [
    {
     "name": "stdout",
     "output_type": "stream",
     "text": [
      "Audi\n",
      "BMW\n",
      "Toyota\n",
      "Tata\n"
     ]
    }
   ],
   "source": [
    "cars : list[str] = ['audi','bmw','toyota','tata']\n",
    "for car in cars: # extract element from iterated types \n",
    "    if car == 'bmw':\n",
    "        print(car.upper())\n",
    "    else:\n",
    "        print(car.title())"
   ]
  },
  {
   "cell_type": "code",
   "execution_count": 91,
   "metadata": {},
   "outputs": [
    {
     "data": {
      "text/plain": [
       "['Audi', 'BMW', 'Toyota', 'Tata']"
      ]
     },
     "execution_count": 91,
     "metadata": {},
     "output_type": "execute_result"
    }
   ],
   "source": [
    "cars : list[str] = ['audi','bmw','toyota','tata']\n",
    "[i.upper() if i=='bmw' else i.title() for i in cars] # list comprehensive"
   ]
  },
  {
   "cell_type": "code",
   "execution_count": 94,
   "metadata": {},
   "outputs": [
    {
     "data": {
      "text/plain": [
       "True"
      ]
     },
     "execution_count": 94,
     "metadata": {},
     "output_type": "execute_result"
    }
   ],
   "source": [
    "cars : list[str] = ['audi','bmw','toyota','tata']\n",
    "'audi' in cars # matches the iteration in the datatype"
   ]
  },
  {
   "cell_type": "code",
   "execution_count": 96,
   "metadata": {},
   "outputs": [
    {
     "name": "stdout",
     "output_type": "stream",
     "text": [
      "True\n",
      "abdul is a driver\n"
     ]
    }
   ],
   "source": [
    "cars : list[str] = ['abdul''audi','bmw','toyota','tata']\n",
    "user : str = 'abdul'\n",
    "\n",
    "print(user not in cars)# user is availabel in the database\n",
    "\n",
    "if user not in cars:\n",
    "    print(f\"{user} is a driver\")"
   ]
  }
 ],
 "metadata": {
  "kernelspec": {
   "display_name": "Python 3",
   "language": "python",
   "name": "python3"
  },
  "language_info": {
   "codemirror_mode": {
    "name": "ipython",
    "version": 3
   },
   "file_extension": ".py",
   "mimetype": "text/x-python",
   "name": "python",
   "nbconvert_exporter": "python",
   "pygments_lexer": "ipython3",
   "version": "3.12.2"
  }
 },
 "nbformat": 4,
 "nbformat_minor": 2
}
