{
 "cells": [
  {
   "cell_type": "markdown",
   "metadata": {},
   "source": [
    "### <b>Call by Reference\n",
    "In Python, when you pass a `mutable object` (like a list or dictionary) to a function, we pass a reference to the original object. Changes made to the object inside the function affect the original object.\n",
    "\n",
    "### <b>Call by Value\n",
    "When you pass an `immutable object` (like an integer, float, or string) to a function, we pass a copy of the value. Changes made to the value inside the function do not affect the `original object`."
   ]
  },
  {
   "cell_type": "markdown",
   "metadata": {},
   "source": [
    "### By reference"
   ]
  },
  {
   "cell_type": "code",
   "execution_count": 9,
   "metadata": {},
   "outputs": [
    {
     "name": "stdout",
     "output_type": "stream",
     "text": [
      "[1, 2, 3, 100]\n"
     ]
    }
   ],
   "source": [
    "# Call by reference example\n",
    "\n",
    "# Define a function that takes a list as an argument\n",
    "def modify_list(lst):\n",
    "    # Append the value 100 to the list passed as an argument\n",
    "    lst.append(100)\n",
    "\n",
    "# Create a list with initial values\n",
    "a = [1, 2, 3]\n",
    "\n",
    "# Call the function modify_list and pass the list 'a'\n",
    "modify_list(a)\n",
    "\n",
    "# Print the list 'a' after calling the function\n",
    "# The output will be [1, 2, 3, 100] because the list 'a' was modified inside the function\n",
    "print(a)  # Output: [1, 2, 3, 100]"
   ]
  },
  {
   "cell_type": "markdown",
   "metadata": {},
   "source": [
    "## by value"
   ]
  },
  {
   "cell_type": "code",
   "execution_count": null,
   "metadata": {},
   "outputs": [],
   "source": [
    "# Call by value example\n",
    "\n",
    "# Define a function that takes an integer as an argument\n",
    "def modify_integer(x):\n",
    "    # Assign a new value 10 to the argument x\n",
    "    x = 10\n",
    "\n",
    "# Create an integer variable with initial value 5\n",
    "b = 5\n",
    "\n",
    "# Call the function modify_integer and pass the integer 'b'\n",
    "modify_integer(b)\n",
    "\n",
    "# Print the integer 'b' after calling the function\n",
    "# The output will be 5 because integers are immutable, and the value of 'b' was not changed by the function\n",
    "print(b)  # Output: 5"
   ]
  },
  {
   "cell_type": "code",
   "execution_count": null,
   "metadata": {},
   "outputs": [],
   "source": [
    "# Define a list named list_a with three integers: 1, 2, and 3\n",
    "list_a: list[int] = [1, 2, 3]\n",
    "\n",
    "# Assign list_a to list_b, meaning both variables now refer to the same list object in memory\n",
    "list_b = list_a\n",
    "\n",
    "# Append the integer 4 to list_a. Since list_a and list_b refer to the same list, this change affects both.\n",
    "list_a.append(4)\n",
    "\n",
    "# Print the contents of list_b, which will reflect the change made to list_a\n",
    "print(\"list_b\", list_b)"
   ]
  },
  {
   "cell_type": "code",
   "execution_count": null,
   "metadata": {},
   "outputs": [],
   "source": [
    "# Initialize a variable 'num_a' with the integer value 5\n",
    "num_a: int = 5\n",
    "\n",
    "# Assign the value of 'num_a' to another variable 'num_b'\n",
    "num_b = num_a\n",
    "\n",
    "# Increment the value of 'num_a' by 1. This changes 'num_a' from 5 to 6\n",
    "num_a += 1\n",
    "\n",
    "# Print the value of 'num_b'. This will output '5' because 'num_b' was assigned the value of 'num_a' before 'num_a' was incremented.\n",
    "print(\"num_b\", num_b)"
   ]
  },
  {
   "cell_type": "code",
   "execution_count": null,
   "metadata": {},
   "outputs": [],
   "source": [
    "# Assign the value 10 to the variable 'x'\n",
    "x = 10\n",
    "\n",
    "# Print the value of 'x' and its memory address (id) before changing it\n",
    "print(\"Before\", x, id(x))\n",
    "\n",
    "# Increment the value of 'x' by 1 (x = x + 1)\n",
    "x += 1\n",
    "\n",
    "# Print the value of 'x' and its memory address (id) after changing it\n",
    "print(\"After\", x, id(x))"
   ]
  },
  {
   "cell_type": "code",
   "execution_count": null,
   "metadata": {},
   "outputs": [],
   "source": [
    "# Define an integer variable 'a' and assign it the value 5\n",
    "a: int = 5\n",
    "\n",
    "# Define a function 'abc' that takes an integer 'num1' as an argument and returns nothing (None)\n",
    "def abc(num1: int) -> None:\n",
    "    # Inside the function, change the value of 'num1' to 6\n",
    "    num1 = 6\n",
    "\n",
    "    # Print the value of 'num1' inside the function\n",
    "    print(\"The value of num1 : \", num1)\n",
    "\n",
    "# Call the function 'abc' with 'a' as the argument\n",
    "abc(a)\n",
    "\n",
    "# Print the value of 'a' outside the function\n",
    "print(a)"
   ]
  },
  {
   "cell_type": "code",
   "execution_count": null,
   "metadata": {},
   "outputs": [],
   "source": [
    "# Define a list 'a' with integers from 1 to 5\n",
    "a: list[int] = [1, 2, 3, 4, 5]\n",
    "print(f\"value athe the start of the program {a} and address {id(a)}\")\n",
    "# Define a function 'abc' that takes a list of integers as an argument\n",
    "def abc(num1: list[int]) -> None:\n",
    "    print(f\"\\tvalue athe the start of function {num1} and address {id(num1)}\")\n",
    "    # Append the integer 200 to the list 'num1'\n",
    "    num1.append(200)\n",
    "    print(f\"\\tvalue athe the end of function {num1} and address {id(num1)}\")\n",
    "    # Print the current value of the list 'num1'\n",
    "    print(\"The value of num1:\", num1)\n",
    "\n",
    "# Call the function 'abc' with the list 'a' as an argument\n",
    "abc(a)\n",
    "print(f\"value athe the end of the program {a} and address {id(a)}\")\n",
    "# Print the value of the list 'a' after the function call\n",
    "print(a)"
   ]
  },
  {
   "cell_type": "code",
   "execution_count": null,
   "metadata": {},
   "outputs": [],
   "source": [
    "# Define a list 'a' with integers from 1 to 5\n",
    "a: list[int] = [1, 2, 3, 4, 5]\n",
    "\n",
    "# Define a function 'abc' that takes a list of integers as an argument\n",
    "def abc(num1: list[int]) -> None:\n",
    "    num1 = [7]\n",
    "    # Append the integer 200 to the list 'num1'\n",
    "    num1.append(200)\n",
    "    \n",
    "    # Print the current value of the list 'num1'\n",
    "    print(\"The value of num1:\", num1)   \n",
    "\n",
    "# Call the function 'abc' with the list 'a' as an argument\n",
    "abc(a)\n",
    "\n",
    "# Print the value of the list 'a' after the function call\n",
    "print(a)"
   ]
  },
  {
   "cell_type": "code",
   "execution_count": null,
   "metadata": {},
   "outputs": [],
   "source": [
    "# Define an integer variable 'a' and assign it the value 5\n",
    "a: int = 5\n",
    "print(f\"Assignment variable value is  {id(a)}\")\n",
    "# Define a function 'abc' that takes an integer 'num1' as an argument and returns nothing (None)\n",
    "def abc(num1: int) -> None:\n",
    "    print(f\"\\tvalue athe the start of function {num1} and address {id(num1)}\")\n",
    "    # Inside the function, change the value of 'num1' to 6\n",
    "    num1 = 6 # copy now it will change and update the value and address\n",
    "\n",
    "    print(f\"\\tvalue at the end of the function {num1} and address {id(num1)}\")\n",
    "\n",
    "# Call the function 'abc' with 'a' as the argument\n",
    "abc(a)\n",
    "\n",
    "# in python everything is an object that is the address\n",
    "print(f\"End of the program value is {a} and address {id(a)}\")"
   ]
  },
  {
   "cell_type": "code",
   "execution_count": null,
   "metadata": {},
   "outputs": [],
   "source": [
    "x : int = 6\n",
    "b = x\n",
    "\n",
    "print(f\"X value is {x} and address is {id(x)}\")\n",
    "print(f\"b value is {b} and address is {id(b)}\")\n",
    "\n",
    "b = 200 # update and will change the address\n",
    "\n",
    "# when we apply changes and assign values then it will change the address\n",
    "print(f\"b value after changes is {b} and address {id(b)}\")"
   ]
  },
  {
   "cell_type": "code",
   "execution_count": null,
   "metadata": {},
   "outputs": [],
   "source": [
    "# python is a memory efficient and same value of different variable assigns same memory location in the backens\n",
    "x : int = 7\n",
    "b : int = 7\n",
    "\n",
    "print(f\"X value is {x} and address is {id(x)}\")\n",
    "print(f\"b value is {b} and address is {id(b)}\")\n",
    "\n",
    "b = 200 # update and will change the address\n",
    "\n",
    "# when we apply changes and assign values then it will change the address\n",
    "print(f\"b value after changes is {b} and address {id(b)}\")"
   ]
  },
  {
   "cell_type": "markdown",
   "metadata": {},
   "source": [
    "## <b>Error Handling\n",
    "### Runtime Errors\n",
    "Runtime errors occur while the program is running. These errors can be caused by `invalid operations`, such as `dividing by zero`, accessing `invalid indices` in a list, or attempting to use variables that haven't been initialized.\n",
    "### Logical Errors\n",
    "Logical errors occur when the program `runs without crashing`, but the `output is not what you expect`. These errors are due to flaws in the program's logic.</b>"
   ]
  },
  {
   "cell_type": "code",
   "execution_count": null,
   "metadata": {},
   "outputs": [],
   "source": [
    "# Run Time error\n",
    "# This code will cause a runtime error because of division by zero\n",
    "def divide(a, b):\n",
    "    return a / b\n",
    "\n",
    "result = divide(10, 0)  # Division by zero causes a runtime error\n",
    "print(result)"
   ]
  },
  {
   "cell_type": "code",
   "execution_count": null,
   "metadata": {},
   "outputs": [],
   "source": [
    "#Logical Error\n",
    "# This code has a logical error\n",
    "def is_even(num):\n",
    "    return num % 2 == 1  # This should be `num % 2 == 0` to correctly check for even numbers\n",
    "\n",
    "print(is_even(4))  # Output will be False, but we expect True"
   ]
  },
  {
   "cell_type": "markdown",
   "metadata": {},
   "source": [
    "## Type Errors\n",
    "Type errors occur when an operation is performed on an incompatible type. These errors can occur at runtime."
   ]
  },
  {
   "cell_type": "code",
   "execution_count": null,
   "metadata": {},
   "outputs": [],
   "source": [
    "# Trying to add a string and an integer\n",
    "result = \"hello\" + 5"
   ]
  },
  {
   "cell_type": "markdown",
   "metadata": {},
   "source": [
    "## Index Errors\n",
    "Index errors occur when you try to access an index that is out of range for a sequence like a list or a string."
   ]
  },
  {
   "cell_type": "code",
   "execution_count": null,
   "metadata": {},
   "outputs": [],
   "source": [
    "# Trying to access an out-of-range index in a list\n",
    "my_list = [1, 2, 3]\n",
    "print(my_list[5])"
   ]
  },
  {
   "cell_type": "markdown",
   "metadata": {},
   "source": [
    "### To handle run time error\n",
    "```python\n",
    "try:\n",
    "    logic\n",
    "except (Error_class1, Error_class2)\n",
    "    if error occured then run this block\n",
    "else:\n",
    "    if no error occured then run this block\n",
    "finally:\n",
    "    always run\n",
    "```"
   ]
  },
  {
   "cell_type": "code",
   "execution_count": null,
   "metadata": {},
   "outputs": [],
   "source": [
    "print(\"logic1\")\n",
    "print(\"logic2\")\n",
    "print(5/0) # error\n",
    "print(\"logic2\")\n",
    "print(\"logic2\")"
   ]
  },
  {
   "cell_type": "code",
   "execution_count": null,
   "metadata": {},
   "outputs": [],
   "source": [
    "# to counter above error\n",
    "print(\"logic1\")\n",
    "print(\"logic2\")\n",
    "try:\n",
    "    print(5/0) # error\n",
    "except ZeroDivisionError:\n",
    "    print(\"Error type is ZeroDivisionError\")\n",
    "print(\"logic2\")\n",
    "print(\"logic2\")"
   ]
  },
  {
   "cell_type": "code",
   "execution_count": null,
   "metadata": {},
   "outputs": [],
   "source": [
    "# to counter above error\n",
    "print(\"logic1\")\n",
    "print(\"logic2\")\n",
    "\n",
    "my_list = [1, 2, 3]\n",
    "\n",
    "\n",
    "try:\n",
    "    print(5/0) # error\n",
    "    print(my_list[5])\n",
    "except (ZeroDivisionError,IndexError):\n",
    "    print(\"Error type is ZeroDivisionError\")\n",
    "print(\"logic2\")\n",
    "print(\"logic2\")"
   ]
  },
  {
   "cell_type": "code",
   "execution_count": null,
   "metadata": {},
   "outputs": [],
   "source": [
    "# to counter above error\n",
    "print(\"logic1\")\n",
    "print(\"logic2\")\n",
    "\n",
    "my_list = [1, 2, 3]\n",
    "\n",
    "\n",
    "try:\n",
    "    print(5/2) # error\n",
    "    print(my_list[5])\n",
    "    print(xyz)\n",
    "except (ZeroDivisionError,IndexError,NameError): # Give all posible errors\n",
    "    print(\"Error type is ZeroDivisionError\")\n",
    "print(\"logic2\")\n",
    "print(\"logic2\")"
   ]
  },
  {
   "cell_type": "code",
   "execution_count": null,
   "metadata": {},
   "outputs": [],
   "source": [
    "# to counter above error\n",
    "print(\"logic1\")\n",
    "print(\"logic2\")\n",
    "\n",
    "my_list = [1, 2, 3]\n",
    "\n",
    "# will not handle individual all errors\n",
    "try:\n",
    "    print(5/2) # error\n",
    "    print(my_list[0])\n",
    "    # print(xyz)\n",
    "    open(\"aa.txt\")\n",
    "except ZeroDivisionError: # Give all posible errors\n",
    "    print(\"Error type is ZeroDivisionError\")\n",
    "except IndexError: # Give all posible errors\n",
    "    print(\"Error type is indexError\")\n",
    "except NameError: # Give all posible errors\n",
    "    print(\"Error type is NameError\")\n",
    "\n",
    "except: #dynamic any type of error\n",
    "    print(\"Some Error is Occuring\")\n",
    "    \n",
    "print(\"logic2\")\n",
    "print(\"logic2\")"
   ]
  },
  {
   "cell_type": "code",
   "execution_count": null,
   "metadata": {},
   "outputs": [],
   "source": [
    "try:\n",
    "    # Attempt to print the variable 'age'\n",
    "    # If 'age' is not defined, this will raise a NameError\n",
    "    # print(age)\n",
    "    # print(list_a[20])\n",
    "    open(\"anv.txt\")\n",
    "    # The `except` block catches exceptions that occur in the `try` block.\n",
    "except Exception as e:\n",
    "    # If any exception occurs in the try block, this block will execute\n",
    "    # 'Exception' is the base class for all built-in exceptions in Python\n",
    "    # 'as e' captures the exception instance and assigns it to the variable 'e'\n",
    "    \n",
    "    # Print a custom error message along with the exception message\n",
    "    # 'f\"Some thing is wrong! \\n {e}\"' is an f-string, which allows embedding expressions inside string literals\n",
    "    print(f\"Some thing is wrong!\\n{e}\")"
   ]
  },
  {
   "cell_type": "markdown",
   "metadata": {},
   "source": [
    "## Error Generating\n"
   ]
  },
  {
   "cell_type": "code",
   "execution_count": null,
   "metadata": {},
   "outputs": [],
   "source": [
    "# This is a single line of code that demonstrates how to raise an exception in Python.\n",
    "# Let's break it down:\n",
    "\n",
    "# The `raise` statement is used to raise an exception. It tells Python to stop the normal\n",
    "# flow of the program and generate an error.\n",
    "raise Exception(\"hello\")\n",
    "\n",
    "# Explanation:\n",
    "# - `raise` is a keyword in Python used to trigger an exception.\n",
    "# - `Exception` is a built-in class in Python that represents a general exception. When we\n",
    "#   use `Exception`, we are creating a new instance of this class.\n",
    "# - `(\"hello\")` is the message we are passing to the `Exception` class. This message will be\n",
    "#   displayed when the exception is printed or logged. It helps us understand what went wrong.\n",
    "\n",
    "# When this line of code is executed, it will stop the program and generate an error message:\n",
    "# Traceback (most recent call last):\n",
    "#   File \"<stdin>\", line 1, in <module>\n",
    "# Exception: hello\n",
    "\n",
    "# This traceback shows where the exception was raised and provides the message \"hello\"."
   ]
  },
  {
   "cell_type": "code",
   "execution_count": null,
   "metadata": {},
   "outputs": [],
   "source": [
    "class StudentCard():\n",
    "    def __init__(self,roll_no:int,name:str,age:int) -> None:\n",
    "        if age < 18 or age > 60:\n",
    "            raise StudentAgeError(\"Your are not eligible to this program\")\n",
    "        self.roll_no = roll_no\n",
    "        self.name =name\n",
    "        self.age = age\n",
    "class StudentAgeError(Exception): # custom error class\n",
    "    pass\n",
    "\n",
    "student1 = StudentCard(1,'abdul',34)\n",
    "\n",
    "print(student1.name,student1.age,student1.roll_no)"
   ]
  },
  {
   "cell_type": "code",
   "execution_count": null,
   "metadata": {},
   "outputs": [],
   "source": [
    "student1 = StudentCard(1,'hammad',61) # custom error\n",
    "\n",
    "print(student1.name,student1.age,student1.roll_no)"
   ]
  },
  {
   "cell_type": "code",
   "execution_count": null,
   "metadata": {},
   "outputs": [],
   "source": []
  }
 ],
 "metadata": {
  "kernelspec": {
   "display_name": "python_eda",
   "language": "python",
   "name": "python3"
  },
  "language_info": {
   "codemirror_mode": {
    "name": "ipython",
    "version": 3
   },
   "file_extension": ".py",
   "mimetype": "text/x-python",
   "name": "python",
   "nbconvert_exporter": "python",
   "pygments_lexer": "ipython3",
   "version": "3.11.5"
  }
 },
 "nbformat": 4,
 "nbformat_minor": 2
}
