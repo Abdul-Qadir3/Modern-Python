{
 "cells": [
  {
   "cell_type": "markdown",
   "metadata": {},
   "source": [
    "### <b>Call by Reference\n",
    "In Python, when you pass a mutable object (like a list or dictionary) to a function, you pass a reference to the original object. Changes made to the object inside the function affect the original object.\n",
    "\n",
    "### <b>Call by Value\n",
    "When you pass an immutable object (like an integer, float, or string) to a function, you pass a copy of the value. Changes made to the value inside the function do not affect the original object."
   ]
  },
  {
   "cell_type": "markdown",
   "metadata": {},
   "source": [
    "### by reference"
   ]
  },
  {
   "cell_type": "code",
   "execution_count": 28,
   "metadata": {},
   "outputs": [
    {
     "name": "stdout",
     "output_type": "stream",
     "text": [
      "[1, 2, 3, 100]\n",
      "5\n"
     ]
    }
   ],
   "source": [
    "# Call by reference example\n",
    "\n",
    "# Define a function that takes a list as an argument\n",
    "def modify_list(lst):\n",
    "    # Append the value 100 to the list passed as an argument\n",
    "    lst.append(100)\n",
    "\n",
    "# Create a list with initial values\n",
    "a = [1, 2, 3]\n",
    "\n",
    "# Call the function modify_list and pass the list 'a'\n",
    "modify_list(a)\n",
    "\n",
    "# Print the list 'a' after calling the function\n",
    "# The output will be [1, 2, 3, 100] because the list 'a' was modified inside the function\n",
    "print(a)  # Output: [1, 2, 3, 100]"
   ]
  },
  {
   "cell_type": "markdown",
   "metadata": {},
   "source": [
    "## by value"
   ]
  },
  {
   "cell_type": "code",
   "execution_count": 29,
   "metadata": {},
   "outputs": [
    {
     "name": "stdout",
     "output_type": "stream",
     "text": [
      "5\n"
     ]
    }
   ],
   "source": [
    "# Call by value example\n",
    "\n",
    "# Define a function that takes an integer as an argument\n",
    "def modify_integer(x):\n",
    "    # Assign a new value 10 to the argument x\n",
    "    x = 10\n",
    "\n",
    "# Create an integer variable with initial value 5\n",
    "b = 5\n",
    "\n",
    "# Call the function modify_integer and pass the integer 'b'\n",
    "modify_integer(b)\n",
    "\n",
    "# Print the integer 'b' after calling the function\n",
    "# The output will be 5 because integers are immutable, and the value of 'b' was not changed by the function\n",
    "print(b)  # Output: 5"
   ]
  },
  {
   "cell_type": "code",
   "execution_count": 20,
   "metadata": {},
   "outputs": [
    {
     "name": "stdout",
     "output_type": "stream",
     "text": [
      "list_b [1, 2, 3, 4]\n"
     ]
    }
   ],
   "source": [
    "# Define a list named list_a with three integers: 1, 2, and 3\n",
    "list_a: list[int] = [1, 2, 3]\n",
    "\n",
    "# Assign list_a to list_b, meaning both variables now refer to the same list object in memory\n",
    "list_b = list_a\n",
    "\n",
    "# Append the integer 4 to list_a. Since list_a and list_b refer to the same list, this change affects both.\n",
    "list_a.append(4)\n",
    "\n",
    "# Print the contents of list_b, which will reflect the change made to list_a\n",
    "print(\"list_b\", list_b)"
   ]
  },
  {
   "cell_type": "code",
   "execution_count": 21,
   "metadata": {},
   "outputs": [
    {
     "name": "stdout",
     "output_type": "stream",
     "text": [
      "num_b 5\n"
     ]
    }
   ],
   "source": [
    "# Initialize a variable 'num_a' with the integer value 5\n",
    "num_a: int = 5\n",
    "\n",
    "# Assign the value of 'num_a' to another variable 'num_b'\n",
    "num_b = num_a\n",
    "\n",
    "# Increment the value of 'num_a' by 1. This changes 'num_a' from 5 to 6\n",
    "num_a += 1\n",
    "\n",
    "# Print the value of 'num_b'. This will output '5' because 'num_b' was assigned the value of 'num_a' before 'num_a' was incremented.\n",
    "print(\"num_b\", num_b)"
   ]
  },
  {
   "cell_type": "code",
   "execution_count": 22,
   "metadata": {},
   "outputs": [
    {
     "name": "stdout",
     "output_type": "stream",
     "text": [
      "Before 10 140716208919624\n",
      "After 11 140716208919656\n"
     ]
    }
   ],
   "source": [
    "# Assign the value 10 to the variable 'x'\n",
    "x = 10\n",
    "\n",
    "# Print the value of 'x' and its memory address (id) before changing it\n",
    "print(\"Before\", x, id(x))\n",
    "\n",
    "# Increment the value of 'x' by 1 (x = x + 1)\n",
    "x += 1\n",
    "\n",
    "# Print the value of 'x' and its memory address (id) after changing it\n",
    "print(\"After\", x, id(x))"
   ]
  },
  {
   "cell_type": "code",
   "execution_count": 23,
   "metadata": {},
   "outputs": [
    {
     "name": "stdout",
     "output_type": "stream",
     "text": [
      "The value of num1 :  6\n",
      "5\n"
     ]
    }
   ],
   "source": [
    "# Define an integer variable 'a' and assign it the value 5\n",
    "a: int = 5\n",
    "\n",
    "# Define a function 'abc' that takes an integer 'num1' as an argument and returns nothing (None)\n",
    "def abc(num1: int) -> None:\n",
    "    # Inside the function, change the value of 'num1' to 6\n",
    "    num1 = 6\n",
    "\n",
    "    # Print the value of 'num1' inside the function\n",
    "    print(\"The value of num1 : \", num1)\n",
    "\n",
    "# Call the function 'abc' with 'a' as the argument\n",
    "abc(a)\n",
    "\n",
    "# Print the value of 'a' outside the function\n",
    "print(a)"
   ]
  },
  {
   "cell_type": "code",
   "execution_count": 55,
   "metadata": {},
   "outputs": [
    {
     "name": "stdout",
     "output_type": "stream",
     "text": [
      "value athe the start of the program [1, 2, 3, 4, 5] and address 1754696059968\n",
      "\tvalue athe the start of function [1, 2, 3, 4, 5] and address 1754696059968\n",
      "\tvalue athe the end of function [1, 2, 3, 4, 5, 200] and address 1754696059968\n",
      "The value of num1: [1, 2, 3, 4, 5, 200]\n",
      "value athe the end of the program [1, 2, 3, 4, 5, 200] and address 1754696059968\n",
      "[1, 2, 3, 4, 5, 200]\n"
     ]
    }
   ],
   "source": [
    "# Define a list 'a' with integers from 1 to 5\n",
    "a: list[int] = [1, 2, 3, 4, 5]\n",
    "print(f\"value athe the start of the program {a} and address {id(a)}\")\n",
    "# Define a function 'abc' that takes a list of integers as an argument\n",
    "def abc(num1: list[int]) -> None:\n",
    "    print(f\"\\tvalue athe the start of function {num1} and address {id(num1)}\")\n",
    "    # Append the integer 200 to the list 'num1'\n",
    "    num1.append(200)\n",
    "    print(f\"\\tvalue athe the end of function {num1} and address {id(num1)}\")\n",
    "    # Print the current value of the list 'num1'\n",
    "    print(\"The value of num1:\", num1)\n",
    "\n",
    "# Call the function 'abc' with the list 'a' as an argument\n",
    "abc(a)\n",
    "print(f\"value athe the end of the program {a} and address {id(a)}\")\n",
    "# Print the value of the list 'a' after the function call\n",
    "print(a)"
   ]
  },
  {
   "cell_type": "code",
   "execution_count": 31,
   "metadata": {},
   "outputs": [
    {
     "name": "stdout",
     "output_type": "stream",
     "text": [
      "The value of num1: [7, 200]\n",
      "[1, 2, 3, 4, 5]\n"
     ]
    }
   ],
   "source": [
    "# Define a list 'a' with integers from 1 to 5\n",
    "a: list[int] = [1, 2, 3, 4, 5]\n",
    "\n",
    "# Define a function 'abc' that takes a list of integers as an argument\n",
    "def abc(num1: list[int]) -> None:\n",
    "    num1 = [7]\n",
    "    # Append the integer 200 to the list 'num1'\n",
    "    num1.append(200)\n",
    "    \n",
    "    # Print the current value of the list 'num1'\n",
    "    print(\"The value of num1:\", num1)   \n",
    "\n",
    "# Call the function 'abc' with the list 'a' as an argument\n",
    "abc(a)\n",
    "\n",
    "# Print the value of the list 'a' after the function call\n",
    "print(a)"
   ]
  },
  {
   "cell_type": "code",
   "execution_count": 42,
   "metadata": {},
   "outputs": [
    {
     "name": "stdout",
     "output_type": "stream",
     "text": [
      "Assignment variable value is  140716208919464\n",
      "\tvalue athe the start of function 5 and address 140716208919464\n",
      "\tvalue at the end of the function 6 and address 140716208919496\n",
      "End of the program value is 5 and address 140716208919464\n"
     ]
    }
   ],
   "source": [
    "# Define an integer variable 'a' and assign it the value 5\n",
    "a: int = 5\n",
    "print(f\"Assignment variable value is  {id(a)}\")\n",
    "# Define a function 'abc' that takes an integer 'num1' as an argument and returns nothing (None)\n",
    "def abc(num1: int) -> None:\n",
    "    print(f\"\\tvalue athe the start of function {num1} and address {id(num1)}\")\n",
    "    # Inside the function, change the value of 'num1' to 6\n",
    "    num1 = 6 # copy now it will change and update the value and address\n",
    "\n",
    "    print(f\"\\tvalue at the end of the function {num1} and address {id(num1)}\")\n",
    "\n",
    "# Call the function 'abc' with 'a' as the argument\n",
    "abc(a)\n",
    "\n",
    "# in python everything is an object that is the address\n",
    "print(f\"End of the program value is {a} and address {id(a)}\")"
   ]
  },
  {
   "cell_type": "code",
   "execution_count": 48,
   "metadata": {},
   "outputs": [
    {
     "name": "stdout",
     "output_type": "stream",
     "text": [
      "X value is 6 and address is 140716208919496\n",
      "b value is 6 and address is 140716208919496\n",
      "b value after changes is 200 and address 140716208925704\n"
     ]
    }
   ],
   "source": [
    "x : int = 6\n",
    "b = x\n",
    "\n",
    "print(f\"X value is {x} and address is {id(x)}\")\n",
    "print(f\"b value is {b} and address is {id(b)}\")\n",
    "\n",
    "b = 200 # update and will change the address\n",
    "\n",
    "# when we apply changes and assign values then it will change the address\n",
    "print(f\"b value after changes is {b} and address {id(b)}\")"
   ]
  },
  {
   "cell_type": "code",
   "execution_count": 51,
   "metadata": {},
   "outputs": [
    {
     "name": "stdout",
     "output_type": "stream",
     "text": [
      "X value is 7 and address is 140716208919528\n",
      "b value is 7 and address is 140716208919528\n",
      "b value after changes is 200 and address 140716208925704\n"
     ]
    }
   ],
   "source": [
    "# python is a memory efficient and same value of different variable assigns same memory location in the backens\n",
    "x : int = 7\n",
    "b : int = 7\n",
    "\n",
    "print(f\"X value is {x} and address is {id(x)}\")\n",
    "print(f\"b value is {b} and address is {id(b)}\")\n",
    "\n",
    "b = 200 # update and will change the address\n",
    "\n",
    "# when we apply changes and assign values then it will change the address\n",
    "print(f\"b value after changes is {b} and address {id(b)}\")"
   ]
  },
  {
   "cell_type": "markdown",
   "metadata": {},
   "source": [
    "## <b>Error Handling\n",
    "### Runtime Errors\n",
    "Runtime errors occur while the program is running. These errors can be caused by `invalid operations`, such as `dividing by zero`, accessing `invalid indices` in a list, or attempting to use variables that haven't been initialized.\n",
    "### Logical Errors\n",
    "Logical errors occur when the program `runs without crashing`, but the `output is not what you expect`. These errors are due to flaws in the program's logic.</b>"
   ]
  },
  {
   "cell_type": "code",
   "execution_count": 56,
   "metadata": {},
   "outputs": [
    {
     "ename": "ZeroDivisionError",
     "evalue": "division by zero",
     "output_type": "error",
     "traceback": [
      "\u001b[1;31m---------------------------------------------------------------------------\u001b[0m",
      "\u001b[1;31mZeroDivisionError\u001b[0m                         Traceback (most recent call last)",
      "Cell \u001b[1;32mIn[56], line 6\u001b[0m\n\u001b[0;32m      3\u001b[0m \u001b[38;5;28;01mdef\u001b[39;00m \u001b[38;5;21mdivide\u001b[39m(a, b):\n\u001b[0;32m      4\u001b[0m     \u001b[38;5;28;01mreturn\u001b[39;00m a \u001b[38;5;241m/\u001b[39m b\n\u001b[1;32m----> 6\u001b[0m result \u001b[38;5;241m=\u001b[39m \u001b[43mdivide\u001b[49m\u001b[43m(\u001b[49m\u001b[38;5;241;43m10\u001b[39;49m\u001b[43m,\u001b[49m\u001b[43m \u001b[49m\u001b[38;5;241;43m0\u001b[39;49m\u001b[43m)\u001b[49m  \u001b[38;5;66;03m# Division by zero causes a runtime error\u001b[39;00m\n\u001b[0;32m      7\u001b[0m \u001b[38;5;28mprint\u001b[39m(result)\n",
      "Cell \u001b[1;32mIn[56], line 4\u001b[0m, in \u001b[0;36mdivide\u001b[1;34m(a, b)\u001b[0m\n\u001b[0;32m      3\u001b[0m \u001b[38;5;28;01mdef\u001b[39;00m \u001b[38;5;21mdivide\u001b[39m(a, b):\n\u001b[1;32m----> 4\u001b[0m     \u001b[38;5;28;01mreturn\u001b[39;00m \u001b[43ma\u001b[49m\u001b[43m \u001b[49m\u001b[38;5;241;43m/\u001b[39;49m\u001b[43m \u001b[49m\u001b[43mb\u001b[49m\n",
      "\u001b[1;31mZeroDivisionError\u001b[0m: division by zero"
     ]
    }
   ],
   "source": [
    "# Run Time error\n",
    "# This code will cause a runtime error because of division by zero\n",
    "def divide(a, b):\n",
    "    return a / b\n",
    "\n",
    "result = divide(10, 0)  # Division by zero causes a runtime error\n",
    "print(result)"
   ]
  },
  {
   "cell_type": "code",
   "execution_count": 57,
   "metadata": {},
   "outputs": [
    {
     "name": "stdout",
     "output_type": "stream",
     "text": [
      "False\n"
     ]
    }
   ],
   "source": [
    "#Logical Error\n",
    "# This code has a logical error\n",
    "def is_even(num):\n",
    "    return num % 2 == 1  # This should be `num % 2 == 0` to correctly check for even numbers\n",
    "\n",
    "print(is_even(4))  # Output will be False, but we expect True"
   ]
  },
  {
   "cell_type": "markdown",
   "metadata": {},
   "source": [
    "## Type Errors\n",
    "Type errors occur when an operation is performed on an incompatible type. These errors can occur at runtime."
   ]
  },
  {
   "cell_type": "code",
   "execution_count": 58,
   "metadata": {},
   "outputs": [
    {
     "ename": "TypeError",
     "evalue": "can only concatenate str (not \"int\") to str",
     "output_type": "error",
     "traceback": [
      "\u001b[1;31m---------------------------------------------------------------------------\u001b[0m",
      "\u001b[1;31mTypeError\u001b[0m                                 Traceback (most recent call last)",
      "Cell \u001b[1;32mIn[58], line 2\u001b[0m\n\u001b[0;32m      1\u001b[0m \u001b[38;5;66;03m# Trying to add a string and an integer\u001b[39;00m\n\u001b[1;32m----> 2\u001b[0m result \u001b[38;5;241m=\u001b[39m \u001b[38;5;124;43m\"\u001b[39;49m\u001b[38;5;124;43mhello\u001b[39;49m\u001b[38;5;124;43m\"\u001b[39;49m\u001b[43m \u001b[49m\u001b[38;5;241;43m+\u001b[39;49m\u001b[43m \u001b[49m\u001b[38;5;241;43m5\u001b[39;49m\n",
      "\u001b[1;31mTypeError\u001b[0m: can only concatenate str (not \"int\") to str"
     ]
    }
   ],
   "source": [
    "# Trying to add a string and an integer\n",
    "result = \"hello\" + 5"
   ]
  },
  {
   "cell_type": "markdown",
   "metadata": {},
   "source": [
    "## Index Errors\n",
    "Index errors occur when you try to access an index that is out of range for a sequence like a list or a string."
   ]
  },
  {
   "cell_type": "code",
   "execution_count": 59,
   "metadata": {},
   "outputs": [
    {
     "ename": "IndexError",
     "evalue": "list index out of range",
     "output_type": "error",
     "traceback": [
      "\u001b[1;31m---------------------------------------------------------------------------\u001b[0m",
      "\u001b[1;31mIndexError\u001b[0m                                Traceback (most recent call last)",
      "Cell \u001b[1;32mIn[59], line 3\u001b[0m\n\u001b[0;32m      1\u001b[0m \u001b[38;5;66;03m# Trying to access an out-of-range index in a list\u001b[39;00m\n\u001b[0;32m      2\u001b[0m my_list \u001b[38;5;241m=\u001b[39m [\u001b[38;5;241m1\u001b[39m, \u001b[38;5;241m2\u001b[39m, \u001b[38;5;241m3\u001b[39m]\n\u001b[1;32m----> 3\u001b[0m \u001b[38;5;28mprint\u001b[39m(\u001b[43mmy_list\u001b[49m\u001b[43m[\u001b[49m\u001b[38;5;241;43m5\u001b[39;49m\u001b[43m]\u001b[49m)\n",
      "\u001b[1;31mIndexError\u001b[0m: list index out of range"
     ]
    }
   ],
   "source": [
    "# Trying to access an out-of-range index in a list\n",
    "my_list = [1, 2, 3]\n",
    "print(my_list[5])"
   ]
  },
  {
   "cell_type": "markdown",
   "metadata": {},
   "source": [
    "### To handle run time error\n",
    "```python\n",
    "try:\n",
    "    logic\n",
    "except (Error_class1, Error_class2)\n",
    "    if error occured then run this block\n",
    "else:\n",
    "    if no error occured then run this block\n",
    "finally:\n",
    "    always run\n",
    "```"
   ]
  },
  {
   "cell_type": "code",
   "execution_count": 63,
   "metadata": {},
   "outputs": [
    {
     "name": "stdout",
     "output_type": "stream",
     "text": [
      "logic1\n",
      "logic2\n"
     ]
    },
    {
     "ename": "ZeroDivisionError",
     "evalue": "division by zero",
     "output_type": "error",
     "traceback": [
      "\u001b[1;31m---------------------------------------------------------------------------\u001b[0m",
      "\u001b[1;31mZeroDivisionError\u001b[0m                         Traceback (most recent call last)",
      "Cell \u001b[1;32mIn[63], line 3\u001b[0m\n\u001b[0;32m      1\u001b[0m \u001b[38;5;28mprint\u001b[39m(\u001b[38;5;124m\"\u001b[39m\u001b[38;5;124mlogic1\u001b[39m\u001b[38;5;124m\"\u001b[39m)\n\u001b[0;32m      2\u001b[0m \u001b[38;5;28mprint\u001b[39m(\u001b[38;5;124m\"\u001b[39m\u001b[38;5;124mlogic2\u001b[39m\u001b[38;5;124m\"\u001b[39m)\n\u001b[1;32m----> 3\u001b[0m \u001b[38;5;28mprint\u001b[39m(\u001b[38;5;241;43m5\u001b[39;49m\u001b[38;5;241;43m/\u001b[39;49m\u001b[38;5;241;43m0\u001b[39;49m) \u001b[38;5;66;03m# error\u001b[39;00m\n\u001b[0;32m      4\u001b[0m \u001b[38;5;28mprint\u001b[39m(\u001b[38;5;124m\"\u001b[39m\u001b[38;5;124mlogic2\u001b[39m\u001b[38;5;124m\"\u001b[39m)\n\u001b[0;32m      5\u001b[0m \u001b[38;5;28mprint\u001b[39m(\u001b[38;5;124m\"\u001b[39m\u001b[38;5;124mlogic2\u001b[39m\u001b[38;5;124m\"\u001b[39m)\n",
      "\u001b[1;31mZeroDivisionError\u001b[0m: division by zero"
     ]
    }
   ],
   "source": [
    "print(\"logic1\")\n",
    "print(\"logic2\")\n",
    "print(5/0) # error\n",
    "print(\"logic2\")\n",
    "print(\"logic2\")"
   ]
  },
  {
   "cell_type": "code",
   "execution_count": 64,
   "metadata": {},
   "outputs": [
    {
     "name": "stdout",
     "output_type": "stream",
     "text": [
      "logic1\n",
      "logic2\n",
      "Error type is ZeroDivisionError\n",
      "logic2\n",
      "logic2\n"
     ]
    }
   ],
   "source": [
    "# to counter above error\n",
    "print(\"logic1\")\n",
    "print(\"logic2\")\n",
    "try:\n",
    "    print(5/0) # error\n",
    "except ZeroDivisionError:\n",
    "    print(\"Error type is ZeroDivisionError\")\n",
    "print(\"logic2\")\n",
    "print(\"logic2\")"
   ]
  },
  {
   "cell_type": "code",
   "execution_count": 65,
   "metadata": {},
   "outputs": [
    {
     "name": "stdout",
     "output_type": "stream",
     "text": [
      "logic1\n",
      "logic2\n",
      "Error type is ZeroDivisionError\n",
      "logic2\n",
      "logic2\n"
     ]
    }
   ],
   "source": [
    "# to counter above error\n",
    "print(\"logic1\")\n",
    "print(\"logic2\")\n",
    "\n",
    "my_list = [1, 2, 3]\n",
    "\n",
    "\n",
    "try:\n",
    "    print(5/0) # error\n",
    "    print(my_list[5])\n",
    "except (ZeroDivisionError,IndexError):\n",
    "    print(\"Error type is ZeroDivisionError\")\n",
    "print(\"logic2\")\n",
    "print(\"logic2\")"
   ]
  },
  {
   "cell_type": "code",
   "execution_count": 67,
   "metadata": {},
   "outputs": [
    {
     "name": "stdout",
     "output_type": "stream",
     "text": [
      "logic1\n",
      "logic2\n",
      "2.5\n",
      "Error type is ZeroDivisionError\n",
      "logic2\n",
      "logic2\n"
     ]
    }
   ],
   "source": [
    "# to counter above error\n",
    "print(\"logic1\")\n",
    "print(\"logic2\")\n",
    "\n",
    "my_list = [1, 2, 3]\n",
    "\n",
    "\n",
    "try:\n",
    "    print(5/2) # error\n",
    "    print(my_list[5])\n",
    "    print(xyz)\n",
    "except (ZeroDivisionError,IndexError,NameError): # Give all posible errors\n",
    "    print(\"Error type is ZeroDivisionError\")\n",
    "print(\"logic2\")\n",
    "print(\"logic2\")"
   ]
  },
  {
   "cell_type": "code",
   "execution_count": null,
   "metadata": {},
   "outputs": [],
   "source": []
  }
 ],
 "metadata": {
  "kernelspec": {
   "display_name": "python_eda",
   "language": "python",
   "name": "python3"
  },
  "language_info": {
   "codemirror_mode": {
    "name": "ipython",
    "version": 3
   },
   "file_extension": ".py",
   "mimetype": "text/x-python",
   "name": "python",
   "nbconvert_exporter": "python",
   "pygments_lexer": "ipython3",
   "version": "3.11.5"
  }
 },
 "nbformat": 4,
 "nbformat_minor": 2
}
